{
 "cells": [
  {
   "cell_type": "markdown",
   "id": "2301e02a",
   "metadata": {
    "_cell_guid": "b1076dfc-b9ad-4769-8c92-a6c4dae69d19",
    "_uuid": "8f2839f25d086af736a60e9eeb907d3b93b6e0e5",
    "papermill": {
     "duration": 0.01118,
     "end_time": "2021-07-19T20:28:44.941298",
     "exception": false,
     "start_time": "2021-07-19T20:28:44.930118",
     "status": "completed"
    },
    "tags": []
   },
   "source": [
    "<div class='alert alert-info' style='text-align: center;'><h1>RSNA-MICCAI Brain Tumor Image Planes</h1></div>\n",
    "                                                  \n",
    "#### This notebook gets all the image planes for each series in the train set and appends them to the labels dataframe.\n",
    "\n",
    "- The same technique can be applied to the test set to ensure coplanar comparissons.\n",
    "- You can run it yourself, or just D/L the output of this notebook and import into your own.\n",
    "- Here, we'll get an image from each series and check the plane."
   ]
  },
  {
   "cell_type": "code",
   "execution_count": 1,
   "id": "d40246d6",
   "metadata": {
    "execution": {
     "iopub.execute_input": "2021-07-19T20:28:44.976643Z",
     "iopub.status.busy": "2021-07-19T20:28:44.975925Z",
     "iopub.status.idle": "2021-07-19T20:28:45.284422Z",
     "shell.execute_reply": "2021-07-19T20:28:45.285071Z",
     "shell.execute_reply.started": "2021-07-19T20:11:15.819297Z"
    },
    "papermill": {
     "duration": 0.334142,
     "end_time": "2021-07-19T20:28:45.285440",
     "exception": false,
     "start_time": "2021-07-19T20:28:44.951298",
     "status": "completed"
    },
    "tags": []
   },
   "outputs": [],
   "source": [
    "import os\n",
    "import numpy as np\n",
    "import pandas as pd\n",
    "import pydicom\n",
    "import matplotlib.pyplot as plt"
   ]
  },
  {
   "cell_type": "code",
   "execution_count": 2,
   "id": "3b07acb8",
   "metadata": {
    "execution": {
     "iopub.execute_input": "2021-07-19T20:28:45.313273Z",
     "iopub.status.busy": "2021-07-19T20:28:45.312410Z",
     "iopub.status.idle": "2021-07-19T20:28:45.326271Z",
     "shell.execute_reply": "2021-07-19T20:28:45.326942Z",
     "shell.execute_reply.started": "2021-07-19T20:11:16.186051Z"
    },
    "papermill": {
     "duration": 0.031445,
     "end_time": "2021-07-19T20:28:45.327244",
     "exception": false,
     "start_time": "2021-07-19T20:28:45.295799",
     "status": "completed"
    },
    "tags": []
   },
   "outputs": [],
   "source": [
    "series_names = ['FLAIR','T1w','T1wCE','T2w']\n",
    "directory = '../input/rsna-miccai-brain-tumor-radiogenomic-classification/train/'\n",
    "labels_df = pd.read_csv('../input/rsna-miccai-brain-tumor-radiogenomic-classification/train_labels.csv')"
   ]
  },
  {
   "cell_type": "code",
   "execution_count": 3,
   "id": "12bf59db",
   "metadata": {
    "execution": {
     "iopub.execute_input": "2021-07-19T20:28:45.352277Z",
     "iopub.status.busy": "2021-07-19T20:28:45.351248Z",
     "iopub.status.idle": "2021-07-19T20:28:45.359274Z",
     "shell.execute_reply": "2021-07-19T20:28:45.358601Z",
     "shell.execute_reply.started": "2021-07-19T20:11:16.205180Z"
    },
    "papermill": {
     "duration": 0.021895,
     "end_time": "2021-07-19T20:28:45.359449",
     "exception": false,
     "start_time": "2021-07-19T20:28:45.337554",
     "status": "completed"
    },
    "tags": []
   },
   "outputs": [],
   "source": [
    "# Get an image path from a series, we'll return only the tenth image in the series directory\n",
    "def get_series_list(study_id, series_name):\n",
    " \n",
    "    files = [os.path.join(directory + '' + study_id + \"/\" + series_name, f) for f in os.listdir(directory + '' + study_id + \"/\" + series_name) if \n",
    "    os.path.isfile(os.path.join(directory + '' + study_id + \"/\" + series_name, f))]\n",
    "    return files[10]"
   ]
  },
  {
   "cell_type": "code",
   "execution_count": 4,
   "id": "8ffc69f2",
   "metadata": {
    "execution": {
     "iopub.execute_input": "2021-07-19T20:28:45.388848Z",
     "iopub.status.busy": "2021-07-19T20:28:45.387929Z",
     "iopub.status.idle": "2021-07-19T20:28:45.391510Z",
     "shell.execute_reply": "2021-07-19T20:28:45.390804Z",
     "shell.execute_reply.started": "2021-07-19T20:11:16.213450Z"
    },
    "papermill": {
     "duration": 0.022135,
     "end_time": "2021-07-19T20:28:45.391682",
     "exception": false,
     "start_time": "2021-07-19T20:28:45.369547",
     "status": "completed"
    },
    "tags": []
   },
   "outputs": [],
   "source": [
    "# Convert the Image Orientation Patient tag cosine values into a text string of the plane.\n",
    "# This is a simple method to represent the plane the image is 'closest to' .. it does not explain any obliqueness.\n",
    "# There is a more complex (and complete) way to do this, but this is all we need here since all the planes in this dataset are orthogonal.\n",
    "def get_image_plane(loc):\n",
    "\n",
    "    row_x = round(loc[0])\n",
    "    row_y = round(loc[1])\n",
    "    row_z = round(loc[2])\n",
    "    col_x = round(loc[3])\n",
    "    col_y = round(loc[4])\n",
    "    col_z = round(loc[5])\n",
    "\n",
    "    if row_x == 1 and row_y == 0 and col_x == 0 and col_y == 0:\n",
    "        return \"Coronal\"\n",
    "\n",
    "    if row_x == 0 and row_y == 1 and col_x == 0 and col_y == 0:\n",
    "        return \"Sagittal\"\n",
    "\n",
    "    if row_x == 1 and row_y == 0 and col_x == 0 and col_y == 1:\n",
    "        return \"Axial\"\n",
    "\n",
    "    return \"Unknown\""
   ]
  },
  {
   "cell_type": "code",
   "execution_count": 5,
   "id": "bef8547d",
   "metadata": {
    "execution": {
     "iopub.execute_input": "2021-07-19T20:28:45.427181Z",
     "iopub.status.busy": "2021-07-19T20:28:45.426144Z",
     "iopub.status.idle": "2021-07-19T20:30:14.373309Z",
     "shell.execute_reply": "2021-07-19T20:30:14.373922Z",
     "shell.execute_reply.started": "2021-07-19T20:11:16.226231Z"
    },
    "papermill": {
     "duration": 88.971837,
     "end_time": "2021-07-19T20:30:14.374197",
     "exception": false,
     "start_time": "2021-07-19T20:28:45.402360",
     "status": "completed"
    },
    "tags": []
   },
   "outputs": [],
   "source": [
    "# Iterate over the labels_df\n",
    "for index, row in labels_df.iterrows():\n",
    "    images = []\n",
    "    study_id = str(row['BraTS21ID']).zfill(5)\n",
    "    \n",
    "    # Get a list of one image from each series\n",
    "    for ser in series_names:\n",
    "        images.append(get_series_list(study_id, ser))\n",
    "\n",
    "    # Iterate through the images list and check the plane of each\n",
    "    for img in images:\n",
    "\n",
    "        image = pydicom.dcmread(img)\n",
    "        \n",
    "        # Get the IOP tag for this image\n",
    "        image_orientation_patient = image[0x0020,0x0037]\n",
    "        \n",
    "        # Get the plane for this image/series\n",
    "        plane = get_image_plane(image_orientation_patient)\n",
    "\n",
    "        # Add the plane data to the labels dataframe\n",
    "        img_temp = img.split(\"/\")\n",
    "        labels_df.at[index,'plane_' + img_temp[5]] = plane"
   ]
  },
  {
   "cell_type": "code",
   "execution_count": 6,
   "id": "0b4250be",
   "metadata": {
    "execution": {
     "iopub.execute_input": "2021-07-19T20:30:14.403947Z",
     "iopub.status.busy": "2021-07-19T20:30:14.403176Z",
     "iopub.status.idle": "2021-07-19T20:30:14.428651Z",
     "shell.execute_reply": "2021-07-19T20:30:14.429211Z",
     "shell.execute_reply.started": "2021-07-19T20:12:36.040247Z"
    },
    "papermill": {
     "duration": 0.044938,
     "end_time": "2021-07-19T20:30:14.429419",
     "exception": false,
     "start_time": "2021-07-19T20:30:14.384481",
     "status": "completed"
    },
    "tags": []
   },
   "outputs": [
    {
     "data": {
      "text/html": [
       "<div>\n",
       "<style scoped>\n",
       "    .dataframe tbody tr th:only-of-type {\n",
       "        vertical-align: middle;\n",
       "    }\n",
       "\n",
       "    .dataframe tbody tr th {\n",
       "        vertical-align: top;\n",
       "    }\n",
       "\n",
       "    .dataframe thead th {\n",
       "        text-align: right;\n",
       "    }\n",
       "</style>\n",
       "<table border=\"1\" class=\"dataframe\">\n",
       "  <thead>\n",
       "    <tr style=\"text-align: right;\">\n",
       "      <th></th>\n",
       "      <th>BraTS21ID</th>\n",
       "      <th>MGMT_value</th>\n",
       "      <th>plane_FLAIR</th>\n",
       "      <th>plane_T1w</th>\n",
       "      <th>plane_T1wCE</th>\n",
       "      <th>plane_T2w</th>\n",
       "    </tr>\n",
       "  </thead>\n",
       "  <tbody>\n",
       "    <tr>\n",
       "      <th>0</th>\n",
       "      <td>0</td>\n",
       "      <td>1</td>\n",
       "      <td>Coronal</td>\n",
       "      <td>Axial</td>\n",
       "      <td>Coronal</td>\n",
       "      <td>Sagittal</td>\n",
       "    </tr>\n",
       "    <tr>\n",
       "      <th>1</th>\n",
       "      <td>2</td>\n",
       "      <td>1</td>\n",
       "      <td>Sagittal</td>\n",
       "      <td>Axial</td>\n",
       "      <td>Coronal</td>\n",
       "      <td>Sagittal</td>\n",
       "    </tr>\n",
       "    <tr>\n",
       "      <th>2</th>\n",
       "      <td>3</td>\n",
       "      <td>0</td>\n",
       "      <td>Sagittal</td>\n",
       "      <td>Axial</td>\n",
       "      <td>Coronal</td>\n",
       "      <td>Sagittal</td>\n",
       "    </tr>\n",
       "    <tr>\n",
       "      <th>3</th>\n",
       "      <td>5</td>\n",
       "      <td>1</td>\n",
       "      <td>Coronal</td>\n",
       "      <td>Axial</td>\n",
       "      <td>Coronal</td>\n",
       "      <td>Sagittal</td>\n",
       "    </tr>\n",
       "    <tr>\n",
       "      <th>4</th>\n",
       "      <td>6</td>\n",
       "      <td>1</td>\n",
       "      <td>Axial</td>\n",
       "      <td>Axial</td>\n",
       "      <td>Coronal</td>\n",
       "      <td>Sagittal</td>\n",
       "    </tr>\n",
       "    <tr>\n",
       "      <th>5</th>\n",
       "      <td>8</td>\n",
       "      <td>1</td>\n",
       "      <td>Sagittal</td>\n",
       "      <td>Axial</td>\n",
       "      <td>Axial</td>\n",
       "      <td>Sagittal</td>\n",
       "    </tr>\n",
       "    <tr>\n",
       "      <th>6</th>\n",
       "      <td>9</td>\n",
       "      <td>0</td>\n",
       "      <td>Sagittal</td>\n",
       "      <td>Axial</td>\n",
       "      <td>Coronal</td>\n",
       "      <td>Sagittal</td>\n",
       "    </tr>\n",
       "    <tr>\n",
       "      <th>7</th>\n",
       "      <td>11</td>\n",
       "      <td>1</td>\n",
       "      <td>Sagittal</td>\n",
       "      <td>Axial</td>\n",
       "      <td>Coronal</td>\n",
       "      <td>Axial</td>\n",
       "    </tr>\n",
       "    <tr>\n",
       "      <th>8</th>\n",
       "      <td>12</td>\n",
       "      <td>1</td>\n",
       "      <td>Coronal</td>\n",
       "      <td>Axial</td>\n",
       "      <td>Axial</td>\n",
       "      <td>Coronal</td>\n",
       "    </tr>\n",
       "    <tr>\n",
       "      <th>9</th>\n",
       "      <td>14</td>\n",
       "      <td>1</td>\n",
       "      <td>Coronal</td>\n",
       "      <td>Axial</td>\n",
       "      <td>Axial</td>\n",
       "      <td>Axial</td>\n",
       "    </tr>\n",
       "    <tr>\n",
       "      <th>10</th>\n",
       "      <td>17</td>\n",
       "      <td>0</td>\n",
       "      <td>Sagittal</td>\n",
       "      <td>Axial</td>\n",
       "      <td>Axial</td>\n",
       "      <td>Coronal</td>\n",
       "    </tr>\n",
       "    <tr>\n",
       "      <th>11</th>\n",
       "      <td>18</td>\n",
       "      <td>0</td>\n",
       "      <td>Sagittal</td>\n",
       "      <td>Axial</td>\n",
       "      <td>Sagittal</td>\n",
       "      <td>Sagittal</td>\n",
       "    </tr>\n",
       "    <tr>\n",
       "      <th>12</th>\n",
       "      <td>19</td>\n",
       "      <td>0</td>\n",
       "      <td>Axial</td>\n",
       "      <td>Axial</td>\n",
       "      <td>Sagittal</td>\n",
       "      <td>Coronal</td>\n",
       "    </tr>\n",
       "    <tr>\n",
       "      <th>13</th>\n",
       "      <td>20</td>\n",
       "      <td>1</td>\n",
       "      <td>Coronal</td>\n",
       "      <td>Axial</td>\n",
       "      <td>Sagittal</td>\n",
       "      <td>Sagittal</td>\n",
       "    </tr>\n",
       "    <tr>\n",
       "      <th>14</th>\n",
       "      <td>21</td>\n",
       "      <td>0</td>\n",
       "      <td>Axial</td>\n",
       "      <td>Axial</td>\n",
       "      <td>Axial</td>\n",
       "      <td>Sagittal</td>\n",
       "    </tr>\n",
       "    <tr>\n",
       "      <th>15</th>\n",
       "      <td>22</td>\n",
       "      <td>0</td>\n",
       "      <td>Axial</td>\n",
       "      <td>Axial</td>\n",
       "      <td>Axial</td>\n",
       "      <td>Sagittal</td>\n",
       "    </tr>\n",
       "    <tr>\n",
       "      <th>16</th>\n",
       "      <td>24</td>\n",
       "      <td>0</td>\n",
       "      <td>Sagittal</td>\n",
       "      <td>Axial</td>\n",
       "      <td>Sagittal</td>\n",
       "      <td>Coronal</td>\n",
       "    </tr>\n",
       "    <tr>\n",
       "      <th>17</th>\n",
       "      <td>25</td>\n",
       "      <td>1</td>\n",
       "      <td>Axial</td>\n",
       "      <td>Axial</td>\n",
       "      <td>Sagittal</td>\n",
       "      <td>Axial</td>\n",
       "    </tr>\n",
       "    <tr>\n",
       "      <th>18</th>\n",
       "      <td>26</td>\n",
       "      <td>1</td>\n",
       "      <td>Coronal</td>\n",
       "      <td>Axial</td>\n",
       "      <td>Coronal</td>\n",
       "      <td>Coronal</td>\n",
       "    </tr>\n",
       "    <tr>\n",
       "      <th>19</th>\n",
       "      <td>28</td>\n",
       "      <td>1</td>\n",
       "      <td>Coronal</td>\n",
       "      <td>Axial</td>\n",
       "      <td>Sagittal</td>\n",
       "      <td>Sagittal</td>\n",
       "    </tr>\n",
       "  </tbody>\n",
       "</table>\n",
       "</div>"
      ],
      "text/plain": [
       "    BraTS21ID  MGMT_value plane_FLAIR plane_T1w plane_T1wCE plane_T2w\n",
       "0           0           1     Coronal     Axial     Coronal  Sagittal\n",
       "1           2           1    Sagittal     Axial     Coronal  Sagittal\n",
       "2           3           0    Sagittal     Axial     Coronal  Sagittal\n",
       "3           5           1     Coronal     Axial     Coronal  Sagittal\n",
       "4           6           1       Axial     Axial     Coronal  Sagittal\n",
       "5           8           1    Sagittal     Axial       Axial  Sagittal\n",
       "6           9           0    Sagittal     Axial     Coronal  Sagittal\n",
       "7          11           1    Sagittal     Axial     Coronal     Axial\n",
       "8          12           1     Coronal     Axial       Axial   Coronal\n",
       "9          14           1     Coronal     Axial       Axial     Axial\n",
       "10         17           0    Sagittal     Axial       Axial   Coronal\n",
       "11         18           0    Sagittal     Axial    Sagittal  Sagittal\n",
       "12         19           0       Axial     Axial    Sagittal   Coronal\n",
       "13         20           1     Coronal     Axial    Sagittal  Sagittal\n",
       "14         21           0       Axial     Axial       Axial  Sagittal\n",
       "15         22           0       Axial     Axial       Axial  Sagittal\n",
       "16         24           0    Sagittal     Axial    Sagittal   Coronal\n",
       "17         25           1       Axial     Axial    Sagittal     Axial\n",
       "18         26           1     Coronal     Axial     Coronal   Coronal\n",
       "19         28           1     Coronal     Axial    Sagittal  Sagittal"
      ]
     },
     "execution_count": 6,
     "metadata": {},
     "output_type": "execute_result"
    }
   ],
   "source": [
    "labels_df.head(20)"
   ]
  },
  {
   "cell_type": "markdown",
   "id": "9dcb6471",
   "metadata": {
    "papermill": {
     "duration": 0.009868,
     "end_time": "2021-07-19T20:30:14.450232",
     "exception": false,
     "start_time": "2021-07-19T20:30:14.440364",
     "status": "completed"
    },
    "tags": []
   },
   "source": [
    "#### We see that most of the columns have different planes. Let's check unique values to see if *any* are in the same plane across the entire dataset."
   ]
  },
  {
   "cell_type": "code",
   "execution_count": 7,
   "id": "045bb91b",
   "metadata": {
    "execution": {
     "iopub.execute_input": "2021-07-19T20:30:14.481317Z",
     "iopub.status.busy": "2021-07-19T20:30:14.480319Z",
     "iopub.status.idle": "2021-07-19T20:30:14.485664Z",
     "shell.execute_reply": "2021-07-19T20:30:14.486396Z",
     "shell.execute_reply.started": "2021-07-19T20:12:36.070906Z"
    },
    "papermill": {
     "duration": 0.026092,
     "end_time": "2021-07-19T20:30:14.486682",
     "exception": false,
     "start_time": "2021-07-19T20:30:14.460590",
     "status": "completed"
    },
    "tags": []
   },
   "outputs": [
    {
     "name": "stdout",
     "output_type": "stream",
     "text": [
      "FLAIR:  ['Coronal' 'Sagittal' 'Axial']\n",
      "T1w:  ['Axial' 'Coronal' 'Sagittal']\n",
      "T1wCE:  ['Coronal' 'Axial' 'Sagittal']\n",
      "T2w:  ['Sagittal' 'Axial' 'Coronal']\n"
     ]
    }
   ],
   "source": [
    "print(\"FLAIR: \", labels_df['plane_FLAIR'].unique())\n",
    "print(\"T1w: \", labels_df['plane_T1w'].unique())\n",
    "print(\"T1wCE: \", labels_df['plane_T1wCE'].unique())\n",
    "print(\"T2w: \", labels_df['plane_T2w'].unique())"
   ]
  },
  {
   "cell_type": "markdown",
   "id": "3f460066",
   "metadata": {
    "papermill": {
     "duration": 0.01034,
     "end_time": "2021-07-19T20:30:14.508576",
     "exception": false,
     "start_time": "2021-07-19T20:30:14.498236",
     "status": "completed"
    },
    "tags": []
   },
   "source": [
    "#### Now we can see that none of the series are all in the same plane, as they all have *some* series in each plane.\n",
    "\n",
    "- Export the updated labels dataframe to CSV."
   ]
  },
  {
   "cell_type": "code",
   "execution_count": 8,
   "id": "730925d1",
   "metadata": {
    "execution": {
     "iopub.execute_input": "2021-07-19T20:30:14.536084Z",
     "iopub.status.busy": "2021-07-19T20:30:14.535243Z",
     "iopub.status.idle": "2021-07-19T20:30:14.546114Z",
     "shell.execute_reply": "2021-07-19T20:30:14.545316Z",
     "shell.execute_reply.started": "2021-07-19T20:12:36.085107Z"
    },
    "papermill": {
     "duration": 0.026911,
     "end_time": "2021-07-19T20:30:14.546286",
     "exception": false,
     "start_time": "2021-07-19T20:30:14.519375",
     "status": "completed"
    },
    "tags": []
   },
   "outputs": [],
   "source": [
    "labels_df.to_csv(\"train_labels_with_planes.csv\", index=False)"
   ]
  }
 ],
 "metadata": {
  "kernelspec": {
   "display_name": "Python 3",
   "language": "python",
   "name": "python3"
  },
  "language_info": {
   "codemirror_mode": {
    "name": "ipython",
    "version": 3
   },
   "file_extension": ".py",
   "mimetype": "text/x-python",
   "name": "python",
   "nbconvert_exporter": "python",
   "pygments_lexer": "ipython3",
   "version": "3.7.10"
  },
  "papermill": {
   "default_parameters": {},
   "duration": 101.059237,
   "end_time": "2021-07-19T20:30:16.297280",
   "environment_variables": {},
   "exception": null,
   "input_path": "__notebook__.ipynb",
   "output_path": "__notebook__.ipynb",
   "parameters": {},
   "start_time": "2021-07-19T20:28:35.238043",
   "version": "2.3.3"
  }
 },
 "nbformat": 4,
 "nbformat_minor": 5
}
