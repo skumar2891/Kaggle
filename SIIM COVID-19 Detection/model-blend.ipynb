{
 "cells": [
  {
   "cell_type": "markdown",
   "id": "apparent-husband",
   "metadata": {
    "papermill": {
     "duration": 0.021003,
     "end_time": "2021-06-26T02:28:06.866128",
     "exception": false,
     "start_time": "2021-06-26T02:28:06.845125",
     "status": "completed"
    },
    "tags": []
   },
   "source": [
    "thanks to https://www.kaggle.com/xhlulu/siim-covid-19-convert-to-jpg-256px  \n",
    "thanks to https://www.kaggle.com/awsaf49/vinbigdata-cxr-ad-yolov5-14-class-infer  \n",
    "train_study: https://www.kaggle.com/h053473666/siim-covid19-efnb7-train-study  \n",
    "train_image: https://www.kaggle.com/h053473666/siim-cov19-yolov5-train  \n",
    "train_2class: https://www.kaggle.com/h053473666/siim-covid19-efnb7-train-fold0-5-2class  \n",
    "  \n",
    "version1:Original hyperparameters (yolov5)  \n",
    "version4:New hyperparameters (yolov5)\n"
   ]
  },
  {
   "cell_type": "code",
   "execution_count": 1,
   "id": "alone-planning",
   "metadata": {
    "_kg_hide-input": true,
    "_kg_hide-output": true,
    "execution": {
     "iopub.execute_input": "2021-06-26T02:28:06.931855Z",
     "iopub.status.busy": "2021-06-26T02:28:06.921793Z",
     "iopub.status.idle": "2021-06-26T02:29:18.497541Z",
     "shell.execute_reply": "2021-06-26T02:29:18.496683Z",
     "shell.execute_reply.started": "2021-06-25T18:36:03.663913Z"
    },
    "papermill": {
     "duration": 71.611459,
     "end_time": "2021-06-26T02:29:18.497718",
     "exception": false,
     "start_time": "2021-06-26T02:28:06.886259",
     "status": "completed"
    },
    "tags": []
   },
   "outputs": [
    {
     "name": "stdout",
     "output_type": "stream",
     "text": [
      "\r\n",
      "Downloading and Extracting Packages\r\n",
      "######################################################################## | 100% \r\n",
      "Preparing transaction: - \b\bdone\r\n",
      "Verifying transaction: | \b\bdone\r\n",
      "Executing transaction: - \b\b\\ \b\bdone\r\n",
      "\r\n",
      "Downloading and Extracting Packages\r\n",
      "######################################################################## | 100% \r\n",
      "Preparing transaction: - \b\bdone\r\n",
      "Verifying transaction: | \b\bdone\r\n",
      "Executing transaction: - \b\b\\ \b\b| \b\b/ \b\bdone\r\n",
      "\r\n",
      "Downloading and Extracting Packages\r\n",
      "######################################################################## | 100% \r\n",
      "Preparing transaction: - \b\bdone\r\n",
      "Verifying transaction: | \b\bdone\r\n",
      "Executing transaction: - \b\bdone\r\n",
      "\r\n",
      "Downloading and Extracting Packages\r\n",
      "######################################################################## | 100% \r\n",
      "Preparing transaction: - \b\bdone\r\n",
      "Verifying transaction: | \b\bdone\r\n",
      "Executing transaction: - \b\b\\ \b\b| \b\b/ \b\b- \b\b\\ \b\b| \b\b/ \b\b- \b\b\\ \b\b| \b\b/ \b\b- \b\b\\ \b\b| \b\b/ \b\b- \b\b\\ \b\b| \b\b/ \b\bdone\r\n",
      "\r\n",
      "Downloading and Extracting Packages\r\n",
      "######################################################################## | 100% \r\n",
      "Preparing transaction: - \b\bdone\r\n",
      "Verifying transaction: | \b\bdone\r\n",
      "Executing transaction: - \b\bdone\r\n",
      "\r\n",
      "Downloading and Extracting Packages\r\n",
      "######################################################################## | 100% \r\n",
      "Preparing transaction: - \b\bdone\r\n",
      "Verifying transaction: | \b\bdone\r\n",
      "Executing transaction: - \b\b\\ \b\b| \b\b/ \b\b- \b\b\\ \b\b| \b\bdone\r\n"
     ]
    }
   ],
   "source": [
    "!conda install '/kaggle/input/pydicom-conda-helper/libjpeg-turbo-2.1.0-h7f98852_0.tar.bz2' -c conda-forge -y\n",
    "!conda install '/kaggle/input/pydicom-conda-helper/libgcc-ng-9.3.0-h2828fa1_19.tar.bz2' -c conda-forge -y\n",
    "!conda install '/kaggle/input/pydicom-conda-helper/gdcm-2.8.9-py37h500ead1_1.tar.bz2' -c conda-forge -y\n",
    "!conda install '/kaggle/input/pydicom-conda-helper/conda-4.10.1-py37h89c1867_0.tar.bz2' -c conda-forge -y\n",
    "!conda install '/kaggle/input/pydicom-conda-helper/certifi-2020.12.5-py37h89c1867_1.tar.bz2' -c conda-forge -y\n",
    "!conda install '/kaggle/input/pydicom-conda-helper/openssl-1.1.1k-h7f98852_0.tar.bz2' -c conda-forge -y"
   ]
  },
  {
   "cell_type": "code",
   "execution_count": 2,
   "id": "outdoor-tennis",
   "metadata": {
    "execution": {
     "iopub.execute_input": "2021-06-26T02:29:18.577724Z",
     "iopub.status.busy": "2021-06-26T02:29:18.573602Z",
     "iopub.status.idle": "2021-06-26T02:29:19.202867Z",
     "shell.execute_reply": "2021-06-26T02:29:19.202349Z",
     "shell.execute_reply.started": "2021-06-25T18:37:16.69931Z"
    },
    "papermill": {
     "duration": 0.669095,
     "end_time": "2021-06-26T02:29:19.202984",
     "exception": false,
     "start_time": "2021-06-26T02:29:18.533889",
     "status": "completed"
    },
    "tags": []
   },
   "outputs": [
    {
     "name": "stdout",
     "output_type": "stream",
     "text": [
      "efficientnet-keras-source-code\r\n",
      "fork-of-siim-covid19-efnb7-train-fold0-5-ep200\r\n",
      "kerasapplications\r\n",
      "pydicom-conda-helper\r\n",
      "siim-cov19-yolov5-train\r\n",
      "siim-covid19-detection\r\n",
      "siim-covid19-efnb7-train-fold0-5-2class\r\n",
      "siim-covid19-efnb7-train-fold0-5-2class-prem\r\n",
      "siim-covid19-efnb7-train-study\r\n",
      "siim-covid19-efnb7-train-study-prem\r\n",
      "yolov5-official-v31-dataset\r\n"
     ]
    }
   ],
   "source": [
    "!ls ../input"
   ]
  },
  {
   "cell_type": "code",
   "execution_count": 3,
   "id": "collectible-drain",
   "metadata": {
    "_cell_guid": "b1076dfc-b9ad-4769-8c92-a6c4dae69d19",
    "_uuid": "8f2839f25d086af736a60e9eeb907d3b93b6e0e5",
    "execution": {
     "iopub.execute_input": "2021-06-26T02:29:19.280880Z",
     "iopub.status.busy": "2021-06-26T02:29:19.280259Z",
     "iopub.status.idle": "2021-06-26T02:29:19.286800Z",
     "shell.execute_reply": "2021-06-26T02:29:19.286398Z",
     "shell.execute_reply.started": "2021-06-25T18:37:17.3506Z"
    },
    "papermill": {
     "duration": 0.046861,
     "end_time": "2021-06-26T02:29:19.286908",
     "exception": false,
     "start_time": "2021-06-26T02:29:19.240047",
     "status": "completed"
    },
    "tags": []
   },
   "outputs": [],
   "source": [
    "import os\n",
    "\n",
    "from PIL import Image\n",
    "import pandas as pd\n",
    "from tqdm.auto import tqdm"
   ]
  },
  {
   "cell_type": "code",
   "execution_count": 4,
   "id": "regulated-stage",
   "metadata": {
    "execution": {
     "iopub.execute_input": "2021-06-26T02:29:19.367131Z",
     "iopub.status.busy": "2021-06-26T02:29:19.366573Z",
     "iopub.status.idle": "2021-06-26T02:29:19.381605Z",
     "shell.execute_reply": "2021-06-26T02:29:19.381205Z",
     "shell.execute_reply.started": "2021-06-25T18:37:17.36194Z"
    },
    "papermill": {
     "duration": 0.058842,
     "end_time": "2021-06-26T02:29:19.381719",
     "exception": false,
     "start_time": "2021-06-26T02:29:19.322877",
     "status": "completed"
    },
    "tags": []
   },
   "outputs": [],
   "source": [
    "df = pd.read_csv('../input/siim-covid19-detection/sample_submission.csv')\n",
    "if df.shape[0] == 2477:\n",
    "    fast_sub = True\n",
    "    fast_df = pd.DataFrame(([['00086460a852_study', 'negative 1 0 0 1 1'], \n",
    "                         ['000c9c05fd14_study', 'negative 1 0 0 1 1'], \n",
    "                         ['65761e66de9f_image', 'none 1 0 0 1 1'], \n",
    "                         ['51759b5579bc_image', 'none 1 0 0 1 1']]), \n",
    "                       columns=['id', 'PredictionString'])\n",
    "else:\n",
    "    fast_sub = False\n"
   ]
  },
  {
   "cell_type": "markdown",
   "id": "promotional-folks",
   "metadata": {
    "papermill": {
     "duration": 0.035577,
     "end_time": "2021-06-26T02:29:19.454075",
     "exception": false,
     "start_time": "2021-06-26T02:29:19.418498",
     "status": "completed"
    },
    "tags": []
   },
   "source": [
    "# .dcm to .png"
   ]
  },
  {
   "cell_type": "code",
   "execution_count": 5,
   "id": "political-minnesota",
   "metadata": {
    "execution": {
     "iopub.execute_input": "2021-06-26T02:29:19.532100Z",
     "iopub.status.busy": "2021-06-26T02:29:19.531338Z",
     "iopub.status.idle": "2021-06-26T02:29:19.682106Z",
     "shell.execute_reply": "2021-06-26T02:29:19.681634Z",
     "shell.execute_reply.started": "2021-06-25T18:37:17.382797Z"
    },
    "papermill": {
     "duration": 0.192419,
     "end_time": "2021-06-26T02:29:19.682243",
     "exception": false,
     "start_time": "2021-06-26T02:29:19.489824",
     "status": "completed"
    },
    "tags": []
   },
   "outputs": [],
   "source": [
    "import numpy as np\n",
    "import pydicom\n",
    "from pydicom.pixel_data_handlers.util import apply_voi_lut\n",
    "\n",
    "def read_xray(path, voi_lut = True, fix_monochrome = True):\n",
    "    # Original from: https://www.kaggle.com/raddar/convert-dicom-to-np-array-the-correct-way\n",
    "    dicom = pydicom.read_file(path)\n",
    "    \n",
    "    # VOI LUT (if available by DICOM device) is used to transform raw DICOM data to \n",
    "    # \"human-friendly\" view\n",
    "    if voi_lut:\n",
    "        data = apply_voi_lut(dicom.pixel_array, dicom)\n",
    "    else:\n",
    "        data = dicom.pixel_array\n",
    "               \n",
    "    # depending on this value, X-ray may look inverted - fix that:\n",
    "    if fix_monochrome and dicom.PhotometricInterpretation == \"MONOCHROME1\":\n",
    "        data = np.amax(data) - data\n",
    "        \n",
    "    data = data - np.min(data)\n",
    "    data = data / np.max(data)\n",
    "    data = (data * 255).astype(np.uint8)\n",
    "        \n",
    "    return data"
   ]
  },
  {
   "cell_type": "code",
   "execution_count": 6,
   "id": "statutory-street",
   "metadata": {
    "execution": {
     "iopub.execute_input": "2021-06-26T02:29:19.759407Z",
     "iopub.status.busy": "2021-06-26T02:29:19.758634Z",
     "iopub.status.idle": "2021-06-26T02:29:19.760778Z",
     "shell.execute_reply": "2021-06-26T02:29:19.761196Z",
     "shell.execute_reply.started": "2021-06-25T18:37:17.662013Z"
    },
    "papermill": {
     "duration": 0.042784,
     "end_time": "2021-06-26T02:29:19.761327",
     "exception": false,
     "start_time": "2021-06-26T02:29:19.718543",
     "status": "completed"
    },
    "tags": []
   },
   "outputs": [],
   "source": [
    "def resize(array, size, keep_ratio=False, resample=Image.LANCZOS):\n",
    "    # Original from: https://www.kaggle.com/xhlulu/vinbigdata-process-and-resize-to-image\n",
    "    im = Image.fromarray(array)\n",
    "    \n",
    "    if keep_ratio:\n",
    "        im.thumbnail((size, size), resample)\n",
    "    else:\n",
    "        im = im.resize((size, size), resample)\n",
    "    \n",
    "    return im"
   ]
  },
  {
   "cell_type": "code",
   "execution_count": 7,
   "id": "damaged-haiti",
   "metadata": {
    "execution": {
     "iopub.execute_input": "2021-06-26T02:29:19.840143Z",
     "iopub.status.busy": "2021-06-26T02:29:19.839614Z",
     "iopub.status.idle": "2021-06-26T02:29:21.477407Z",
     "shell.execute_reply": "2021-06-26T02:29:21.476757Z",
     "shell.execute_reply.started": "2021-06-25T18:37:17.66932Z"
    },
    "papermill": {
     "duration": 1.680607,
     "end_time": "2021-06-26T02:29:21.477547",
     "exception": false,
     "start_time": "2021-06-26T02:29:19.796940",
     "status": "completed"
    },
    "tags": []
   },
   "outputs": [],
   "source": [
    "\n",
    "split = 'test'\n",
    "save_dir = f'/kaggle/tmp/{split}/'\n",
    "\n",
    "os.makedirs(save_dir, exist_ok=True)\n",
    "\n",
    "save_dir = f'/kaggle/tmp/{split}/study/'\n",
    "os.makedirs(save_dir, exist_ok=True)\n",
    "if fast_sub:\n",
    "    xray = read_xray('../input/siim-covid19-detection/train/00086460a852/9e8302230c91/65761e66de9f.dcm')\n",
    "    im = resize(xray, size=600)  \n",
    "    study = '00086460a852' + '_study.png'\n",
    "    im.save(os.path.join(save_dir, study))\n",
    "    xray = read_xray('../input/siim-covid19-detection/train/000c9c05fd14/e555410bd2cd/51759b5579bc.dcm')\n",
    "    im = resize(xray, size=600)  \n",
    "    study = '000c9c05fd14' + '_study.png'\n",
    "    im.save(os.path.join(save_dir, study))\n",
    "else:   \n",
    "    for dirname, _, filenames in tqdm(os.walk(f'../input/siim-covid19-detection/{split}')):\n",
    "        for file in filenames:\n",
    "            # set keep_ratio=True to have original aspect ratio\n",
    "            xray = read_xray(os.path.join(dirname, file))\n",
    "            im = resize(xray, size=600)  \n",
    "            study = dirname.split('/')[-2] + '_study.png'\n",
    "            im.save(os.path.join(save_dir, study))\n"
   ]
  },
  {
   "cell_type": "code",
   "execution_count": 8,
   "id": "stopped-lesbian",
   "metadata": {
    "execution": {
     "iopub.execute_input": "2021-06-26T02:29:21.559822Z",
     "iopub.status.busy": "2021-06-26T02:29:21.558927Z",
     "iopub.status.idle": "2021-06-26T02:29:21.918993Z",
     "shell.execute_reply": "2021-06-26T02:29:21.919672Z",
     "shell.execute_reply.started": "2021-06-25T18:37:19.254305Z"
    },
    "papermill": {
     "duration": 0.406168,
     "end_time": "2021-06-26T02:29:21.919847",
     "exception": false,
     "start_time": "2021-06-26T02:29:21.513679",
     "status": "completed"
    },
    "tags": []
   },
   "outputs": [],
   "source": [
    "image_id = []\n",
    "dim0 = []\n",
    "dim1 = []\n",
    "splits = []\n",
    "save_dir = f'/kaggle/tmp/{split}/image/'\n",
    "os.makedirs(save_dir, exist_ok=True)\n",
    "if fast_sub:\n",
    "    xray = read_xray('../input/siim-covid19-detection/train/00086460a852/9e8302230c91/65761e66de9f.dcm')\n",
    "    im = resize(xray, size=512)  \n",
    "    im.save(os.path.join(save_dir,'65761e66de9f_image.png'))\n",
    "    image_id.append('65761e66de9f.dcm'.replace('.dcm', ''))\n",
    "    dim0.append(xray.shape[0])\n",
    "    dim1.append(xray.shape[1])\n",
    "    splits.append(split)\n",
    "    xray = read_xray('../input/siim-covid19-detection/train/000c9c05fd14/e555410bd2cd/51759b5579bc.dcm')\n",
    "    im = resize(xray, size=512)  \n",
    "    im.save(os.path.join(save_dir, '51759b5579bc_image.png'))\n",
    "    image_id.append('51759b5579bc.dcm'.replace('.dcm', ''))\n",
    "    dim0.append(xray.shape[0])\n",
    "    dim1.append(xray.shape[1])\n",
    "    splits.append(split)\n",
    "else:\n",
    "    for dirname, _, filenames in tqdm(os.walk(f'../input/siim-covid19-detection/{split}')):\n",
    "        for file in filenames:\n",
    "            # set keep_ratio=True to have original aspect ratio\n",
    "            xray = read_xray(os.path.join(dirname, file))\n",
    "            im = resize(xray, size=512)  \n",
    "            im.save(os.path.join(save_dir, file.replace('.dcm', '_image.png')))\n",
    "            image_id.append(file.replace('.dcm', ''))\n",
    "            dim0.append(xray.shape[0])\n",
    "            dim1.append(xray.shape[1])\n",
    "            splits.append(split)\n",
    "meta = pd.DataFrame.from_dict({'image_id': image_id, 'dim0': dim0, 'dim1': dim1, 'split': splits})"
   ]
  },
  {
   "cell_type": "markdown",
   "id": "sweet-hostel",
   "metadata": {
    "papermill": {
     "duration": 0.035983,
     "end_time": "2021-06-26T02:29:21.992228",
     "exception": false,
     "start_time": "2021-06-26T02:29:21.956245",
     "status": "completed"
    },
    "tags": []
   },
   "source": [
    "# study predict"
   ]
  },
  {
   "cell_type": "code",
   "execution_count": 9,
   "id": "proved-rating",
   "metadata": {
    "execution": {
     "iopub.execute_input": "2021-06-26T02:29:22.080835Z",
     "iopub.status.busy": "2021-06-26T02:29:22.080102Z",
     "iopub.status.idle": "2021-06-26T02:29:22.082366Z",
     "shell.execute_reply": "2021-06-26T02:29:22.082764Z",
     "shell.execute_reply.started": "2021-06-25T18:37:19.644862Z"
    },
    "papermill": {
     "duration": 0.054114,
     "end_time": "2021-06-26T02:29:22.082884",
     "exception": false,
     "start_time": "2021-06-26T02:29:22.028770",
     "status": "completed"
    },
    "tags": []
   },
   "outputs": [],
   "source": [
    "import numpy as np \n",
    "import pandas as pd\n",
    "if fast_sub:\n",
    "    df = fast_df.copy()\n",
    "else:\n",
    "    df = pd.read_csv('../input/siim-covid19-detection/sample_submission.csv')\n",
    "id_laststr_list  = []\n",
    "for i in range(df.shape[0]):\n",
    "    id_laststr_list.append(df.loc[i,'id'][-1])\n",
    "df['id_last_str'] = id_laststr_list\n",
    "\n",
    "study_len = df[df['id_last_str'] == 'y'].shape[0]"
   ]
  },
  {
   "cell_type": "code",
   "execution_count": 10,
   "id": "international-cement",
   "metadata": {
    "execution": {
     "iopub.execute_input": "2021-06-26T02:29:22.193563Z",
     "iopub.status.busy": "2021-06-26T02:29:22.172923Z",
     "iopub.status.idle": "2021-06-26T02:32:24.920655Z",
     "shell.execute_reply": "2021-06-26T02:32:24.920183Z",
     "shell.execute_reply.started": "2021-06-25T18:40:26.595009Z"
    },
    "papermill": {
     "duration": 182.801924,
     "end_time": "2021-06-26T02:32:24.920784",
     "exception": false,
     "start_time": "2021-06-26T02:29:22.118860",
     "status": "completed"
    },
    "tags": []
   },
   "outputs": [
    {
     "name": "stdout",
     "output_type": "stream",
     "text": [
      "Running on 1 replicas\n",
      "1/1 [==============================] - 7s 7s/step\n",
      "1/1 [==============================] - 4s 4s/step\n",
      "1/1 [==============================] - 4s 4s/step\n",
      "1/1 [==============================] - 4s 4s/step\n",
      "1/1 [==============================] - 4s 4s/step\n"
     ]
    }
   ],
   "source": [
    "!pip install /kaggle/input/kerasapplications -q\n",
    "!pip install /kaggle/input/efficientnet-keras-source-code/ -q --no-deps\n",
    "\n",
    "import os\n",
    "\n",
    "import efficientnet.tfkeras as efn\n",
    "import numpy as np\n",
    "import pandas as pd\n",
    "import tensorflow as tf\n",
    "\n",
    "def auto_select_accelerator():\n",
    "    try:\n",
    "        tpu = tf.distribute.cluster_resolver.TPUClusterResolver()\n",
    "        tf.config.experimental_connect_to_cluster(tpu)\n",
    "        tf.tpu.experimental.initialize_tpu_system(tpu)\n",
    "        strategy = tf.distribute.experimental.TPUStrategy(tpu)\n",
    "        print(\"Running on TPU:\", tpu.master())\n",
    "    except ValueError:\n",
    "        strategy = tf.distribute.get_strategy()\n",
    "    print(f\"Running on {strategy.num_replicas_in_sync} replicas\")\n",
    "\n",
    "    return strategy\n",
    "\n",
    "\n",
    "def build_decoder(with_labels=True, target_size=(300, 300), ext='jpg'):\n",
    "    def decode(path):\n",
    "        file_bytes = tf.io.read_file(path)\n",
    "        if ext == 'png':\n",
    "            img = tf.image.decode_png(file_bytes, channels=3)\n",
    "        elif ext in ['jpg', 'jpeg']:\n",
    "            img = tf.image.decode_jpeg(file_bytes, channels=3)\n",
    "        else:\n",
    "            raise ValueError(\"Image extension not supported\")\n",
    "\n",
    "        img = tf.cast(img, tf.float32) / 355.0\n",
    "        img = tf.image.resize(img, target_size)\n",
    "\n",
    "        return img\n",
    "\n",
    "    def decode_with_labels(path, label):\n",
    "        return decode(path), label\n",
    "\n",
    "    return decode_with_labels if with_labels else decode\n",
    "\n",
    "\n",
    "def build_augmenter(with_labels=True):\n",
    "    def augment(img):\n",
    "        img = tf.image.random_flip_left_right(img)\n",
    "        img = tf.image.random_flip_up_down(img)\n",
    "        return img\n",
    "\n",
    "    def augment_with_labels(img, label):\n",
    "        return augment(img), label\n",
    "\n",
    "    return augment_with_labels if with_labels else augment\n",
    "\n",
    "\n",
    "def build_dataset(paths, labels=None, bsize=32, cache=True,\n",
    "                  decode_fn=None, augment_fn=None,\n",
    "                  augment=True, repeat=True, shuffle=1024, \n",
    "                  cache_dir=\"\"):\n",
    "    if cache_dir != \"\" and cache is True:\n",
    "        os.makedirs(cache_dir, exist_ok=True)\n",
    "\n",
    "    if decode_fn is None:\n",
    "        decode_fn = build_decoder(labels is not None)\n",
    "\n",
    "    if augment_fn is None:\n",
    "        augment_fn = build_augmenter(labels is not None)\n",
    "\n",
    "    AUTO = tf.data.experimental.AUTOTUNE\n",
    "    slices = paths if labels is None else (paths, labels)\n",
    "\n",
    "    dset = tf.data.Dataset.from_tensor_slices(slices)\n",
    "    dset = dset.map(decode_fn, num_parallel_calls=AUTO)\n",
    "    dset = dset.cache(cache_dir) if cache else dset\n",
    "    dset = dset.map(augment_fn, num_parallel_calls=AUTO) if augment else dset\n",
    "    dset = dset.repeat() if repeat else dset\n",
    "    dset = dset.shuffle(shuffle) if shuffle else dset\n",
    "    dset = dset.batch(bsize).prefetch(AUTO)\n",
    "\n",
    "    return dset\n",
    "\n",
    "#COMPETITION_NAME = \"siim-cov19-test-img512-study-600\"\n",
    "strategy = auto_select_accelerator()\n",
    "BATCH_SIZE = strategy.num_replicas_in_sync * 16\n",
    "\n",
    "IMSIZE = (224, 240, 260, 300, 380, 456, 528, 600, 512)\n",
    "\n",
    "#load_dir = f\"/kaggle/input/{COMPETITION_NAME}/\"\n",
    "if fast_sub:\n",
    "    sub_df = fast_df.copy()\n",
    "else:\n",
    "    sub_df = pd.read_csv('../input/siim-covid19-detection/sample_submission.csv')\n",
    "sub_df = sub_df[:study_len]\n",
    "test_paths = f'/kaggle/tmp/{split}/study/' + sub_df['id'] +'.png'\n",
    "\n",
    "sub_df['negative'] = 0\n",
    "sub_df['typical'] = 0\n",
    "sub_df['indeterminate'] = 0\n",
    "sub_df['atypical'] = 0\n",
    "\n",
    "\n",
    "label_cols = sub_df.columns[2:]\n",
    "\n",
    "test_decoder = build_decoder(with_labels=False, target_size=(IMSIZE[7], IMSIZE[7]), ext='png')\n",
    "dtest = build_dataset(\n",
    "    test_paths, bsize=BATCH_SIZE, repeat=False, \n",
    "    shuffle=False, augment=False, cache=False,\n",
    "    decode_fn=test_decoder\n",
    ")\n",
    "\n",
    "with strategy.scope():\n",
    "    \n",
    "    models = []\n",
    "    \n",
    "    models0 = tf.keras.models.load_model(\n",
    "        '../input/siim-covid19-efnb7-train-study/model0.h5'\n",
    "    )\n",
    "    models1 = tf.keras.models.load_model(\n",
    "        '../input/siim-covid19-efnb7-train-study/model1.h5'\n",
    "    )\n",
    "    models2 = tf.keras.models.load_model(\n",
    "        '../input/siim-covid19-efnb7-train-study/model2.h5'\n",
    "    )\n",
    "    models3 = tf.keras.models.load_model(\n",
    "        '../input/siim-covid19-efnb7-train-study/model3.h5'\n",
    "    )\n",
    "    models4 = tf.keras.models.load_model(\n",
    "        '../input/siim-covid19-efnb7-train-study/model4.h5'\n",
    "    )\n",
    "    \n",
    "    models.append(models0)\n",
    "    models.append(models1)\n",
    "    models.append(models2)\n",
    "    models.append(models3)\n",
    "    models.append(models4)\n",
    "\n",
    "    \n",
    "weights = {\n",
    "    0: 1,\n",
    "    1: 1,\n",
    "    2: 1,\n",
    "    3: 1,\n",
    "    4: 3\n",
    "}\n",
    "\n",
    "weights_sum = sum(weights.values())\n",
    "weights = {k: v/weights_sum for k, v in weights.items()}\n",
    "\n",
    "predictions = [model.predict(dtest, verbose=1) for model in models]\n",
    "for i, pred in enumerate(predictions):\n",
    "    predictions[i] = weights[i] * pred\n",
    "    \n",
    "sub_df[label_cols] = sum(predictions)\n"
   ]
  },
  {
   "cell_type": "code",
   "execution_count": null,
   "id": "respected-techno",
   "metadata": {
    "execution": {
     "iopub.execute_input": "2021-06-25T18:45:12.071741Z",
     "iopub.status.busy": "2021-06-25T18:45:12.07139Z",
     "iopub.status.idle": "2021-06-25T18:45:12.866261Z",
     "shell.execute_reply": "2021-06-25T18:45:12.865152Z",
     "shell.execute_reply.started": "2021-06-25T18:45:12.071708Z"
    },
    "papermill": {
     "duration": 0.038902,
     "end_time": "2021-06-26T02:32:24.999276",
     "exception": false,
     "start_time": "2021-06-26T02:32:24.960374",
     "status": "completed"
    },
    "tags": []
   },
   "outputs": [],
   "source": []
  },
  {
   "cell_type": "code",
   "execution_count": 11,
   "id": "fuzzy-chain",
   "metadata": {
    "execution": {
     "iopub.execute_input": "2021-06-26T02:32:25.090415Z",
     "iopub.status.busy": "2021-06-26T02:32:25.088485Z",
     "iopub.status.idle": "2021-06-26T02:32:25.093241Z",
     "shell.execute_reply": "2021-06-26T02:32:25.093644Z"
    },
    "papermill": {
     "duration": 0.055716,
     "end_time": "2021-06-26T02:32:25.093775",
     "exception": false,
     "start_time": "2021-06-26T02:32:25.038059",
     "status": "completed"
    },
    "tags": []
   },
   "outputs": [],
   "source": [
    "sub_df.columns = ['id', 'PredictionString1', 'negative', 'typical', 'indeterminate', 'atypical']\n",
    "df = pd.merge(df, sub_df, on = 'id', how = 'left')"
   ]
  },
  {
   "cell_type": "markdown",
   "id": "answering-ideal",
   "metadata": {
    "papermill": {
     "duration": 0.038552,
     "end_time": "2021-06-26T02:32:25.171072",
     "exception": false,
     "start_time": "2021-06-26T02:32:25.132520",
     "status": "completed"
    },
    "tags": []
   },
   "source": [
    "# study string"
   ]
  },
  {
   "cell_type": "code",
   "execution_count": 12,
   "id": "british-period",
   "metadata": {
    "execution": {
     "iopub.execute_input": "2021-06-26T02:32:25.254997Z",
     "iopub.status.busy": "2021-06-26T02:32:25.254492Z",
     "iopub.status.idle": "2021-06-26T02:32:25.257886Z",
     "shell.execute_reply": "2021-06-26T02:32:25.258265Z"
    },
    "papermill": {
     "duration": 0.048898,
     "end_time": "2021-06-26T02:32:25.258396",
     "exception": false,
     "start_time": "2021-06-26T02:32:25.209498",
     "status": "completed"
    },
    "tags": []
   },
   "outputs": [],
   "source": [
    "for i in range(study_len):\n",
    "    negative = df.loc[i,'negative']\n",
    "    typical = df.loc[i,'typical']\n",
    "    indeterminate = df.loc[i,'indeterminate']\n",
    "    atypical = df.loc[i,'atypical']\n",
    "    df.loc[i, 'PredictionString'] = f'negative {negative} 0 0 1 1 typical {typical} 0 0 1 1 indeterminate {indeterminate} 0 0 1 1 atypical {atypical} 0 0 1 1'"
   ]
  },
  {
   "cell_type": "code",
   "execution_count": 13,
   "id": "standing-bobby",
   "metadata": {
    "execution": {
     "iopub.execute_input": "2021-06-26T02:32:25.340550Z",
     "iopub.status.busy": "2021-06-26T02:32:25.339838Z",
     "iopub.status.idle": "2021-06-26T02:32:25.342232Z",
     "shell.execute_reply": "2021-06-26T02:32:25.342591Z"
    },
    "papermill": {
     "duration": 0.045568,
     "end_time": "2021-06-26T02:32:25.342715",
     "exception": false,
     "start_time": "2021-06-26T02:32:25.297147",
     "status": "completed"
    },
    "tags": []
   },
   "outputs": [],
   "source": [
    "df_study = df[['id', 'PredictionString']]\n",
    "\n",
    "# df.to_csv('submission.csv',index=False)\n",
    "# df"
   ]
  },
  {
   "cell_type": "markdown",
   "id": "connected-thursday",
   "metadata": {
    "papermill": {
     "duration": 0.038417,
     "end_time": "2021-06-26T02:32:25.419785",
     "exception": false,
     "start_time": "2021-06-26T02:32:25.381368",
     "status": "completed"
    },
    "tags": []
   },
   "source": [
    "# 2 class"
   ]
  },
  {
   "cell_type": "code",
   "execution_count": null,
   "id": "hazardous-regression",
   "metadata": {
    "papermill": {
     "duration": 0.038482,
     "end_time": "2021-06-26T02:32:25.496720",
     "exception": false,
     "start_time": "2021-06-26T02:32:25.458238",
     "status": "completed"
    },
    "tags": []
   },
   "outputs": [],
   "source": []
  },
  {
   "cell_type": "code",
   "execution_count": 14,
   "id": "restricted-wings",
   "metadata": {
    "execution": {
     "iopub.execute_input": "2021-06-26T02:32:25.588064Z",
     "iopub.status.busy": "2021-06-26T02:32:25.587300Z",
     "iopub.status.idle": "2021-06-26T02:34:29.788807Z",
     "shell.execute_reply": "2021-06-26T02:34:29.789202Z",
     "shell.execute_reply.started": "2021-06-25T18:45:35.711762Z"
    },
    "papermill": {
     "duration": 124.254237,
     "end_time": "2021-06-26T02:34:29.789363",
     "exception": false,
     "start_time": "2021-06-26T02:32:25.535126",
     "status": "completed"
    },
    "tags": []
   },
   "outputs": [
    {
     "name": "stdout",
     "output_type": "stream",
     "text": [
      "1/1 [==============================] - 4s 4s/step\n",
      "1/1 [==============================] - 4s 4s/step\n",
      "1/1 [==============================] - 4s 4s/step\n",
      "1/1 [==============================] - 5s 5s/step\n",
      "1/1 [==============================] - 4s 4s/step\n"
     ]
    }
   ],
   "source": [
    "\n",
    "if fast_sub:\n",
    "    sub_df = fast_df.copy()\n",
    "else:\n",
    "    sub_df = pd.read_csv('../input/siim-covid19-detection/sample_submission.csv')\n",
    "sub_df = sub_df[study_len:]\n",
    "test_paths = f'/kaggle/tmp/{split}/image/' + sub_df['id'] +'.png'\n",
    "sub_df['none'] = 0\n",
    "\n",
    "label_cols = sub_df.columns[2]\n",
    "\n",
    "test_decoder = build_decoder(with_labels=False, target_size=(IMSIZE[8], IMSIZE[8]), ext='png')\n",
    "dtest = build_dataset(\n",
    "    test_paths, bsize=BATCH_SIZE, repeat=False, \n",
    "    shuffle=False, augment=False, cache=False,\n",
    "    decode_fn=test_decoder\n",
    ")\n",
    "\n",
    "path_2class = ('../input/siim-covid19-efnb7-train-fold0-5-2class-prem')\n",
    "with strategy.scope():\n",
    "    \n",
    "    models = []\n",
    "    \n",
    "    models0 = tf.keras.models.load_model(\n",
    "        f'{path_2class}/model0.h5'\n",
    "    )\n",
    "    models1 = tf.keras.models.load_model(\n",
    "        f'{path_2class}/model1.h5'\n",
    "    )\n",
    "    models2 = tf.keras.models.load_model(\n",
    "        f'{path_2class}/model2.h5'\n",
    "    )\n",
    "    models3 = tf.keras.models.load_model(\n",
    "        f'{path_2class}/model3.h5'\n",
    "    )\n",
    "    models4 = tf.keras.models.load_model(\n",
    "        f'{path_2class}/model4.h5'\n",
    "    )\n",
    "    \n",
    "    models.append(models0)\n",
    "    models.append(models1)\n",
    "    models.append(models2)\n",
    "    models.append(models3)\n",
    "    models.append(models4)\n",
    "\n",
    "\n",
    "weights = {\n",
    "    0: 1,\n",
    "    1: 1,\n",
    "    2: 1,\n",
    "    3: 1,\n",
    "    4: 3\n",
    "}\n",
    "\n",
    "weights_sum = sum(weights.values())\n",
    "weights = {k: v/weights_sum for k, v in weights.items()}\n",
    "\n",
    "predictions = [model.predict(dtest, verbose=1) for model in models]\n",
    "for i, pred in enumerate(predictions):\n",
    "    predictions[i] = weights[i] * pred\n",
    "    \n",
    "sub_df[label_cols] = sum(predictions)\n",
    "df_2class = sub_df.reset_index(drop=True)"
   ]
  },
  {
   "cell_type": "code",
   "execution_count": 15,
   "id": "composed-unknown",
   "metadata": {
    "execution": {
     "iopub.execute_input": "2021-06-26T02:34:29.876132Z",
     "iopub.status.busy": "2021-06-26T02:34:29.875188Z",
     "iopub.status.idle": "2021-06-26T02:34:29.877589Z",
     "shell.execute_reply": "2021-06-26T02:34:29.877946Z",
     "shell.execute_reply.started": "2021-06-25T18:47:46.265306Z"
    },
    "papermill": {
     "duration": 0.047467,
     "end_time": "2021-06-26T02:34:29.878090",
     "exception": false,
     "start_time": "2021-06-26T02:34:29.830623",
     "status": "completed"
    },
    "tags": []
   },
   "outputs": [],
   "source": [
    "del models\n",
    "del models0, models1, models2, models3, models4"
   ]
  },
  {
   "cell_type": "code",
   "execution_count": 16,
   "id": "creative-century",
   "metadata": {
    "execution": {
     "iopub.execute_input": "2021-06-26T02:34:29.964424Z",
     "iopub.status.busy": "2021-06-26T02:34:29.963871Z",
     "iopub.status.idle": "2021-06-26T02:34:32.366666Z",
     "shell.execute_reply": "2021-06-26T02:34:32.366239Z",
     "shell.execute_reply.started": "2021-06-25T18:47:46.272979Z"
    },
    "papermill": {
     "duration": 2.447692,
     "end_time": "2021-06-26T02:34:32.366785",
     "exception": false,
     "start_time": "2021-06-26T02:34:29.919093",
     "status": "completed"
    },
    "tags": []
   },
   "outputs": [
    {
     "data": {
      "text/plain": [
       "<weakproxy at 0x7efe274714d0 to Device at 0x7efa5a00b790>"
      ]
     },
     "execution_count": 16,
     "metadata": {},
     "output_type": "execute_result"
    }
   ],
   "source": [
    "from numba import cuda\n",
    "import torch\n",
    "cuda.select_device(0)\n",
    "cuda.close()\n",
    "cuda.select_device(0)"
   ]
  },
  {
   "cell_type": "markdown",
   "id": "italian-showcase",
   "metadata": {
    "papermill": {
     "duration": 0.04121,
     "end_time": "2021-06-26T02:34:32.450164",
     "exception": false,
     "start_time": "2021-06-26T02:34:32.408954",
     "status": "completed"
    },
    "tags": []
   },
   "source": [
    "# yolov5 predict"
   ]
  },
  {
   "cell_type": "code",
   "execution_count": 17,
   "id": "valid-mongolia",
   "metadata": {
    "execution": {
     "iopub.execute_input": "2021-06-26T02:34:32.537530Z",
     "iopub.status.busy": "2021-06-26T02:34:32.536994Z",
     "iopub.status.idle": "2021-06-26T02:34:32.732803Z",
     "shell.execute_reply": "2021-06-26T02:34:32.732323Z",
     "shell.execute_reply.started": "2021-06-25T18:47:51.279087Z"
    },
    "papermill": {
     "duration": 0.241389,
     "end_time": "2021-06-26T02:34:32.732920",
     "exception": false,
     "start_time": "2021-06-26T02:34:32.491531",
     "status": "completed"
    },
    "tags": []
   },
   "outputs": [],
   "source": [
    "import numpy as np, pandas as pd\n",
    "from glob import glob\n",
    "import shutil, os\n",
    "import matplotlib.pyplot as plt\n",
    "from sklearn.model_selection import GroupKFold\n",
    "from tqdm.notebook import tqdm\n",
    "import seaborn as sns\n",
    "import torch"
   ]
  },
  {
   "cell_type": "code",
   "execution_count": 18,
   "id": "skilled-mouse",
   "metadata": {
    "execution": {
     "iopub.execute_input": "2021-06-26T02:34:32.827343Z",
     "iopub.status.busy": "2021-06-26T02:34:32.826594Z",
     "iopub.status.idle": "2021-06-26T02:34:32.829370Z",
     "shell.execute_reply": "2021-06-26T02:34:32.828957Z",
     "shell.execute_reply.started": "2021-06-25T18:47:51.521751Z"
    },
    "papermill": {
     "duration": 0.054326,
     "end_time": "2021-06-26T02:34:32.829478",
     "exception": false,
     "start_time": "2021-06-26T02:34:32.775152",
     "status": "completed"
    },
    "tags": []
   },
   "outputs": [],
   "source": [
    "meta = meta[meta['split'] == 'test']\n",
    "if fast_sub:\n",
    "    test_df = fast_df.copy()\n",
    "else:\n",
    "    test_df = pd.read_csv('../input/siim-covid19-detection/sample_submission.csv')\n",
    "test_df = df[study_len:].reset_index(drop=True) \n",
    "meta['image_id'] = meta['image_id'] + '_image'\n",
    "meta.columns = ['id', 'dim0', 'dim1', 'split']\n",
    "test_df = pd.merge(test_df, meta, on = 'id', how = 'left')\n"
   ]
  },
  {
   "cell_type": "code",
   "execution_count": 19,
   "id": "loaded-evidence",
   "metadata": {
    "execution": {
     "iopub.execute_input": "2021-06-26T02:34:32.936936Z",
     "iopub.status.busy": "2021-06-26T02:34:32.936406Z",
     "iopub.status.idle": "2021-06-26T02:34:48.423818Z",
     "shell.execute_reply": "2021-06-26T02:34:48.423300Z",
     "shell.execute_reply.started": "2021-06-25T18:47:51.544876Z"
    },
    "papermill": {
     "duration": 15.552257,
     "end_time": "2021-06-26T02:34:48.423937",
     "exception": false,
     "start_time": "2021-06-26T02:34:32.871680",
     "status": "completed"
    },
    "tags": []
   },
   "outputs": [
    {
     "name": "stdout",
     "output_type": "stream",
     "text": [
      "Namespace(agnostic_nms=False, augment=False, classes=None, conf_thres=0.001, device='', exist_ok=True, img_size=512, iou_thres=0.5, name='exp', project='runs/detect', save_conf=True, save_txt=True, source='/kaggle/tmp/test/image', update=False, view_img=False, weights=['/kaggle/input/siim-cov19-yolov5-train/yolov5/runs/train/exp/weights/best.pt'])\r\n",
      "Fusing layers... \r\n",
      "image 1/2 /kaggle/tmp/test/image/51759b5579bc_image.png: 512x512 20 0. opacitys, Done. (0.058s)\r\n",
      "image 2/2 /kaggle/tmp/test/image/65761e66de9f_image.png: 512x512 24 0. opacitys, Done. (0.046s)\r\n",
      "Results saved to runs/detect/exp\r\n",
      "2 labels saved to runs/detect/exp/labels\r\n",
      "Done. (0.348s)\r\n"
     ]
    },
    {
     "data": {
      "application/vnd.jupyter.widget-view+json": {
       "model_id": "76c8f59185784b6b8febed88ca0bca1c",
       "version_major": 2,
       "version_minor": 0
      },
      "text/plain": [
       "  0%|          | 0/2 [00:00<?, ?it/s]"
      ]
     },
     "metadata": {},
     "output_type": "display_data"
    }
   ],
   "source": [
    "dim = 512 #1024, 256, 'original'\n",
    "test_dir = f'/kaggle/tmp/{split}/image'\n",
    "weights_dir = '/kaggle/input/siim-cov19-yolov5-train/yolov5/runs/train/exp/weights/best.pt'\n",
    "\n",
    "shutil.copytree('/kaggle/input/yolov5-official-v31-dataset/yolov5', '/kaggle/working/yolov5')\n",
    "os.chdir('/kaggle/working/yolov5') # install dependencies\n",
    "\n",
    "import torch\n",
    "#from IPython.display import Image, clear_output  # to display images\n",
    "\n",
    "#clear_output()\n",
    "#print('Setup complete. Using torch %s %s' % (torch.__version__, torch.cuda.get_device_properties(0) if torch.cuda.is_available() else 'CPU'))\n",
    "\n",
    "\n",
    "!python detect.py --weights $weights_dir\\\n",
    "--img 512\\\n",
    "--conf 0.001\\\n",
    "--iou 0.5\\\n",
    "--source $test_dir\\\n",
    "--save-txt --save-conf --exist-ok\n",
    "def yolo2voc(image_height, image_width, bboxes):\n",
    "    \"\"\"\n",
    "    yolo => [xmid, ymid, w, h] (normalized)\n",
    "    voc  => [x1, y1, x2, y1]\n",
    "\n",
    "    \"\"\" \n",
    "    bboxes = bboxes.copy().astype(float) # otherwise all value will be 0 as voc_pascal dtype is np.int\n",
    "\n",
    "    bboxes[..., [0, 2]] = bboxes[..., [0, 2]]* image_width\n",
    "    bboxes[..., [1, 3]] = bboxes[..., [1, 3]]* image_height\n",
    "\n",
    "    bboxes[..., [0, 1]] = bboxes[..., [0, 1]] - bboxes[..., [2, 3]]/2\n",
    "    bboxes[..., [2, 3]] = bboxes[..., [0, 1]] + bboxes[..., [2, 3]]\n",
    "\n",
    "    return bboxes\n",
    "image_ids = []\n",
    "PredictionStrings = []\n",
    "\n",
    "for file_path in tqdm(glob('runs/detect/exp/labels/*.txt')):\n",
    "    image_id = file_path.split('/')[-1].split('.')[0]\n",
    "    w, h = test_df.loc[test_df.id==image_id,['dim1', 'dim0']].values[0]\n",
    "    f = open(file_path, 'r')\n",
    "    data = np.array(f.read().replace('\\n', ' ').strip().split(' ')).astype(np.float32).reshape(-1, 6)\n",
    "    data = data[:, [0, 5, 1, 2, 3, 4]]\n",
    "    bboxes = list(np.round(np.concatenate((data[:, :2], np.round(yolo2voc(h, w, data[:, 2:]))), axis =1).reshape(-1), 12).astype(str))\n",
    "    for idx in range(len(bboxes)):\n",
    "        bboxes[idx] = str(int(float(bboxes[idx]))) if idx%6!=1 else bboxes[idx]\n",
    "    image_ids.append(image_id)\n",
    "    PredictionStrings.append(' '.join(bboxes))\n",
    "\n",
    "\n",
    "pred_df = pd.DataFrame({'id':image_ids,\n",
    "                        'PredictionString':PredictionStrings})"
   ]
  },
  {
   "cell_type": "code",
   "execution_count": 20,
   "id": "pressed-inventory",
   "metadata": {
    "execution": {
     "iopub.execute_input": "2021-06-26T02:34:48.533929Z",
     "iopub.status.busy": "2021-06-26T02:34:48.533381Z",
     "iopub.status.idle": "2021-06-26T02:34:48.674300Z",
     "shell.execute_reply": "2021-06-26T02:34:48.673809Z",
     "shell.execute_reply.started": "2021-06-25T18:48:07.80661Z"
    },
    "papermill": {
     "duration": 0.206589,
     "end_time": "2021-06-26T02:34:48.674433",
     "exception": false,
     "start_time": "2021-06-26T02:34:48.467844",
     "status": "completed"
    },
    "tags": []
   },
   "outputs": [],
   "source": [
    "test_df = test_df.drop(['PredictionString'], axis=1)\n",
    "sub_df = pd.merge(test_df, pred_df, on = 'id', how = 'left').fillna(\"none 1 0 0 1 1\")\n",
    "sub_df = sub_df[['id', 'PredictionString']]\n",
    "for i in range(sub_df.shape[0]):\n",
    "    if sub_df.loc[i,'PredictionString'] == \"none 1 0 0 1 1\":\n",
    "        continue\n",
    "    sub_df_split = sub_df.loc[i,'PredictionString'].split()\n",
    "    sub_df_list = []\n",
    "    for j in range(int(len(sub_df_split) / 6)):\n",
    "        sub_df_list.append('opacity')\n",
    "        sub_df_list.append(sub_df_split[6 * j + 1])\n",
    "        sub_df_list.append(sub_df_split[6 * j + 2])\n",
    "        sub_df_list.append(sub_df_split[6 * j + 3])\n",
    "        sub_df_list.append(sub_df_split[6 * j + 4])\n",
    "        sub_df_list.append(sub_df_split[6 * j + 5])\n",
    "    sub_df.loc[i,'PredictionString'] = ' '.join(sub_df_list)\n",
    "sub_df['none'] = df_2class['none'] \n",
    "for i in range(sub_df.shape[0]):\n",
    "    if sub_df.loc[i,'PredictionString'] != 'none 1 0 0 1 1':\n",
    "        sub_df.loc[i,'PredictionString'] = sub_df.loc[i,'PredictionString'] + ' none ' + str(sub_df.loc[i,'none']) + ' 0 0 1 1'\n",
    "sub_df = sub_df[['id', 'PredictionString']]   \n",
    "df_study = df_study[:study_len]\n",
    "df_study = df_study.append(sub_df).reset_index(drop=True)\n",
    "df_study.to_csv('/kaggle/working/submission.csv',index = False)  \n",
    "shutil.rmtree('/kaggle/working/yolov5')"
   ]
  },
  {
   "cell_type": "code",
   "execution_count": null,
   "id": "incredible-assurance",
   "metadata": {
    "papermill": {
     "duration": 0.042666,
     "end_time": "2021-06-26T02:34:48.760537",
     "exception": false,
     "start_time": "2021-06-26T02:34:48.717871",
     "status": "completed"
    },
    "tags": []
   },
   "outputs": [],
   "source": []
  },
  {
   "cell_type": "code",
   "execution_count": null,
   "id": "ordinary-bonus",
   "metadata": {
    "papermill": {
     "duration": 0.042404,
     "end_time": "2021-06-26T02:34:48.845630",
     "exception": false,
     "start_time": "2021-06-26T02:34:48.803226",
     "status": "completed"
    },
    "tags": []
   },
   "outputs": [],
   "source": []
  },
  {
   "cell_type": "code",
   "execution_count": null,
   "id": "excessive-public",
   "metadata": {
    "papermill": {
     "duration": 0.042757,
     "end_time": "2021-06-26T02:34:48.931422",
     "exception": false,
     "start_time": "2021-06-26T02:34:48.888665",
     "status": "completed"
    },
    "tags": []
   },
   "outputs": [],
   "source": []
  },
  {
   "cell_type": "code",
   "execution_count": null,
   "id": "concrete-awareness",
   "metadata": {
    "papermill": {
     "duration": 0.042764,
     "end_time": "2021-06-26T02:34:49.017137",
     "exception": false,
     "start_time": "2021-06-26T02:34:48.974373",
     "status": "completed"
    },
    "tags": []
   },
   "outputs": [],
   "source": []
  },
  {
   "cell_type": "code",
   "execution_count": null,
   "id": "isolated-standing",
   "metadata": {
    "papermill": {
     "duration": 0.04335,
     "end_time": "2021-06-26T02:34:49.103193",
     "exception": false,
     "start_time": "2021-06-26T02:34:49.059843",
     "status": "completed"
    },
    "tags": []
   },
   "outputs": [],
   "source": []
  }
 ],
 "metadata": {
  "kernelspec": {
   "display_name": "Python 3",
   "language": "python",
   "name": "python3"
  },
  "language_info": {
   "codemirror_mode": {
    "name": "ipython",
    "version": 3
   },
   "file_extension": ".py",
   "mimetype": "text/x-python",
   "name": "python",
   "nbconvert_exporter": "python",
   "pygments_lexer": "ipython3",
   "version": "3.7.10"
  },
  "papermill": {
   "default_parameters": {},
   "duration": 411.823031,
   "end_time": "2021-06-26T02:34:52.104948",
   "environment_variables": {},
   "exception": null,
   "input_path": "__notebook__.ipynb",
   "output_path": "__notebook__.ipynb",
   "parameters": {},
   "start_time": "2021-06-26T02:28:00.281917",
   "version": "2.3.3"
  },
  "widgets": {
   "application/vnd.jupyter.widget-state+json": {
    "state": {
     "0cb84308adb64b648548e881f64b1c42": {
      "model_module": "@jupyter-widgets/base",
      "model_module_version": "1.2.0",
      "model_name": "LayoutModel",
      "state": {
       "_model_module": "@jupyter-widgets/base",
       "_model_module_version": "1.2.0",
       "_model_name": "LayoutModel",
       "_view_count": null,
       "_view_module": "@jupyter-widgets/base",
       "_view_module_version": "1.2.0",
       "_view_name": "LayoutView",
       "align_content": null,
       "align_items": null,
       "align_self": null,
       "border": null,
       "bottom": null,
       "display": null,
       "flex": null,
       "flex_flow": null,
       "grid_area": null,
       "grid_auto_columns": null,
       "grid_auto_flow": null,
       "grid_auto_rows": null,
       "grid_column": null,
       "grid_gap": null,
       "grid_row": null,
       "grid_template_areas": null,
       "grid_template_columns": null,
       "grid_template_rows": null,
       "height": null,
       "justify_content": null,
       "justify_items": null,
       "left": null,
       "margin": null,
       "max_height": null,
       "max_width": null,
       "min_height": null,
       "min_width": null,
       "object_fit": null,
       "object_position": null,
       "order": null,
       "overflow": null,
       "overflow_x": null,
       "overflow_y": null,
       "padding": null,
       "right": null,
       "top": null,
       "visibility": null,
       "width": null
      }
     },
     "1754c03c31f94bd6ad2ebf4f0726b4f7": {
      "model_module": "@jupyter-widgets/controls",
      "model_module_version": "1.5.0",
      "model_name": "DescriptionStyleModel",
      "state": {
       "_model_module": "@jupyter-widgets/controls",
       "_model_module_version": "1.5.0",
       "_model_name": "DescriptionStyleModel",
       "_view_count": null,
       "_view_module": "@jupyter-widgets/base",
       "_view_module_version": "1.2.0",
       "_view_name": "StyleView",
       "description_width": ""
      }
     },
     "26400ddf9e28456cbfea7bd5fadde28e": {
      "model_module": "@jupyter-widgets/controls",
      "model_module_version": "1.5.0",
      "model_name": "ProgressStyleModel",
      "state": {
       "_model_module": "@jupyter-widgets/controls",
       "_model_module_version": "1.5.0",
       "_model_name": "ProgressStyleModel",
       "_view_count": null,
       "_view_module": "@jupyter-widgets/base",
       "_view_module_version": "1.2.0",
       "_view_name": "StyleView",
       "bar_color": null,
       "description_width": ""
      }
     },
     "358dfb1b8c1547a39b965784c5522822": {
      "model_module": "@jupyter-widgets/base",
      "model_module_version": "1.2.0",
      "model_name": "LayoutModel",
      "state": {
       "_model_module": "@jupyter-widgets/base",
       "_model_module_version": "1.2.0",
       "_model_name": "LayoutModel",
       "_view_count": null,
       "_view_module": "@jupyter-widgets/base",
       "_view_module_version": "1.2.0",
       "_view_name": "LayoutView",
       "align_content": null,
       "align_items": null,
       "align_self": null,
       "border": null,
       "bottom": null,
       "display": null,
       "flex": null,
       "flex_flow": null,
       "grid_area": null,
       "grid_auto_columns": null,
       "grid_auto_flow": null,
       "grid_auto_rows": null,
       "grid_column": null,
       "grid_gap": null,
       "grid_row": null,
       "grid_template_areas": null,
       "grid_template_columns": null,
       "grid_template_rows": null,
       "height": null,
       "justify_content": null,
       "justify_items": null,
       "left": null,
       "margin": null,
       "max_height": null,
       "max_width": null,
       "min_height": null,
       "min_width": null,
       "object_fit": null,
       "object_position": null,
       "order": null,
       "overflow": null,
       "overflow_x": null,
       "overflow_y": null,
       "padding": null,
       "right": null,
       "top": null,
       "visibility": null,
       "width": null
      }
     },
     "3cd60fa82d964f87a789c7b3edcddeb9": {
      "model_module": "@jupyter-widgets/base",
      "model_module_version": "1.2.0",
      "model_name": "LayoutModel",
      "state": {
       "_model_module": "@jupyter-widgets/base",
       "_model_module_version": "1.2.0",
       "_model_name": "LayoutModel",
       "_view_count": null,
       "_view_module": "@jupyter-widgets/base",
       "_view_module_version": "1.2.0",
       "_view_name": "LayoutView",
       "align_content": null,
       "align_items": null,
       "align_self": null,
       "border": null,
       "bottom": null,
       "display": null,
       "flex": null,
       "flex_flow": null,
       "grid_area": null,
       "grid_auto_columns": null,
       "grid_auto_flow": null,
       "grid_auto_rows": null,
       "grid_column": null,
       "grid_gap": null,
       "grid_row": null,
       "grid_template_areas": null,
       "grid_template_columns": null,
       "grid_template_rows": null,
       "height": null,
       "justify_content": null,
       "justify_items": null,
       "left": null,
       "margin": null,
       "max_height": null,
       "max_width": null,
       "min_height": null,
       "min_width": null,
       "object_fit": null,
       "object_position": null,
       "order": null,
       "overflow": null,
       "overflow_x": null,
       "overflow_y": null,
       "padding": null,
       "right": null,
       "top": null,
       "visibility": null,
       "width": null
      }
     },
     "7289b881b5c24b06bc2ae7cfea277d39": {
      "model_module": "@jupyter-widgets/controls",
      "model_module_version": "1.5.0",
      "model_name": "HTMLModel",
      "state": {
       "_dom_classes": [],
       "_model_module": "@jupyter-widgets/controls",
       "_model_module_version": "1.5.0",
       "_model_name": "HTMLModel",
       "_view_count": null,
       "_view_module": "@jupyter-widgets/controls",
       "_view_module_version": "1.5.0",
       "_view_name": "HTMLView",
       "description": "",
       "description_tooltip": null,
       "layout": "IPY_MODEL_358dfb1b8c1547a39b965784c5522822",
       "placeholder": "​",
       "style": "IPY_MODEL_836a3f7b60174e39ba05bf353fda29ef",
       "value": " 2/2 [00:00&lt;00:00, 57.32it/s]"
      }
     },
     "76c8f59185784b6b8febed88ca0bca1c": {
      "model_module": "@jupyter-widgets/controls",
      "model_module_version": "1.5.0",
      "model_name": "HBoxModel",
      "state": {
       "_dom_classes": [],
       "_model_module": "@jupyter-widgets/controls",
       "_model_module_version": "1.5.0",
       "_model_name": "HBoxModel",
       "_view_count": null,
       "_view_module": "@jupyter-widgets/controls",
       "_view_module_version": "1.5.0",
       "_view_name": "HBoxView",
       "box_style": "",
       "children": [
        "IPY_MODEL_bf0a8da6cc9a4fbbacede8064b553691",
        "IPY_MODEL_b103272b5d5149509ec6633999535016",
        "IPY_MODEL_7289b881b5c24b06bc2ae7cfea277d39"
       ],
       "layout": "IPY_MODEL_7b81ebe08ba64e16bbb22dd3e130d5db"
      }
     },
     "7b81ebe08ba64e16bbb22dd3e130d5db": {
      "model_module": "@jupyter-widgets/base",
      "model_module_version": "1.2.0",
      "model_name": "LayoutModel",
      "state": {
       "_model_module": "@jupyter-widgets/base",
       "_model_module_version": "1.2.0",
       "_model_name": "LayoutModel",
       "_view_count": null,
       "_view_module": "@jupyter-widgets/base",
       "_view_module_version": "1.2.0",
       "_view_name": "LayoutView",
       "align_content": null,
       "align_items": null,
       "align_self": null,
       "border": null,
       "bottom": null,
       "display": null,
       "flex": null,
       "flex_flow": null,
       "grid_area": null,
       "grid_auto_columns": null,
       "grid_auto_flow": null,
       "grid_auto_rows": null,
       "grid_column": null,
       "grid_gap": null,
       "grid_row": null,
       "grid_template_areas": null,
       "grid_template_columns": null,
       "grid_template_rows": null,
       "height": null,
       "justify_content": null,
       "justify_items": null,
       "left": null,
       "margin": null,
       "max_height": null,
       "max_width": null,
       "min_height": null,
       "min_width": null,
       "object_fit": null,
       "object_position": null,
       "order": null,
       "overflow": null,
       "overflow_x": null,
       "overflow_y": null,
       "padding": null,
       "right": null,
       "top": null,
       "visibility": null,
       "width": null
      }
     },
     "836a3f7b60174e39ba05bf353fda29ef": {
      "model_module": "@jupyter-widgets/controls",
      "model_module_version": "1.5.0",
      "model_name": "DescriptionStyleModel",
      "state": {
       "_model_module": "@jupyter-widgets/controls",
       "_model_module_version": "1.5.0",
       "_model_name": "DescriptionStyleModel",
       "_view_count": null,
       "_view_module": "@jupyter-widgets/base",
       "_view_module_version": "1.2.0",
       "_view_name": "StyleView",
       "description_width": ""
      }
     },
     "b103272b5d5149509ec6633999535016": {
      "model_module": "@jupyter-widgets/controls",
      "model_module_version": "1.5.0",
      "model_name": "FloatProgressModel",
      "state": {
       "_dom_classes": [],
       "_model_module": "@jupyter-widgets/controls",
       "_model_module_version": "1.5.0",
       "_model_name": "FloatProgressModel",
       "_view_count": null,
       "_view_module": "@jupyter-widgets/controls",
       "_view_module_version": "1.5.0",
       "_view_name": "ProgressView",
       "bar_style": "success",
       "description": "",
       "description_tooltip": null,
       "layout": "IPY_MODEL_0cb84308adb64b648548e881f64b1c42",
       "max": 2.0,
       "min": 0.0,
       "orientation": "horizontal",
       "style": "IPY_MODEL_26400ddf9e28456cbfea7bd5fadde28e",
       "value": 2.0
      }
     },
     "bf0a8da6cc9a4fbbacede8064b553691": {
      "model_module": "@jupyter-widgets/controls",
      "model_module_version": "1.5.0",
      "model_name": "HTMLModel",
      "state": {
       "_dom_classes": [],
       "_model_module": "@jupyter-widgets/controls",
       "_model_module_version": "1.5.0",
       "_model_name": "HTMLModel",
       "_view_count": null,
       "_view_module": "@jupyter-widgets/controls",
       "_view_module_version": "1.5.0",
       "_view_name": "HTMLView",
       "description": "",
       "description_tooltip": null,
       "layout": "IPY_MODEL_3cd60fa82d964f87a789c7b3edcddeb9",
       "placeholder": "​",
       "style": "IPY_MODEL_1754c03c31f94bd6ad2ebf4f0726b4f7",
       "value": "100%"
      }
     }
    },
    "version_major": 2,
    "version_minor": 0
   }
  }
 },
 "nbformat": 4,
 "nbformat_minor": 5
}
