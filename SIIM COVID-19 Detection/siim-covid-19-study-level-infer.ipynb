{
 "cells": [
  {
   "cell_type": "markdown",
   "metadata": {
    "papermill": {
     "duration": 0.016543,
     "end_time": "2021-06-01T11:31:51.097887",
     "exception": false,
     "start_time": "2021-06-01T11:31:51.081344",
     "status": "completed"
    },
    "tags": []
   },
   "source": [
    "# [SIIM-FISABIO-RSNA COVID-19 Detection](https://www.kaggle.com/c/siim-covid19-detection)\n",
    "> Identify and localize COVID-19 abnormalities on chest radiographs\n",
    "\n",
    "![](https://storage.googleapis.com/kaggle-competitions/kaggle/26680/logos/header.png)"
   ]
  },
  {
   "cell_type": "markdown",
   "metadata": {
    "papermill": {
     "duration": 0.015286,
     "end_time": "2021-06-01T11:31:51.128790",
     "exception": false,
     "start_time": "2021-06-01T11:31:51.113504",
     "status": "completed"
    },
    "tags": []
   },
   "source": [
    "# Overview:\n",
    "* Basic idea was to use **classification** model for **Study-Level** & **detection** model for **Image-Level**,\n",
    "\n",
    "# Notebooks:\n",
    "\n",
    "#### Study-Level:\n",
    "* **train**: [SIIM-COVID-19: Study-Level [train] TPU🩺](https://www.kaggle.com/awsaf49/siim-covid-19-study-level-train-tpu/)\n",
    "* **infer**: [SIIM-COVID-19: Study-Level [infer]🩺](https://www.kaggle.com/awsaf49/siim-covid-19-study-level-infer) [LB: **0.360**]\n",
    "* **data**: [SIIM-COVID-19: 512x512 tfrec Data](https://www.kaggle.com/awsaf49/siim-covid-19-512x512-tfrec-data)\n",
    "\n",
    "#### Image-Level:\n",
    "* **train**: [SIIM-COVID-19: YOLOv5 Image-Level [train]](https://www.kaggle.com/awsaf49/siim-covid-19-yolov5-image-level-train)\n",
    "* **infer**: [SIIM-COVID-19: YOLOv5 Image-Level [infer]](https://www.kaggle.com/awsaf49/siim-covid-19-yolov5-image-level-infer) **placeholder**, seems someting is wrong with `image-level` data, gives very small score `0.051`.\n",
    "\n",
    "# Dataset:\n",
    "\n",
    "#### JPEG\n",
    "* [1024x1024](https://www.kaggle.com/awsaf49/siimcovid19-1024-jpg-image-dataset)\n",
    "* [512x512](https://www.kaggle.com/awsaf49/siimcovid19-512-jpg-image-dataset)\n",
    "* [256x256](https://www.kaggle.com/awsaf49/siimcovid19-256-jpg-image-dataset)\n",
    "\n",
    "#### TFRECORD\n",
    "* [1024x1024](https://www.kaggle.com/awsaf49/siimcovid19-1024x1024-tfrec-dataset)\n",
    "* [512x512](https://www.kaggle.com/awsaf49/siimcovid19-512x512-tfrec-dataset)\n",
    "* [256x256](https://www.kaggle.com/awsaf49/siimcovid19-256x256-tfrec-dataset)"
   ]
  },
  {
   "cell_type": "markdown",
   "metadata": {
    "papermill": {
     "duration": 0.015191,
     "end_time": "2021-06-01T11:31:51.159320",
     "exception": false,
     "start_time": "2021-06-01T11:31:51.144129",
     "status": "completed"
    },
    "tags": []
   },
   "source": [
    "# Install **gdcm** & **libjpeg** without internet"
   ]
  },
  {
   "cell_type": "code",
   "execution_count": 1,
   "metadata": {
    "execution": {
     "iopub.execute_input": "2021-06-01T11:31:51.206871Z",
     "iopub.status.busy": "2021-06-01T11:31:51.206077Z",
     "iopub.status.idle": "2021-06-01T11:33:04.541463Z",
     "shell.execute_reply": "2021-06-01T11:33:04.540611Z"
    },
    "papermill": {
     "duration": 73.366704,
     "end_time": "2021-06-01T11:33:04.541586",
     "exception": false,
     "start_time": "2021-06-01T11:31:51.174882",
     "status": "completed"
    },
    "tags": []
   },
   "outputs": [
    {
     "name": "stdout",
     "output_type": "stream",
     "text": [
      "\r\n",
      "Downloading and Extracting Packages\r\n",
      "######################################################################## | 100% \r\n",
      "Preparing transaction: - \b\bdone\r\n",
      "Verifying transaction: | \b\bdone\r\n",
      "Executing transaction: - \b\b\\ \b\bdone\r\n",
      "\r\n",
      "Downloading and Extracting Packages\r\n",
      "######################################################################## | 100% \r\n",
      "Preparing transaction: - \b\bdone\r\n",
      "Verifying transaction: | \b\bdone\r\n",
      "Executing transaction: - \b\b\\ \b\b| \b\bdone\r\n",
      "\r\n",
      "Downloading and Extracting Packages\r\n",
      "######################################################################## | 100% \r\n",
      "Preparing transaction: - \b\bdone\r\n",
      "Verifying transaction: | \b\bdone\r\n",
      "Executing transaction: - \b\bdone\r\n",
      "\r\n",
      "Downloading and Extracting Packages\r\n",
      "######################################################################## | 100% \r\n",
      "Preparing transaction: - \b\bdone\r\n",
      "Verifying transaction: | \b\bdone\r\n",
      "Executing transaction: - \b\b\\ \b\b| \b\b/ \b\b- \b\b\\ \b\b| \b\b/ \b\b- \b\b\\ \b\b| \b\b/ \b\b- \b\b\\ \b\b| \b\b/ \b\b- \b\b\\ \b\b| \b\b/ \b\bdone\r\n",
      "\r\n",
      "Downloading and Extracting Packages\r\n",
      "######################################################################## | 100% \r\n",
      "Preparing transaction: - \b\bdone\r\n",
      "Verifying transaction: | \b\bdone\r\n",
      "Executing transaction: - \b\b\\ \b\bdone\r\n",
      "\r\n",
      "Downloading and Extracting Packages\r\n",
      "######################################################################## | 100% \r\n",
      "Preparing transaction: - \b\bdone\r\n",
      "Verifying transaction: | \b\bdone\r\n",
      "Executing transaction: - \b\b\\ \b\b| \b\b/ \b\b- \b\b\\ \b\b| \b\bdone\r\n"
     ]
    }
   ],
   "source": [
    "!conda install '/kaggle/input/pydicom-conda-helper/libjpeg-turbo-2.1.0-h7f98852_0.tar.bz2' -c conda-forge -y\n",
    "!conda install '/kaggle/input/pydicom-conda-helper/libgcc-ng-9.3.0-h2828fa1_19.tar.bz2' -c conda-forge -y\n",
    "!conda install '/kaggle/input/pydicom-conda-helper/gdcm-2.8.9-py37h500ead1_1.tar.bz2' -c conda-forge -y\n",
    "!conda install '/kaggle/input/pydicom-conda-helper/conda-4.10.1-py37h89c1867_0.tar.bz2' -c conda-forge -y\n",
    "!conda install '/kaggle/input/pydicom-conda-helper/certifi-2020.12.5-py37h89c1867_1.tar.bz2' -c conda-forge -y\n",
    "!conda install '/kaggle/input/pydicom-conda-helper/openssl-1.1.1k-h7f98852_0.tar.bz2' -c conda-forge -y"
   ]
  },
  {
   "cell_type": "code",
   "execution_count": 2,
   "metadata": {
    "_kg_hide-output": true,
    "execution": {
     "iopub.execute_input": "2021-06-01T11:33:04.617484Z",
     "iopub.status.busy": "2021-06-01T11:33:04.613481Z",
     "iopub.status.idle": "2021-06-01T11:33:33.397599Z",
     "shell.execute_reply": "2021-06-01T11:33:33.397053Z"
    },
    "papermill": {
     "duration": 28.822567,
     "end_time": "2021-06-01T11:33:33.397711",
     "exception": false,
     "start_time": "2021-06-01T11:33:04.575144",
     "status": "completed"
    },
    "tags": []
   },
   "outputs": [
    {
     "name": "stdout",
     "output_type": "stream",
     "text": [
      "\u001b[31m    ERROR: Command errored out with exit status 1:\r\n",
      "     command: /opt/conda/bin/python3.7 -c 'import sys, setuptools, tokenize; sys.argv[0] = '\"'\"'/kaggle/input/efficientnet-keras-dataset/efficientnet_kaggle/setup.py'\"'\"'; __file__='\"'\"'/kaggle/input/efficientnet-keras-dataset/efficientnet_kaggle/setup.py'\"'\"';f=getattr(tokenize, '\"'\"'open'\"'\"', open)(__file__);code=f.read().replace('\"'\"'\\r\\n'\"'\"', '\"'\"'\\n'\"'\"');f.close();exec(compile(code, __file__, '\"'\"'exec'\"'\"'))' develop --no-deps\r\n",
      "         cwd: /kaggle/input/efficientnet-keras-dataset/efficientnet_kaggle/\r\n",
      "    Complete output (4 lines):\r\n",
      "    running develop\r\n",
      "    running egg_info\r\n",
      "    creating efficientnet.egg-info\r\n",
      "    error: could not create 'efficientnet.egg-info': Read-only file system\r\n",
      "    ----------------------------------------\u001b[0m\r\n",
      "\u001b[31mERROR: Command errored out with exit status 1: /opt/conda/bin/python3.7 -c 'import sys, setuptools, tokenize; sys.argv[0] = '\"'\"'/kaggle/input/efficientnet-keras-dataset/efficientnet_kaggle/setup.py'\"'\"'; __file__='\"'\"'/kaggle/input/efficientnet-keras-dataset/efficientnet_kaggle/setup.py'\"'\"';f=getattr(tokenize, '\"'\"'open'\"'\"', open)(__file__);code=f.read().replace('\"'\"'\\r\\n'\"'\"', '\"'\"'\\n'\"'\"');f.close();exec(compile(code, __file__, '\"'\"'exec'\"'\"'))' develop --no-deps Check the logs for full command output.\u001b[0m\r\n"
     ]
    }
   ],
   "source": [
    "import sys\n",
    "sys.path.append('/kaggle/input/efficientnet-keras-dataset/efficientnet_kaggle')\n",
    "! pip install -e /kaggle/input/efficientnet-keras-dataset/efficientnet_kaggle -q"
   ]
  },
  {
   "cell_type": "markdown",
   "metadata": {
    "papermill": {
     "duration": 0.033732,
     "end_time": "2021-06-01T11:33:33.465673",
     "exception": false,
     "start_time": "2021-06-01T11:33:33.431941",
     "status": "completed"
    },
    "tags": []
   },
   "source": [
    "# Packages"
   ]
  },
  {
   "cell_type": "code",
   "execution_count": 3,
   "metadata": {
    "_cell_guid": "b1076dfc-b9ad-4769-8c92-a6c4dae69d19",
    "_uuid": "8f2839f25d086af736a60e9eeb907d3b93b6e0e5",
    "execution": {
     "iopub.execute_input": "2021-06-01T11:33:33.540090Z",
     "iopub.status.busy": "2021-06-01T11:33:33.539286Z",
     "iopub.status.idle": "2021-06-01T11:33:38.296796Z",
     "shell.execute_reply": "2021-06-01T11:33:38.296284Z"
    },
    "papermill": {
     "duration": 4.796776,
     "end_time": "2021-06-01T11:33:38.296903",
     "exception": false,
     "start_time": "2021-06-01T11:33:33.500127",
     "status": "completed"
    },
    "tags": []
   },
   "outputs": [
    {
     "name": "stderr",
     "output_type": "stream",
     "text": [
      "/opt/conda/lib/python3.7/site-packages/tqdm/std.py:666: FutureWarning: The Panel class is removed from pandas. Accessing it from the top-level namespace will also be removed in the next version\n",
      "  from pandas import Panel\n"
     ]
    }
   ],
   "source": [
    "import os\n",
    "from glob import glob\n",
    "import shutil\n",
    "from tqdm.notebook import tqdm\n",
    "tqdm.pandas()\n",
    "import efficientnet.tfkeras as efn\n",
    "import numpy as np\n",
    "import pandas as pd\n",
    "import tensorflow as tf\n",
    "import math"
   ]
  },
  {
   "cell_type": "code",
   "execution_count": 4,
   "metadata": {
    "execution": {
     "iopub.execute_input": "2021-06-01T11:33:38.410763Z",
     "iopub.status.busy": "2021-06-01T11:33:38.410082Z",
     "iopub.status.idle": "2021-06-01T11:33:38.414185Z",
     "shell.execute_reply": "2021-06-01T11:33:38.413635Z"
    },
    "papermill": {
     "duration": 0.045233,
     "end_time": "2021-06-01T11:33:38.414281",
     "exception": false,
     "start_time": "2021-06-01T11:33:38.369048",
     "status": "completed"
    },
    "tags": []
   },
   "outputs": [],
   "source": [
    "debug=False\n",
    "IMG_SIZES = [[512, 512]]\n",
    "DIM=IMG_SIZES[0]\n",
    "TTA = 1\n",
    "dim = DIM[0]\n",
    "aspect_ratio = False\n",
    "class_labels = ['0', '1', '2', '3']\n",
    "\n",
    "sat  = (0.7, 1.3)\n",
    "cont = (0.8, 1.2)\n",
    "bri  =  0.1\n",
    "ROT_    = 0.0\n",
    "SHR_    = 2.0\n",
    "HZOOM_  = 8.0\n",
    "WZOOM_  = 8.0\n",
    "HSHIFT_ = 8.0\n",
    "WSHIFT_ = 8.0"
   ]
  },
  {
   "cell_type": "markdown",
   "metadata": {
    "papermill": {
     "duration": 0.034631,
     "end_time": "2021-06-01T11:33:38.483537",
     "exception": false,
     "start_time": "2021-06-01T11:33:38.448906",
     "status": "completed"
    },
    "tags": []
   },
   "source": [
    "# Commit or Not"
   ]
  },
  {
   "cell_type": "code",
   "execution_count": 5,
   "metadata": {
    "execution": {
     "iopub.execute_input": "2021-06-01T11:33:38.558931Z",
     "iopub.status.busy": "2021-06-01T11:33:38.558383Z",
     "iopub.status.idle": "2021-06-01T11:33:45.127416Z",
     "shell.execute_reply": "2021-06-01T11:33:45.126979Z"
    },
    "papermill": {
     "duration": 6.609426,
     "end_time": "2021-06-01T11:33:45.127529",
     "exception": false,
     "start_time": "2021-06-01T11:33:38.518103",
     "status": "completed"
    },
    "tags": []
   },
   "outputs": [
    {
     "data": {
      "text/html": [
       "<div>\n",
       "<style scoped>\n",
       "    .dataframe tbody tr th:only-of-type {\n",
       "        vertical-align: middle;\n",
       "    }\n",
       "\n",
       "    .dataframe tbody tr th {\n",
       "        vertical-align: top;\n",
       "    }\n",
       "\n",
       "    .dataframe thead th {\n",
       "        text-align: right;\n",
       "    }\n",
       "</style>\n",
       "<table border=\"1\" class=\"dataframe\">\n",
       "  <thead>\n",
       "    <tr style=\"text-align: right;\">\n",
       "      <th></th>\n",
       "      <th>filepath</th>\n",
       "      <th>image_id</th>\n",
       "      <th>study_id</th>\n",
       "    </tr>\n",
       "  </thead>\n",
       "  <tbody>\n",
       "    <tr>\n",
       "      <th>0</th>\n",
       "      <td>/kaggle/input/siim-covid19-detection/test/2fb1...</td>\n",
       "      <td>a29c5a68b07b_image</td>\n",
       "      <td>2fb11712bc93_study</td>\n",
       "    </tr>\n",
       "    <tr>\n",
       "      <th>1</th>\n",
       "      <td>/kaggle/input/siim-covid19-detection/test/19c6...</td>\n",
       "      <td>9850b5470fd6_image</td>\n",
       "      <td>19c66935e737_study</td>\n",
       "    </tr>\n",
       "    <tr>\n",
       "      <th>2</th>\n",
       "      <td>/kaggle/input/siim-covid19-detection/test/2fc5...</td>\n",
       "      <td>8d6dea06a032_image</td>\n",
       "      <td>2fc50bf199cd_study</td>\n",
       "    </tr>\n",
       "    <tr>\n",
       "      <th>3</th>\n",
       "      <td>/kaggle/input/siim-covid19-detection/test/97c5...</td>\n",
       "      <td>dfc5c09a50bc_image</td>\n",
       "      <td>97c5d6eb413d_study</td>\n",
       "    </tr>\n",
       "    <tr>\n",
       "      <th>4</th>\n",
       "      <td>/kaggle/input/siim-covid19-detection/test/593c...</td>\n",
       "      <td>7230234e120a_image</td>\n",
       "      <td>593c3f815635_study</td>\n",
       "    </tr>\n",
       "  </tbody>\n",
       "</table>\n",
       "</div>"
      ],
      "text/plain": [
       "                                            filepath            image_id  \\\n",
       "0  /kaggle/input/siim-covid19-detection/test/2fb1...  a29c5a68b07b_image   \n",
       "1  /kaggle/input/siim-covid19-detection/test/19c6...  9850b5470fd6_image   \n",
       "2  /kaggle/input/siim-covid19-detection/test/2fc5...  8d6dea06a032_image   \n",
       "3  /kaggle/input/siim-covid19-detection/test/97c5...  dfc5c09a50bc_image   \n",
       "4  /kaggle/input/siim-covid19-detection/test/593c...  7230234e120a_image   \n",
       "\n",
       "             study_id  \n",
       "0  2fb11712bc93_study  \n",
       "1  19c66935e737_study  \n",
       "2  2fc50bf199cd_study  \n",
       "3  97c5d6eb413d_study  \n",
       "4  593c3f815635_study  "
      ]
     },
     "execution_count": 5,
     "metadata": {},
     "output_type": "execute_result"
    }
   ],
   "source": [
    "filepaths = glob('/kaggle/input/siim-covid19-detection/test/**/*dcm',recursive=True)\n",
    "test_df = pd.DataFrame({'filepath':filepaths,})\n",
    "test_df['image_id'] = test_df.filepath.map(lambda x: x.split('/')[-1].replace('.dcm', '')+'_image')\n",
    "test_df['study_id'] = test_df.filepath.map(lambda x: x.split('/')[-3].replace('.dcm', '')+'_study')\n",
    "test_df.head()"
   ]
  },
  {
   "cell_type": "code",
   "execution_count": 6,
   "metadata": {
    "execution": {
     "iopub.execute_input": "2021-06-01T11:33:45.202852Z",
     "iopub.status.busy": "2021-06-01T11:33:45.202225Z",
     "iopub.status.idle": "2021-06-01T11:33:45.205394Z",
     "shell.execute_reply": "2021-06-01T11:33:45.204927Z"
    },
    "papermill": {
     "duration": 0.04253,
     "end_time": "2021-06-01T11:33:45.205500",
     "exception": false,
     "start_time": "2021-06-01T11:33:45.162970",
     "status": "completed"
    },
    "tags": []
   },
   "outputs": [],
   "source": [
    "os.makedirs('/kaggle/working/test', exist_ok = True)"
   ]
  },
  {
   "cell_type": "code",
   "execution_count": 7,
   "metadata": {
    "execution": {
     "iopub.execute_input": "2021-06-01T11:33:45.297435Z",
     "iopub.status.busy": "2021-06-01T11:33:45.294589Z",
     "iopub.status.idle": "2021-06-01T11:33:45.645373Z",
     "shell.execute_reply": "2021-06-01T11:33:45.644915Z"
    },
    "papermill": {
     "duration": 0.404486,
     "end_time": "2021-06-01T11:33:45.645505",
     "exception": false,
     "start_time": "2021-06-01T11:33:45.241019",
     "status": "completed"
    },
    "tags": []
   },
   "outputs": [],
   "source": [
    "import numpy as np\n",
    "import pydicom\n",
    "from pydicom.pixel_data_handlers.util import apply_voi_lut\n",
    "import cv2\n",
    "\n",
    "import matplotlib.pyplot as plt\n",
    "%matplotlib inline\n",
    "\n",
    "# credit @raddar\n",
    "def read_xray(path, voi_lut = True, fix_monochrome = True):\n",
    "    dicom = pydicom.read_file(path)\n",
    "    \n",
    "    # VOI LUT (if available by DICOM device) is used to transform raw DICOM data to \"human-friendly\" view\n",
    "    if voi_lut:\n",
    "        data = apply_voi_lut(dicom.pixel_array, dicom)\n",
    "    else:\n",
    "        data = dicom.pixel_array\n",
    "               \n",
    "    # depending on this value, X-ray may look inverted - fix that:\n",
    "    if fix_monochrome and dicom.PhotometricInterpretation == \"MONOCHROME1\":\n",
    "        data = np.amax(data) - data\n",
    "        \n",
    "    data = data - np.min(data)\n",
    "    data = data / np.max(data)\n",
    "    data = (data * 255).astype(np.uint8)\n",
    "        \n",
    "    return data\n",
    "\n",
    "def resize_and_save(file_path):\n",
    "    split = 'train' if 'train' in file_path else 'test'\n",
    "    base_dir = f'/kaggle/working/{split}'\n",
    "    img = read_xray(file_path)\n",
    "    h, w = img.shape[:2]  # orig hw\n",
    "    if aspect_ratio:\n",
    "        r = dim / max(h, w)  # resize image to img_size\n",
    "        interp = cv2.INTER_AREA if r < 1 else cv2.INTER_LINEAR\n",
    "        if r != 1:  # always resize down, only resize up if training with augmentation\n",
    "            img = cv2.resize(img, (int(w * r), int(h * r)), interpolation=interp)\n",
    "    else:\n",
    "        img = cv2.resize(img, (dim, dim), cv2.INTER_AREA)\n",
    "    filename = file_path.split('/')[-1].split('.')[0]\n",
    "    cv2.imwrite(os.path.join(base_dir, f'{filename}.jpg'), img)\n",
    "    return filename.replace('dcm','')+'_image',w, h\n"
   ]
  },
  {
   "cell_type": "code",
   "execution_count": 8,
   "metadata": {
    "execution": {
     "iopub.execute_input": "2021-06-01T11:33:45.725109Z",
     "iopub.status.busy": "2021-06-01T11:33:45.724250Z",
     "iopub.status.idle": "2021-06-01T11:40:15.076838Z",
     "shell.execute_reply": "2021-06-01T11:40:15.077273Z"
    },
    "papermill": {
     "duration": 389.396224,
     "end_time": "2021-06-01T11:40:15.077402",
     "exception": false,
     "start_time": "2021-06-01T11:33:45.681178",
     "status": "completed"
    },
    "tags": []
   },
   "outputs": [
    {
     "data": {
      "application/vnd.jupyter.widget-view+json": {
       "model_id": "4af40477f3124b3f8f14c32c55276ee0",
       "version_major": 2,
       "version_minor": 0
      },
      "text/plain": [
       "HBox(children=(FloatProgress(value=0.0, max=1263.0), HTML(value='')))"
      ]
     },
     "metadata": {},
     "output_type": "display_data"
    },
    {
     "name": "stdout",
     "output_type": "stream",
     "text": [
      "\n"
     ]
    }
   ],
   "source": [
    "filepaths = test_df.filepath.iloc[:100 if debug else test_df.shape[0]]\n",
    "info = []\n",
    "for filepath in tqdm(filepaths):\n",
    "    info.append(resize_and_save(filepath))"
   ]
  },
  {
   "cell_type": "code",
   "execution_count": 9,
   "metadata": {
    "execution": {
     "iopub.execute_input": "2021-06-01T11:40:15.160626Z",
     "iopub.status.busy": "2021-06-01T11:40:15.160024Z",
     "iopub.status.idle": "2021-06-01T11:40:15.204899Z",
     "shell.execute_reply": "2021-06-01T11:40:15.204470Z"
    },
    "papermill": {
     "duration": 0.091327,
     "end_time": "2021-06-01T11:40:15.204992",
     "exception": false,
     "start_time": "2021-06-01T11:40:15.113665",
     "status": "completed"
    },
    "tags": []
   },
   "outputs": [
    {
     "data": {
      "text/html": [
       "<div>\n",
       "<style scoped>\n",
       "    .dataframe tbody tr th:only-of-type {\n",
       "        vertical-align: middle;\n",
       "    }\n",
       "\n",
       "    .dataframe tbody tr th {\n",
       "        vertical-align: top;\n",
       "    }\n",
       "\n",
       "    .dataframe thead th {\n",
       "        text-align: right;\n",
       "    }\n",
       "</style>\n",
       "<table border=\"1\" class=\"dataframe\">\n",
       "  <thead>\n",
       "    <tr style=\"text-align: right;\">\n",
       "      <th></th>\n",
       "      <th>filepath</th>\n",
       "      <th>image_id</th>\n",
       "      <th>study_id</th>\n",
       "      <th>width</th>\n",
       "      <th>height</th>\n",
       "      <th>image_path</th>\n",
       "      <th>0</th>\n",
       "      <th>1</th>\n",
       "      <th>2</th>\n",
       "      <th>3</th>\n",
       "    </tr>\n",
       "  </thead>\n",
       "  <tbody>\n",
       "    <tr>\n",
       "      <th>0</th>\n",
       "      <td>/kaggle/input/siim-covid19-detection/test/2fb1...</td>\n",
       "      <td>a29c5a68b07b_image</td>\n",
       "      <td>2fb11712bc93_study</td>\n",
       "      <td>2828</td>\n",
       "      <td>2320</td>\n",
       "      <td>/kaggle/working/test/a29c5a68b07b.jpg</td>\n",
       "      <td>0</td>\n",
       "      <td>0</td>\n",
       "      <td>0</td>\n",
       "      <td>0</td>\n",
       "    </tr>\n",
       "    <tr>\n",
       "      <th>1</th>\n",
       "      <td>/kaggle/input/siim-covid19-detection/test/19c6...</td>\n",
       "      <td>9850b5470fd6_image</td>\n",
       "      <td>19c66935e737_study</td>\n",
       "      <td>2382</td>\n",
       "      <td>2330</td>\n",
       "      <td>/kaggle/working/test/9850b5470fd6.jpg</td>\n",
       "      <td>0</td>\n",
       "      <td>0</td>\n",
       "      <td>0</td>\n",
       "      <td>0</td>\n",
       "    </tr>\n",
       "    <tr>\n",
       "      <th>2</th>\n",
       "      <td>/kaggle/input/siim-covid19-detection/test/2fc5...</td>\n",
       "      <td>8d6dea06a032_image</td>\n",
       "      <td>2fc50bf199cd_study</td>\n",
       "      <td>3344</td>\n",
       "      <td>2422</td>\n",
       "      <td>/kaggle/working/test/8d6dea06a032.jpg</td>\n",
       "      <td>0</td>\n",
       "      <td>0</td>\n",
       "      <td>0</td>\n",
       "      <td>0</td>\n",
       "    </tr>\n",
       "    <tr>\n",
       "      <th>3</th>\n",
       "      <td>/kaggle/input/siim-covid19-detection/test/97c5...</td>\n",
       "      <td>dfc5c09a50bc_image</td>\n",
       "      <td>97c5d6eb413d_study</td>\n",
       "      <td>1387</td>\n",
       "      <td>1140</td>\n",
       "      <td>/kaggle/working/test/dfc5c09a50bc.jpg</td>\n",
       "      <td>0</td>\n",
       "      <td>0</td>\n",
       "      <td>0</td>\n",
       "      <td>0</td>\n",
       "    </tr>\n",
       "    <tr>\n",
       "      <th>4</th>\n",
       "      <td>/kaggle/input/siim-covid19-detection/test/593c...</td>\n",
       "      <td>7230234e120a_image</td>\n",
       "      <td>593c3f815635_study</td>\n",
       "      <td>2383</td>\n",
       "      <td>2318</td>\n",
       "      <td>/kaggle/working/test/7230234e120a.jpg</td>\n",
       "      <td>0</td>\n",
       "      <td>0</td>\n",
       "      <td>0</td>\n",
       "      <td>0</td>\n",
       "    </tr>\n",
       "  </tbody>\n",
       "</table>\n",
       "</div>"
      ],
      "text/plain": [
       "                                            filepath            image_id  \\\n",
       "0  /kaggle/input/siim-covid19-detection/test/2fb1...  a29c5a68b07b_image   \n",
       "1  /kaggle/input/siim-covid19-detection/test/19c6...  9850b5470fd6_image   \n",
       "2  /kaggle/input/siim-covid19-detection/test/2fc5...  8d6dea06a032_image   \n",
       "3  /kaggle/input/siim-covid19-detection/test/97c5...  dfc5c09a50bc_image   \n",
       "4  /kaggle/input/siim-covid19-detection/test/593c...  7230234e120a_image   \n",
       "\n",
       "             study_id  width  height                             image_path  \\\n",
       "0  2fb11712bc93_study   2828    2320  /kaggle/working/test/a29c5a68b07b.jpg   \n",
       "1  19c66935e737_study   2382    2330  /kaggle/working/test/9850b5470fd6.jpg   \n",
       "2  2fc50bf199cd_study   3344    2422  /kaggle/working/test/8d6dea06a032.jpg   \n",
       "3  97c5d6eb413d_study   1387    1140  /kaggle/working/test/dfc5c09a50bc.jpg   \n",
       "4  593c3f815635_study   2383    2318  /kaggle/working/test/7230234e120a.jpg   \n",
       "\n",
       "   0  1  2  3  \n",
       "0  0  0  0  0  \n",
       "1  0  0  0  0  \n",
       "2  0  0  0  0  \n",
       "3  0  0  0  0  \n",
       "4  0  0  0  0  "
      ]
     },
     "execution_count": 9,
     "metadata": {},
     "output_type": "execute_result"
    }
   ],
   "source": [
    "image_id, width, height = list(zip(*info))\n",
    "df = pd.DataFrame({'image_id':image_id,\n",
    "                   'width':width,\n",
    "                   'height':height})\n",
    "df['image_path'] = '/kaggle/working/test/'+df.image_id.map(lambda x: x.replace('_image',''))+'.jpg'\n",
    "test_df = pd.merge(test_df, df, on = 'image_id', how = 'left')\n",
    "test_df.loc[:,class_labels] = 0\n",
    "test_df.head()"
   ]
  },
  {
   "cell_type": "markdown",
   "metadata": {
    "papermill": {
     "duration": 0.035966,
     "end_time": "2021-06-01T11:40:15.277379",
     "exception": false,
     "start_time": "2021-06-01T11:40:15.241413",
     "status": "completed"
    },
    "tags": []
   },
   "source": [
    "# Augmentation\n",
    "* credit: [@chris](https://www.kaggle.com/cdeotte/)"
   ]
  },
  {
   "cell_type": "code",
   "execution_count": 10,
   "metadata": {
    "execution": {
     "iopub.execute_input": "2021-06-01T11:40:15.378248Z",
     "iopub.status.busy": "2021-06-01T11:40:15.376421Z",
     "iopub.status.idle": "2021-06-01T11:40:15.378831Z",
     "shell.execute_reply": "2021-06-01T11:40:15.379233Z"
    },
    "papermill": {
     "duration": 0.066035,
     "end_time": "2021-06-01T11:40:15.379337",
     "exception": false,
     "start_time": "2021-06-01T11:40:15.313302",
     "status": "completed"
    },
    "tags": []
   },
   "outputs": [],
   "source": [
    "import tensorflow.keras.backend as K\n",
    "import math\n",
    "def get_mat(rotation, shear, height_zoom, width_zoom, height_shift, width_shift):\n",
    "    # returns 3x3 transformmatrix which transforms indicies\n",
    "        \n",
    "    # CONVERT DEGREES TO RADIANS\n",
    "    rotation = math.pi * rotation / 180.\n",
    "    shear    = math.pi * shear    / 180.\n",
    "\n",
    "    def get_3x3_mat(lst):\n",
    "        return tf.reshape(tf.concat([lst],axis=0), [3,3])\n",
    "    \n",
    "    # ROTATION MATRIX\n",
    "    c1   = tf.math.cos(rotation)\n",
    "    s1   = tf.math.sin(rotation)\n",
    "    one  = tf.constant([1],dtype='float32')\n",
    "    zero = tf.constant([0],dtype='float32')\n",
    "    \n",
    "    rotation_matrix = get_3x3_mat([c1,   s1,   zero, \n",
    "                                   -s1,  c1,   zero, \n",
    "                                   zero, zero, one])    \n",
    "    # SHEAR MATRIX\n",
    "    c2 = tf.math.cos(shear)\n",
    "    s2 = tf.math.sin(shear)    \n",
    "    \n",
    "    shear_matrix = get_3x3_mat([one,  s2,   zero, \n",
    "                                zero, c2,   zero, \n",
    "                                zero, zero, one])        \n",
    "    # ZOOM MATRIX\n",
    "    zoom_matrix = get_3x3_mat([one/height_zoom, zero,           zero, \n",
    "                               zero,            one/width_zoom, zero, \n",
    "                               zero,            zero,           one])    \n",
    "    # SHIFT MATRIX\n",
    "    shift_matrix = get_3x3_mat([one,  zero, height_shift, \n",
    "                                zero, one,  width_shift, \n",
    "                                zero, zero, one])\n",
    "    \n",
    "    return K.dot(K.dot(rotation_matrix, shear_matrix), \n",
    "                 K.dot(zoom_matrix,     shift_matrix))\n",
    "\n",
    "\n",
    "def transform(image, DIM=IMG_SIZES[0]):    \n",
    "    # input image - is one image of size [dim,dim,3] not a batch of [b,dim,dim,3]\n",
    "    # output - image randomly rotated, sheared, zoomed, and shifted\n",
    "    \n",
    "    # fixed for non-square image thanks to Chris Deotte\n",
    "    \n",
    "    if DIM[0]!=DIM[1]:\n",
    "        pad = (DIM[0]-DIM[1])//2\n",
    "        image = tf.pad(image, [[0, 0], [pad, pad+1],[0, 0]])\n",
    "        \n",
    "    NEW_DIM = DIM[0]\n",
    "    \n",
    "    XDIM = NEW_DIM%2 #fix for size 331\n",
    "    \n",
    "    rot = ROT_ * tf.random.normal([1], dtype='float32')\n",
    "    shr = SHR_ * tf.random.normal([1], dtype='float32') \n",
    "    h_zoom = 1.0 + tf.random.normal([1], dtype='float32') / HZOOM_\n",
    "    w_zoom = 1.0 + tf.random.normal([1], dtype='float32') / WZOOM_\n",
    "    h_shift = HSHIFT_ * tf.random.normal([1], dtype='float32') \n",
    "    w_shift = WSHIFT_ * tf.random.normal([1], dtype='float32') \n",
    "\n",
    "    # GET TRANSFORMATION MATRIX\n",
    "    m = get_mat(rot,shr,h_zoom,w_zoom,h_shift,w_shift) \n",
    "\n",
    "    # LIST DESTINATION PIXEL INDICES\n",
    "    x   = tf.repeat(tf.range(NEW_DIM//2, -NEW_DIM//2,-1), NEW_DIM)\n",
    "    y   = tf.tile(tf.range(-NEW_DIM//2, NEW_DIM//2), [NEW_DIM])\n",
    "    z   = tf.ones([NEW_DIM*NEW_DIM], dtype='int32')\n",
    "    idx = tf.stack( [x,y,z] )\n",
    "    \n",
    "    # ROTATE DESTINATION PIXELS ONTO ORIGIN PIXELS\n",
    "    idx2 = K.dot(m, tf.cast(idx, dtype='float32'))\n",
    "    idx2 = K.cast(idx2, dtype='int32')\n",
    "    idx2 = K.clip(idx2, -NEW_DIM//2+XDIM+1, NEW_DIM//2)\n",
    "    \n",
    "    # FIND ORIGIN PIXEL VALUES           \n",
    "    idx3 = tf.stack([NEW_DIM//2-idx2[0,], NEW_DIM//2-1+idx2[1,]])\n",
    "    d    = tf.gather_nd(image, tf.transpose(idx3))\n",
    "    \n",
    "    if DIM[0]!=DIM[1]:\n",
    "        image = tf.reshape(d,[NEW_DIM, NEW_DIM,3])\n",
    "        image = image[:, pad:DIM[1]+pad,:]\n",
    "    image = tf.reshape(image, [*DIM, 3])\n",
    "        \n",
    "    return image"
   ]
  },
  {
   "cell_type": "markdown",
   "metadata": {
    "papermill": {
     "duration": 0.036581,
     "end_time": "2021-06-01T11:40:15.452104",
     "exception": false,
     "start_time": "2021-06-01T11:40:15.415523",
     "status": "completed"
    },
    "tags": []
   },
   "source": [
    "# Data Pipeline \n",
    "* credit : [@xhlulu](https://www.kaggle.com/xhlulu)"
   ]
  },
  {
   "cell_type": "code",
   "execution_count": 11,
   "metadata": {
    "_cell_guid": "79c7e3d0-c299-4dcb-8224-4455121ee9b0",
    "_kg_hide-input": true,
    "_kg_hide-output": false,
    "_uuid": "d629ff2d2480ee46fbb7e2d37f6b5fab8052498a",
    "execution": {
     "iopub.execute_input": "2021-06-01T11:40:15.548494Z",
     "iopub.status.busy": "2021-06-01T11:40:15.546581Z",
     "iopub.status.idle": "2021-06-01T11:40:15.549086Z",
     "shell.execute_reply": "2021-06-01T11:40:15.549509Z"
    },
    "papermill": {
     "duration": 0.060922,
     "end_time": "2021-06-01T11:40:15.549623",
     "exception": false,
     "start_time": "2021-06-01T11:40:15.488701",
     "status": "completed"
    },
    "tags": []
   },
   "outputs": [],
   "source": [
    "def auto_select_accelerator():\n",
    "    try:\n",
    "        tpu = tf.distribute.cluster_resolver.TPUClusterResolver()\n",
    "        tf.config.experimental_connect_to_cluster(tpu)\n",
    "        tf.tpu.experimental.initialize_tpu_system(tpu)\n",
    "        strategy = tf.distribute.experimental.TPUStrategy(tpu)\n",
    "        print(\"Running on TPU:\", tpu.master())\n",
    "    except ValueError:\n",
    "        strategy = tf.distribute.get_strategy()\n",
    "    print(f\"Running on {strategy.num_replicas_in_sync} replicas\")\n",
    "    \n",
    "    return strategy\n",
    "\n",
    "\n",
    "def build_decoder(with_labels=True, target_size=(300, 300), ext='jpg'):\n",
    "    def decode(path):\n",
    "        file_bytes = tf.io.read_file(path)\n",
    "        if ext == 'png':\n",
    "            img = tf.image.decode_png(file_bytes, channels=3)\n",
    "        elif ext in ['jpg', 'jpeg']:\n",
    "            img = tf.image.decode_jpeg(file_bytes, channels=3)\n",
    "        else:\n",
    "            raise ValueError(\"Image extension not supported\")\n",
    "\n",
    "        img = tf.cast(img, tf.float32)\n",
    "        img = tf.image.resize(img, target_size, method='area')\n",
    "#         img = tf.image.resize(img, target_size)\n",
    "        img = img/255.0\n",
    "\n",
    "        return img\n",
    "    \n",
    "    def decode_with_labels(path, label):\n",
    "        return decode(path), label\n",
    "    \n",
    "    return decode_with_labels if with_labels else decode\n",
    "\n",
    "\n",
    "def build_augmenter(with_labels=True):\n",
    "    def augment(img):\n",
    "        img = transform(img, DIM = DIM)\n",
    "        img = tf.image.random_flip_left_right(img)\n",
    "#         img = tf.image.random_flip_up_down(img)\n",
    "        img = tf.image.random_saturation(img, sat[0], sat[1])\n",
    "        img = tf.image.random_contrast(img, cont[0], cont[1])\n",
    "        img = tf.image.random_brightness(img, bri)\n",
    "        return img\n",
    "    \n",
    "    def augment_with_labels(img, label):\n",
    "        return augment(img), label\n",
    "    \n",
    "    return augment_with_labels if with_labels else augment\n",
    "\n",
    "\n",
    "def build_dataset(paths, labels=None, bsize=32, cache=True,\n",
    "                  decode_fn=None, augment_fn=None,\n",
    "                  augment=True, repeat=True, shuffle=1024, \n",
    "                  cache_dir=\"\"):\n",
    "    if cache_dir != \"\" and cache is True:\n",
    "        os.makedirs(cache_dir, exist_ok=True)\n",
    "    \n",
    "    if decode_fn is None:\n",
    "        decode_fn = build_decoder(labels is not None)\n",
    "    \n",
    "    if augment_fn is None:\n",
    "        augment_fn = build_augmenter(labels is not None)\n",
    "    \n",
    "    AUTO = tf.data.experimental.AUTOTUNE\n",
    "    slices = paths if labels is None else (paths, labels)\n",
    "    \n",
    "    dset = tf.data.Dataset.from_tensor_slices(slices)\n",
    "    dset = dset.map(decode_fn, num_parallel_calls=AUTO)\n",
    "    dset = dset.cache(cache_dir) if cache else dset\n",
    "    dset = dset.map(augment_fn, num_parallel_calls=AUTO) if augment else dset\n",
    "    dset = dset.repeat() if repeat else dset\n",
    "    dset = dset.shuffle(shuffle) if shuffle else dset\n",
    "    dset = dset.batch(bsize).prefetch(AUTO)\n",
    "    \n",
    "    return dset"
   ]
  },
  {
   "cell_type": "code",
   "execution_count": 12,
   "metadata": {
    "execution": {
     "iopub.execute_input": "2021-06-01T11:40:15.628128Z",
     "iopub.status.busy": "2021-06-01T11:40:15.627426Z",
     "iopub.status.idle": "2021-06-01T11:40:15.641398Z",
     "shell.execute_reply": "2021-06-01T11:40:15.640986Z"
    },
    "papermill": {
     "duration": 0.054516,
     "end_time": "2021-06-01T11:40:15.641505",
     "exception": false,
     "start_time": "2021-06-01T11:40:15.586989",
     "status": "completed"
    },
    "tags": []
   },
   "outputs": [
    {
     "name": "stdout",
     "output_type": "stream",
     "text": [
      "Running on 1 replicas\n"
     ]
    }
   ],
   "source": [
    "strategy = auto_select_accelerator()\n",
    "BATCH_SIZE = strategy.num_replicas_in_sync * 32"
   ]
  },
  {
   "cell_type": "markdown",
   "metadata": {
    "papermill": {
     "duration": 0.0366,
     "end_time": "2021-06-01T11:40:15.714626",
     "exception": false,
     "start_time": "2021-06-01T11:40:15.678026",
     "status": "completed"
    },
    "tags": []
   },
   "source": [
    "# DataLoader"
   ]
  },
  {
   "cell_type": "code",
   "execution_count": 13,
   "metadata": {
    "execution": {
     "iopub.execute_input": "2021-06-01T11:40:17.783772Z",
     "iopub.status.busy": "2021-06-01T11:40:17.782791Z",
     "iopub.status.idle": "2021-06-01T11:40:18.796369Z",
     "shell.execute_reply": "2021-06-01T11:40:18.795439Z"
    },
    "papermill": {
     "duration": 3.045233,
     "end_time": "2021-06-01T11:40:18.796493",
     "exception": false,
     "start_time": "2021-06-01T11:40:15.751260",
     "status": "completed"
    },
    "tags": []
   },
   "outputs": [],
   "source": [
    "# IMSIZE = (256, 384, 512, 640, 768, 1024)\n",
    "\n",
    "test_paths = test_df.image_path.iloc[:100 if debug else test_df.shape[0]]\n",
    "# Get the multi-labels\n",
    "# label_cols = sub_df.columns[1:]\n",
    "test_decoder = build_decoder(with_labels=False, target_size=DIM)\n",
    "dtest = build_dataset(\n",
    "    test_paths, bsize=BATCH_SIZE, repeat=True, \n",
    "    shuffle=False, augment=True, cache=False,\n",
    "    decode_fn=test_decoder\n",
    ")"
   ]
  },
  {
   "cell_type": "markdown",
   "metadata": {
    "papermill": {
     "duration": 0.037145,
     "end_time": "2021-06-01T11:40:18.870920",
     "exception": false,
     "start_time": "2021-06-01T11:40:18.833775",
     "status": "completed"
    },
    "tags": []
   },
   "source": [
    "## Load model and submit"
   ]
  },
  {
   "cell_type": "code",
   "execution_count": 14,
   "metadata": {
    "execution": {
     "iopub.execute_input": "2021-06-01T11:40:18.957139Z",
     "iopub.status.busy": "2021-06-01T11:40:18.955324Z",
     "iopub.status.idle": "2021-06-01T11:40:18.957763Z",
     "shell.execute_reply": "2021-06-01T11:40:18.958164Z"
    },
    "papermill": {
     "duration": 0.050369,
     "end_time": "2021-06-01T11:40:18.958267",
     "exception": false,
     "start_time": "2021-06-01T11:40:18.907898",
     "status": "completed"
    },
    "tags": []
   },
   "outputs": [],
   "source": [
    "EFNS = [efn.EfficientNetB0, efn.EfficientNetB1, efn.EfficientNetB2, efn.EfficientNetB3, \n",
    "        efn.EfficientNetB4, efn.EfficientNetB5, efn.EfficientNetB6, efn.EfficientNetB7]\n",
    "\n",
    "def build_model(dim=IMG_SIZES[0], ef=0):\n",
    "    inp = tf.keras.layers.Input(shape=(*dim,3))\n",
    "    base = EFNS[ef](input_shape=(*dim,3),weights='imagenet',include_top=False)\n",
    "    x = base(inp)\n",
    "    x = tf.keras.layers.GlobalAveragePooling2D()(x)\n",
    "    x = tf.keras.layers.Dense(64, activation = 'relu')(x)\n",
    "    x = tf.keras.layers.Dense(4,activation='softmax')(x)\n",
    "    model = tf.keras.Model(inputs=inp,outputs=x)\n",
    "#     opt = tf.keras.optimizers.Adam(learning_rate=0.001)\n",
    "#     loss = tf.keras.losses.CategoricalCrossentropy(label_smoothing=0.01) \n",
    "# #     acc = tf.keras.metrics.CategoricalAccuracy()\n",
    "# #     f1  = tfa.metrics.F1Score(num_classes=4,average='macro',threshold=None)\n",
    "#     model.compile(optimizer=opt,loss=loss,metrics=['AUC', acc, f1])\n",
    "    return model"
   ]
  },
  {
   "cell_type": "code",
   "execution_count": 15,
   "metadata": {
    "execution": {
     "iopub.execute_input": "2021-06-01T11:40:19.040325Z",
     "iopub.status.busy": "2021-06-01T11:40:19.039790Z",
     "iopub.status.idle": "2021-06-01T11:44:34.685212Z",
     "shell.execute_reply": "2021-06-01T11:44:34.684747Z"
    },
    "papermill": {
     "duration": 255.690166,
     "end_time": "2021-06-01T11:44:34.685309",
     "exception": false,
     "start_time": "2021-06-01T11:40:18.995143",
     "status": "completed"
    },
    "tags": []
   },
   "outputs": [
    {
     "data": {
      "application/vnd.jupyter.widget-view+json": {
       "model_id": "dfb36e6130f54511ae50855ff8eb3ea9",
       "version_major": 2,
       "version_minor": 0
      },
      "text/plain": [
       "HBox(children=(FloatProgress(value=0.0, max=5.0), HTML(value='')))"
      ]
     },
     "metadata": {},
     "output_type": "display_data"
    },
    {
     "name": "stdout",
     "output_type": "stream",
     "text": [
      "Fold: 1\n",
      "Loading Model...\n",
      "Predicting...\n",
      "40/39 [==============================] - 40s 1s/step\n",
      "Fold: 2\n",
      "Loading Model...\n",
      "Predicting...\n",
      "40/39 [==============================] - 40s 1s/step\n",
      "Fold: 3\n",
      "Loading Model...\n",
      "Predicting...\n",
      "40/39 [==============================] - 41s 1s/step\n",
      "Fold: 4\n",
      "Loading Model...\n",
      "Predicting...\n",
      "40/39 [==============================] - 41s 1s/step\n",
      "Fold: 5\n",
      "Loading Model...\n",
      "Predicting...\n",
      "40/39 [==============================] - 40s 1s/step\n",
      "\n"
     ]
    }
   ],
   "source": [
    "base_dir = '/kaggle/input/siim-covid-19-study-level-train-tpu'\n",
    "model_paths = sorted(glob(os.path.join(base_dir, '*h5')))# preds = np.zeros((count_data_items(files_test),1))\n",
    "preds=[]\n",
    "model = build_model(dim=IMG_SIZES[0], ef=7)\n",
    "for fold, model_path in enumerate(tqdm(model_paths)):\n",
    "    print(f'Fold: {fold+1}')\n",
    "    with strategy.scope():\n",
    "        print('Loading Model...')\n",
    "        #model = tf.keras.models.load_model(model_path, compile=False)\n",
    "        model.load_weights(model_path)\n",
    "    print('Predicting...')\n",
    "    pred = model.predict(dtest, steps = TTA*len(test_paths)/BATCH_SIZE, verbose=1)[:TTA*len(test_paths),:]\n",
    "    pred = np.mean(pred.reshape(TTA, len(test_paths), -1), axis=0)\n",
    "    preds.append(pred)\n",
    "preds = np.mean(preds, axis=0)"
   ]
  },
  {
   "cell_type": "markdown",
   "metadata": {
    "papermill": {
     "duration": 0.097754,
     "end_time": "2021-06-01T11:44:34.878704",
     "exception": false,
     "start_time": "2021-06-01T11:44:34.780950",
     "status": "completed"
    },
    "tags": []
   },
   "source": [
    "# Process Prediction"
   ]
  },
  {
   "cell_type": "code",
   "execution_count": 16,
   "metadata": {
    "execution": {
     "iopub.execute_input": "2021-06-01T11:44:35.080762Z",
     "iopub.status.busy": "2021-06-01T11:44:35.079013Z",
     "iopub.status.idle": "2021-06-01T11:44:35.081340Z",
     "shell.execute_reply": "2021-06-01T11:44:35.081791Z"
    },
    "papermill": {
     "duration": 0.104811,
     "end_time": "2021-06-01T11:44:35.081910",
     "exception": false,
     "start_time": "2021-06-01T11:44:34.977099",
     "status": "completed"
    },
    "tags": []
   },
   "outputs": [],
   "source": [
    "name2label = { \n",
    "    'negative': 0,\n",
    "    'indeterminate': 1,\n",
    "    'atypical': 2,\n",
    "    'typical': 3}\n",
    "label2name  = {v:k for k, v in name2label.items()}"
   ]
  },
  {
   "cell_type": "code",
   "execution_count": 17,
   "metadata": {
    "execution": {
     "iopub.execute_input": "2021-06-01T11:44:35.287699Z",
     "iopub.status.busy": "2021-06-01T11:44:35.286208Z",
     "iopub.status.idle": "2021-06-01T11:44:35.305246Z",
     "shell.execute_reply": "2021-06-01T11:44:35.304796Z"
    },
    "papermill": {
     "duration": 0.128058,
     "end_time": "2021-06-01T11:44:35.305335",
     "exception": false,
     "start_time": "2021-06-01T11:44:35.177277",
     "status": "completed"
    },
    "tags": []
   },
   "outputs": [
    {
     "data": {
      "text/html": [
       "<div>\n",
       "<style scoped>\n",
       "    .dataframe tbody tr th:only-of-type {\n",
       "        vertical-align: middle;\n",
       "    }\n",
       "\n",
       "    .dataframe tbody tr th {\n",
       "        vertical-align: top;\n",
       "    }\n",
       "\n",
       "    .dataframe thead th {\n",
       "        text-align: right;\n",
       "    }\n",
       "</style>\n",
       "<table border=\"1\" class=\"dataframe\">\n",
       "  <thead>\n",
       "    <tr style=\"text-align: right;\">\n",
       "      <th></th>\n",
       "      <th>id</th>\n",
       "      <th>0</th>\n",
       "      <th>1</th>\n",
       "      <th>2</th>\n",
       "      <th>3</th>\n",
       "    </tr>\n",
       "  </thead>\n",
       "  <tbody>\n",
       "    <tr>\n",
       "      <th>0</th>\n",
       "      <td>00188a671292_study</td>\n",
       "      <td>0.903434</td>\n",
       "      <td>0.051486</td>\n",
       "      <td>0.017789</td>\n",
       "      <td>0.027291</td>\n",
       "    </tr>\n",
       "    <tr>\n",
       "      <th>1</th>\n",
       "      <td>004bd59708be_study</td>\n",
       "      <td>0.009927</td>\n",
       "      <td>0.125447</td>\n",
       "      <td>0.049205</td>\n",
       "      <td>0.815421</td>\n",
       "    </tr>\n",
       "    <tr>\n",
       "      <th>2</th>\n",
       "      <td>00508faccd39_study</td>\n",
       "      <td>0.851750</td>\n",
       "      <td>0.072125</td>\n",
       "      <td>0.032540</td>\n",
       "      <td>0.043586</td>\n",
       "    </tr>\n",
       "    <tr>\n",
       "      <th>3</th>\n",
       "      <td>006486aa80b2_study</td>\n",
       "      <td>0.232142</td>\n",
       "      <td>0.322254</td>\n",
       "      <td>0.231738</td>\n",
       "      <td>0.213866</td>\n",
       "    </tr>\n",
       "    <tr>\n",
       "      <th>4</th>\n",
       "      <td>00655178fdfc_study</td>\n",
       "      <td>0.641660</td>\n",
       "      <td>0.168306</td>\n",
       "      <td>0.047269</td>\n",
       "      <td>0.142765</td>\n",
       "    </tr>\n",
       "  </tbody>\n",
       "</table>\n",
       "</div>"
      ],
      "text/plain": [
       "                   id         0         1         2         3\n",
       "0  00188a671292_study  0.903434  0.051486  0.017789  0.027291\n",
       "1  004bd59708be_study  0.009927  0.125447  0.049205  0.815421\n",
       "2  00508faccd39_study  0.851750  0.072125  0.032540  0.043586\n",
       "3  006486aa80b2_study  0.232142  0.322254  0.231738  0.213866\n",
       "4  00655178fdfc_study  0.641660  0.168306  0.047269  0.142765"
      ]
     },
     "execution_count": 17,
     "metadata": {},
     "output_type": "execute_result"
    }
   ],
   "source": [
    "test_df.loc[:99 if debug else test_df.shape[0],class_labels] = preds\n",
    "study_df = test_df.groupby(['study_id'])[class_labels].mean().reset_index()\n",
    "study_df.rename(columns={'study_id':'id'}, inplace=True)\n",
    "study_df.head()"
   ]
  },
  {
   "cell_type": "code",
   "execution_count": 18,
   "metadata": {
    "execution": {
     "iopub.execute_input": "2021-06-01T11:44:35.507747Z",
     "iopub.status.busy": "2021-06-01T11:44:35.505989Z",
     "iopub.status.idle": "2021-06-01T11:44:35.508323Z",
     "shell.execute_reply": "2021-06-01T11:44:35.508739Z"
    },
    "papermill": {
     "duration": 0.106738,
     "end_time": "2021-06-01T11:44:35.508855",
     "exception": false,
     "start_time": "2021-06-01T11:44:35.402117",
     "status": "completed"
    },
    "tags": []
   },
   "outputs": [],
   "source": [
    "def get_PredictionString(row, thr=0):\n",
    "    string = ''\n",
    "    for idx in range(4):\n",
    "        conf =  row[str(idx)]\n",
    "        if conf>thr:\n",
    "            string+=f'{label2name[idx]} {conf:0.2f} 0 0 1 1 '\n",
    "    string = string.strip()\n",
    "    return string"
   ]
  },
  {
   "cell_type": "code",
   "execution_count": 19,
   "metadata": {
    "execution": {
     "iopub.execute_input": "2021-06-01T11:44:35.724466Z",
     "iopub.status.busy": "2021-06-01T11:44:35.723515Z",
     "iopub.status.idle": "2021-06-01T11:44:35.792014Z",
     "shell.execute_reply": "2021-06-01T11:44:35.789256Z"
    },
    "papermill": {
     "duration": 0.186639,
     "end_time": "2021-06-01T11:44:35.792107",
     "exception": false,
     "start_time": "2021-06-01T11:44:35.605468",
     "status": "completed"
    },
    "tags": []
   },
   "outputs": [
    {
     "data": {
      "application/vnd.jupyter.widget-view+json": {
       "model_id": "b999db68cdab4a168316299a1aa533b1",
       "version_major": 2,
       "version_minor": 0
      },
      "text/plain": [
       "HBox(children=(FloatProgress(value=0.0, max=1214.0), HTML(value='')))"
      ]
     },
     "metadata": {},
     "output_type": "display_data"
    },
    {
     "name": "stdout",
     "output_type": "stream",
     "text": [
      "\n"
     ]
    },
    {
     "data": {
      "text/html": [
       "<div>\n",
       "<style scoped>\n",
       "    .dataframe tbody tr th:only-of-type {\n",
       "        vertical-align: middle;\n",
       "    }\n",
       "\n",
       "    .dataframe tbody tr th {\n",
       "        vertical-align: top;\n",
       "    }\n",
       "\n",
       "    .dataframe thead th {\n",
       "        text-align: right;\n",
       "    }\n",
       "</style>\n",
       "<table border=\"1\" class=\"dataframe\">\n",
       "  <thead>\n",
       "    <tr style=\"text-align: right;\">\n",
       "      <th></th>\n",
       "      <th>id</th>\n",
       "      <th>PredictionString</th>\n",
       "    </tr>\n",
       "  </thead>\n",
       "  <tbody>\n",
       "    <tr>\n",
       "      <th>0</th>\n",
       "      <td>00188a671292_study</td>\n",
       "      <td>negative 0.90 0 0 1 1 indeterminate 0.05 0 0 1...</td>\n",
       "    </tr>\n",
       "    <tr>\n",
       "      <th>1</th>\n",
       "      <td>004bd59708be_study</td>\n",
       "      <td>negative 0.01 0 0 1 1 indeterminate 0.13 0 0 1...</td>\n",
       "    </tr>\n",
       "    <tr>\n",
       "      <th>2</th>\n",
       "      <td>00508faccd39_study</td>\n",
       "      <td>negative 0.85 0 0 1 1 indeterminate 0.07 0 0 1...</td>\n",
       "    </tr>\n",
       "    <tr>\n",
       "      <th>3</th>\n",
       "      <td>006486aa80b2_study</td>\n",
       "      <td>negative 0.23 0 0 1 1 indeterminate 0.32 0 0 1...</td>\n",
       "    </tr>\n",
       "    <tr>\n",
       "      <th>4</th>\n",
       "      <td>00655178fdfc_study</td>\n",
       "      <td>negative 0.64 0 0 1 1 indeterminate 0.17 0 0 1...</td>\n",
       "    </tr>\n",
       "  </tbody>\n",
       "</table>\n",
       "</div>"
      ],
      "text/plain": [
       "                   id                                   PredictionString\n",
       "0  00188a671292_study  negative 0.90 0 0 1 1 indeterminate 0.05 0 0 1...\n",
       "1  004bd59708be_study  negative 0.01 0 0 1 1 indeterminate 0.13 0 0 1...\n",
       "2  00508faccd39_study  negative 0.85 0 0 1 1 indeterminate 0.07 0 0 1...\n",
       "3  006486aa80b2_study  negative 0.23 0 0 1 1 indeterminate 0.32 0 0 1...\n",
       "4  00655178fdfc_study  negative 0.64 0 0 1 1 indeterminate 0.17 0 0 1..."
      ]
     },
     "execution_count": 19,
     "metadata": {},
     "output_type": "execute_result"
    }
   ],
   "source": [
    "study_df['PredictionString'] = study_df.progress_apply(get_PredictionString, axis=1)\n",
    "study_df = study_df.drop(class_labels, axis=1)\n",
    "study_df.head()"
   ]
  },
  {
   "cell_type": "code",
   "execution_count": 20,
   "metadata": {
    "execution": {
     "iopub.execute_input": "2021-06-01T11:44:36.007466Z",
     "iopub.status.busy": "2021-06-01T11:44:36.006701Z",
     "iopub.status.idle": "2021-06-01T11:44:36.009872Z",
     "shell.execute_reply": "2021-06-01T11:44:36.010286Z"
    },
    "papermill": {
     "duration": 0.111271,
     "end_time": "2021-06-01T11:44:36.010391",
     "exception": false,
     "start_time": "2021-06-01T11:44:35.899120",
     "status": "completed"
    },
    "tags": []
   },
   "outputs": [
    {
     "data": {
      "text/html": [
       "<div>\n",
       "<style scoped>\n",
       "    .dataframe tbody tr th:only-of-type {\n",
       "        vertical-align: middle;\n",
       "    }\n",
       "\n",
       "    .dataframe tbody tr th {\n",
       "        vertical-align: top;\n",
       "    }\n",
       "\n",
       "    .dataframe thead th {\n",
       "        text-align: right;\n",
       "    }\n",
       "</style>\n",
       "<table border=\"1\" class=\"dataframe\">\n",
       "  <thead>\n",
       "    <tr style=\"text-align: right;\">\n",
       "      <th></th>\n",
       "      <th>id</th>\n",
       "      <th>PredictionString</th>\n",
       "    </tr>\n",
       "  </thead>\n",
       "  <tbody>\n",
       "    <tr>\n",
       "      <th>0</th>\n",
       "      <td>a29c5a68b07b_image</td>\n",
       "      <td>none 1 0 0 1 1</td>\n",
       "    </tr>\n",
       "    <tr>\n",
       "      <th>1</th>\n",
       "      <td>9850b5470fd6_image</td>\n",
       "      <td>none 1 0 0 1 1</td>\n",
       "    </tr>\n",
       "    <tr>\n",
       "      <th>2</th>\n",
       "      <td>8d6dea06a032_image</td>\n",
       "      <td>none 1 0 0 1 1</td>\n",
       "    </tr>\n",
       "    <tr>\n",
       "      <th>3</th>\n",
       "      <td>dfc5c09a50bc_image</td>\n",
       "      <td>none 1 0 0 1 1</td>\n",
       "    </tr>\n",
       "    <tr>\n",
       "      <th>4</th>\n",
       "      <td>7230234e120a_image</td>\n",
       "      <td>none 1 0 0 1 1</td>\n",
       "    </tr>\n",
       "  </tbody>\n",
       "</table>\n",
       "</div>"
      ],
      "text/plain": [
       "                   id PredictionString\n",
       "0  a29c5a68b07b_image   none 1 0 0 1 1\n",
       "1  9850b5470fd6_image   none 1 0 0 1 1\n",
       "2  8d6dea06a032_image   none 1 0 0 1 1\n",
       "3  dfc5c09a50bc_image   none 1 0 0 1 1\n",
       "4  7230234e120a_image   none 1 0 0 1 1"
      ]
     },
     "execution_count": 20,
     "metadata": {},
     "output_type": "execute_result"
    }
   ],
   "source": [
    "image_df = pd.DataFrame({'id':test_df.image_id.tolist(),\n",
    "                         'PredictionString':[\"none 1 0 0 1 1\"]*len(test_df.image_id.tolist())})\n",
    "image_df.head()"
   ]
  },
  {
   "cell_type": "code",
   "execution_count": 21,
   "metadata": {
    "execution": {
     "iopub.execute_input": "2021-06-01T11:44:36.213097Z",
     "iopub.status.busy": "2021-06-01T11:44:36.212207Z",
     "iopub.status.idle": "2021-06-01T11:44:36.533555Z",
     "shell.execute_reply": "2021-06-01T11:44:36.532809Z"
    },
    "papermill": {
     "duration": 0.424807,
     "end_time": "2021-06-01T11:44:36.533701",
     "exception": false,
     "start_time": "2021-06-01T11:44:36.108894",
     "status": "completed"
    },
    "tags": []
   },
   "outputs": [
    {
     "name": "stdout",
     "output_type": "stream",
     "text": [
      "(2477, 2)\n"
     ]
    },
    {
     "data": {
      "text/html": [
       "<div>\n",
       "<style scoped>\n",
       "    .dataframe tbody tr th:only-of-type {\n",
       "        vertical-align: middle;\n",
       "    }\n",
       "\n",
       "    .dataframe tbody tr th {\n",
       "        vertical-align: top;\n",
       "    }\n",
       "\n",
       "    .dataframe thead th {\n",
       "        text-align: right;\n",
       "    }\n",
       "</style>\n",
       "<table border=\"1\" class=\"dataframe\">\n",
       "  <thead>\n",
       "    <tr style=\"text-align: right;\">\n",
       "      <th></th>\n",
       "      <th>id</th>\n",
       "      <th>PredictionString</th>\n",
       "    </tr>\n",
       "  </thead>\n",
       "  <tbody>\n",
       "    <tr>\n",
       "      <th>0</th>\n",
       "      <td>00188a671292_study</td>\n",
       "      <td>negative 0.90 0 0 1 1 indeterminate 0.05 0 0 1...</td>\n",
       "    </tr>\n",
       "    <tr>\n",
       "      <th>1</th>\n",
       "      <td>004bd59708be_study</td>\n",
       "      <td>negative 0.01 0 0 1 1 indeterminate 0.13 0 0 1...</td>\n",
       "    </tr>\n",
       "    <tr>\n",
       "      <th>2</th>\n",
       "      <td>00508faccd39_study</td>\n",
       "      <td>negative 0.85 0 0 1 1 indeterminate 0.07 0 0 1...</td>\n",
       "    </tr>\n",
       "    <tr>\n",
       "      <th>3</th>\n",
       "      <td>006486aa80b2_study</td>\n",
       "      <td>negative 0.23 0 0 1 1 indeterminate 0.32 0 0 1...</td>\n",
       "    </tr>\n",
       "    <tr>\n",
       "      <th>4</th>\n",
       "      <td>00655178fdfc_study</td>\n",
       "      <td>negative 0.64 0 0 1 1 indeterminate 0.17 0 0 1...</td>\n",
       "    </tr>\n",
       "  </tbody>\n",
       "</table>\n",
       "</div>"
      ],
      "text/plain": [
       "                   id                                   PredictionString\n",
       "0  00188a671292_study  negative 0.90 0 0 1 1 indeterminate 0.05 0 0 1...\n",
       "1  004bd59708be_study  negative 0.01 0 0 1 1 indeterminate 0.13 0 0 1...\n",
       "2  00508faccd39_study  negative 0.85 0 0 1 1 indeterminate 0.07 0 0 1...\n",
       "3  006486aa80b2_study  negative 0.23 0 0 1 1 indeterminate 0.32 0 0 1...\n",
       "4  00655178fdfc_study  negative 0.64 0 0 1 1 indeterminate 0.17 0 0 1..."
      ]
     },
     "execution_count": 21,
     "metadata": {},
     "output_type": "execute_result"
    }
   ],
   "source": [
    "sub_df = pd.concat([study_df, image_df])\n",
    "sub_df.to_csv('/kaggle/working/submission.csv',index=False)\n",
    "print(sub_df.shape)\n",
    "sub_df.head()"
   ]
  },
  {
   "cell_type": "code",
   "execution_count": 22,
   "metadata": {
    "execution": {
     "iopub.execute_input": "2021-06-01T11:44:36.739143Z",
     "iopub.status.busy": "2021-06-01T11:44:36.738266Z",
     "iopub.status.idle": "2021-06-01T11:44:36.782954Z",
     "shell.execute_reply": "2021-06-01T11:44:36.782424Z"
    },
    "papermill": {
     "duration": 0.150027,
     "end_time": "2021-06-01T11:44:36.783049",
     "exception": false,
     "start_time": "2021-06-01T11:44:36.633022",
     "status": "completed"
    },
    "tags": []
   },
   "outputs": [],
   "source": [
    "import shutil\n",
    "shutil.rmtree('/kaggle/working/test')"
   ]
  }
 ],
 "metadata": {
  "kernelspec": {
   "display_name": "Python 3",
   "language": "python",
   "name": "python3"
  },
  "language_info": {
   "codemirror_mode": {
    "name": "ipython",
    "version": 3
   },
   "file_extension": ".py",
   "mimetype": "text/x-python",
   "name": "python",
   "nbconvert_exporter": "python",
   "pygments_lexer": "ipython3",
   "version": "3.7.6"
  },
  "papermill": {
   "duration": 769.783936,
   "end_time": "2021-06-01T11:44:37.096468",
   "environment_variables": {},
   "exception": null,
   "input_path": "__notebook__.ipynb",
   "output_path": "__notebook__.ipynb",
   "parameters": {},
   "start_time": "2021-06-01T11:31:47.312532",
   "version": "2.1.0"
  },
  "widgets": {
   "application/vnd.jupyter.widget-state+json": {
    "state": {
     "0d5037e20494425985f355bd3ab992ce": {
      "model_module": "@jupyter-widgets/controls",
      "model_module_version": "1.5.0",
      "model_name": "DescriptionStyleModel",
      "state": {
       "_model_module": "@jupyter-widgets/controls",
       "_model_module_version": "1.5.0",
       "_model_name": "DescriptionStyleModel",
       "_view_count": null,
       "_view_module": "@jupyter-widgets/base",
       "_view_module_version": "1.2.0",
       "_view_name": "StyleView",
       "description_width": ""
      }
     },
     "4af40477f3124b3f8f14c32c55276ee0": {
      "model_module": "@jupyter-widgets/controls",
      "model_module_version": "1.5.0",
      "model_name": "HBoxModel",
      "state": {
       "_dom_classes": [],
       "_model_module": "@jupyter-widgets/controls",
       "_model_module_version": "1.5.0",
       "_model_name": "HBoxModel",
       "_view_count": null,
       "_view_module": "@jupyter-widgets/controls",
       "_view_module_version": "1.5.0",
       "_view_name": "HBoxView",
       "box_style": "",
       "children": [
        "IPY_MODEL_9d42eb7fbb2a485095d6cd58fb8f7d09",
        "IPY_MODEL_57d1478aea794007ac7dd70b537dcd79"
       ],
       "layout": "IPY_MODEL_f37263bf7cd740e2b49ea8b8c49a36c4"
      }
     },
     "4d9473d2381a4693a9baefd5c942c7a8": {
      "model_module": "@jupyter-widgets/base",
      "model_module_version": "1.2.0",
      "model_name": "LayoutModel",
      "state": {
       "_model_module": "@jupyter-widgets/base",
       "_model_module_version": "1.2.0",
       "_model_name": "LayoutModel",
       "_view_count": null,
       "_view_module": "@jupyter-widgets/base",
       "_view_module_version": "1.2.0",
       "_view_name": "LayoutView",
       "align_content": null,
       "align_items": null,
       "align_self": null,
       "border": null,
       "bottom": null,
       "display": null,
       "flex": null,
       "flex_flow": null,
       "grid_area": null,
       "grid_auto_columns": null,
       "grid_auto_flow": null,
       "grid_auto_rows": null,
       "grid_column": null,
       "grid_gap": null,
       "grid_row": null,
       "grid_template_areas": null,
       "grid_template_columns": null,
       "grid_template_rows": null,
       "height": null,
       "justify_content": null,
       "justify_items": null,
       "left": null,
       "margin": null,
       "max_height": null,
       "max_width": null,
       "min_height": null,
       "min_width": null,
       "object_fit": null,
       "object_position": null,
       "order": null,
       "overflow": null,
       "overflow_x": null,
       "overflow_y": null,
       "padding": null,
       "right": null,
       "top": null,
       "visibility": null,
       "width": null
      }
     },
     "553901028c3f4b1aa125705374627cca": {
      "model_module": "@jupyter-widgets/controls",
      "model_module_version": "1.5.0",
      "model_name": "HTMLModel",
      "state": {
       "_dom_classes": [],
       "_model_module": "@jupyter-widgets/controls",
       "_model_module_version": "1.5.0",
       "_model_name": "HTMLModel",
       "_view_count": null,
       "_view_module": "@jupyter-widgets/controls",
       "_view_module_version": "1.5.0",
       "_view_name": "HTMLView",
       "description": "",
       "description_tooltip": null,
       "layout": "IPY_MODEL_995e25bd6b4847afaf0f85dc9041b4e3",
       "placeholder": "​",
       "style": "IPY_MODEL_0d5037e20494425985f355bd3ab992ce",
       "value": " 1214/1214 [00:00&lt;00:00, 1687.43it/s]"
      }
     },
     "55f95b1e835044f0a1b56f73a462c70c": {
      "model_module": "@jupyter-widgets/controls",
      "model_module_version": "1.5.0",
      "model_name": "ProgressStyleModel",
      "state": {
       "_model_module": "@jupyter-widgets/controls",
       "_model_module_version": "1.5.0",
       "_model_name": "ProgressStyleModel",
       "_view_count": null,
       "_view_module": "@jupyter-widgets/base",
       "_view_module_version": "1.2.0",
       "_view_name": "StyleView",
       "bar_color": null,
       "description_width": "initial"
      }
     },
     "57d1478aea794007ac7dd70b537dcd79": {
      "model_module": "@jupyter-widgets/controls",
      "model_module_version": "1.5.0",
      "model_name": "HTMLModel",
      "state": {
       "_dom_classes": [],
       "_model_module": "@jupyter-widgets/controls",
       "_model_module_version": "1.5.0",
       "_model_name": "HTMLModel",
       "_view_count": null,
       "_view_module": "@jupyter-widgets/controls",
       "_view_module_version": "1.5.0",
       "_view_name": "HTMLView",
       "description": "",
       "description_tooltip": null,
       "layout": "IPY_MODEL_4d9473d2381a4693a9baefd5c942c7a8",
       "placeholder": "​",
       "style": "IPY_MODEL_6067db9ed70b487283283db94dd957a1",
       "value": " 1263/1263 [06:29&lt;00:00,  3.24it/s]"
      }
     },
     "5c4bd4f29a8f454582112d7376891cb0": {
      "model_module": "@jupyter-widgets/base",
      "model_module_version": "1.2.0",
      "model_name": "LayoutModel",
      "state": {
       "_model_module": "@jupyter-widgets/base",
       "_model_module_version": "1.2.0",
       "_model_name": "LayoutModel",
       "_view_count": null,
       "_view_module": "@jupyter-widgets/base",
       "_view_module_version": "1.2.0",
       "_view_name": "LayoutView",
       "align_content": null,
       "align_items": null,
       "align_self": null,
       "border": null,
       "bottom": null,
       "display": null,
       "flex": null,
       "flex_flow": null,
       "grid_area": null,
       "grid_auto_columns": null,
       "grid_auto_flow": null,
       "grid_auto_rows": null,
       "grid_column": null,
       "grid_gap": null,
       "grid_row": null,
       "grid_template_areas": null,
       "grid_template_columns": null,
       "grid_template_rows": null,
       "height": null,
       "justify_content": null,
       "justify_items": null,
       "left": null,
       "margin": null,
       "max_height": null,
       "max_width": null,
       "min_height": null,
       "min_width": null,
       "object_fit": null,
       "object_position": null,
       "order": null,
       "overflow": null,
       "overflow_x": null,
       "overflow_y": null,
       "padding": null,
       "right": null,
       "top": null,
       "visibility": null,
       "width": null
      }
     },
     "5e8220e605244a0a81541816586aa409": {
      "model_module": "@jupyter-widgets/base",
      "model_module_version": "1.2.0",
      "model_name": "LayoutModel",
      "state": {
       "_model_module": "@jupyter-widgets/base",
       "_model_module_version": "1.2.0",
       "_model_name": "LayoutModel",
       "_view_count": null,
       "_view_module": "@jupyter-widgets/base",
       "_view_module_version": "1.2.0",
       "_view_name": "LayoutView",
       "align_content": null,
       "align_items": null,
       "align_self": null,
       "border": null,
       "bottom": null,
       "display": null,
       "flex": null,
       "flex_flow": null,
       "grid_area": null,
       "grid_auto_columns": null,
       "grid_auto_flow": null,
       "grid_auto_rows": null,
       "grid_column": null,
       "grid_gap": null,
       "grid_row": null,
       "grid_template_areas": null,
       "grid_template_columns": null,
       "grid_template_rows": null,
       "height": null,
       "justify_content": null,
       "justify_items": null,
       "left": null,
       "margin": null,
       "max_height": null,
       "max_width": null,
       "min_height": null,
       "min_width": null,
       "object_fit": null,
       "object_position": null,
       "order": null,
       "overflow": null,
       "overflow_x": null,
       "overflow_y": null,
       "padding": null,
       "right": null,
       "top": null,
       "visibility": null,
       "width": null
      }
     },
     "6067db9ed70b487283283db94dd957a1": {
      "model_module": "@jupyter-widgets/controls",
      "model_module_version": "1.5.0",
      "model_name": "DescriptionStyleModel",
      "state": {
       "_model_module": "@jupyter-widgets/controls",
       "_model_module_version": "1.5.0",
       "_model_name": "DescriptionStyleModel",
       "_view_count": null,
       "_view_module": "@jupyter-widgets/base",
       "_view_module_version": "1.2.0",
       "_view_name": "StyleView",
       "description_width": ""
      }
     },
     "7400d92310c44f4caeb7f747d25d4c51": {
      "model_module": "@jupyter-widgets/controls",
      "model_module_version": "1.5.0",
      "model_name": "ProgressStyleModel",
      "state": {
       "_model_module": "@jupyter-widgets/controls",
       "_model_module_version": "1.5.0",
       "_model_name": "ProgressStyleModel",
       "_view_count": null,
       "_view_module": "@jupyter-widgets/base",
       "_view_module_version": "1.2.0",
       "_view_name": "StyleView",
       "bar_color": null,
       "description_width": "initial"
      }
     },
     "76c98135866544a4b33175993848bc1f": {
      "model_module": "@jupyter-widgets/controls",
      "model_module_version": "1.5.0",
      "model_name": "ProgressStyleModel",
      "state": {
       "_model_module": "@jupyter-widgets/controls",
       "_model_module_version": "1.5.0",
       "_model_name": "ProgressStyleModel",
       "_view_count": null,
       "_view_module": "@jupyter-widgets/base",
       "_view_module_version": "1.2.0",
       "_view_name": "StyleView",
       "bar_color": null,
       "description_width": "initial"
      }
     },
     "785a99010a0440389e8f24859760afe5": {
      "model_module": "@jupyter-widgets/controls",
      "model_module_version": "1.5.0",
      "model_name": "HTMLModel",
      "state": {
       "_dom_classes": [],
       "_model_module": "@jupyter-widgets/controls",
       "_model_module_version": "1.5.0",
       "_model_name": "HTMLModel",
       "_view_count": null,
       "_view_module": "@jupyter-widgets/controls",
       "_view_module_version": "1.5.0",
       "_view_name": "HTMLView",
       "description": "",
       "description_tooltip": null,
       "layout": "IPY_MODEL_b6fa3dd1a18a40498bd209c18e3dc59b",
       "placeholder": "​",
       "style": "IPY_MODEL_fb396a66d74f4b629544040678a203b9",
       "value": " 5/5 [04:00&lt;00:00, 48.09s/it]"
      }
     },
     "995e25bd6b4847afaf0f85dc9041b4e3": {
      "model_module": "@jupyter-widgets/base",
      "model_module_version": "1.2.0",
      "model_name": "LayoutModel",
      "state": {
       "_model_module": "@jupyter-widgets/base",
       "_model_module_version": "1.2.0",
       "_model_name": "LayoutModel",
       "_view_count": null,
       "_view_module": "@jupyter-widgets/base",
       "_view_module_version": "1.2.0",
       "_view_name": "LayoutView",
       "align_content": null,
       "align_items": null,
       "align_self": null,
       "border": null,
       "bottom": null,
       "display": null,
       "flex": null,
       "flex_flow": null,
       "grid_area": null,
       "grid_auto_columns": null,
       "grid_auto_flow": null,
       "grid_auto_rows": null,
       "grid_column": null,
       "grid_gap": null,
       "grid_row": null,
       "grid_template_areas": null,
       "grid_template_columns": null,
       "grid_template_rows": null,
       "height": null,
       "justify_content": null,
       "justify_items": null,
       "left": null,
       "margin": null,
       "max_height": null,
       "max_width": null,
       "min_height": null,
       "min_width": null,
       "object_fit": null,
       "object_position": null,
       "order": null,
       "overflow": null,
       "overflow_x": null,
       "overflow_y": null,
       "padding": null,
       "right": null,
       "top": null,
       "visibility": null,
       "width": null
      }
     },
     "9d42eb7fbb2a485095d6cd58fb8f7d09": {
      "model_module": "@jupyter-widgets/controls",
      "model_module_version": "1.5.0",
      "model_name": "FloatProgressModel",
      "state": {
       "_dom_classes": [],
       "_model_module": "@jupyter-widgets/controls",
       "_model_module_version": "1.5.0",
       "_model_name": "FloatProgressModel",
       "_view_count": null,
       "_view_module": "@jupyter-widgets/controls",
       "_view_module_version": "1.5.0",
       "_view_name": "ProgressView",
       "bar_style": "success",
       "description": "100%",
       "description_tooltip": null,
       "layout": "IPY_MODEL_c28e7741680245b6955ab805b6de2c33",
       "max": 1263.0,
       "min": 0.0,
       "orientation": "horizontal",
       "style": "IPY_MODEL_55f95b1e835044f0a1b56f73a462c70c",
       "value": 1263.0
      }
     },
     "b6fa3dd1a18a40498bd209c18e3dc59b": {
      "model_module": "@jupyter-widgets/base",
      "model_module_version": "1.2.0",
      "model_name": "LayoutModel",
      "state": {
       "_model_module": "@jupyter-widgets/base",
       "_model_module_version": "1.2.0",
       "_model_name": "LayoutModel",
       "_view_count": null,
       "_view_module": "@jupyter-widgets/base",
       "_view_module_version": "1.2.0",
       "_view_name": "LayoutView",
       "align_content": null,
       "align_items": null,
       "align_self": null,
       "border": null,
       "bottom": null,
       "display": null,
       "flex": null,
       "flex_flow": null,
       "grid_area": null,
       "grid_auto_columns": null,
       "grid_auto_flow": null,
       "grid_auto_rows": null,
       "grid_column": null,
       "grid_gap": null,
       "grid_row": null,
       "grid_template_areas": null,
       "grid_template_columns": null,
       "grid_template_rows": null,
       "height": null,
       "justify_content": null,
       "justify_items": null,
       "left": null,
       "margin": null,
       "max_height": null,
       "max_width": null,
       "min_height": null,
       "min_width": null,
       "object_fit": null,
       "object_position": null,
       "order": null,
       "overflow": null,
       "overflow_x": null,
       "overflow_y": null,
       "padding": null,
       "right": null,
       "top": null,
       "visibility": null,
       "width": null
      }
     },
     "b999db68cdab4a168316299a1aa533b1": {
      "model_module": "@jupyter-widgets/controls",
      "model_module_version": "1.5.0",
      "model_name": "HBoxModel",
      "state": {
       "_dom_classes": [],
       "_model_module": "@jupyter-widgets/controls",
       "_model_module_version": "1.5.0",
       "_model_name": "HBoxModel",
       "_view_count": null,
       "_view_module": "@jupyter-widgets/controls",
       "_view_module_version": "1.5.0",
       "_view_name": "HBoxView",
       "box_style": "",
       "children": [
        "IPY_MODEL_d98a46cd42fb42cd901462aaf2a6c800",
        "IPY_MODEL_553901028c3f4b1aa125705374627cca"
       ],
       "layout": "IPY_MODEL_5c4bd4f29a8f454582112d7376891cb0"
      }
     },
     "c28e7741680245b6955ab805b6de2c33": {
      "model_module": "@jupyter-widgets/base",
      "model_module_version": "1.2.0",
      "model_name": "LayoutModel",
      "state": {
       "_model_module": "@jupyter-widgets/base",
       "_model_module_version": "1.2.0",
       "_model_name": "LayoutModel",
       "_view_count": null,
       "_view_module": "@jupyter-widgets/base",
       "_view_module_version": "1.2.0",
       "_view_name": "LayoutView",
       "align_content": null,
       "align_items": null,
       "align_self": null,
       "border": null,
       "bottom": null,
       "display": null,
       "flex": null,
       "flex_flow": null,
       "grid_area": null,
       "grid_auto_columns": null,
       "grid_auto_flow": null,
       "grid_auto_rows": null,
       "grid_column": null,
       "grid_gap": null,
       "grid_row": null,
       "grid_template_areas": null,
       "grid_template_columns": null,
       "grid_template_rows": null,
       "height": null,
       "justify_content": null,
       "justify_items": null,
       "left": null,
       "margin": null,
       "max_height": null,
       "max_width": null,
       "min_height": null,
       "min_width": null,
       "object_fit": null,
       "object_position": null,
       "order": null,
       "overflow": null,
       "overflow_x": null,
       "overflow_y": null,
       "padding": null,
       "right": null,
       "top": null,
       "visibility": null,
       "width": null
      }
     },
     "d98a46cd42fb42cd901462aaf2a6c800": {
      "model_module": "@jupyter-widgets/controls",
      "model_module_version": "1.5.0",
      "model_name": "FloatProgressModel",
      "state": {
       "_dom_classes": [],
       "_model_module": "@jupyter-widgets/controls",
       "_model_module_version": "1.5.0",
       "_model_name": "FloatProgressModel",
       "_view_count": null,
       "_view_module": "@jupyter-widgets/controls",
       "_view_module_version": "1.5.0",
       "_view_name": "ProgressView",
       "bar_style": "success",
       "description": "100%",
       "description_tooltip": null,
       "layout": "IPY_MODEL_dd9bf4f3a3f54502a96277f89169a45f",
       "max": 1214.0,
       "min": 0.0,
       "orientation": "horizontal",
       "style": "IPY_MODEL_76c98135866544a4b33175993848bc1f",
       "value": 1214.0
      }
     },
     "dd9bf4f3a3f54502a96277f89169a45f": {
      "model_module": "@jupyter-widgets/base",
      "model_module_version": "1.2.0",
      "model_name": "LayoutModel",
      "state": {
       "_model_module": "@jupyter-widgets/base",
       "_model_module_version": "1.2.0",
       "_model_name": "LayoutModel",
       "_view_count": null,
       "_view_module": "@jupyter-widgets/base",
       "_view_module_version": "1.2.0",
       "_view_name": "LayoutView",
       "align_content": null,
       "align_items": null,
       "align_self": null,
       "border": null,
       "bottom": null,
       "display": null,
       "flex": null,
       "flex_flow": null,
       "grid_area": null,
       "grid_auto_columns": null,
       "grid_auto_flow": null,
       "grid_auto_rows": null,
       "grid_column": null,
       "grid_gap": null,
       "grid_row": null,
       "grid_template_areas": null,
       "grid_template_columns": null,
       "grid_template_rows": null,
       "height": null,
       "justify_content": null,
       "justify_items": null,
       "left": null,
       "margin": null,
       "max_height": null,
       "max_width": null,
       "min_height": null,
       "min_width": null,
       "object_fit": null,
       "object_position": null,
       "order": null,
       "overflow": null,
       "overflow_x": null,
       "overflow_y": null,
       "padding": null,
       "right": null,
       "top": null,
       "visibility": null,
       "width": null
      }
     },
     "ddd9cd505d6d4b31945b7896f59a0055": {
      "model_module": "@jupyter-widgets/controls",
      "model_module_version": "1.5.0",
      "model_name": "FloatProgressModel",
      "state": {
       "_dom_classes": [],
       "_model_module": "@jupyter-widgets/controls",
       "_model_module_version": "1.5.0",
       "_model_name": "FloatProgressModel",
       "_view_count": null,
       "_view_module": "@jupyter-widgets/controls",
       "_view_module_version": "1.5.0",
       "_view_name": "ProgressView",
       "bar_style": "success",
       "description": "100%",
       "description_tooltip": null,
       "layout": "IPY_MODEL_e272921e4d8e4ac5bb596d100bced166",
       "max": 5.0,
       "min": 0.0,
       "orientation": "horizontal",
       "style": "IPY_MODEL_7400d92310c44f4caeb7f747d25d4c51",
       "value": 5.0
      }
     },
     "dfb36e6130f54511ae50855ff8eb3ea9": {
      "model_module": "@jupyter-widgets/controls",
      "model_module_version": "1.5.0",
      "model_name": "HBoxModel",
      "state": {
       "_dom_classes": [],
       "_model_module": "@jupyter-widgets/controls",
       "_model_module_version": "1.5.0",
       "_model_name": "HBoxModel",
       "_view_count": null,
       "_view_module": "@jupyter-widgets/controls",
       "_view_module_version": "1.5.0",
       "_view_name": "HBoxView",
       "box_style": "",
       "children": [
        "IPY_MODEL_ddd9cd505d6d4b31945b7896f59a0055",
        "IPY_MODEL_785a99010a0440389e8f24859760afe5"
       ],
       "layout": "IPY_MODEL_5e8220e605244a0a81541816586aa409"
      }
     },
     "e272921e4d8e4ac5bb596d100bced166": {
      "model_module": "@jupyter-widgets/base",
      "model_module_version": "1.2.0",
      "model_name": "LayoutModel",
      "state": {
       "_model_module": "@jupyter-widgets/base",
       "_model_module_version": "1.2.0",
       "_model_name": "LayoutModel",
       "_view_count": null,
       "_view_module": "@jupyter-widgets/base",
       "_view_module_version": "1.2.0",
       "_view_name": "LayoutView",
       "align_content": null,
       "align_items": null,
       "align_self": null,
       "border": null,
       "bottom": null,
       "display": null,
       "flex": null,
       "flex_flow": null,
       "grid_area": null,
       "grid_auto_columns": null,
       "grid_auto_flow": null,
       "grid_auto_rows": null,
       "grid_column": null,
       "grid_gap": null,
       "grid_row": null,
       "grid_template_areas": null,
       "grid_template_columns": null,
       "grid_template_rows": null,
       "height": null,
       "justify_content": null,
       "justify_items": null,
       "left": null,
       "margin": null,
       "max_height": null,
       "max_width": null,
       "min_height": null,
       "min_width": null,
       "object_fit": null,
       "object_position": null,
       "order": null,
       "overflow": null,
       "overflow_x": null,
       "overflow_y": null,
       "padding": null,
       "right": null,
       "top": null,
       "visibility": null,
       "width": null
      }
     },
     "f37263bf7cd740e2b49ea8b8c49a36c4": {
      "model_module": "@jupyter-widgets/base",
      "model_module_version": "1.2.0",
      "model_name": "LayoutModel",
      "state": {
       "_model_module": "@jupyter-widgets/base",
       "_model_module_version": "1.2.0",
       "_model_name": "LayoutModel",
       "_view_count": null,
       "_view_module": "@jupyter-widgets/base",
       "_view_module_version": "1.2.0",
       "_view_name": "LayoutView",
       "align_content": null,
       "align_items": null,
       "align_self": null,
       "border": null,
       "bottom": null,
       "display": null,
       "flex": null,
       "flex_flow": null,
       "grid_area": null,
       "grid_auto_columns": null,
       "grid_auto_flow": null,
       "grid_auto_rows": null,
       "grid_column": null,
       "grid_gap": null,
       "grid_row": null,
       "grid_template_areas": null,
       "grid_template_columns": null,
       "grid_template_rows": null,
       "height": null,
       "justify_content": null,
       "justify_items": null,
       "left": null,
       "margin": null,
       "max_height": null,
       "max_width": null,
       "min_height": null,
       "min_width": null,
       "object_fit": null,
       "object_position": null,
       "order": null,
       "overflow": null,
       "overflow_x": null,
       "overflow_y": null,
       "padding": null,
       "right": null,
       "top": null,
       "visibility": null,
       "width": null
      }
     },
     "fb396a66d74f4b629544040678a203b9": {
      "model_module": "@jupyter-widgets/controls",
      "model_module_version": "1.5.0",
      "model_name": "DescriptionStyleModel",
      "state": {
       "_model_module": "@jupyter-widgets/controls",
       "_model_module_version": "1.5.0",
       "_model_name": "DescriptionStyleModel",
       "_view_count": null,
       "_view_module": "@jupyter-widgets/base",
       "_view_module_version": "1.2.0",
       "_view_name": "StyleView",
       "description_width": ""
      }
     }
    },
    "version_major": 2,
    "version_minor": 0
   }
  }
 },
 "nbformat": 4,
 "nbformat_minor": 4
}
