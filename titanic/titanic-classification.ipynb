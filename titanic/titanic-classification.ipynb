{
 "cells": [
  {
   "cell_type": "markdown",
   "id": "simplified-turtle",
   "metadata": {
    "papermill": {
     "duration": 0.055161,
     "end_time": "2021-05-21T14:52:39.301987",
     "exception": false,
     "start_time": "2021-05-21T14:52:39.246826",
     "status": "completed"
    },
    "tags": []
   },
   "source": [
    "# Titanic Project Classification\n",
    "In this notebook, I tried to understand the relationship between variables and classify who survived and  who did not . with help of  (1 - data visualization  2 - feature Engineering  3 - model building )\n",
    "\n",
    "\n",
    "## Overview \n",
    "### 1) Understand the data (Shape , missing values , data types , ...)\n",
    "\n",
    "### 2) Data Visualization  (Histograms,box plots)\n",
    "\n",
    "### 3) Data Preprocessing and Feature Engineering\n",
    "\n",
    "### 4) Model Building "
   ]
  },
  {
   "cell_type": "markdown",
   "id": "handy-bulgarian",
   "metadata": {
    "papermill": {
     "duration": 0.051679,
     "end_time": "2021-05-21T14:52:39.406250",
     "exception": false,
     "start_time": "2021-05-21T14:52:39.354571",
     "status": "completed"
    },
    "tags": []
   },
   "source": [
    "# Libraries used in the project\n",
    "\n",
    "- [seaborn](https://seaborn.pydata.org/)\n",
    "- [matplotlib](https://matplotlib.org/)\n",
    "- [numpy](https://numpy.org/)\n",
    "- [pandas](https://pandas.pydata.org/)\n",
    "- [termcolor](https://pypi.org/project/termcolor/)\n",
    "- [sklearn](https://scikit-learn.org/stable/)\n",
    "- [xgboost](https://xgboost.readthedocs.io/en/latest/index.html)\n",
    "- re\n",
    "- warnings"
   ]
  },
  {
   "cell_type": "code",
   "execution_count": 1,
   "id": "downtown-picnic",
   "metadata": {
    "execution": {
     "iopub.execute_input": "2021-05-21T14:52:39.540957Z",
     "iopub.status.busy": "2021-05-21T14:52:39.525480Z",
     "iopub.status.idle": "2021-05-21T14:53:04.321815Z",
     "shell.execute_reply": "2021-05-21T14:53:04.322339Z",
     "shell.execute_reply.started": "2021-05-21T14:41:03.658522Z"
    },
    "papermill": {
     "duration": 24.862395,
     "end_time": "2021-05-21T14:53:04.322687",
     "exception": false,
     "start_time": "2021-05-21T14:52:39.460292",
     "status": "completed"
    },
    "tags": []
   },
   "outputs": [
    {
     "name": "stdout",
     "output_type": "stream",
     "text": [
      "Collecting xgboost==1.4.1\r\n",
      "  Downloading xgboost-1.4.1-py3-none-manylinux2010_x86_64.whl (166.7 MB)\r\n",
      "\u001b[K     |████████████████████████████████| 166.7 MB 57 kB/s \r\n",
      "\u001b[?25hRequirement already satisfied: scipy in /opt/conda/lib/python3.7/site-packages (from xgboost==1.4.1) (1.5.4)\r\n",
      "Requirement already satisfied: numpy in /opt/conda/lib/python3.7/site-packages (from xgboost==1.4.1) (1.19.5)\r\n",
      "Installing collected packages: xgboost\r\n",
      "  Attempting uninstall: xgboost\r\n",
      "    Found existing installation: xgboost 1.4.0\r\n",
      "    Uninstalling xgboost-1.4.0:\r\n",
      "      Successfully uninstalled xgboost-1.4.0\r\n",
      "Successfully installed xgboost-1.4.1\r\n"
     ]
    }
   ],
   "source": [
    "!pip install  xgboost==1.4.1"
   ]
  },
  {
   "cell_type": "code",
   "execution_count": 2,
   "id": "golden-killer",
   "metadata": {
    "execution": {
     "iopub.execute_input": "2021-05-21T14:53:04.629300Z",
     "iopub.status.busy": "2021-05-21T14:53:04.628597Z",
     "iopub.status.idle": "2021-05-21T14:53:06.032551Z",
     "shell.execute_reply": "2021-05-21T14:53:06.033279Z",
     "shell.execute_reply.started": "2021-05-21T14:41:26.812433Z"
    },
    "papermill": {
     "duration": 1.559409,
     "end_time": "2021-05-21T14:53:06.033530",
     "exception": false,
     "start_time": "2021-05-21T14:53:04.474121",
     "status": "completed"
    },
    "tags": []
   },
   "outputs": [
    {
     "name": "stdout",
     "output_type": "stream",
     "text": [
      "/kaggle/input/titanic/train.csv\n",
      "/kaggle/input/titanic/test.csv\n",
      "/kaggle/input/titanic/gender_submission.csv\n"
     ]
    }
   ],
   "source": [
    "# Data Visualization \n",
    "import seaborn as sns\n",
    "import matplotlib.pyplot as plt\n",
    "\n",
    "\n",
    "# Data PreProcessing and Feature Engineering\n",
    "import numpy as np\n",
    "import pandas as pd\n",
    "from sklearn.preprocessing import OneHotEncoder\n",
    "import re\n",
    "\n",
    "\n",
    "# Model Building \n",
    "from sklearn.ensemble import GradientBoostingClassifier\n",
    "from sklearn.linear_model import LogisticRegression\n",
    "from  xgboost import XGBClassifier\n",
    "from sklearn.ensemble import RandomForestClassifier\n",
    "from sklearn.svm import SVC\n",
    "from sklearn.naive_bayes import GaussianNB\n",
    "from sklearn.tree import DecisionTreeClassifier\n",
    "from sklearn.neighbors import KNeighborsClassifier\n",
    "\n",
    "\n",
    "# import dataset\n",
    "import os\n",
    "for dirname, _, filenames in os.walk('/kaggle/input'):\n",
    "    for filename in filenames:\n",
    "        print(os.path.join(dirname, filename))\n",
    "\n",
    "\n",
    "import warnings  # For hiding warnings\n",
    "from termcolor import cprint # For making colorful printing texts\n",
    "warnings.filterwarnings('ignore')\n",
    "%matplotlib inline\n",
    "sns.set_style(\"darkgrid\")"
   ]
  },
  {
   "cell_type": "code",
   "execution_count": 3,
   "id": "planned-bacteria",
   "metadata": {
    "execution": {
     "iopub.execute_input": "2021-05-21T14:53:06.322158Z",
     "iopub.status.busy": "2021-05-21T14:53:06.321489Z",
     "iopub.status.idle": "2021-05-21T14:53:06.386254Z",
     "shell.execute_reply": "2021-05-21T14:53:06.386767Z",
     "shell.execute_reply.started": "2021-05-21T14:41:28.283639Z"
    },
    "papermill": {
     "duration": 0.212249,
     "end_time": "2021-05-21T14:53:06.386957",
     "exception": false,
     "start_time": "2021-05-21T14:53:06.174708",
     "status": "completed"
    },
    "tags": []
   },
   "outputs": [],
   "source": [
    "# import  datasets in (csv) format using pandas \n",
    "\n",
    "train = pd.read_csv('../input/titanic/train.csv') # reading training set (data use for training model)\n",
    "\n",
    "test  = pd.read_csv('../input/titanic/test.csv')  # reading testing set (data use for testing model)\n",
    "\n",
    "dataset = train.append(test, ignore_index=True) # combine train and test data to preprocessing data easier"
   ]
  },
  {
   "cell_type": "markdown",
   "id": "changed-gasoline",
   "metadata": {
    "papermill": {
     "duration": 0.202957,
     "end_time": "2021-05-21T14:53:06.729375",
     "exception": false,
     "start_time": "2021-05-21T14:53:06.526418",
     "status": "completed"
    },
    "tags": []
   },
   "source": [
    "# Understanding The Data \n",
    "In this part , I tried to get a background of the data that im gonna use like what is the data types , how many missing values our data have ,  and describe the numeric variables of the data wuth help of (Pandas,Numpy,Python)"
   ]
  },
  {
   "cell_type": "code",
   "execution_count": 4,
   "id": "mechanical-occasion",
   "metadata": {
    "execution": {
     "iopub.execute_input": "2021-05-21T14:53:07.101654Z",
     "iopub.status.busy": "2021-05-21T14:53:07.100971Z",
     "iopub.status.idle": "2021-05-21T14:53:07.134520Z",
     "shell.execute_reply": "2021-05-21T14:53:07.135194Z",
     "shell.execute_reply.started": "2021-05-21T14:41:28.356714Z"
    },
    "papermill": {
     "duration": 0.218371,
     "end_time": "2021-05-21T14:53:07.135377",
     "exception": false,
     "start_time": "2021-05-21T14:53:06.917006",
     "status": "completed"
    },
    "tags": []
   },
   "outputs": [
    {
     "data": {
      "text/html": [
       "<div>\n",
       "<style scoped>\n",
       "    .dataframe tbody tr th:only-of-type {\n",
       "        vertical-align: middle;\n",
       "    }\n",
       "\n",
       "    .dataframe tbody tr th {\n",
       "        vertical-align: top;\n",
       "    }\n",
       "\n",
       "    .dataframe thead th {\n",
       "        text-align: right;\n",
       "    }\n",
       "</style>\n",
       "<table border=\"1\" class=\"dataframe\">\n",
       "  <thead>\n",
       "    <tr style=\"text-align: right;\">\n",
       "      <th></th>\n",
       "      <th>PassengerId</th>\n",
       "      <th>Survived</th>\n",
       "      <th>Pclass</th>\n",
       "      <th>Name</th>\n",
       "      <th>Sex</th>\n",
       "      <th>Age</th>\n",
       "      <th>SibSp</th>\n",
       "      <th>Parch</th>\n",
       "      <th>Ticket</th>\n",
       "      <th>Fare</th>\n",
       "      <th>Cabin</th>\n",
       "      <th>Embarked</th>\n",
       "    </tr>\n",
       "  </thead>\n",
       "  <tbody>\n",
       "    <tr>\n",
       "      <th>0</th>\n",
       "      <td>1</td>\n",
       "      <td>0</td>\n",
       "      <td>3</td>\n",
       "      <td>Braund, Mr. Owen Harris</td>\n",
       "      <td>male</td>\n",
       "      <td>22.0</td>\n",
       "      <td>1</td>\n",
       "      <td>0</td>\n",
       "      <td>A/5 21171</td>\n",
       "      <td>7.2500</td>\n",
       "      <td>NaN</td>\n",
       "      <td>S</td>\n",
       "    </tr>\n",
       "    <tr>\n",
       "      <th>1</th>\n",
       "      <td>2</td>\n",
       "      <td>1</td>\n",
       "      <td>1</td>\n",
       "      <td>Cumings, Mrs. John Bradley (Florence Briggs Th...</td>\n",
       "      <td>female</td>\n",
       "      <td>38.0</td>\n",
       "      <td>1</td>\n",
       "      <td>0</td>\n",
       "      <td>PC 17599</td>\n",
       "      <td>71.2833</td>\n",
       "      <td>C85</td>\n",
       "      <td>C</td>\n",
       "    </tr>\n",
       "    <tr>\n",
       "      <th>2</th>\n",
       "      <td>3</td>\n",
       "      <td>1</td>\n",
       "      <td>3</td>\n",
       "      <td>Heikkinen, Miss. Laina</td>\n",
       "      <td>female</td>\n",
       "      <td>26.0</td>\n",
       "      <td>0</td>\n",
       "      <td>0</td>\n",
       "      <td>STON/O2. 3101282</td>\n",
       "      <td>7.9250</td>\n",
       "      <td>NaN</td>\n",
       "      <td>S</td>\n",
       "    </tr>\n",
       "    <tr>\n",
       "      <th>3</th>\n",
       "      <td>4</td>\n",
       "      <td>1</td>\n",
       "      <td>1</td>\n",
       "      <td>Futrelle, Mrs. Jacques Heath (Lily May Peel)</td>\n",
       "      <td>female</td>\n",
       "      <td>35.0</td>\n",
       "      <td>1</td>\n",
       "      <td>0</td>\n",
       "      <td>113803</td>\n",
       "      <td>53.1000</td>\n",
       "      <td>C123</td>\n",
       "      <td>S</td>\n",
       "    </tr>\n",
       "    <tr>\n",
       "      <th>4</th>\n",
       "      <td>5</td>\n",
       "      <td>0</td>\n",
       "      <td>3</td>\n",
       "      <td>Allen, Mr. William Henry</td>\n",
       "      <td>male</td>\n",
       "      <td>35.0</td>\n",
       "      <td>0</td>\n",
       "      <td>0</td>\n",
       "      <td>373450</td>\n",
       "      <td>8.0500</td>\n",
       "      <td>NaN</td>\n",
       "      <td>S</td>\n",
       "    </tr>\n",
       "  </tbody>\n",
       "</table>\n",
       "</div>"
      ],
      "text/plain": [
       "   PassengerId  Survived  Pclass  \\\n",
       "0            1         0       3   \n",
       "1            2         1       1   \n",
       "2            3         1       3   \n",
       "3            4         1       1   \n",
       "4            5         0       3   \n",
       "\n",
       "                                                Name     Sex   Age  SibSp  \\\n",
       "0                            Braund, Mr. Owen Harris    male  22.0      1   \n",
       "1  Cumings, Mrs. John Bradley (Florence Briggs Th...  female  38.0      1   \n",
       "2                             Heikkinen, Miss. Laina  female  26.0      0   \n",
       "3       Futrelle, Mrs. Jacques Heath (Lily May Peel)  female  35.0      1   \n",
       "4                           Allen, Mr. William Henry    male  35.0      0   \n",
       "\n",
       "   Parch            Ticket     Fare Cabin Embarked  \n",
       "0      0         A/5 21171   7.2500   NaN        S  \n",
       "1      0          PC 17599  71.2833   C85        C  \n",
       "2      0  STON/O2. 3101282   7.9250   NaN        S  \n",
       "3      0            113803  53.1000  C123        S  \n",
       "4      0            373450   8.0500   NaN        S  "
      ]
     },
     "execution_count": 4,
     "metadata": {},
     "output_type": "execute_result"
    }
   ],
   "source": [
    "# Showing first samples of train set\n",
    "train.head()"
   ]
  },
  {
   "cell_type": "code",
   "execution_count": 5,
   "id": "british-rendering",
   "metadata": {
    "execution": {
     "iopub.execute_input": "2021-05-21T14:53:07.430160Z",
     "iopub.status.busy": "2021-05-21T14:53:07.429169Z",
     "iopub.status.idle": "2021-05-21T14:53:07.446811Z",
     "shell.execute_reply": "2021-05-21T14:53:07.447439Z",
     "shell.execute_reply.started": "2021-05-21T14:41:28.401452Z"
    },
    "papermill": {
     "duration": 0.159342,
     "end_time": "2021-05-21T14:53:07.447635",
     "exception": false,
     "start_time": "2021-05-21T14:53:07.288293",
     "status": "completed"
    },
    "tags": []
   },
   "outputs": [
    {
     "data": {
      "text/html": [
       "<div>\n",
       "<style scoped>\n",
       "    .dataframe tbody tr th:only-of-type {\n",
       "        vertical-align: middle;\n",
       "    }\n",
       "\n",
       "    .dataframe tbody tr th {\n",
       "        vertical-align: top;\n",
       "    }\n",
       "\n",
       "    .dataframe thead th {\n",
       "        text-align: right;\n",
       "    }\n",
       "</style>\n",
       "<table border=\"1\" class=\"dataframe\">\n",
       "  <thead>\n",
       "    <tr style=\"text-align: right;\">\n",
       "      <th></th>\n",
       "      <th>PassengerId</th>\n",
       "      <th>Pclass</th>\n",
       "      <th>Name</th>\n",
       "      <th>Sex</th>\n",
       "      <th>Age</th>\n",
       "      <th>SibSp</th>\n",
       "      <th>Parch</th>\n",
       "      <th>Ticket</th>\n",
       "      <th>Fare</th>\n",
       "      <th>Cabin</th>\n",
       "      <th>Embarked</th>\n",
       "    </tr>\n",
       "  </thead>\n",
       "  <tbody>\n",
       "    <tr>\n",
       "      <th>0</th>\n",
       "      <td>892</td>\n",
       "      <td>3</td>\n",
       "      <td>Kelly, Mr. James</td>\n",
       "      <td>male</td>\n",
       "      <td>34.5</td>\n",
       "      <td>0</td>\n",
       "      <td>0</td>\n",
       "      <td>330911</td>\n",
       "      <td>7.8292</td>\n",
       "      <td>NaN</td>\n",
       "      <td>Q</td>\n",
       "    </tr>\n",
       "    <tr>\n",
       "      <th>1</th>\n",
       "      <td>893</td>\n",
       "      <td>3</td>\n",
       "      <td>Wilkes, Mrs. James (Ellen Needs)</td>\n",
       "      <td>female</td>\n",
       "      <td>47.0</td>\n",
       "      <td>1</td>\n",
       "      <td>0</td>\n",
       "      <td>363272</td>\n",
       "      <td>7.0000</td>\n",
       "      <td>NaN</td>\n",
       "      <td>S</td>\n",
       "    </tr>\n",
       "    <tr>\n",
       "      <th>2</th>\n",
       "      <td>894</td>\n",
       "      <td>2</td>\n",
       "      <td>Myles, Mr. Thomas Francis</td>\n",
       "      <td>male</td>\n",
       "      <td>62.0</td>\n",
       "      <td>0</td>\n",
       "      <td>0</td>\n",
       "      <td>240276</td>\n",
       "      <td>9.6875</td>\n",
       "      <td>NaN</td>\n",
       "      <td>Q</td>\n",
       "    </tr>\n",
       "    <tr>\n",
       "      <th>3</th>\n",
       "      <td>895</td>\n",
       "      <td>3</td>\n",
       "      <td>Wirz, Mr. Albert</td>\n",
       "      <td>male</td>\n",
       "      <td>27.0</td>\n",
       "      <td>0</td>\n",
       "      <td>0</td>\n",
       "      <td>315154</td>\n",
       "      <td>8.6625</td>\n",
       "      <td>NaN</td>\n",
       "      <td>S</td>\n",
       "    </tr>\n",
       "    <tr>\n",
       "      <th>4</th>\n",
       "      <td>896</td>\n",
       "      <td>3</td>\n",
       "      <td>Hirvonen, Mrs. Alexander (Helga E Lindqvist)</td>\n",
       "      <td>female</td>\n",
       "      <td>22.0</td>\n",
       "      <td>1</td>\n",
       "      <td>1</td>\n",
       "      <td>3101298</td>\n",
       "      <td>12.2875</td>\n",
       "      <td>NaN</td>\n",
       "      <td>S</td>\n",
       "    </tr>\n",
       "  </tbody>\n",
       "</table>\n",
       "</div>"
      ],
      "text/plain": [
       "   PassengerId  Pclass                                          Name     Sex  \\\n",
       "0          892       3                              Kelly, Mr. James    male   \n",
       "1          893       3              Wilkes, Mrs. James (Ellen Needs)  female   \n",
       "2          894       2                     Myles, Mr. Thomas Francis    male   \n",
       "3          895       3                              Wirz, Mr. Albert    male   \n",
       "4          896       3  Hirvonen, Mrs. Alexander (Helga E Lindqvist)  female   \n",
       "\n",
       "    Age  SibSp  Parch   Ticket     Fare Cabin Embarked  \n",
       "0  34.5      0      0   330911   7.8292   NaN        Q  \n",
       "1  47.0      1      0   363272   7.0000   NaN        S  \n",
       "2  62.0      0      0   240276   9.6875   NaN        Q  \n",
       "3  27.0      0      0   315154   8.6625   NaN        S  \n",
       "4  22.0      1      1  3101298  12.2875   NaN        S  "
      ]
     },
     "execution_count": 5,
     "metadata": {},
     "output_type": "execute_result"
    }
   ],
   "source": [
    "# Showing first samples of test data\n",
    "test.head()"
   ]
  },
  {
   "cell_type": "code",
   "execution_count": 6,
   "id": "indian-costs",
   "metadata": {
    "execution": {
     "iopub.execute_input": "2021-05-21T14:53:07.743055Z",
     "iopub.status.busy": "2021-05-21T14:53:07.742068Z",
     "iopub.status.idle": "2021-05-21T14:53:07.774317Z",
     "shell.execute_reply": "2021-05-21T14:53:07.774969Z",
     "shell.execute_reply.started": "2021-05-21T14:41:28.422734Z"
    },
    "papermill": {
     "duration": 0.173724,
     "end_time": "2021-05-21T14:53:07.775192",
     "exception": false,
     "start_time": "2021-05-21T14:53:07.601468",
     "status": "completed"
    },
    "tags": []
   },
   "outputs": [
    {
     "name": "stdout",
     "output_type": "stream",
     "text": [
      "<class 'pandas.core.frame.DataFrame'>\n",
      "RangeIndex: 891 entries, 0 to 890\n",
      "Data columns (total 12 columns):\n",
      " #   Column       Non-Null Count  Dtype  \n",
      "---  ------       --------------  -----  \n",
      " 0   PassengerId  891 non-null    int64  \n",
      " 1   Survived     891 non-null    int64  \n",
      " 2   Pclass       891 non-null    int64  \n",
      " 3   Name         891 non-null    object \n",
      " 4   Sex          891 non-null    object \n",
      " 5   Age          714 non-null    float64\n",
      " 6   SibSp        891 non-null    int64  \n",
      " 7   Parch        891 non-null    int64  \n",
      " 8   Ticket       891 non-null    object \n",
      " 9   Fare         891 non-null    float64\n",
      " 10  Cabin        204 non-null    object \n",
      " 11  Embarked     889 non-null    object \n",
      "dtypes: float64(2), int64(5), object(5)\n",
      "memory usage: 83.7+ KB\n",
      "\u001b[32m******************************************\u001b[0m\n",
      "<class 'pandas.core.frame.DataFrame'>\n",
      "RangeIndex: 418 entries, 0 to 417\n",
      "Data columns (total 11 columns):\n",
      " #   Column       Non-Null Count  Dtype  \n",
      "---  ------       --------------  -----  \n",
      " 0   PassengerId  418 non-null    int64  \n",
      " 1   Pclass       418 non-null    int64  \n",
      " 2   Name         418 non-null    object \n",
      " 3   Sex          418 non-null    object \n",
      " 4   Age          332 non-null    float64\n",
      " 5   SibSp        418 non-null    int64  \n",
      " 6   Parch        418 non-null    int64  \n",
      " 7   Ticket       418 non-null    object \n",
      " 8   Fare         417 non-null    float64\n",
      " 9   Cabin        91 non-null     object \n",
      " 10  Embarked     418 non-null    object \n",
      "dtypes: float64(2), int64(4), object(5)\n",
      "memory usage: 36.0+ KB\n"
     ]
    }
   ],
   "source": [
    "# Showing Count of null Values and Data type of Train & Test data\n",
    "train.info()\n",
    "\n",
    "cprint('*'*42,'green')  # print colorfull text with cprint \n",
    "\n",
    "test.info()"
   ]
  },
  {
   "cell_type": "code",
   "execution_count": 7,
   "id": "ranging-editor",
   "metadata": {
    "execution": {
     "iopub.execute_input": "2021-05-21T14:53:08.068631Z",
     "iopub.status.busy": "2021-05-21T14:53:08.067955Z",
     "iopub.status.idle": "2021-05-21T14:53:08.113184Z",
     "shell.execute_reply": "2021-05-21T14:53:08.112608Z",
     "shell.execute_reply.started": "2021-05-21T14:41:28.471747Z"
    },
    "papermill": {
     "duration": 0.192693,
     "end_time": "2021-05-21T14:53:08.113341",
     "exception": false,
     "start_time": "2021-05-21T14:53:07.920648",
     "status": "completed"
    },
    "tags": []
   },
   "outputs": [
    {
     "data": {
      "text/html": [
       "<div>\n",
       "<style scoped>\n",
       "    .dataframe tbody tr th:only-of-type {\n",
       "        vertical-align: middle;\n",
       "    }\n",
       "\n",
       "    .dataframe tbody tr th {\n",
       "        vertical-align: top;\n",
       "    }\n",
       "\n",
       "    .dataframe thead th {\n",
       "        text-align: right;\n",
       "    }\n",
       "</style>\n",
       "<table border=\"1\" class=\"dataframe\">\n",
       "  <thead>\n",
       "    <tr style=\"text-align: right;\">\n",
       "      <th></th>\n",
       "      <th>PassengerId</th>\n",
       "      <th>Survived</th>\n",
       "      <th>Pclass</th>\n",
       "      <th>Age</th>\n",
       "      <th>SibSp</th>\n",
       "      <th>Parch</th>\n",
       "      <th>Fare</th>\n",
       "    </tr>\n",
       "  </thead>\n",
       "  <tbody>\n",
       "    <tr>\n",
       "      <th>count</th>\n",
       "      <td>891.000000</td>\n",
       "      <td>891.000000</td>\n",
       "      <td>891.000000</td>\n",
       "      <td>714.000000</td>\n",
       "      <td>891.000000</td>\n",
       "      <td>891.000000</td>\n",
       "      <td>891.000000</td>\n",
       "    </tr>\n",
       "    <tr>\n",
       "      <th>mean</th>\n",
       "      <td>446.000000</td>\n",
       "      <td>0.383838</td>\n",
       "      <td>2.308642</td>\n",
       "      <td>29.699118</td>\n",
       "      <td>0.523008</td>\n",
       "      <td>0.381594</td>\n",
       "      <td>32.204208</td>\n",
       "    </tr>\n",
       "    <tr>\n",
       "      <th>std</th>\n",
       "      <td>257.353842</td>\n",
       "      <td>0.486592</td>\n",
       "      <td>0.836071</td>\n",
       "      <td>14.526497</td>\n",
       "      <td>1.102743</td>\n",
       "      <td>0.806057</td>\n",
       "      <td>49.693429</td>\n",
       "    </tr>\n",
       "    <tr>\n",
       "      <th>min</th>\n",
       "      <td>1.000000</td>\n",
       "      <td>0.000000</td>\n",
       "      <td>1.000000</td>\n",
       "      <td>0.420000</td>\n",
       "      <td>0.000000</td>\n",
       "      <td>0.000000</td>\n",
       "      <td>0.000000</td>\n",
       "    </tr>\n",
       "    <tr>\n",
       "      <th>25%</th>\n",
       "      <td>223.500000</td>\n",
       "      <td>0.000000</td>\n",
       "      <td>2.000000</td>\n",
       "      <td>20.125000</td>\n",
       "      <td>0.000000</td>\n",
       "      <td>0.000000</td>\n",
       "      <td>7.910400</td>\n",
       "    </tr>\n",
       "    <tr>\n",
       "      <th>50%</th>\n",
       "      <td>446.000000</td>\n",
       "      <td>0.000000</td>\n",
       "      <td>3.000000</td>\n",
       "      <td>28.000000</td>\n",
       "      <td>0.000000</td>\n",
       "      <td>0.000000</td>\n",
       "      <td>14.454200</td>\n",
       "    </tr>\n",
       "    <tr>\n",
       "      <th>75%</th>\n",
       "      <td>668.500000</td>\n",
       "      <td>1.000000</td>\n",
       "      <td>3.000000</td>\n",
       "      <td>38.000000</td>\n",
       "      <td>1.000000</td>\n",
       "      <td>0.000000</td>\n",
       "      <td>31.000000</td>\n",
       "    </tr>\n",
       "    <tr>\n",
       "      <th>max</th>\n",
       "      <td>891.000000</td>\n",
       "      <td>1.000000</td>\n",
       "      <td>3.000000</td>\n",
       "      <td>80.000000</td>\n",
       "      <td>8.000000</td>\n",
       "      <td>6.000000</td>\n",
       "      <td>512.329200</td>\n",
       "    </tr>\n",
       "  </tbody>\n",
       "</table>\n",
       "</div>"
      ],
      "text/plain": [
       "       PassengerId    Survived      Pclass         Age       SibSp  \\\n",
       "count   891.000000  891.000000  891.000000  714.000000  891.000000   \n",
       "mean    446.000000    0.383838    2.308642   29.699118    0.523008   \n",
       "std     257.353842    0.486592    0.836071   14.526497    1.102743   \n",
       "min       1.000000    0.000000    1.000000    0.420000    0.000000   \n",
       "25%     223.500000    0.000000    2.000000   20.125000    0.000000   \n",
       "50%     446.000000    0.000000    3.000000   28.000000    0.000000   \n",
       "75%     668.500000    1.000000    3.000000   38.000000    1.000000   \n",
       "max     891.000000    1.000000    3.000000   80.000000    8.000000   \n",
       "\n",
       "            Parch        Fare  \n",
       "count  891.000000  891.000000  \n",
       "mean     0.381594   32.204208  \n",
       "std      0.806057   49.693429  \n",
       "min      0.000000    0.000000  \n",
       "25%      0.000000    7.910400  \n",
       "50%      0.000000   14.454200  \n",
       "75%      0.000000   31.000000  \n",
       "max      6.000000  512.329200  "
      ]
     },
     "execution_count": 7,
     "metadata": {},
     "output_type": "execute_result"
    }
   ],
   "source": [
    "# using .describe() to understand better  numeric data of train data\n",
    "train.describe()"
   ]
  },
  {
   "cell_type": "code",
   "execution_count": 8,
   "id": "located-muscle",
   "metadata": {
    "execution": {
     "iopub.execute_input": "2021-05-21T14:53:08.405293Z",
     "iopub.status.busy": "2021-05-21T14:53:08.404658Z",
     "iopub.status.idle": "2021-05-21T14:53:08.438914Z",
     "shell.execute_reply": "2021-05-21T14:53:08.438324Z",
     "shell.execute_reply.started": "2021-05-21T14:41:28.516515Z"
    },
    "papermill": {
     "duration": 0.178301,
     "end_time": "2021-05-21T14:53:08.439070",
     "exception": false,
     "start_time": "2021-05-21T14:53:08.260769",
     "status": "completed"
    },
    "tags": []
   },
   "outputs": [
    {
     "data": {
      "text/html": [
       "<div>\n",
       "<style scoped>\n",
       "    .dataframe tbody tr th:only-of-type {\n",
       "        vertical-align: middle;\n",
       "    }\n",
       "\n",
       "    .dataframe tbody tr th {\n",
       "        vertical-align: top;\n",
       "    }\n",
       "\n",
       "    .dataframe thead th {\n",
       "        text-align: right;\n",
       "    }\n",
       "</style>\n",
       "<table border=\"1\" class=\"dataframe\">\n",
       "  <thead>\n",
       "    <tr style=\"text-align: right;\">\n",
       "      <th></th>\n",
       "      <th>PassengerId</th>\n",
       "      <th>Pclass</th>\n",
       "      <th>Age</th>\n",
       "      <th>SibSp</th>\n",
       "      <th>Parch</th>\n",
       "      <th>Fare</th>\n",
       "    </tr>\n",
       "  </thead>\n",
       "  <tbody>\n",
       "    <tr>\n",
       "      <th>count</th>\n",
       "      <td>418.000000</td>\n",
       "      <td>418.000000</td>\n",
       "      <td>332.000000</td>\n",
       "      <td>418.000000</td>\n",
       "      <td>418.000000</td>\n",
       "      <td>417.000000</td>\n",
       "    </tr>\n",
       "    <tr>\n",
       "      <th>mean</th>\n",
       "      <td>1100.500000</td>\n",
       "      <td>2.265550</td>\n",
       "      <td>30.272590</td>\n",
       "      <td>0.447368</td>\n",
       "      <td>0.392344</td>\n",
       "      <td>35.627188</td>\n",
       "    </tr>\n",
       "    <tr>\n",
       "      <th>std</th>\n",
       "      <td>120.810458</td>\n",
       "      <td>0.841838</td>\n",
       "      <td>14.181209</td>\n",
       "      <td>0.896760</td>\n",
       "      <td>0.981429</td>\n",
       "      <td>55.907576</td>\n",
       "    </tr>\n",
       "    <tr>\n",
       "      <th>min</th>\n",
       "      <td>892.000000</td>\n",
       "      <td>1.000000</td>\n",
       "      <td>0.170000</td>\n",
       "      <td>0.000000</td>\n",
       "      <td>0.000000</td>\n",
       "      <td>0.000000</td>\n",
       "    </tr>\n",
       "    <tr>\n",
       "      <th>25%</th>\n",
       "      <td>996.250000</td>\n",
       "      <td>1.000000</td>\n",
       "      <td>21.000000</td>\n",
       "      <td>0.000000</td>\n",
       "      <td>0.000000</td>\n",
       "      <td>7.895800</td>\n",
       "    </tr>\n",
       "    <tr>\n",
       "      <th>50%</th>\n",
       "      <td>1100.500000</td>\n",
       "      <td>3.000000</td>\n",
       "      <td>27.000000</td>\n",
       "      <td>0.000000</td>\n",
       "      <td>0.000000</td>\n",
       "      <td>14.454200</td>\n",
       "    </tr>\n",
       "    <tr>\n",
       "      <th>75%</th>\n",
       "      <td>1204.750000</td>\n",
       "      <td>3.000000</td>\n",
       "      <td>39.000000</td>\n",
       "      <td>1.000000</td>\n",
       "      <td>0.000000</td>\n",
       "      <td>31.500000</td>\n",
       "    </tr>\n",
       "    <tr>\n",
       "      <th>max</th>\n",
       "      <td>1309.000000</td>\n",
       "      <td>3.000000</td>\n",
       "      <td>76.000000</td>\n",
       "      <td>8.000000</td>\n",
       "      <td>9.000000</td>\n",
       "      <td>512.329200</td>\n",
       "    </tr>\n",
       "  </tbody>\n",
       "</table>\n",
       "</div>"
      ],
      "text/plain": [
       "       PassengerId      Pclass         Age       SibSp       Parch        Fare\n",
       "count   418.000000  418.000000  332.000000  418.000000  418.000000  417.000000\n",
       "mean   1100.500000    2.265550   30.272590    0.447368    0.392344   35.627188\n",
       "std     120.810458    0.841838   14.181209    0.896760    0.981429   55.907576\n",
       "min     892.000000    1.000000    0.170000    0.000000    0.000000    0.000000\n",
       "25%     996.250000    1.000000   21.000000    0.000000    0.000000    7.895800\n",
       "50%    1100.500000    3.000000   27.000000    0.000000    0.000000   14.454200\n",
       "75%    1204.750000    3.000000   39.000000    1.000000    0.000000   31.500000\n",
       "max    1309.000000    3.000000   76.000000    8.000000    9.000000  512.329200"
      ]
     },
     "execution_count": 8,
     "metadata": {},
     "output_type": "execute_result"
    }
   ],
   "source": [
    "# using .describe() to understand better numeric data of test data\n",
    "test.describe()"
   ]
  },
  {
   "cell_type": "code",
   "execution_count": 9,
   "id": "guilty-peoples",
   "metadata": {
    "execution": {
     "iopub.execute_input": "2021-05-21T14:53:08.728541Z",
     "iopub.status.busy": "2021-05-21T14:53:08.727782Z",
     "iopub.status.idle": "2021-05-21T14:53:09.654866Z",
     "shell.execute_reply": "2021-05-21T14:53:09.654084Z",
     "shell.execute_reply.started": "2021-05-21T14:41:28.552578Z"
    },
    "papermill": {
     "duration": 1.070723,
     "end_time": "2021-05-21T14:53:09.655230",
     "exception": false,
     "start_time": "2021-05-21T14:53:08.584507",
     "status": "completed"
    },
    "tags": []
   },
   "outputs": [
    {
     "name": "stdout",
     "output_type": "stream",
     "text": [
      "\u001b[32mNull Values in Training Data :\u001b[0m\n",
      "PassengerId      0\n",
      "Survived         0\n",
      "Pclass           0\n",
      "Name             0\n",
      "Sex              0\n",
      "Age            177\n",
      "SibSp            0\n",
      "Parch            0\n",
      "Ticket           0\n",
      "Fare             0\n",
      "Cabin          687\n",
      "Embarked         2\n",
      "dtype: int64\n",
      "\u001b[32mNull Values in Test Data :\u001b[0m\n",
      "PassengerId      0\n",
      "Pclass           0\n",
      "Name             0\n",
      "Sex              0\n",
      "Age             86\n",
      "SibSp            0\n",
      "Parch            0\n",
      "Ticket           0\n",
      "Fare             1\n",
      "Cabin          327\n",
      "Embarked         0\n",
      "dtype: int64\n"
     ]
    },
    {
     "data": {
      "image/png": "[encoded data removed]",
      "text/plain": [
       "<Figure size 1296x1296 with 4 Axes>"
      ]
     },
     "metadata": {},
     "output_type": "display_data"
    }
   ],
   "source": [
    "cprint('Null Values in Training Data :','green')\n",
    "print(train.isnull().sum()) # showing null values of train data\n",
    "cprint('Null Values in Test Data :','green')\n",
    "print(test.isnull().sum()) # showing null values  of test data\n",
    "\n",
    "plt.figure(figsize=(18,18))\n",
    "\n",
    "# using .heatmap() from seaborn to visualize null values\n",
    "plt.subplot(221)\n",
    "sns.heatmap(train.isnull(), yticklabels = False, cmap='plasma')\n",
    "plt.title('Null Values Of Train Data ',size=15);\n",
    "plt.subplot(222)\n",
    "sns.heatmap(test.isnull(), yticklabels = False)\n",
    "plt.title('Null Values Of Test Data',size=15);"
   ]
  },
  {
   "cell_type": "markdown",
   "id": "ordinary-marathon",
   "metadata": {
    "papermill": {
     "duration": 0.492172,
     "end_time": "2021-05-21T14:53:10.295652",
     "exception": false,
     "start_time": "2021-05-21T14:53:09.803480",
     "status": "completed"
    },
    "tags": []
   },
   "source": [
    "# Data Visualization \n",
    "this part realy helped me to understand data better especially for (feature engineering and data cleaning) for example what's the percent of survived and mean age of each Pclass and ... , with help of seaborn and matplotlib to visualize the data"
   ]
  },
  {
   "cell_type": "code",
   "execution_count": 10,
   "id": "norman-functionality",
   "metadata": {
    "execution": {
     "iopub.execute_input": "2021-05-21T14:53:10.891979Z",
     "iopub.status.busy": "2021-05-21T14:53:10.878144Z",
     "iopub.status.idle": "2021-05-21T14:53:11.240785Z",
     "shell.execute_reply": "2021-05-21T14:53:11.241248Z",
     "shell.execute_reply.started": "2021-05-21T14:41:29.621463Z"
    },
    "papermill": {
     "duration": 0.533606,
     "end_time": "2021-05-21T14:53:11.241442",
     "exception": false,
     "start_time": "2021-05-21T14:53:10.707836",
     "status": "completed"
    },
    "tags": []
   },
   "outputs": [
    {
     "name": "stdout",
     "output_type": "stream",
     "text": [
      "\u001b[32mPercent Of Survived :\u001b[0m\n",
      "      Sex  Survived\n",
      "0  female  0.742038\n",
      "1    male  0.188908\n",
      "\u001b[32mCount Of Male/Female :\u001b[0m\n",
      "Sex\n",
      "female    314\n",
      "male      577\n",
      "dtype: int64\n"
     ]
    },
    {
     "data": {
      "text/plain": [
       "Text(0.5, 1.0, 'Number of passenger did/didnt Survived By Gender')"
      ]
     },
     "execution_count": 10,
     "metadata": {},
     "output_type": "execute_result"
    },
    {
     "data": {
      "image/png": "[encoded data removed]",
      "text/plain": [
       "<Figure size 1008x432 with 2 Axes>"
      ]
     },
     "metadata": {},
     "output_type": "display_data"
    }
   ],
   "source": [
    "cprint('Percent Of Survived :','green')\n",
    "# Showing  Percentage of survivors of Both gender Male/Female\n",
    "print(train[['Sex', 'Survived']].groupby(['Sex'], as_index=False).mean().sort_values(by='Survived', ascending=False))\n",
    "\n",
    "cprint('Count Of Male/Female :','green')\n",
    "# Showing  Count of Both gender Male/Female\n",
    "print(train.groupby('Sex').size())\n",
    "\n",
    "fig, (axis1,axis2) = plt.subplots(1,2,figsize=(14,6))\n",
    "\n",
    "# using .countplot() from seaborn to visualize  Count of each gender and survived percent\n",
    "sns.countplot(x = 'Survived', hue='Sex', data=train, ax =  axis1)\n",
    "axis2.set_title('Number of passenger Survived By Gender')\n",
    "\n",
    "sns.countplot(x='Sex',data=train,hue='Sex', ax = axis2)\n",
    "axis1.set_title('Number of passenger did/didnt Survived By Gender')"
   ]
  },
  {
   "cell_type": "code",
   "execution_count": 11,
   "id": "spatial-drain",
   "metadata": {
    "execution": {
     "iopub.execute_input": "2021-05-21T14:53:11.539662Z",
     "iopub.status.busy": "2021-05-21T14:53:11.538465Z",
     "iopub.status.idle": "2021-05-21T14:53:12.459090Z",
     "shell.execute_reply": "2021-05-21T14:53:12.459586Z",
     "shell.execute_reply.started": "2021-05-21T14:41:30.011762Z"
    },
    "papermill": {
     "duration": 1.071848,
     "end_time": "2021-05-21T14:53:12.459768",
     "exception": false,
     "start_time": "2021-05-21T14:53:11.387920",
     "status": "completed"
    },
    "tags": []
   },
   "outputs": [
    {
     "data": {
      "text/plain": [
       "<seaborn.axisgrid.FacetGrid at 0x7fe756be3f90>"
      ]
     },
     "execution_count": 11,
     "metadata": {},
     "output_type": "execute_result"
    },
    {
     "data": {
      "image/png": "[encoded data removed]",
      "text/plain": [
       "<Figure size 1080x360 with 3 Axes>"
      ]
     },
     "metadata": {},
     "output_type": "display_data"
    }
   ],
   "source": [
    "# using .catplot() from  seaborn to  visualize count of survived gender  in each Pclass\n",
    "sns.catplot(x = 'Sex', y = 'Survived', data = train, kind = 'bar', col = 'Pclass')"
   ]
  },
  {
   "cell_type": "code",
   "execution_count": 12,
   "id": "afraid-patient",
   "metadata": {
    "execution": {
     "iopub.execute_input": "2021-05-21T14:53:12.831557Z",
     "iopub.status.busy": "2021-05-21T14:53:12.819205Z",
     "iopub.status.idle": "2021-05-21T14:53:13.215198Z",
     "shell.execute_reply": "2021-05-21T14:53:13.215784Z",
     "shell.execute_reply.started": "2021-05-21T14:41:30.864313Z"
    },
    "papermill": {
     "duration": 0.586944,
     "end_time": "2021-05-21T14:53:13.215978",
     "exception": false,
     "start_time": "2021-05-21T14:53:12.629034",
     "status": "completed"
    },
    "tags": []
   },
   "outputs": [
    {
     "name": "stdout",
     "output_type": "stream",
     "text": [
      "\u001b[32mPercent Of Survived :\u001b[0m\n",
      "  Embarked  Survived\n",
      "0        C  0.553571\n",
      "1        Q  0.389610\n",
      "2        S  0.336957\n",
      "\u001b[32mCount Of Each Embarked  :\u001b[0m\n",
      "Embarked\n",
      "C    168\n",
      "Q     77\n",
      "S    644\n",
      "dtype: int64\n"
     ]
    },
    {
     "data": {
      "text/plain": [
       "Text(0.5, 1.0, 'Number of passenger Survived in each Pclass')"
      ]
     },
     "execution_count": 12,
     "metadata": {},
     "output_type": "execute_result"
    },
    {
     "data": {
      "image/png": "[encoded data removed]",
      "text/plain": [
       "<Figure size 1008x432 with 2 Axes>"
      ]
     },
     "metadata": {},
     "output_type": "display_data"
    }
   ],
   "source": [
    "cprint('Percent Of Survived :','green')\n",
    "\n",
    "# Showing  Percentage of survivors of Each Embarked\n",
    "print(train[['Embarked', 'Survived']].groupby(['Embarked'], as_index=False).mean().sort_values(by='Survived', ascending=False))\n",
    "\n",
    "cprint('Count Of Each Embarked  :','green')\n",
    "\n",
    "# Showing  Count  of Pepole  of Each Embarked\n",
    "print(train.groupby('Embarked').size())\n",
    "\n",
    "fig, (axis1,axis2) = plt.subplots(1,2,figsize=(14,6))\n",
    "\n",
    "# Showing  count of survived of Each Embarked\n",
    "sns.countplot('Embarked', hue = 'Survived', data = train,ax=axis1)\n",
    "axis1.set_title('Number of passenger did/didnt Survived in each Pclass')\n",
    "sns.countplot(x='Survived',data=train,hue='Embarked', ax = axis2)\n",
    "axis2.set_title('Number of passenger Survived in each Pclass')\n"
   ]
  },
  {
   "cell_type": "code",
   "execution_count": 13,
   "id": "global-passion",
   "metadata": {
    "execution": {
     "iopub.execute_input": "2021-05-21T14:53:13.523277Z",
     "iopub.status.busy": "2021-05-21T14:53:13.522586Z",
     "iopub.status.idle": "2021-05-21T14:53:14.254665Z",
     "shell.execute_reply": "2021-05-21T14:53:14.255140Z",
     "shell.execute_reply.started": "2021-05-21T14:41:32.030515Z"
    },
    "papermill": {
     "duration": 0.889394,
     "end_time": "2021-05-21T14:53:14.255319",
     "exception": false,
     "start_time": "2021-05-21T14:53:13.365925",
     "status": "completed"
    },
    "tags": []
   },
   "outputs": [
    {
     "data": {
      "text/plain": [
       "<seaborn.axisgrid.FacetGrid at 0x7fe7567c0e50>"
      ]
     },
     "execution_count": 13,
     "metadata": {},
     "output_type": "execute_result"
    },
    {
     "data": {
      "image/png": "[encoded data removed]",
      "text/plain": [
       "<Figure size 720x360 with 2 Axes>"
      ]
     },
     "metadata": {},
     "output_type": "display_data"
    }
   ],
   "source": [
    "sns.catplot(x = 'Embarked', y = 'Survived', kind = 'bar', data = train, col = 'Sex')"
   ]
  },
  {
   "cell_type": "code",
   "execution_count": 14,
   "id": "continuous-endorsement",
   "metadata": {
    "execution": {
     "iopub.execute_input": "2021-05-21T14:53:14.553777Z",
     "iopub.status.busy": "2021-05-21T14:53:14.553083Z",
     "iopub.status.idle": "2021-05-21T14:53:14.854890Z",
     "shell.execute_reply": "2021-05-21T14:53:14.854300Z",
     "shell.execute_reply.started": "2021-05-21T14:41:32.648188Z"
    },
    "papermill": {
     "duration": 0.451805,
     "end_time": "2021-05-21T14:53:14.855080",
     "exception": false,
     "start_time": "2021-05-21T14:53:14.403275",
     "status": "completed"
    },
    "tags": []
   },
   "outputs": [
    {
     "data": {
      "text/plain": [
       "Text(0.5, 1.0, 'Age Distribution of passengers')"
      ]
     },
     "execution_count": 14,
     "metadata": {},
     "output_type": "execute_result"
    },
    {
     "data": {
      "image/png": "[encoded data removed]",
      "text/plain": [
       "<Figure size 1008x432 with 1 Axes>"
      ]
     },
     "metadata": {},
     "output_type": "display_data"
    }
   ],
   "source": [
    "plt.figure(figsize = (14, 6))\n",
    "# showing distribute of age column with .distplot() of seaborn\n",
    "sns.distplot(train['Age'])\n",
    "plt.title('Age Distribution of passengers',)"
   ]
  },
  {
   "cell_type": "code",
   "execution_count": 15,
   "id": "changing-sport",
   "metadata": {
    "execution": {
     "iopub.execute_input": "2021-05-21T14:53:15.209203Z",
     "iopub.status.busy": "2021-05-21T14:53:15.208516Z",
     "iopub.status.idle": "2021-05-21T14:53:15.529772Z",
     "shell.execute_reply": "2021-05-21T14:53:15.530253Z",
     "shell.execute_reply.started": "2021-05-21T14:41:32.924167Z"
    },
    "papermill": {
     "duration": 0.521142,
     "end_time": "2021-05-21T14:53:15.530454",
     "exception": false,
     "start_time": "2021-05-21T14:53:15.009312",
     "status": "completed"
    },
    "tags": []
   },
   "outputs": [
    {
     "data": {
      "text/plain": [
       "Text(0.5, 1.0, 'Mean Value of Age of each gender')"
      ]
     },
     "execution_count": 15,
     "metadata": {},
     "output_type": "execute_result"
    },
    {
     "data": {
      "image/png": "[encoded data removed]",
      "text/plain": [
       "<Figure size 720x360 with 1 Axes>"
      ]
     },
     "metadata": {},
     "output_type": "display_data"
    }
   ],
   "source": [
    "# showing mean age of Male/Female using boxplot\n",
    "sns.catplot(x = 'Sex', y = 'Age', kind = 'box', data = train, height = 5, aspect = 2)\n",
    "plt.title('Mean Value of Age of each gender',)"
   ]
  },
  {
   "cell_type": "code",
   "execution_count": 16,
   "id": "vocal-shelter",
   "metadata": {
    "execution": {
     "iopub.execute_input": "2021-05-21T14:53:15.836912Z",
     "iopub.status.busy": "2021-05-21T14:53:15.836180Z",
     "iopub.status.idle": "2021-05-21T14:53:16.646325Z",
     "shell.execute_reply": "2021-05-21T14:53:16.646913Z",
     "shell.execute_reply.started": "2021-05-21T14:41:33.199315Z"
    },
    "papermill": {
     "duration": 0.966657,
     "end_time": "2021-05-21T14:53:16.647105",
     "exception": false,
     "start_time": "2021-05-21T14:53:15.680448",
     "status": "completed"
    },
    "tags": []
   },
   "outputs": [
    {
     "data": {
      "text/plain": [
       "Text(0.5, 0.98, 'Mean Value of Age of each male/femlae in  Pclasses')"
      ]
     },
     "execution_count": 16,
     "metadata": {},
     "output_type": "execute_result"
    },
    {
     "data": {
      "image/png": "[encoded data removed]",
      "text/plain": [
       "<Figure size 1080x360 with 3 Axes>"
      ]
     },
     "metadata": {},
     "output_type": "display_data"
    }
   ],
   "source": [
    "# showing mean age of each geneder of each Ticket class (Pclass) using boxplot\n",
    "sns.catplot(x = 'Sex', y = 'Age', kind = 'box', data = train, col = 'Pclass')\n",
    "#plt.title('Mean Value of Age of each male/femlae in  Pclasses')\n",
    "plt.suptitle('Mean Value of Age of each male/femlae in  Pclasses')"
   ]
  },
  {
   "cell_type": "code",
   "execution_count": 17,
   "id": "essential-horse",
   "metadata": {
    "execution": {
     "iopub.execute_input": "2021-05-21T14:53:16.965519Z",
     "iopub.status.busy": "2021-05-21T14:53:16.963899Z",
     "iopub.status.idle": "2021-05-21T14:53:17.209058Z",
     "shell.execute_reply": "2021-05-21T14:53:17.209824Z",
     "shell.execute_reply.started": "2021-05-21T14:41:33.872497Z"
    },
    "papermill": {
     "duration": 0.407191,
     "end_time": "2021-05-21T14:53:17.210051",
     "exception": false,
     "start_time": "2021-05-21T14:53:16.802860",
     "status": "completed"
    },
    "tags": []
   },
   "outputs": [
    {
     "data": {
      "text/plain": [
       "Text(0.5, 1.0, 'Mean Value of Age of each  Pclass Passengers (Train Data)')"
      ]
     },
     "execution_count": 17,
     "metadata": {},
     "output_type": "execute_result"
    },
    {
     "data": {
      "image/png": "[encoded data removed]",
      "text/plain": [
       "<Figure size 1008x432 with 1 Axes>"
      ]
     },
     "metadata": {},
     "output_type": "display_data"
    }
   ],
   "source": [
    "plt.figure(figsize = (14, 6))\n",
    "# showing mean age of each Ticket class (Pclass) using boxplot\n",
    "sns.boxplot(x='Pclass',y='Age',data=train)\n",
    "plt.title('Mean Value of Age of each  Pclass Passengers (Train Data)',)"
   ]
  },
  {
   "cell_type": "code",
   "execution_count": 18,
   "id": "promising-shepherd",
   "metadata": {
    "execution": {
     "iopub.execute_input": "2021-05-21T14:53:17.534213Z",
     "iopub.status.busy": "2021-05-21T14:53:17.533124Z",
     "iopub.status.idle": "2021-05-21T14:53:17.761226Z",
     "shell.execute_reply": "2021-05-21T14:53:17.761772Z",
     "shell.execute_reply.started": "2021-05-21T14:41:34.081983Z"
    },
    "papermill": {
     "duration": 0.387388,
     "end_time": "2021-05-21T14:53:17.761951",
     "exception": false,
     "start_time": "2021-05-21T14:53:17.374563",
     "status": "completed"
    },
    "tags": []
   },
   "outputs": [
    {
     "data": {
      "text/plain": [
       "Text(0.5, 1.0, 'Mean Value of Age of each  Pclass Passengers (Test Data)')"
      ]
     },
     "execution_count": 18,
     "metadata": {},
     "output_type": "execute_result"
    },
    {
     "data": {
      "image/png": "[encoded data removed]",
      "text/plain": [
       "<Figure size 1008x432 with 1 Axes>"
      ]
     },
     "metadata": {},
     "output_type": "display_data"
    }
   ],
   "source": [
    "plt.figure(figsize = (14, 6))\n",
    "# showing mean age of each Ticket class (Pclass) using boxplot for test data\n",
    "sns.boxplot(x='Pclass',y='Age',data=test)\n",
    "plt.title('Mean Value of Age of each  Pclass Passengers (Test Data)',)"
   ]
  },
  {
   "cell_type": "code",
   "execution_count": 19,
   "id": "hydraulic-honduras",
   "metadata": {
    "execution": {
     "iopub.execute_input": "2021-05-21T14:53:18.079880Z",
     "iopub.status.busy": "2021-05-21T14:53:18.078876Z",
     "iopub.status.idle": "2021-05-21T14:53:18.443862Z",
     "shell.execute_reply": "2021-05-21T14:53:18.444701Z",
     "shell.execute_reply.started": "2021-05-21T14:41:34.296452Z"
    },
    "papermill": {
     "duration": 0.525755,
     "end_time": "2021-05-21T14:53:18.444942",
     "exception": false,
     "start_time": "2021-05-21T14:53:17.919187",
     "status": "completed"
    },
    "tags": []
   },
   "outputs": [
    {
     "data": {
      "text/plain": [
       "Text(0.5, 1.0, 'Difference in the amount of \\xa0Fare paid')"
      ]
     },
     "execution_count": 19,
     "metadata": {},
     "output_type": "execute_result"
    },
    {
     "data": {
      "image/png": "[encoded data removed]",
      "text/plain": [
       "<Figure size 1008x432 with 1 Axes>"
      ]
     },
     "metadata": {},
     "output_type": "display_data"
    }
   ],
   "source": [
    "plt.figure(figsize = (14, 6))\n",
    "# showing histogram of Paid Fare using .hist() of matplotlib \n",
    "plt.hist('Fare',data=train, bins = 60)\n",
    "plt.title('Difference in the amount of  Fare paid')"
   ]
  },
  {
   "cell_type": "code",
   "execution_count": 20,
   "id": "eleven-management",
   "metadata": {
    "execution": {
     "iopub.execute_input": "2021-05-21T14:53:18.776190Z",
     "iopub.status.busy": "2021-05-21T14:53:18.775157Z",
     "iopub.status.idle": "2021-05-21T14:53:19.252660Z",
     "shell.execute_reply": "2021-05-21T14:53:19.253462Z",
     "shell.execute_reply.started": "2021-05-21T14:41:34.608685Z"
    },
    "papermill": {
     "duration": 0.644202,
     "end_time": "2021-05-21T14:53:19.253711",
     "exception": false,
     "start_time": "2021-05-21T14:53:18.609509",
     "status": "completed"
    },
    "tags": []
   },
   "outputs": [
    {
     "name": "stdout",
     "output_type": "stream",
     "text": [
      "\u001b[32mPercent Of Survived :\u001b[0m\n",
      "   SibSp  Survived\n",
      "1      1  0.535885\n",
      "2      2  0.464286\n",
      "0      0  0.345395\n",
      "3      3  0.250000\n",
      "4      4  0.166667\n",
      "5      5  0.000000\n",
      "6      8  0.000000\n",
      "\u001b[32mCount Of Each Embarked  :\u001b[0m\n",
      "SibSp\n",
      "0    608\n",
      "1    209\n",
      "2     28\n",
      "3     16\n",
      "4     18\n",
      "5      5\n",
      "8      7\n",
      "dtype: int64\n"
     ]
    },
    {
     "data": {
      "text/plain": [
       "Text(0.5, 1.0, 'Number of Siblings or  couples  Survived by gender')"
      ]
     },
     "execution_count": 20,
     "metadata": {},
     "output_type": "execute_result"
    },
    {
     "data": {
      "image/png": "[encoded data removed]",
      "text/plain": [
       "<Figure size 1008x432 with 1 Axes>"
      ]
     },
     "metadata": {},
     "output_type": "display_data"
    }
   ],
   "source": [
    "cprint('Percent Of Survived :','green')\n",
    "# Showing  Percentage of survivors of Siblings or  couples \n",
    "print(train[['SibSp', 'Survived']].groupby(['SibSp'], as_index=False).mean().sort_values(by='Survived', ascending=False))\n",
    "cprint('Count Of Each Embarked  :','green')\n",
    "# Showing  count of   Siblings or  couples \n",
    "print(train.groupby('SibSp').size())\n",
    "plt.figure(figsize = (14, 6))\n",
    "# using .countplot() of seaborn to  visualize  Count survived Siblings or  couples \n",
    "sns.countplot(x = 'SibSp', data = train, hue = 'Survived')\n",
    "plt.title('Number of Siblings or  couples  Survived by gender')"
   ]
  },
  {
   "cell_type": "code",
   "execution_count": 21,
   "id": "lined-clearance",
   "metadata": {
    "execution": {
     "iopub.execute_input": "2021-05-21T14:53:19.597018Z",
     "iopub.status.busy": "2021-05-21T14:53:19.596271Z",
     "iopub.status.idle": "2021-05-21T14:53:20.550779Z",
     "shell.execute_reply": "2021-05-21T14:53:20.550173Z",
     "shell.execute_reply.started": "2021-05-21T14:41:35.036079Z"
    },
    "papermill": {
     "duration": 1.126794,
     "end_time": "2021-05-21T14:53:20.550933",
     "exception": false,
     "start_time": "2021-05-21T14:53:19.424139",
     "status": "completed"
    },
    "tags": []
   },
   "outputs": [
    {
     "name": "stdout",
     "output_type": "stream",
     "text": [
      "\u001b[32mPercent Of Survived :\u001b[0m\n",
      "   Parch  Survived\n",
      "3      3  0.600000\n",
      "1      1  0.550847\n",
      "2      2  0.500000\n",
      "0      0  0.343658\n",
      "5      5  0.200000\n",
      "4      4  0.000000\n",
      "6      6  0.000000\n",
      "\u001b[32mCount Of Each Embarked  :\u001b[0m\n",
      "Parch\n",
      "0    678\n",
      "1    118\n",
      "2     80\n",
      "3      5\n",
      "4      4\n",
      "5      5\n",
      "6      1\n",
      "dtype: int64\n"
     ]
    },
    {
     "data": {
      "text/plain": [
       "Text(0.5, 1.0, 'Number of Siblings or  couples  Survived')"
      ]
     },
     "execution_count": 21,
     "metadata": {},
     "output_type": "execute_result"
    },
    {
     "data": {
      "image/png": "[encoded data removed]",
      "text/plain": [
       "<Figure size 934.5x432 with 1 Axes>"
      ]
     },
     "metadata": {},
     "output_type": "display_data"
    }
   ],
   "source": [
    "cprint('Percent Of Survived :','green')\n",
    "# Showing  Percentage of survivors of Parents /children   \n",
    "print(train[['Parch', 'Survived']].groupby(['Parch'], as_index=False).mean().sort_values(by='Survived', ascending=False))\n",
    "cprint('Count Of Each Embarked  :','green')\n",
    "# Showing  count of   Parents /children   \n",
    "print(train.groupby('Parch').size())\n",
    "# using .countplot() of seaborn to  visualize  Count survived Siblings or  couples \n",
    "sns.catplot(x = 'Parch', y = 'Survived', data = train, hue = 'Sex', kind = 'bar', height = 6, aspect = 2)\n",
    "plt.title('Number of Siblings or  couples  Survived')"
   ]
  },
  {
   "cell_type": "code",
   "execution_count": 22,
   "id": "liked-senator",
   "metadata": {
    "execution": {
     "iopub.execute_input": "2021-05-21T14:53:20.891259Z",
     "iopub.status.busy": "2021-05-21T14:53:20.890530Z",
     "iopub.status.idle": "2021-05-21T14:53:21.490103Z",
     "shell.execute_reply": "2021-05-21T14:53:21.489563Z",
     "shell.execute_reply.started": "2021-05-21T14:41:35.819876Z"
    },
    "papermill": {
     "duration": 0.779098,
     "end_time": "2021-05-21T14:53:21.490251",
     "exception": false,
     "start_time": "2021-05-21T14:53:20.711153",
     "status": "completed"
    },
    "tags": []
   },
   "outputs": [
    {
     "data": {
      "image/png": "[encoded data removed]",
      "text/plain": [
       "<Figure size 720x432 with 2 Axes>"
      ]
     },
     "metadata": {},
     "output_type": "display_data"
    }
   ],
   "source": [
    "plt.figure(figsize = (10, 6))\n",
    "# using .heatmap() of seaborn to understand better relationship of variables \n",
    "sns.heatmap(train.corr(), annot=True)\n",
    "plt.title('Corelation Matrix');"
   ]
  },
  {
   "cell_type": "code",
   "execution_count": 23,
   "id": "facial-cooper",
   "metadata": {
    "execution": {
     "iopub.execute_input": "2021-05-21T14:53:21.829632Z",
     "iopub.status.busy": "2021-05-21T14:53:21.828896Z",
     "iopub.status.idle": "2021-05-21T14:53:21.833193Z",
     "shell.execute_reply": "2021-05-21T14:53:21.833663Z",
     "shell.execute_reply.started": "2021-05-21T14:41:36.329944Z"
    },
    "papermill": {
     "duration": 0.18287,
     "end_time": "2021-05-21T14:53:21.833850",
     "exception": false,
     "start_time": "2021-05-21T14:53:21.650980",
     "status": "completed"
    },
    "tags": []
   },
   "outputs": [
    {
     "data": {
      "text/html": [
       "<div>\n",
       "<style scoped>\n",
       "    .dataframe tbody tr th:only-of-type {\n",
       "        vertical-align: middle;\n",
       "    }\n",
       "\n",
       "    .dataframe tbody tr th {\n",
       "        vertical-align: top;\n",
       "    }\n",
       "\n",
       "    .dataframe thead th {\n",
       "        text-align: right;\n",
       "    }\n",
       "</style>\n",
       "<table border=\"1\" class=\"dataframe\">\n",
       "  <thead>\n",
       "    <tr style=\"text-align: right;\">\n",
       "      <th></th>\n",
       "      <th>PassengerId</th>\n",
       "      <th>Survived</th>\n",
       "      <th>Pclass</th>\n",
       "      <th>Name</th>\n",
       "      <th>Sex</th>\n",
       "      <th>Age</th>\n",
       "      <th>SibSp</th>\n",
       "      <th>Parch</th>\n",
       "      <th>Ticket</th>\n",
       "      <th>Fare</th>\n",
       "      <th>Cabin</th>\n",
       "      <th>Embarked</th>\n",
       "    </tr>\n",
       "  </thead>\n",
       "  <tbody>\n",
       "    <tr>\n",
       "      <th>0</th>\n",
       "      <td>1</td>\n",
       "      <td>0</td>\n",
       "      <td>3</td>\n",
       "      <td>Braund, Mr. Owen Harris</td>\n",
       "      <td>male</td>\n",
       "      <td>22.0</td>\n",
       "      <td>1</td>\n",
       "      <td>0</td>\n",
       "      <td>A/5 21171</td>\n",
       "      <td>7.2500</td>\n",
       "      <td>NaN</td>\n",
       "      <td>S</td>\n",
       "    </tr>\n",
       "    <tr>\n",
       "      <th>1</th>\n",
       "      <td>2</td>\n",
       "      <td>1</td>\n",
       "      <td>1</td>\n",
       "      <td>Cumings, Mrs. John Bradley (Florence Briggs Th...</td>\n",
       "      <td>female</td>\n",
       "      <td>38.0</td>\n",
       "      <td>1</td>\n",
       "      <td>0</td>\n",
       "      <td>PC 17599</td>\n",
       "      <td>71.2833</td>\n",
       "      <td>C85</td>\n",
       "      <td>C</td>\n",
       "    </tr>\n",
       "    <tr>\n",
       "      <th>2</th>\n",
       "      <td>3</td>\n",
       "      <td>1</td>\n",
       "      <td>3</td>\n",
       "      <td>Heikkinen, Miss. Laina</td>\n",
       "      <td>female</td>\n",
       "      <td>26.0</td>\n",
       "      <td>0</td>\n",
       "      <td>0</td>\n",
       "      <td>STON/O2. 3101282</td>\n",
       "      <td>7.9250</td>\n",
       "      <td>NaN</td>\n",
       "      <td>S</td>\n",
       "    </tr>\n",
       "    <tr>\n",
       "      <th>3</th>\n",
       "      <td>4</td>\n",
       "      <td>1</td>\n",
       "      <td>1</td>\n",
       "      <td>Futrelle, Mrs. Jacques Heath (Lily May Peel)</td>\n",
       "      <td>female</td>\n",
       "      <td>35.0</td>\n",
       "      <td>1</td>\n",
       "      <td>0</td>\n",
       "      <td>113803</td>\n",
       "      <td>53.1000</td>\n",
       "      <td>C123</td>\n",
       "      <td>S</td>\n",
       "    </tr>\n",
       "    <tr>\n",
       "      <th>4</th>\n",
       "      <td>5</td>\n",
       "      <td>0</td>\n",
       "      <td>3</td>\n",
       "      <td>Allen, Mr. William Henry</td>\n",
       "      <td>male</td>\n",
       "      <td>35.0</td>\n",
       "      <td>0</td>\n",
       "      <td>0</td>\n",
       "      <td>373450</td>\n",
       "      <td>8.0500</td>\n",
       "      <td>NaN</td>\n",
       "      <td>S</td>\n",
       "    </tr>\n",
       "  </tbody>\n",
       "</table>\n",
       "</div>"
      ],
      "text/plain": [
       "   PassengerId  Survived  Pclass  \\\n",
       "0            1         0       3   \n",
       "1            2         1       1   \n",
       "2            3         1       3   \n",
       "3            4         1       1   \n",
       "4            5         0       3   \n",
       "\n",
       "                                                Name     Sex   Age  SibSp  \\\n",
       "0                            Braund, Mr. Owen Harris    male  22.0      1   \n",
       "1  Cumings, Mrs. John Bradley (Florence Briggs Th...  female  38.0      1   \n",
       "2                             Heikkinen, Miss. Laina  female  26.0      0   \n",
       "3       Futrelle, Mrs. Jacques Heath (Lily May Peel)  female  35.0      1   \n",
       "4                           Allen, Mr. William Henry    male  35.0      0   \n",
       "\n",
       "   Parch            Ticket     Fare Cabin Embarked  \n",
       "0      0         A/5 21171   7.2500   NaN        S  \n",
       "1      0          PC 17599  71.2833   C85        C  \n",
       "2      0  STON/O2. 3101282   7.9250   NaN        S  \n",
       "3      0            113803  53.1000  C123        S  \n",
       "4      0            373450   8.0500   NaN        S  "
      ]
     },
     "execution_count": 23,
     "metadata": {},
     "output_type": "execute_result"
    }
   ],
   "source": [
    "train.head()"
   ]
  },
  {
   "cell_type": "markdown",
   "id": "modular-debut",
   "metadata": {
    "papermill": {
     "duration": 0.161283,
     "end_time": "2021-05-21T14:53:22.156997",
     "exception": false,
     "start_time": "2021-05-21T14:53:21.995714",
     "status": "completed"
    },
    "tags": []
   },
   "source": [
    "## Cleaning and  Data Preprocessing and Feature Engineering Data \n",
    "\n",
    " This is the most important part of the project in my opinion, your data  can be compared to a dirty and old house that you have to clean and change its decoration and add new rooms to it , The more beautiful and new and bigger  your house is ,  higher (more accurate)  it will be sold :D\n",
    "#### 1) OneHot Encoding Gender \n",
    "\n",
    "#### 2) Convert Embarked into dummies\n",
    "\n",
    "#### 3) Fill Missing Values of Cabin and categorise it better\n",
    "\n",
    "#### 4) Convert Cabins into numbers \n",
    "\n",
    "#### 5) Create a new feature as FamilySize\n",
    "\n",
    "#### 6) Drop unused columns\n",
    "\n",
    "#### 7) Fill Missing Values of Fare\n",
    "\n",
    "#### 8) Fill Missing Values of Age"
   ]
  },
  {
   "cell_type": "code",
   "execution_count": 24,
   "id": "broke-albert",
   "metadata": {
    "execution": {
     "iopub.execute_input": "2021-05-21T14:53:22.483494Z",
     "iopub.status.busy": "2021-05-21T14:53:22.482787Z",
     "iopub.status.idle": "2021-05-21T14:53:22.494655Z",
     "shell.execute_reply": "2021-05-21T14:53:22.495203Z",
     "shell.execute_reply.started": "2021-05-21T14:41:36.352112Z"
    },
    "papermill": {
     "duration": 0.177618,
     "end_time": "2021-05-21T14:53:22.495375",
     "exception": false,
     "start_time": "2021-05-21T14:53:22.317757",
     "status": "completed"
    },
    "tags": []
   },
   "outputs": [],
   "source": [
    "# replace Gender with 0 and 1  in test & train data\n",
    "\n",
    "dataset.Sex[dataset.Sex == 'male'] = 0 # repalce male with 0\n",
    "dataset.Sex[dataset.Sex == 'female'] = 1 # repalce female with 1"
   ]
  },
  {
   "cell_type": "code",
   "execution_count": 25,
   "id": "dying-consultation",
   "metadata": {
    "execution": {
     "iopub.execute_input": "2021-05-21T14:53:22.820347Z",
     "iopub.status.busy": "2021-05-21T14:53:22.819709Z",
     "iopub.status.idle": "2021-05-21T14:53:22.831370Z",
     "shell.execute_reply": "2021-05-21T14:53:22.831997Z",
     "shell.execute_reply.started": "2021-05-21T14:41:36.369352Z"
    },
    "papermill": {
     "duration": 0.17631,
     "end_time": "2021-05-21T14:53:22.832214",
     "exception": false,
     "start_time": "2021-05-21T14:53:22.655904",
     "status": "completed"
    },
    "tags": []
   },
   "outputs": [],
   "source": [
    "# Convert Embarked into dummies using pd.get_dummies()\n",
    "dummies  = pd.get_dummies(dataset.Embarked)\n",
    "dataset = pd.concat([dataset,dummies],axis='columns')\n",
    "dataset.drop(['Embarked'],axis='columns',inplace=True)"
   ]
  },
  {
   "cell_type": "code",
   "execution_count": 26,
   "id": "perfect-burns",
   "metadata": {
    "execution": {
     "iopub.execute_input": "2021-05-21T14:53:23.158087Z",
     "iopub.status.busy": "2021-05-21T14:53:23.157419Z",
     "iopub.status.idle": "2021-05-21T14:53:23.163070Z",
     "shell.execute_reply": "2021-05-21T14:53:23.162538Z",
     "shell.execute_reply.started": "2021-05-21T14:41:36.385594Z"
    },
    "papermill": {
     "duration": 0.171995,
     "end_time": "2021-05-21T14:53:23.163223",
     "exception": false,
     "start_time": "2021-05-21T14:53:22.991228",
     "status": "completed"
    },
    "tags": []
   },
   "outputs": [],
   "source": [
    "# replace Nan values of Cabin with U (Unknown)\n",
    "dataset.Cabin = dataset.Cabin.fillna('U')"
   ]
  },
  {
   "cell_type": "code",
   "execution_count": 27,
   "id": "dental-suspension",
   "metadata": {
    "execution": {
     "iopub.execute_input": "2021-05-21T14:53:23.493714Z",
     "iopub.status.busy": "2021-05-21T14:53:23.493002Z",
     "iopub.status.idle": "2021-05-21T14:53:23.496070Z",
     "shell.execute_reply": "2021-05-21T14:53:23.495541Z",
     "shell.execute_reply.started": "2021-05-21T14:41:36.392953Z"
    },
    "papermill": {
     "duration": 0.173416,
     "end_time": "2021-05-21T14:53:23.496219",
     "exception": false,
     "start_time": "2021-05-21T14:53:23.322803",
     "status": "completed"
    },
    "tags": []
   },
   "outputs": [],
   "source": [
    "# Using Regex to find letters and categories better cabin \n",
    "dataset.Cabin = dataset.Cabin.map(lambda x:re.compile(\"([a-zA-Z])\").search(x).group())"
   ]
  },
  {
   "cell_type": "code",
   "execution_count": 28,
   "id": "spoken-missouri",
   "metadata": {
    "execution": {
     "iopub.execute_input": "2021-05-21T14:53:23.851354Z",
     "iopub.status.busy": "2021-05-21T14:53:23.850629Z",
     "iopub.status.idle": "2021-05-21T14:53:23.856019Z",
     "shell.execute_reply": "2021-05-21T14:53:23.856574Z",
     "shell.execute_reply.started": "2021-05-21T14:41:36.414481Z"
    },
    "papermill": {
     "duration": 0.173541,
     "end_time": "2021-05-21T14:53:23.856749",
     "exception": false,
     "start_time": "2021-05-21T14:53:23.683208",
     "status": "completed"
    },
    "tags": []
   },
   "outputs": [
    {
     "data": {
      "text/plain": [
       "Cabin\n",
       "A      22\n",
       "B      65\n",
       "C      94\n",
       "D      46\n",
       "E      41\n",
       "F      21\n",
       "G       5\n",
       "T       1\n",
       "U    1014\n",
       "dtype: int64"
      ]
     },
     "execution_count": 28,
     "metadata": {},
     "output_type": "execute_result"
    }
   ],
   "source": [
    "dataset.groupby('Cabin').size()"
   ]
  },
  {
   "cell_type": "code",
   "execution_count": 29,
   "id": "satellite-sapphire",
   "metadata": {
    "execution": {
     "iopub.execute_input": "2021-05-21T14:53:24.190883Z",
     "iopub.status.busy": "2021-05-21T14:53:24.190188Z",
     "iopub.status.idle": "2021-05-21T14:53:24.192139Z",
     "shell.execute_reply": "2021-05-21T14:53:24.192676Z",
     "shell.execute_reply.started": "2021-05-21T14:41:36.432634Z"
    },
    "papermill": {
     "duration": 0.175045,
     "end_time": "2021-05-21T14:53:24.192864",
     "exception": false,
     "start_time": "2021-05-21T14:53:24.017819",
     "status": "completed"
    },
    "tags": []
   },
   "outputs": [],
   "source": [
    "# replace Cabins with numbers \n",
    "cabin_dictionary = {'A':1 , 'B':2, 'C':3 , 'D':4 , 'E':5 , 'F':6 , 'G':7 , 'T':8 , 'U':9}\n",
    "\n",
    "dataset = dataset.replace({'Cabin':cabin_dictionary})"
   ]
  },
  {
   "cell_type": "code",
   "execution_count": 30,
   "id": "adverse-ethernet",
   "metadata": {
    "execution": {
     "iopub.execute_input": "2021-05-21T14:53:24.520868Z",
     "iopub.status.busy": "2021-05-21T14:53:24.520188Z",
     "iopub.status.idle": "2021-05-21T14:53:24.523280Z",
     "shell.execute_reply": "2021-05-21T14:53:24.522750Z",
     "shell.execute_reply.started": "2021-05-21T14:41:36.445945Z"
    },
    "papermill": {
     "duration": 0.17,
     "end_time": "2021-05-21T14:53:24.523454",
     "exception": false,
     "start_time": "2021-05-21T14:53:24.353454",
     "status": "completed"
    },
    "tags": []
   },
   "outputs": [],
   "source": [
    "# combaine number of siblings and  spouses  to get  FamilySize \n",
    "dataset['FamilySize'] = dataset['SibSp'] + dataset['Parch'] + 1"
   ]
  },
  {
   "cell_type": "code",
   "execution_count": 31,
   "id": "occupied-rouge",
   "metadata": {
    "execution": {
     "iopub.execute_input": "2021-05-21T14:53:24.848902Z",
     "iopub.status.busy": "2021-05-21T14:53:24.848161Z",
     "iopub.status.idle": "2021-05-21T14:53:24.853783Z",
     "shell.execute_reply": "2021-05-21T14:53:24.854305Z",
     "shell.execute_reply.started": "2021-05-21T14:41:36.460719Z"
    },
    "papermill": {
     "duration": 0.171703,
     "end_time": "2021-05-21T14:53:24.854495",
     "exception": false,
     "start_time": "2021-05-21T14:53:24.682792",
     "status": "completed"
    },
    "tags": []
   },
   "outputs": [],
   "source": [
    "# replace missing Fare value of test data with median of Fares \n",
    "dataset.Fare = dataset.Fare.fillna(dataset.Fare.median())"
   ]
  },
  {
   "cell_type": "code",
   "execution_count": 32,
   "id": "indirect-finding",
   "metadata": {
    "execution": {
     "iopub.execute_input": "2021-05-21T14:53:25.186481Z",
     "iopub.status.busy": "2021-05-21T14:53:25.185754Z",
     "iopub.status.idle": "2021-05-21T14:53:25.191439Z",
     "shell.execute_reply": "2021-05-21T14:53:25.191974Z",
     "shell.execute_reply.started": "2021-05-21T14:41:36.477443Z"
    },
    "papermill": {
     "duration": 0.174143,
     "end_time": "2021-05-21T14:53:25.192153",
     "exception": false,
     "start_time": "2021-05-21T14:53:25.018010",
     "status": "completed"
    },
    "tags": []
   },
   "outputs": [],
   "source": [
    "# drop unused columns of test and train data \n",
    "dataset = dataset.drop(['Name','SibSp', 'Parch', 'Ticket'], axis = 1)"
   ]
  },
  {
   "cell_type": "code",
   "execution_count": 33,
   "id": "imposed-turkey",
   "metadata": {
    "execution": {
     "iopub.execute_input": "2021-05-21T14:53:25.518531Z",
     "iopub.status.busy": "2021-05-21T14:53:25.517806Z",
     "iopub.status.idle": "2021-05-21T14:53:25.525417Z",
     "shell.execute_reply": "2021-05-21T14:53:25.524865Z",
     "shell.execute_reply.started": "2021-05-21T14:41:36.494657Z"
    },
    "papermill": {
     "duration": 0.170873,
     "end_time": "2021-05-21T14:53:25.525576",
     "exception": false,
     "start_time": "2021-05-21T14:53:25.354703",
     "status": "completed"
    },
    "tags": []
   },
   "outputs": [],
   "source": [
    "# split train  and test set \n",
    "train_main = dataset[dataset['Survived'].notna()] # train set Survived != null\n",
    "test_main  = dataset[dataset['Survived'].isnull()] # train set Survived == null"
   ]
  },
  {
   "cell_type": "code",
   "execution_count": 34,
   "id": "rental-civilization",
   "metadata": {
    "execution": {
     "iopub.execute_input": "2021-05-21T14:53:25.861496Z",
     "iopub.status.busy": "2021-05-21T14:53:25.860827Z",
     "iopub.status.idle": "2021-05-21T14:53:25.864862Z",
     "shell.execute_reply": "2021-05-21T14:53:25.864107Z",
     "shell.execute_reply.started": "2021-05-21T14:41:36.511013Z"
    },
    "papermill": {
     "duration": 0.179452,
     "end_time": "2021-05-21T14:53:25.865036",
     "exception": false,
     "start_time": "2021-05-21T14:53:25.685584",
     "status": "completed"
    },
    "tags": []
   },
   "outputs": [],
   "source": [
    "# replace Missing values of age row with mean age of each Ticket class (Pclass) of train data\n",
    "def clean_training_age(columns) :\n",
    "    Age = columns[0]\n",
    "    Pclass = columns[1]\n",
    "    \n",
    "    if pd.isnull(Age):\n",
    "        if Pclass ==1 :\n",
    "            return 37\n",
    "        elif  Pclass == 2 :\n",
    "            return 29\n",
    "        else : \n",
    "            return 24\n",
    "    else : \n",
    "        return Age"
   ]
  },
  {
   "cell_type": "code",
   "execution_count": 35,
   "id": "british-highland",
   "metadata": {
    "execution": {
     "iopub.execute_input": "2021-05-21T14:53:26.197539Z",
     "iopub.status.busy": "2021-05-21T14:53:26.196869Z",
     "iopub.status.idle": "2021-05-21T14:53:26.200098Z",
     "shell.execute_reply": "2021-05-21T14:53:26.199605Z",
     "shell.execute_reply.started": "2021-05-21T14:41:36.521426Z"
    },
    "papermill": {
     "duration": 0.171059,
     "end_time": "2021-05-21T14:53:26.200237",
     "exception": false,
     "start_time": "2021-05-21T14:53:26.029178",
     "status": "completed"
    },
    "tags": []
   },
   "outputs": [],
   "source": [
    "# replace Missing values of age  with mean age of each Ticket class (Pclass) of test data\n",
    "def clean_test_age(columns) :\n",
    "    Age = columns[0]\n",
    "    Pclass = columns[1]\n",
    "    \n",
    "    if pd.isnull(Age):\n",
    "        if Pclass ==1 :\n",
    "            return 44\n",
    "        elif  Pclass == 2 :\n",
    "            return 27\n",
    "        else : \n",
    "            return 23\n",
    "    else : \n",
    "        return Age"
   ]
  },
  {
   "cell_type": "code",
   "execution_count": 36,
   "id": "tropical-auckland",
   "metadata": {
    "execution": {
     "iopub.execute_input": "2021-05-21T14:53:26.530250Z",
     "iopub.status.busy": "2021-05-21T14:53:26.529568Z",
     "iopub.status.idle": "2021-05-21T14:53:26.561087Z",
     "shell.execute_reply": "2021-05-21T14:53:26.560514Z",
     "shell.execute_reply.started": "2021-05-21T14:41:36.535637Z"
    },
    "papermill": {
     "duration": 0.199998,
     "end_time": "2021-05-21T14:53:26.561228",
     "exception": false,
     "start_time": "2021-05-21T14:53:26.361230",
     "status": "completed"
    },
    "tags": []
   },
   "outputs": [],
   "source": [
    "# fill age missing values with mean age of each Pclass according to the  boxplot\n",
    "train_main.Age = train_main[['Age','Pclass']].apply(clean_training_age,axis=1) \n",
    "test_main.Age = test_main[['Age','Pclass']].apply(clean_test_age,axis=1) "
   ]
  },
  {
   "cell_type": "code",
   "execution_count": 37,
   "id": "round-india",
   "metadata": {
    "execution": {
     "iopub.execute_input": "2021-05-21T14:53:26.885004Z",
     "iopub.status.busy": "2021-05-21T14:53:26.883996Z",
     "iopub.status.idle": "2021-05-21T14:53:26.890592Z",
     "shell.execute_reply": "2021-05-21T14:53:26.891114Z",
     "shell.execute_reply.started": "2021-05-21T14:41:36.576485Z"
    },
    "papermill": {
     "duration": 0.170962,
     "end_time": "2021-05-21T14:53:26.891287",
     "exception": false,
     "start_time": "2021-05-21T14:53:26.720325",
     "status": "completed"
    },
    "tags": []
   },
   "outputs": [],
   "source": [
    "# drop Survived of  test data \n",
    "test_main.drop('Survived',axis =1,inplace=True)"
   ]
  },
  {
   "cell_type": "code",
   "execution_count": 38,
   "id": "curious-illness",
   "metadata": {
    "execution": {
     "iopub.execute_input": "2021-05-21T14:53:27.220163Z",
     "iopub.status.busy": "2021-05-21T14:53:27.219184Z",
     "iopub.status.idle": "2021-05-21T14:53:27.235911Z",
     "shell.execute_reply": "2021-05-21T14:53:27.236465Z",
     "shell.execute_reply.started": "2021-05-21T14:41:36.585169Z"
    },
    "papermill": {
     "duration": 0.182154,
     "end_time": "2021-05-21T14:53:27.236676",
     "exception": false,
     "start_time": "2021-05-21T14:53:27.054522",
     "status": "completed"
    },
    "tags": []
   },
   "outputs": [
    {
     "data": {
      "text/html": [
       "<div>\n",
       "<style scoped>\n",
       "    .dataframe tbody tr th:only-of-type {\n",
       "        vertical-align: middle;\n",
       "    }\n",
       "\n",
       "    .dataframe tbody tr th {\n",
       "        vertical-align: top;\n",
       "    }\n",
       "\n",
       "    .dataframe thead th {\n",
       "        text-align: right;\n",
       "    }\n",
       "</style>\n",
       "<table border=\"1\" class=\"dataframe\">\n",
       "  <thead>\n",
       "    <tr style=\"text-align: right;\">\n",
       "      <th></th>\n",
       "      <th>PassengerId</th>\n",
       "      <th>Survived</th>\n",
       "      <th>Pclass</th>\n",
       "      <th>Sex</th>\n",
       "      <th>Age</th>\n",
       "      <th>Fare</th>\n",
       "      <th>Cabin</th>\n",
       "      <th>C</th>\n",
       "      <th>Q</th>\n",
       "      <th>S</th>\n",
       "      <th>FamilySize</th>\n",
       "    </tr>\n",
       "  </thead>\n",
       "  <tbody>\n",
       "    <tr>\n",
       "      <th>0</th>\n",
       "      <td>1</td>\n",
       "      <td>0.0</td>\n",
       "      <td>3</td>\n",
       "      <td>0</td>\n",
       "      <td>22.0</td>\n",
       "      <td>7.2500</td>\n",
       "      <td>9</td>\n",
       "      <td>0</td>\n",
       "      <td>0</td>\n",
       "      <td>1</td>\n",
       "      <td>2</td>\n",
       "    </tr>\n",
       "    <tr>\n",
       "      <th>1</th>\n",
       "      <td>2</td>\n",
       "      <td>1.0</td>\n",
       "      <td>1</td>\n",
       "      <td>1</td>\n",
       "      <td>38.0</td>\n",
       "      <td>71.2833</td>\n",
       "      <td>3</td>\n",
       "      <td>1</td>\n",
       "      <td>0</td>\n",
       "      <td>0</td>\n",
       "      <td>2</td>\n",
       "    </tr>\n",
       "    <tr>\n",
       "      <th>2</th>\n",
       "      <td>3</td>\n",
       "      <td>1.0</td>\n",
       "      <td>3</td>\n",
       "      <td>1</td>\n",
       "      <td>26.0</td>\n",
       "      <td>7.9250</td>\n",
       "      <td>9</td>\n",
       "      <td>0</td>\n",
       "      <td>0</td>\n",
       "      <td>1</td>\n",
       "      <td>1</td>\n",
       "    </tr>\n",
       "    <tr>\n",
       "      <th>3</th>\n",
       "      <td>4</td>\n",
       "      <td>1.0</td>\n",
       "      <td>1</td>\n",
       "      <td>1</td>\n",
       "      <td>35.0</td>\n",
       "      <td>53.1000</td>\n",
       "      <td>3</td>\n",
       "      <td>0</td>\n",
       "      <td>0</td>\n",
       "      <td>1</td>\n",
       "      <td>2</td>\n",
       "    </tr>\n",
       "    <tr>\n",
       "      <th>4</th>\n",
       "      <td>5</td>\n",
       "      <td>0.0</td>\n",
       "      <td>3</td>\n",
       "      <td>0</td>\n",
       "      <td>35.0</td>\n",
       "      <td>8.0500</td>\n",
       "      <td>9</td>\n",
       "      <td>0</td>\n",
       "      <td>0</td>\n",
       "      <td>1</td>\n",
       "      <td>1</td>\n",
       "    </tr>\n",
       "  </tbody>\n",
       "</table>\n",
       "</div>"
      ],
      "text/plain": [
       "   PassengerId  Survived  Pclass Sex   Age     Fare  Cabin  C  Q  S  \\\n",
       "0            1       0.0       3   0  22.0   7.2500      9  0  0  1   \n",
       "1            2       1.0       1   1  38.0  71.2833      3  1  0  0   \n",
       "2            3       1.0       3   1  26.0   7.9250      9  0  0  1   \n",
       "3            4       1.0       1   1  35.0  53.1000      3  0  0  1   \n",
       "4            5       0.0       3   0  35.0   8.0500      9  0  0  1   \n",
       "\n",
       "   FamilySize  \n",
       "0           2  \n",
       "1           2  \n",
       "2           1  \n",
       "3           2  \n",
       "4           1  "
      ]
     },
     "execution_count": 38,
     "metadata": {},
     "output_type": "execute_result"
    }
   ],
   "source": [
    "train_main.head()"
   ]
  },
  {
   "cell_type": "code",
   "execution_count": 39,
   "id": "rubber-fisher",
   "metadata": {
    "execution": {
     "iopub.execute_input": "2021-05-21T14:53:27.569285Z",
     "iopub.status.busy": "2021-05-21T14:53:27.568277Z",
     "iopub.status.idle": "2021-05-21T14:53:27.583743Z",
     "shell.execute_reply": "2021-05-21T14:53:27.584243Z",
     "shell.execute_reply.started": "2021-05-21T14:41:36.616059Z"
    },
    "papermill": {
     "duration": 0.182818,
     "end_time": "2021-05-21T14:53:27.584452",
     "exception": false,
     "start_time": "2021-05-21T14:53:27.401634",
     "status": "completed"
    },
    "tags": []
   },
   "outputs": [
    {
     "data": {
      "text/html": [
       "<div>\n",
       "<style scoped>\n",
       "    .dataframe tbody tr th:only-of-type {\n",
       "        vertical-align: middle;\n",
       "    }\n",
       "\n",
       "    .dataframe tbody tr th {\n",
       "        vertical-align: top;\n",
       "    }\n",
       "\n",
       "    .dataframe thead th {\n",
       "        text-align: right;\n",
       "    }\n",
       "</style>\n",
       "<table border=\"1\" class=\"dataframe\">\n",
       "  <thead>\n",
       "    <tr style=\"text-align: right;\">\n",
       "      <th></th>\n",
       "      <th>PassengerId</th>\n",
       "      <th>Pclass</th>\n",
       "      <th>Sex</th>\n",
       "      <th>Age</th>\n",
       "      <th>Fare</th>\n",
       "      <th>Cabin</th>\n",
       "      <th>C</th>\n",
       "      <th>Q</th>\n",
       "      <th>S</th>\n",
       "      <th>FamilySize</th>\n",
       "    </tr>\n",
       "  </thead>\n",
       "  <tbody>\n",
       "    <tr>\n",
       "      <th>891</th>\n",
       "      <td>892</td>\n",
       "      <td>3</td>\n",
       "      <td>0</td>\n",
       "      <td>34.5</td>\n",
       "      <td>7.8292</td>\n",
       "      <td>9</td>\n",
       "      <td>0</td>\n",
       "      <td>1</td>\n",
       "      <td>0</td>\n",
       "      <td>1</td>\n",
       "    </tr>\n",
       "    <tr>\n",
       "      <th>892</th>\n",
       "      <td>893</td>\n",
       "      <td>3</td>\n",
       "      <td>1</td>\n",
       "      <td>47.0</td>\n",
       "      <td>7.0000</td>\n",
       "      <td>9</td>\n",
       "      <td>0</td>\n",
       "      <td>0</td>\n",
       "      <td>1</td>\n",
       "      <td>2</td>\n",
       "    </tr>\n",
       "    <tr>\n",
       "      <th>893</th>\n",
       "      <td>894</td>\n",
       "      <td>2</td>\n",
       "      <td>0</td>\n",
       "      <td>62.0</td>\n",
       "      <td>9.6875</td>\n",
       "      <td>9</td>\n",
       "      <td>0</td>\n",
       "      <td>1</td>\n",
       "      <td>0</td>\n",
       "      <td>1</td>\n",
       "    </tr>\n",
       "    <tr>\n",
       "      <th>894</th>\n",
       "      <td>895</td>\n",
       "      <td>3</td>\n",
       "      <td>0</td>\n",
       "      <td>27.0</td>\n",
       "      <td>8.6625</td>\n",
       "      <td>9</td>\n",
       "      <td>0</td>\n",
       "      <td>0</td>\n",
       "      <td>1</td>\n",
       "      <td>1</td>\n",
       "    </tr>\n",
       "    <tr>\n",
       "      <th>895</th>\n",
       "      <td>896</td>\n",
       "      <td>3</td>\n",
       "      <td>1</td>\n",
       "      <td>22.0</td>\n",
       "      <td>12.2875</td>\n",
       "      <td>9</td>\n",
       "      <td>0</td>\n",
       "      <td>0</td>\n",
       "      <td>1</td>\n",
       "      <td>3</td>\n",
       "    </tr>\n",
       "  </tbody>\n",
       "</table>\n",
       "</div>"
      ],
      "text/plain": [
       "     PassengerId  Pclass Sex   Age     Fare  Cabin  C  Q  S  FamilySize\n",
       "891          892       3   0  34.5   7.8292      9  0  1  0           1\n",
       "892          893       3   1  47.0   7.0000      9  0  0  1           2\n",
       "893          894       2   0  62.0   9.6875      9  0  1  0           1\n",
       "894          895       3   0  27.0   8.6625      9  0  0  1           1\n",
       "895          896       3   1  22.0  12.2875      9  0  0  1           3"
      ]
     },
     "execution_count": 39,
     "metadata": {},
     "output_type": "execute_result"
    }
   ],
   "source": [
    "test_main.head()"
   ]
  },
  {
   "cell_type": "markdown",
   "id": "ranging-pasta",
   "metadata": {
    "papermill": {
     "duration": 0.160809,
     "end_time": "2021-05-21T14:53:27.918621",
     "exception": false,
     "start_time": "2021-05-21T14:53:27.757812",
     "status": "completed"
    },
    "tags": []
   },
   "source": [
    "# Building and Evaluating Model\n",
    "Now it's time to sell our fresh house and our house  buyers or customers are Models  (ML algorithms) whoever offers a higher price (more accuracy) can buy the house, note that house customers based on the house (data) and house features (data features) and house usage purpose (classification or regression)"
   ]
  },
  {
   "cell_type": "code",
   "execution_count": 40,
   "id": "designing-hunger",
   "metadata": {
    "execution": {
     "iopub.execute_input": "2021-05-21T14:53:28.244361Z",
     "iopub.status.busy": "2021-05-21T14:53:28.243391Z",
     "iopub.status.idle": "2021-05-21T14:53:28.248897Z",
     "shell.execute_reply": "2021-05-21T14:53:28.249356Z",
     "shell.execute_reply.started": "2021-05-21T14:41:36.636106Z"
    },
    "papermill": {
     "duration": 0.16987,
     "end_time": "2021-05-21T14:53:28.249559",
     "exception": false,
     "start_time": "2021-05-21T14:53:28.079689",
     "status": "completed"
    },
    "tags": []
   },
   "outputs": [],
   "source": [
    "# split independent and dependent variables\n",
    "X_train = train_main.drop('Survived',axis=1) # independent\n",
    "y_train = train_main.Survived # dependent"
   ]
  },
  {
   "cell_type": "markdown",
   "id": "charitable-fireplace",
   "metadata": {
    "papermill": {
     "duration": 0.169243,
     "end_time": "2021-05-21T14:53:28.580551",
     "exception": false,
     "start_time": "2021-05-21T14:53:28.411308",
     "status": "completed"
    },
    "tags": []
   },
   "source": [
    "## Scaling Data\n",
    "Tip : usually we dont StandardScale data with dummies and OneHot encoded varibels include but  in this case it doesn't matter use the standardscaler  because the scaling is independently for each colum"
   ]
  },
  {
   "cell_type": "code",
   "execution_count": 41,
   "id": "reflected-ecology",
   "metadata": {
    "execution": {
     "iopub.execute_input": "2021-05-21T14:53:28.967246Z",
     "iopub.status.busy": "2021-05-21T14:53:28.966212Z",
     "iopub.status.idle": "2021-05-21T14:53:28.984355Z",
     "shell.execute_reply": "2021-05-21T14:53:28.984949Z",
     "shell.execute_reply.started": "2021-05-21T14:41:36.644111Z"
    },
    "papermill": {
     "duration": 0.183445,
     "end_time": "2021-05-21T14:53:28.985133",
     "exception": false,
     "start_time": "2021-05-21T14:53:28.801688",
     "status": "completed"
    },
    "tags": []
   },
   "outputs": [],
   "source": [
    "# scale our independent variables  with help  StandardScaler\n",
    "from sklearn.preprocessing import StandardScaler \n",
    "scaler = StandardScaler()\n",
    "X_train_scale = scaler.fit_transform(X_train)\n",
    "test_main_scale  = scaler.fit_transform(test_main) "
   ]
  },
  {
   "cell_type": "markdown",
   "id": "bearing-information",
   "metadata": {
    "execution": {
     "iopub.execute_input": "2021-05-21T14:15:00.232394Z",
     "iopub.status.busy": "2021-05-21T14:15:00.231834Z",
     "iopub.status.idle": "2021-05-21T14:15:00.238311Z",
     "shell.execute_reply": "2021-05-21T14:15:00.237202Z",
     "shell.execute_reply.started": "2021-05-21T14:15:00.23227Z"
    },
    "papermill": {
     "duration": 0.166901,
     "end_time": "2021-05-21T14:53:29.322892",
     "exception": false,
     "start_time": "2021-05-21T14:53:29.155991",
     "status": "completed"
    },
    "tags": []
   },
   "source": [
    "## [LogisticRegression](http://scikit-learn.org/stable/modules/generated/sklearn.linear_model.LogisticRegression.html)"
   ]
  },
  {
   "cell_type": "code",
   "execution_count": 42,
   "id": "interesting-briefing",
   "metadata": {
    "execution": {
     "iopub.execute_input": "2021-05-21T14:53:29.665581Z",
     "iopub.status.busy": "2021-05-21T14:53:29.664725Z",
     "iopub.status.idle": "2021-05-21T14:53:29.680153Z",
     "shell.execute_reply": "2021-05-21T14:53:29.679523Z",
     "shell.execute_reply.started": "2021-05-21T14:41:36.670456Z"
    },
    "papermill": {
     "duration": 0.188972,
     "end_time": "2021-05-21T14:53:29.680320",
     "exception": false,
     "start_time": "2021-05-21T14:53:29.491348",
     "status": "completed"
    },
    "tags": []
   },
   "outputs": [
    {
     "data": {
      "text/plain": [
       "LogisticRegression()"
      ]
     },
     "execution_count": 42,
     "metadata": {},
     "output_type": "execute_result"
    }
   ],
   "source": [
    "lrc = LogisticRegression()\n",
    "lrc.fit(X_train_scale,y_train)"
   ]
  },
  {
   "cell_type": "code",
   "execution_count": 43,
   "id": "insured-plasma",
   "metadata": {
    "execution": {
     "iopub.execute_input": "2021-05-21T14:53:30.017635Z",
     "iopub.status.busy": "2021-05-21T14:53:30.016575Z",
     "iopub.status.idle": "2021-05-21T14:53:30.023043Z",
     "shell.execute_reply": "2021-05-21T14:53:30.022471Z",
     "shell.execute_reply.started": "2021-05-21T14:41:36.689844Z"
    },
    "papermill": {
     "duration": 0.178256,
     "end_time": "2021-05-21T14:53:30.023242",
     "exception": false,
     "start_time": "2021-05-21T14:53:29.844986",
     "status": "completed"
    },
    "tags": []
   },
   "outputs": [],
   "source": [
    "y_pred_lrc = lrc.predict(test_main_scale).astype(int)"
   ]
  },
  {
   "cell_type": "markdown",
   "id": "front-webmaster",
   "metadata": {
    "papermill": {
     "duration": 0.163411,
     "end_time": "2021-05-21T14:53:30.357764",
     "exception": false,
     "start_time": "2021-05-21T14:53:30.194353",
     "status": "completed"
    },
    "tags": []
   },
   "source": [
    "## [Support vector machine](http://scikit-learn.org/stable/modules/generated/sklearn.svm.SVC.html)"
   ]
  },
  {
   "cell_type": "code",
   "execution_count": 44,
   "id": "typical-least",
   "metadata": {
    "execution": {
     "iopub.execute_input": "2021-05-21T14:53:30.691145Z",
     "iopub.status.busy": "2021-05-21T14:53:30.690425Z",
     "iopub.status.idle": "2021-05-21T14:53:30.722979Z",
     "shell.execute_reply": "2021-05-21T14:53:30.723547Z",
     "shell.execute_reply.started": "2021-05-21T14:41:36.696817Z"
    },
    "papermill": {
     "duration": 0.202788,
     "end_time": "2021-05-21T14:53:30.723757",
     "exception": false,
     "start_time": "2021-05-21T14:53:30.520969",
     "status": "completed"
    },
    "tags": []
   },
   "outputs": [
    {
     "data": {
      "text/plain": [
       "SVC()"
      ]
     },
     "execution_count": 44,
     "metadata": {},
     "output_type": "execute_result"
    }
   ],
   "source": [
    "svm = SVC()\n",
    "svm.fit(X_train_scale,y_train)"
   ]
  },
  {
   "cell_type": "code",
   "execution_count": 45,
   "id": "tropical-chase",
   "metadata": {
    "execution": {
     "iopub.execute_input": "2021-05-21T14:53:31.091330Z",
     "iopub.status.busy": "2021-05-21T14:53:31.090372Z",
     "iopub.status.idle": "2021-05-21T14:53:31.107531Z",
     "shell.execute_reply": "2021-05-21T14:53:31.106918Z",
     "shell.execute_reply.started": "2021-05-21T14:41:36.739571Z"
    },
    "papermill": {
     "duration": 0.219715,
     "end_time": "2021-05-21T14:53:31.107676",
     "exception": false,
     "start_time": "2021-05-21T14:53:30.887961",
     "status": "completed"
    },
    "tags": []
   },
   "outputs": [],
   "source": [
    "y_pred_svm = svm.predict(test_main_scale).astype(int)"
   ]
  },
  {
   "cell_type": "markdown",
   "id": "center-shakespeare",
   "metadata": {
    "papermill": {
     "duration": 0.16877,
     "end_time": "2021-05-21T14:53:31.445298",
     "exception": false,
     "start_time": "2021-05-21T14:53:31.276528",
     "status": "completed"
    },
    "tags": []
   },
   "source": [
    "## [K nearest neighbors](http://scikit-learn.org/stable/modules/generated/sklearn.neighbors.KNeighborsClassifier.html)"
   ]
  },
  {
   "cell_type": "code",
   "execution_count": 46,
   "id": "temporal-biography",
   "metadata": {
    "execution": {
     "iopub.execute_input": "2021-05-21T14:53:31.787042Z",
     "iopub.status.busy": "2021-05-21T14:53:31.784378Z",
     "iopub.status.idle": "2021-05-21T14:53:31.790329Z",
     "shell.execute_reply": "2021-05-21T14:53:31.790819Z",
     "shell.execute_reply.started": "2021-05-21T14:41:36.761757Z"
    },
    "papermill": {
     "duration": 0.177111,
     "end_time": "2021-05-21T14:53:31.790999",
     "exception": false,
     "start_time": "2021-05-21T14:53:31.613888",
     "status": "completed"
    },
    "tags": []
   },
   "outputs": [
    {
     "data": {
      "text/plain": [
       "KNeighborsClassifier()"
      ]
     },
     "execution_count": 46,
     "metadata": {},
     "output_type": "execute_result"
    }
   ],
   "source": [
    "knn = KNeighborsClassifier()\n",
    "knn.fit(X_train_scale,y_train)"
   ]
  },
  {
   "cell_type": "code",
   "execution_count": 47,
   "id": "human-syndicate",
   "metadata": {
    "execution": {
     "iopub.execute_input": "2021-05-21T14:53:32.130995Z",
     "iopub.status.busy": "2021-05-21T14:53:32.130228Z",
     "iopub.status.idle": "2021-05-21T14:53:32.157070Z",
     "shell.execute_reply": "2021-05-21T14:53:32.157599Z",
     "shell.execute_reply.started": "2021-05-21T14:41:36.772372Z"
    },
    "papermill": {
     "duration": 0.204498,
     "end_time": "2021-05-21T14:53:32.157801",
     "exception": false,
     "start_time": "2021-05-21T14:53:31.953303",
     "status": "completed"
    },
    "tags": []
   },
   "outputs": [],
   "source": [
    "y_pred_knn = knn.predict(test_main_scale).astype(int)"
   ]
  },
  {
   "cell_type": "markdown",
   "id": "neutral-watson",
   "metadata": {
    "papermill": {
     "duration": 0.164984,
     "end_time": "2021-05-21T14:53:32.491193",
     "exception": false,
     "start_time": "2021-05-21T14:53:32.326209",
     "status": "completed"
    },
    "tags": []
   },
   "source": [
    "## [Naive Bayes](http://scikit-learn.org/stable/modules/generated/sklearn.naive_bayes.GaussianNB.html)"
   ]
  },
  {
   "cell_type": "code",
   "execution_count": 48,
   "id": "guided-stereo",
   "metadata": {
    "execution": {
     "iopub.execute_input": "2021-05-21T14:53:32.828327Z",
     "iopub.status.busy": "2021-05-21T14:53:32.827629Z",
     "iopub.status.idle": "2021-05-21T14:53:32.833875Z",
     "shell.execute_reply": "2021-05-21T14:53:32.833258Z",
     "shell.execute_reply.started": "2021-05-21T14:41:36.803717Z"
    },
    "papermill": {
     "duration": 0.178909,
     "end_time": "2021-05-21T14:53:32.834047",
     "exception": false,
     "start_time": "2021-05-21T14:53:32.655138",
     "status": "completed"
    },
    "tags": []
   },
   "outputs": [
    {
     "data": {
      "text/plain": [
       "GaussianNB()"
      ]
     },
     "execution_count": 48,
     "metadata": {},
     "output_type": "execute_result"
    }
   ],
   "source": [
    "nb = GaussianNB()\n",
    "nb.fit(X_train,y_train)"
   ]
  },
  {
   "cell_type": "code",
   "execution_count": 49,
   "id": "educational-techno",
   "metadata": {
    "execution": {
     "iopub.execute_input": "2021-05-21T14:53:33.172967Z",
     "iopub.status.busy": "2021-05-21T14:53:33.172236Z",
     "iopub.status.idle": "2021-05-21T14:53:33.175009Z",
     "shell.execute_reply": "2021-05-21T14:53:33.175565Z",
     "shell.execute_reply.started": "2021-05-21T14:41:36.816618Z"
    },
    "papermill": {
     "duration": 0.178695,
     "end_time": "2021-05-21T14:53:33.175737",
     "exception": false,
     "start_time": "2021-05-21T14:53:32.997042",
     "status": "completed"
    },
    "tags": []
   },
   "outputs": [],
   "source": [
    "y_pred_nb = nb.predict(test_main).astype(int)"
   ]
  },
  {
   "cell_type": "markdown",
   "id": "deluxe-arthritis",
   "metadata": {
    "papermill": {
     "duration": 0.163063,
     "end_time": "2021-05-21T14:53:33.509972",
     "exception": false,
     "start_time": "2021-05-21T14:53:33.346909",
     "status": "completed"
    },
    "tags": []
   },
   "source": [
    "## [Decision Tree](http://scikit-learn.org/stable/modules/generated/sklearn.tree.DecisionTreeClassifier.html)"
   ]
  },
  {
   "cell_type": "code",
   "execution_count": 50,
   "id": "bacterial-commodity",
   "metadata": {
    "execution": {
     "iopub.execute_input": "2021-05-21T14:53:33.845728Z",
     "iopub.status.busy": "2021-05-21T14:53:33.844936Z",
     "iopub.status.idle": "2021-05-21T14:53:33.857125Z",
     "shell.execute_reply": "2021-05-21T14:53:33.857670Z",
     "shell.execute_reply.started": "2021-05-21T14:41:36.828899Z"
    },
    "papermill": {
     "duration": 0.181241,
     "end_time": "2021-05-21T14:53:33.857846",
     "exception": false,
     "start_time": "2021-05-21T14:53:33.676605",
     "status": "completed"
    },
    "tags": []
   },
   "outputs": [
    {
     "data": {
      "text/plain": [
       "DecisionTreeClassifier()"
      ]
     },
     "execution_count": 50,
     "metadata": {},
     "output_type": "execute_result"
    }
   ],
   "source": [
    "dt = DecisionTreeClassifier()\n",
    "dt.fit(X_train,y_train)"
   ]
  },
  {
   "cell_type": "code",
   "execution_count": 51,
   "id": "integrated-allowance",
   "metadata": {
    "execution": {
     "iopub.execute_input": "2021-05-21T14:53:34.207525Z",
     "iopub.status.busy": "2021-05-21T14:53:34.206833Z",
     "iopub.status.idle": "2021-05-21T14:53:34.209743Z",
     "shell.execute_reply": "2021-05-21T14:53:34.210296Z",
     "shell.execute_reply.started": "2021-05-21T14:41:36.85107Z"
    },
    "papermill": {
     "duration": 0.184338,
     "end_time": "2021-05-21T14:53:34.210490",
     "exception": false,
     "start_time": "2021-05-21T14:53:34.026152",
     "status": "completed"
    },
    "tags": []
   },
   "outputs": [],
   "source": [
    "y_pred_dt = dt.predict(test_main).astype(int)"
   ]
  },
  {
   "cell_type": "markdown",
   "id": "systematic-colon",
   "metadata": {
    "papermill": {
     "duration": 0.170107,
     "end_time": "2021-05-21T14:53:34.550196",
     "exception": false,
     "start_time": "2021-05-21T14:53:34.380089",
     "status": "completed"
    },
    "tags": []
   },
   "source": [
    "## [RandomForest](http://scikit-learn.org/stable/modules/generated/sklearn.ensemble.RandomForestClassifier.html)"
   ]
  },
  {
   "cell_type": "code",
   "execution_count": 52,
   "id": "binary-parallel",
   "metadata": {
    "execution": {
     "iopub.execute_input": "2021-05-21T14:53:34.914935Z",
     "iopub.status.busy": "2021-05-21T14:53:34.914074Z",
     "iopub.status.idle": "2021-05-21T14:53:35.196365Z",
     "shell.execute_reply": "2021-05-21T14:53:35.195747Z",
     "shell.execute_reply.started": "2021-05-21T14:41:36.862156Z"
    },
    "papermill": {
     "duration": 0.455245,
     "end_time": "2021-05-21T14:53:35.196561",
     "exception": false,
     "start_time": "2021-05-21T14:53:34.741316",
     "status": "completed"
    },
    "tags": []
   },
   "outputs": [
    {
     "data": {
      "text/plain": [
       "RandomForestClassifier()"
      ]
     },
     "execution_count": 52,
     "metadata": {},
     "output_type": "execute_result"
    }
   ],
   "source": [
    "rf = RandomForestClassifier()\n",
    "rf.fit(X_train,y_train)"
   ]
  },
  {
   "cell_type": "code",
   "execution_count": 53,
   "id": "broad-literature",
   "metadata": {
    "execution": {
     "iopub.execute_input": "2021-05-21T14:53:35.550427Z",
     "iopub.status.busy": "2021-05-21T14:53:35.549345Z",
     "iopub.status.idle": "2021-05-21T14:53:35.569682Z",
     "shell.execute_reply": "2021-05-21T14:53:35.569102Z",
     "shell.execute_reply.started": "2021-05-21T14:41:36.88157Z"
    },
    "papermill": {
     "duration": 0.198841,
     "end_time": "2021-05-21T14:53:35.569838",
     "exception": false,
     "start_time": "2021-05-21T14:53:35.370997",
     "status": "completed"
    },
    "tags": []
   },
   "outputs": [],
   "source": [
    "y_pred_rf = rf.predict(test_main).astype(int)"
   ]
  },
  {
   "cell_type": "markdown",
   "id": "creative-december",
   "metadata": {
    "papermill": {
     "duration": 0.168768,
     "end_time": "2021-05-21T14:53:35.904222",
     "exception": false,
     "start_time": "2021-05-21T14:53:35.735454",
     "status": "completed"
    },
    "tags": []
   },
   "source": [
    "## [GradientBoostingClassifier](http://scikitlearn.org/stable/modules/generated/sklearn.ensemble.GradientBoostingClassifier.html)"
   ]
  },
  {
   "cell_type": "code",
   "execution_count": 54,
   "id": "tropical-lease",
   "metadata": {
    "execution": {
     "iopub.execute_input": "2021-05-21T14:53:36.262454Z",
     "iopub.status.busy": "2021-05-21T14:53:36.261442Z",
     "iopub.status.idle": "2021-05-21T14:53:36.426421Z",
     "shell.execute_reply": "2021-05-21T14:53:36.425744Z",
     "shell.execute_reply.started": "2021-05-21T14:41:36.890659Z"
    },
    "papermill": {
     "duration": 0.343103,
     "end_time": "2021-05-21T14:53:36.426567",
     "exception": false,
     "start_time": "2021-05-21T14:53:36.083464",
     "status": "completed"
    },
    "tags": []
   },
   "outputs": [
    {
     "data": {
      "text/plain": [
       "GradientBoostingClassifier()"
      ]
     },
     "execution_count": 54,
     "metadata": {},
     "output_type": "execute_result"
    }
   ],
   "source": [
    "gbc = GradientBoostingClassifier()\n",
    "gbc.fit(X_train,y_train)"
   ]
  },
  {
   "cell_type": "code",
   "execution_count": 55,
   "id": "dense-piece",
   "metadata": {
    "execution": {
     "iopub.execute_input": "2021-05-21T14:53:36.767245Z",
     "iopub.status.busy": "2021-05-21T14:53:36.766572Z",
     "iopub.status.idle": "2021-05-21T14:53:36.769499Z",
     "shell.execute_reply": "2021-05-21T14:53:36.768947Z",
     "shell.execute_reply.started": "2021-05-21T14:41:37.050605Z"
    },
    "papermill": {
     "duration": 0.176646,
     "end_time": "2021-05-21T14:53:36.769638",
     "exception": false,
     "start_time": "2021-05-21T14:53:36.592992",
     "status": "completed"
    },
    "tags": []
   },
   "outputs": [],
   "source": [
    "y_pred_gbc = gbc.predict(test_main).astype(int)"
   ]
  },
  {
   "cell_type": "markdown",
   "id": "mathematical-posting",
   "metadata": {
    "papermill": {
     "duration": 0.177484,
     "end_time": "2021-05-21T14:53:37.109684",
     "exception": false,
     "start_time": "2021-05-21T14:53:36.932200",
     "status": "completed"
    },
    "tags": []
   },
   "source": [
    "## [XGBClassifier](https://xgboost.readthedocs.io/en/latest/index.html)"
   ]
  },
  {
   "cell_type": "code",
   "execution_count": 56,
   "id": "brown-thumbnail",
   "metadata": {
    "execution": {
     "iopub.execute_input": "2021-05-21T14:53:37.457092Z",
     "iopub.status.busy": "2021-05-21T14:53:37.456127Z",
     "iopub.status.idle": "2021-05-21T14:53:37.503816Z",
     "shell.execute_reply": "2021-05-21T14:53:37.503208Z",
     "shell.execute_reply.started": "2021-05-21T14:41:37.062905Z"
    },
    "papermill": {
     "duration": 0.222123,
     "end_time": "2021-05-21T14:53:37.503961",
     "exception": false,
     "start_time": "2021-05-21T14:53:37.281838",
     "status": "completed"
    },
    "tags": []
   },
   "outputs": [
    {
     "name": "stdout",
     "output_type": "stream",
     "text": [
      "[14:53:37] WARNING: ../src/learner.cc:1095: Starting in XGBoost 1.3.0, the default evaluation metric used with the objective 'binary:logistic' was changed from 'error' to 'logloss'. Explicitly set eval_metric if you'd like to restore the old behavior.\n"
     ]
    },
    {
     "data": {
      "text/plain": [
       "XGBClassifier(base_score=0.5, booster='gbtree', colsample_bylevel=0.9,\n",
       "              colsample_bynode=1, colsample_bytree=0.8, gamma=0.99, gpu_id=-1,\n",
       "              importance_type='gain', interaction_constraints='',\n",
       "              learning_rate=0.300000012, max_delta_step=0, max_depth=5,\n",
       "              min_child_weight=1, missing=nan, monotone_constraints='()',\n",
       "              n_estimators=8, n_jobs=5, nthread=5, num_parallel_tree=1,\n",
       "              random_state=0, reg_alpha=0, reg_lambda=1, scale_pos_weight=1,\n",
       "              subsample=1, tree_method='exact', validate_parameters=1,\n",
       "              verbosity=None)"
      ]
     },
     "execution_count": 56,
     "metadata": {},
     "output_type": "execute_result"
    }
   ],
   "source": [
    "xgb = XGBClassifier(colsample_bylevel= 0.9,\n",
    "                    colsample_bytree = 0.8, \n",
    "                    gamma=0.99,\n",
    "                    max_depth= 5,\n",
    "                    min_child_weight= 1,\n",
    "                    n_estimators= 8,\n",
    "                    nthread= 5,\n",
    "                    random_state= 0,\n",
    "                    )\n",
    "xgb.fit(X_train_scale,y_train)"
   ]
  },
  {
   "cell_type": "code",
   "execution_count": 57,
   "id": "seeing-assault",
   "metadata": {
    "execution": {
     "iopub.execute_input": "2021-05-21T14:53:37.840754Z",
     "iopub.status.busy": "2021-05-21T14:53:37.840052Z",
     "iopub.status.idle": "2021-05-21T14:53:37.847610Z",
     "shell.execute_reply": "2021-05-21T14:53:37.848194Z",
     "shell.execute_reply.started": "2021-05-21T14:41:37.119171Z"
    },
    "papermill": {
     "duration": 0.173782,
     "end_time": "2021-05-21T14:53:37.848381",
     "exception": false,
     "start_time": "2021-05-21T14:53:37.674599",
     "status": "completed"
    },
    "tags": []
   },
   "outputs": [],
   "source": [
    "y_pred_xgb = xgb.predict(test_main_scale).astype(int)"
   ]
  },
  {
   "cell_type": "markdown",
   "id": "helpful-stamp",
   "metadata": {
    "papermill": {
     "duration": 0.17024,
     "end_time": "2021-05-21T14:53:38.187429",
     "exception": false,
     "start_time": "2021-05-21T14:53:38.017189",
     "status": "completed"
    },
    "tags": []
   },
   "source": [
    "## Output\n",
    "### save output as csv"
   ]
  },
  {
   "cell_type": "code",
   "execution_count": 58,
   "id": "freelance-saver",
   "metadata": {
    "execution": {
     "iopub.execute_input": "2021-05-21T14:53:38.527024Z",
     "iopub.status.busy": "2021-05-21T14:53:38.526320Z",
     "iopub.status.idle": "2021-05-21T14:53:38.537260Z",
     "shell.execute_reply": "2021-05-21T14:53:38.536608Z",
     "shell.execute_reply.started": "2021-05-21T14:41:37.128418Z"
    },
    "papermill": {
     "duration": 0.17817,
     "end_time": "2021-05-21T14:53:38.537432",
     "exception": false,
     "start_time": "2021-05-21T14:53:38.359262",
     "status": "completed"
    },
    "tags": []
   },
   "outputs": [],
   "source": [
    "final_data_1 = {'PassengerId': test_main.PassengerId, 'Survived': y_pred_xgb}\n",
    "submission_1 = pd.DataFrame(data=final_data_1)\n",
    "submission_1.to_csv('submission_xgb.csv',index =False)"
   ]
  }
 ],
 "metadata": {
  "kernelspec": {
   "display_name": "Python 3",
   "language": "python",
   "name": "python3"
  },
  "language_info": {
   "codemirror_mode": {
    "name": "ipython",
    "version": 3
   },
   "file_extension": ".py",
   "mimetype": "text/x-python",
   "name": "python",
   "nbconvert_exporter": "python",
   "pygments_lexer": "ipython3",
   "version": "3.7.10"
  },
  "papermill": {
   "default_parameters": {},
   "duration": 70.204513,
   "end_time": "2021-05-21T14:53:40.441444",
   "environment_variables": {},
   "exception": null,
   "input_path": "__notebook__.ipynb",
   "output_path": "__notebook__.ipynb",
   "parameters": {},
   "start_time": "2021-05-21T14:52:30.236931",
   "version": "2.3.3"
  }
 },
 "nbformat": 4,
 "nbformat_minor": 5
}
