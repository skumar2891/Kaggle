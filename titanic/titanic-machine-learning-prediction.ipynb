{
 "cells": [
  {
   "cell_type": "code",
   "execution_count": 1,
   "id": "surprised-tackle",
   "metadata": {
    "_cell_guid": "b1076dfc-b9ad-4769-8c92-a6c4dae69d19",
    "_uuid": "8f2839f25d086af736a60e9eeb907d3b93b6e0e5",
    "execution": {
     "iopub.execute_input": "2021-05-24T10:35:15.284727Z",
     "iopub.status.busy": "2021-05-24T10:35:15.284183Z",
     "iopub.status.idle": "2021-05-24T10:35:15.288692Z",
     "shell.execute_reply": "2021-05-24T10:35:15.288145Z"
    },
    "papermill": {
     "duration": 0.075386,
     "end_time": "2021-05-24T10:35:15.288861",
     "exception": false,
     "start_time": "2021-05-24T10:35:15.213475",
     "status": "completed"
    },
    "tags": []
   },
   "outputs": [
    {
     "name": "stdout",
     "output_type": "stream",
     "text": [
      "/kaggle/input/titanic/train.csv\n",
      "/kaggle/input/titanic/test.csv\n",
      "/kaggle/input/titanic/gender_submission.csv\n"
     ]
    }
   ],
   "source": [
    "# This Python 3 environment comes with many helpful analytics libraries installed\n",
    "# It is defined by the kaggle/python Docker image: https://github.com/kaggle/docker-python\n",
    "# For example, here's several helpful packages to load\n",
    "\n",
    "import numpy as np # linear algebra\n",
    "import pandas as pd # data processing, CSV file I/O (e.g. pd.read_csv)\n",
    "\n",
    "# Input data files are available in the read-only \"../input/\" directory\n",
    "# For example, running this (by clicking run or pressing Shift+Enter) will list all files under the input directory\n",
    "\n",
    "import os\n",
    "for dirname, _, filenames in os.walk('/kaggle/input'):\n",
    "    for filename in filenames:\n",
    "        print(os.path.join(dirname, filename))\n",
    "\n",
    "# You can write up to 20GB to the current directory (/kaggle/working/) that gets preserved as output when you create a version using \"Save & Run All\" \n",
    "# You can also write temporary files to /kaggle/temp/, but they won't be saved outside of the current session"
   ]
  },
  {
   "cell_type": "markdown",
   "id": "lasting-manufacturer",
   "metadata": {
    "execution": {
     "iopub.execute_input": "2021-05-24T09:45:19.226174Z",
     "iopub.status.busy": "2021-05-24T09:45:19.225827Z",
     "iopub.status.idle": "2021-05-24T09:45:19.231717Z",
     "shell.execute_reply": "2021-05-24T09:45:19.230411Z",
     "shell.execute_reply.started": "2021-05-24T09:45:19.226143Z"
    },
    "papermill": {
     "duration": 0.056967,
     "end_time": "2021-05-24T10:35:15.403541",
     "exception": false,
     "start_time": "2021-05-24T10:35:15.346574",
     "status": "completed"
    },
    "tags": []
   },
   "source": [
    "<p style = \"font-size : 50px; color : blue ; font-family : 'Comic Sans MS'; text-align : center; background-color : yellow; border-radius: 5px 5px;\"><strong>Titanic EDA and Prediction</strong></p>"
   ]
  },
  {
   "cell_type": "markdown",
   "id": "several-seventh",
   "metadata": {
    "papermill": {
     "duration": 0.056918,
     "end_time": "2021-05-24T10:35:15.517216",
     "exception": false,
     "start_time": "2021-05-24T10:35:15.460298",
     "status": "completed"
    },
    "tags": []
   },
   "source": [
    "<p style = \"font-size : 25px; color : #34656d ; font-family : 'Comic Sans MS'; text-align : center; background-color : lightgreen; border-radius: 5px 5px;\"><strong>Importing all necessary libraries</strong></p> "
   ]
  },
  {
   "cell_type": "code",
   "execution_count": 2,
   "id": "vocational-brake",
   "metadata": {
    "execution": {
     "iopub.execute_input": "2021-05-24T10:35:15.640418Z",
     "iopub.status.busy": "2021-05-24T10:35:15.639798Z",
     "iopub.status.idle": "2021-05-24T10:35:17.971293Z",
     "shell.execute_reply": "2021-05-24T10:35:17.971710Z",
     "shell.execute_reply.started": "2021-05-24T09:41:14.282298Z"
    },
    "papermill": {
     "duration": 2.397271,
     "end_time": "2021-05-24T10:35:17.971935",
     "exception": false,
     "start_time": "2021-05-24T10:35:15.574664",
     "status": "completed"
    },
    "tags": []
   },
   "outputs": [
    {
     "data": {
      "text/html": [
       "<style type='text/css'>\n",
       ".datatable table.frame { margin-bottom: 0; }\n",
       ".datatable table.frame thead { border-bottom: none; }\n",
       ".datatable table.frame tr.coltypes td {  color: #FFFFFF;  line-height: 6px;  padding: 0 0.5em;}\n",
       ".datatable .bool    { background: #DDDD99; }\n",
       ".datatable .object  { background: #565656; }\n",
       ".datatable .int     { background: #5D9E5D; }\n",
       ".datatable .float   { background: #4040CC; }\n",
       ".datatable .str     { background: #CC4040; }\n",
       ".datatable .row_index {  background: var(--jp-border-color3);  border-right: 1px solid var(--jp-border-color0);  color: var(--jp-ui-font-color3);  font-size: 9px;}\n",
       ".datatable .frame tr.coltypes .row_index {  background: var(--jp-border-color0);}\n",
       ".datatable th:nth-child(2) { padding-left: 12px; }\n",
       ".datatable .hellipsis {  color: var(--jp-cell-editor-border-color);}\n",
       ".datatable .vellipsis {  background: var(--jp-layout-color0);  color: var(--jp-cell-editor-border-color);}\n",
       ".datatable .na {  color: var(--jp-cell-editor-border-color);  font-size: 80%;}\n",
       ".datatable .footer { font-size: 9px; }\n",
       ".datatable .frame_dimensions {  background: var(--jp-border-color3);  border-top: 1px solid var(--jp-border-color0);  color: var(--jp-ui-font-color3);  display: inline-block;  opacity: 0.6;  padding: 1px 10px 1px 5px;}\n",
       "</style>\n"
      ],
      "text/plain": [
       "<IPython.core.display.HTML object>"
      ]
     },
     "metadata": {},
     "output_type": "display_data"
    },
    {
     "name": "stdout",
     "output_type": "stream",
     "text": [
      "all necessary libraries are imported\n"
     ]
    }
   ],
   "source": [
    "import pandas as pd\n",
    "import numpy as np\n",
    "import xgboost as xgb\n",
    "from scipy import stats\n",
    "from sklearn.model_selection import cross_val_score\n",
    "from sklearn.ensemble import RandomForestClassifier\n",
    "from sklearn.svm import SVC, LinearSVC\n",
    "from sklearn.tree import DecisionTreeClassifier\n",
    "from sklearn.neighbors import KNeighborsClassifier\n",
    "from sklearn.naive_bayes import GaussianNB\n",
    "from sklearn.linear_model import Perceptron\n",
    "from sklearn.linear_model import SGDClassifier\n",
    "from sklearn.svm import SVR\n",
    "from lightgbm import LGBMRegressor\n",
    "from xgboost import XGBRegressor\n",
    "from mlxtend.regressor import StackingRegressor\n",
    "from sklearn.preprocessing import StandardScaler\n",
    "from sklearn.preprocessing import MinMaxScaler\n",
    "from sklearn.model_selection import GridSearchCV\n",
    "from sklearn.preprocessing import RobustScaler\n",
    "import matplotlib.pyplot as plt\n",
    "%matplotlib inline\n",
    "import seaborn as sns\n",
    "from sklearn.model_selection import train_test_split\n",
    "from sklearn.linear_model import LogisticRegression\n",
    "from sklearn.linear_model import Lasso, Ridge\n",
    "from sklearn.metrics import mean_absolute_error\n",
    "from sklearn.metrics import accuracy_score\n",
    "pd.pandas.set_option(\"display.max_columns\",None)\n",
    "print(\"all necessary libraries are imported\")"
   ]
  },
  {
   "cell_type": "code",
   "execution_count": 3,
   "id": "supported-midnight",
   "metadata": {
    "execution": {
     "iopub.execute_input": "2021-05-24T10:35:18.096778Z",
     "iopub.status.busy": "2021-05-24T10:35:18.096199Z",
     "iopub.status.idle": "2021-05-24T10:35:18.131753Z",
     "shell.execute_reply": "2021-05-24T10:35:18.132296Z"
    },
    "papermill": {
     "duration": 0.10037,
     "end_time": "2021-05-24T10:35:18.132489",
     "exception": false,
     "start_time": "2021-05-24T10:35:18.032119",
     "status": "completed"
    },
    "tags": []
   },
   "outputs": [
    {
     "data": {
      "text/html": [
       "<div>\n",
       "<style scoped>\n",
       "    .dataframe tbody tr th:only-of-type {\n",
       "        vertical-align: middle;\n",
       "    }\n",
       "\n",
       "    .dataframe tbody tr th {\n",
       "        vertical-align: top;\n",
       "    }\n",
       "\n",
       "    .dataframe thead th {\n",
       "        text-align: right;\n",
       "    }\n",
       "</style>\n",
       "<table border=\"1\" class=\"dataframe\">\n",
       "  <thead>\n",
       "    <tr style=\"text-align: right;\">\n",
       "      <th></th>\n",
       "      <th>PassengerId</th>\n",
       "      <th>Survived</th>\n",
       "      <th>Pclass</th>\n",
       "      <th>Name</th>\n",
       "      <th>Sex</th>\n",
       "      <th>Age</th>\n",
       "      <th>SibSp</th>\n",
       "      <th>Parch</th>\n",
       "      <th>Ticket</th>\n",
       "      <th>Fare</th>\n",
       "      <th>Cabin</th>\n",
       "      <th>Embarked</th>\n",
       "    </tr>\n",
       "  </thead>\n",
       "  <tbody>\n",
       "    <tr>\n",
       "      <th>0</th>\n",
       "      <td>1</td>\n",
       "      <td>0</td>\n",
       "      <td>3</td>\n",
       "      <td>Braund, Mr. Owen Harris</td>\n",
       "      <td>male</td>\n",
       "      <td>22.0</td>\n",
       "      <td>1</td>\n",
       "      <td>0</td>\n",
       "      <td>A/5 21171</td>\n",
       "      <td>7.2500</td>\n",
       "      <td>NaN</td>\n",
       "      <td>S</td>\n",
       "    </tr>\n",
       "    <tr>\n",
       "      <th>1</th>\n",
       "      <td>2</td>\n",
       "      <td>1</td>\n",
       "      <td>1</td>\n",
       "      <td>Cumings, Mrs. John Bradley (Florence Briggs Th...</td>\n",
       "      <td>female</td>\n",
       "      <td>38.0</td>\n",
       "      <td>1</td>\n",
       "      <td>0</td>\n",
       "      <td>PC 17599</td>\n",
       "      <td>71.2833</td>\n",
       "      <td>C85</td>\n",
       "      <td>C</td>\n",
       "    </tr>\n",
       "    <tr>\n",
       "      <th>2</th>\n",
       "      <td>3</td>\n",
       "      <td>1</td>\n",
       "      <td>3</td>\n",
       "      <td>Heikkinen, Miss. Laina</td>\n",
       "      <td>female</td>\n",
       "      <td>26.0</td>\n",
       "      <td>0</td>\n",
       "      <td>0</td>\n",
       "      <td>STON/O2. 3101282</td>\n",
       "      <td>7.9250</td>\n",
       "      <td>NaN</td>\n",
       "      <td>S</td>\n",
       "    </tr>\n",
       "    <tr>\n",
       "      <th>3</th>\n",
       "      <td>4</td>\n",
       "      <td>1</td>\n",
       "      <td>1</td>\n",
       "      <td>Futrelle, Mrs. Jacques Heath (Lily May Peel)</td>\n",
       "      <td>female</td>\n",
       "      <td>35.0</td>\n",
       "      <td>1</td>\n",
       "      <td>0</td>\n",
       "      <td>113803</td>\n",
       "      <td>53.1000</td>\n",
       "      <td>C123</td>\n",
       "      <td>S</td>\n",
       "    </tr>\n",
       "    <tr>\n",
       "      <th>4</th>\n",
       "      <td>5</td>\n",
       "      <td>0</td>\n",
       "      <td>3</td>\n",
       "      <td>Allen, Mr. William Henry</td>\n",
       "      <td>male</td>\n",
       "      <td>35.0</td>\n",
       "      <td>0</td>\n",
       "      <td>0</td>\n",
       "      <td>373450</td>\n",
       "      <td>8.0500</td>\n",
       "      <td>NaN</td>\n",
       "      <td>S</td>\n",
       "    </tr>\n",
       "  </tbody>\n",
       "</table>\n",
       "</div>"
      ],
      "text/plain": [
       "   PassengerId  Survived  Pclass  \\\n",
       "0            1         0       3   \n",
       "1            2         1       1   \n",
       "2            3         1       3   \n",
       "3            4         1       1   \n",
       "4            5         0       3   \n",
       "\n",
       "                                                Name     Sex   Age  SibSp  \\\n",
       "0                            Braund, Mr. Owen Harris    male  22.0      1   \n",
       "1  Cumings, Mrs. John Bradley (Florence Briggs Th...  female  38.0      1   \n",
       "2                             Heikkinen, Miss. Laina  female  26.0      0   \n",
       "3       Futrelle, Mrs. Jacques Heath (Lily May Peel)  female  35.0      1   \n",
       "4                           Allen, Mr. William Henry    male  35.0      0   \n",
       "\n",
       "   Parch            Ticket     Fare Cabin Embarked  \n",
       "0      0         A/5 21171   7.2500   NaN        S  \n",
       "1      0          PC 17599  71.2833   C85        C  \n",
       "2      0  STON/O2. 3101282   7.9250   NaN        S  \n",
       "3      0            113803  53.1000  C123        S  \n",
       "4      0            373450   8.0500   NaN        S  "
      ]
     },
     "execution_count": 3,
     "metadata": {},
     "output_type": "execute_result"
    }
   ],
   "source": [
    "train=pd.read_csv(\"../input/titanic/train.csv\")\n",
    "train.head()"
   ]
  },
  {
   "cell_type": "code",
   "execution_count": 4,
   "id": "apparent-installation",
   "metadata": {
    "execution": {
     "iopub.execute_input": "2021-05-24T10:35:18.256989Z",
     "iopub.status.busy": "2021-05-24T10:35:18.256339Z",
     "iopub.status.idle": "2021-05-24T10:35:18.278300Z",
     "shell.execute_reply": "2021-05-24T10:35:18.277662Z"
    },
    "papermill": {
     "duration": 0.085049,
     "end_time": "2021-05-24T10:35:18.278437",
     "exception": false,
     "start_time": "2021-05-24T10:35:18.193388",
     "status": "completed"
    },
    "tags": []
   },
   "outputs": [
    {
     "data": {
      "text/html": [
       "<div>\n",
       "<style scoped>\n",
       "    .dataframe tbody tr th:only-of-type {\n",
       "        vertical-align: middle;\n",
       "    }\n",
       "\n",
       "    .dataframe tbody tr th {\n",
       "        vertical-align: top;\n",
       "    }\n",
       "\n",
       "    .dataframe thead th {\n",
       "        text-align: right;\n",
       "    }\n",
       "</style>\n",
       "<table border=\"1\" class=\"dataframe\">\n",
       "  <thead>\n",
       "    <tr style=\"text-align: right;\">\n",
       "      <th></th>\n",
       "      <th>PassengerId</th>\n",
       "      <th>Pclass</th>\n",
       "      <th>Name</th>\n",
       "      <th>Sex</th>\n",
       "      <th>Age</th>\n",
       "      <th>SibSp</th>\n",
       "      <th>Parch</th>\n",
       "      <th>Ticket</th>\n",
       "      <th>Fare</th>\n",
       "      <th>Cabin</th>\n",
       "      <th>Embarked</th>\n",
       "    </tr>\n",
       "  </thead>\n",
       "  <tbody>\n",
       "    <tr>\n",
       "      <th>0</th>\n",
       "      <td>892</td>\n",
       "      <td>3</td>\n",
       "      <td>Kelly, Mr. James</td>\n",
       "      <td>male</td>\n",
       "      <td>34.5</td>\n",
       "      <td>0</td>\n",
       "      <td>0</td>\n",
       "      <td>330911</td>\n",
       "      <td>7.8292</td>\n",
       "      <td>NaN</td>\n",
       "      <td>Q</td>\n",
       "    </tr>\n",
       "    <tr>\n",
       "      <th>1</th>\n",
       "      <td>893</td>\n",
       "      <td>3</td>\n",
       "      <td>Wilkes, Mrs. James (Ellen Needs)</td>\n",
       "      <td>female</td>\n",
       "      <td>47.0</td>\n",
       "      <td>1</td>\n",
       "      <td>0</td>\n",
       "      <td>363272</td>\n",
       "      <td>7.0000</td>\n",
       "      <td>NaN</td>\n",
       "      <td>S</td>\n",
       "    </tr>\n",
       "    <tr>\n",
       "      <th>2</th>\n",
       "      <td>894</td>\n",
       "      <td>2</td>\n",
       "      <td>Myles, Mr. Thomas Francis</td>\n",
       "      <td>male</td>\n",
       "      <td>62.0</td>\n",
       "      <td>0</td>\n",
       "      <td>0</td>\n",
       "      <td>240276</td>\n",
       "      <td>9.6875</td>\n",
       "      <td>NaN</td>\n",
       "      <td>Q</td>\n",
       "    </tr>\n",
       "    <tr>\n",
       "      <th>3</th>\n",
       "      <td>895</td>\n",
       "      <td>3</td>\n",
       "      <td>Wirz, Mr. Albert</td>\n",
       "      <td>male</td>\n",
       "      <td>27.0</td>\n",
       "      <td>0</td>\n",
       "      <td>0</td>\n",
       "      <td>315154</td>\n",
       "      <td>8.6625</td>\n",
       "      <td>NaN</td>\n",
       "      <td>S</td>\n",
       "    </tr>\n",
       "    <tr>\n",
       "      <th>4</th>\n",
       "      <td>896</td>\n",
       "      <td>3</td>\n",
       "      <td>Hirvonen, Mrs. Alexander (Helga E Lindqvist)</td>\n",
       "      <td>female</td>\n",
       "      <td>22.0</td>\n",
       "      <td>1</td>\n",
       "      <td>1</td>\n",
       "      <td>3101298</td>\n",
       "      <td>12.2875</td>\n",
       "      <td>NaN</td>\n",
       "      <td>S</td>\n",
       "    </tr>\n",
       "  </tbody>\n",
       "</table>\n",
       "</div>"
      ],
      "text/plain": [
       "   PassengerId  Pclass                                          Name     Sex  \\\n",
       "0          892       3                              Kelly, Mr. James    male   \n",
       "1          893       3              Wilkes, Mrs. James (Ellen Needs)  female   \n",
       "2          894       2                     Myles, Mr. Thomas Francis    male   \n",
       "3          895       3                              Wirz, Mr. Albert    male   \n",
       "4          896       3  Hirvonen, Mrs. Alexander (Helga E Lindqvist)  female   \n",
       "\n",
       "    Age  SibSp  Parch   Ticket     Fare Cabin Embarked  \n",
       "0  34.5      0      0   330911   7.8292   NaN        Q  \n",
       "1  47.0      1      0   363272   7.0000   NaN        S  \n",
       "2  62.0      0      0   240276   9.6875   NaN        Q  \n",
       "3  27.0      0      0   315154   8.6625   NaN        S  \n",
       "4  22.0      1      1  3101298  12.2875   NaN        S  "
      ]
     },
     "execution_count": 4,
     "metadata": {},
     "output_type": "execute_result"
    }
   ],
   "source": [
    "test=pd.read_csv(\"../input/titanic/test.csv\")\n",
    "test.head()"
   ]
  },
  {
   "cell_type": "code",
   "execution_count": 5,
   "id": "proof-footage",
   "metadata": {
    "execution": {
     "iopub.execute_input": "2021-05-24T10:35:18.405547Z",
     "iopub.status.busy": "2021-05-24T10:35:18.404898Z",
     "iopub.status.idle": "2021-05-24T10:35:18.407762Z",
     "shell.execute_reply": "2021-05-24T10:35:18.408266Z"
    },
    "papermill": {
     "duration": 0.068784,
     "end_time": "2021-05-24T10:35:18.408426",
     "exception": false,
     "start_time": "2021-05-24T10:35:18.339642",
     "status": "completed"
    },
    "tags": []
   },
   "outputs": [
    {
     "data": {
      "text/plain": [
       "((891, 12), (418, 11))"
      ]
     },
     "execution_count": 5,
     "metadata": {},
     "output_type": "execute_result"
    }
   ],
   "source": [
    "train.shape,test.shape"
   ]
  },
  {
   "cell_type": "code",
   "execution_count": 6,
   "id": "noted-empty",
   "metadata": {
    "execution": {
     "iopub.execute_input": "2021-05-24T10:35:18.532607Z",
     "iopub.status.busy": "2021-05-24T10:35:18.531713Z",
     "iopub.status.idle": "2021-05-24T10:35:18.539882Z",
     "shell.execute_reply": "2021-05-24T10:35:18.540355Z"
    },
    "papermill": {
     "duration": 0.071338,
     "end_time": "2021-05-24T10:35:18.540514",
     "exception": false,
     "start_time": "2021-05-24T10:35:18.469176",
     "status": "completed"
    },
    "tags": []
   },
   "outputs": [
    {
     "data": {
      "text/plain": [
       "['Name', 'Sex', 'Ticket', 'Cabin', 'Embarked']"
      ]
     },
     "execution_count": 6,
     "metadata": {},
     "output_type": "execute_result"
    }
   ],
   "source": [
    "train_cat=list(train.select_dtypes(include='object'))\n",
    "train_cat\n"
   ]
  },
  {
   "cell_type": "code",
   "execution_count": 7,
   "id": "indonesian-trinity",
   "metadata": {
    "execution": {
     "iopub.execute_input": "2021-05-24T10:35:18.664892Z",
     "iopub.status.busy": "2021-05-24T10:35:18.664328Z",
     "iopub.status.idle": "2021-05-24T10:35:18.670951Z",
     "shell.execute_reply": "2021-05-24T10:35:18.671330Z"
    },
    "papermill": {
     "duration": 0.070489,
     "end_time": "2021-05-24T10:35:18.671487",
     "exception": false,
     "start_time": "2021-05-24T10:35:18.600998",
     "status": "completed"
    },
    "tags": []
   },
   "outputs": [
    {
     "data": {
      "text/plain": [
       "['PassengerId', 'Survived', 'Pclass', 'Age', 'SibSp', 'Parch', 'Fare']"
      ]
     },
     "execution_count": 7,
     "metadata": {},
     "output_type": "execute_result"
    }
   ],
   "source": [
    "train_num=list(train.select_dtypes(exclude='object'))\n",
    "train_num"
   ]
  },
  {
   "cell_type": "markdown",
   "id": "expensive-spotlight",
   "metadata": {
    "papermill": {
     "duration": 0.061639,
     "end_time": "2021-05-24T10:35:18.794211",
     "exception": false,
     "start_time": "2021-05-24T10:35:18.732572",
     "status": "completed"
    },
    "tags": []
   },
   "source": [
    "<p style = \"font-size : 35px; color : #34656d ; font-family : 'Comic Sans MS'; text-align : center; background-color : lightblue; border-radius: 5px 5px;\"><strong>Univariate Analysis</strong></p> "
   ]
  },
  {
   "cell_type": "markdown",
   "id": "qualified-bible",
   "metadata": {
    "papermill": {
     "duration": 0.060575,
     "end_time": "2021-05-24T10:35:18.915993",
     "exception": false,
     "start_time": "2021-05-24T10:35:18.855418",
     "status": "completed"
    },
    "tags": []
   },
   "source": [
    "<p style = \"font-size : 20px; color : #34656d ; font-family : 'Comic Sans MS'; text-align : center; background-color : orange; border-radius: 5px 5px;\"><strong>Target Feature</strong></p> "
   ]
  },
  {
   "cell_type": "code",
   "execution_count": 8,
   "id": "virgin-holder",
   "metadata": {
    "execution": {
     "iopub.execute_input": "2021-05-24T10:35:19.038987Z",
     "iopub.status.busy": "2021-05-24T10:35:19.038409Z",
     "iopub.status.idle": "2021-05-24T10:35:19.192314Z",
     "shell.execute_reply": "2021-05-24T10:35:19.191634Z"
    },
    "papermill": {
     "duration": 0.215986,
     "end_time": "2021-05-24T10:35:19.192465",
     "exception": false,
     "start_time": "2021-05-24T10:35:18.976479",
     "status": "completed"
    },
    "tags": []
   },
   "outputs": [
    {
     "data": {
      "text/plain": [
       "<AxesSubplot:>"
      ]
     },
     "execution_count": 8,
     "metadata": {},
     "output_type": "execute_result"
    },
    {
     "data": {
      "image/png": "[encoded data removed]",
      "text/plain": [
       "<Figure size 432x288 with 1 Axes>"
      ]
     },
     "metadata": {
      "needs_background": "light"
     },
     "output_type": "display_data"
    }
   ],
   "source": [
    "train['Survived'].value_counts().plot.bar(color=['r','g'])"
   ]
  },
  {
   "cell_type": "markdown",
   "id": "statutory-corpus",
   "metadata": {
    "papermill": {
     "duration": 0.062028,
     "end_time": "2021-05-24T10:35:19.316805",
     "exception": false,
     "start_time": "2021-05-24T10:35:19.254777",
     "status": "completed"
    },
    "tags": []
   },
   "source": [
    "it says that most of the people have dead"
   ]
  },
  {
   "cell_type": "markdown",
   "id": "cheap-wilderness",
   "metadata": {
    "papermill": {
     "duration": 0.061123,
     "end_time": "2021-05-24T10:35:19.439390",
     "exception": false,
     "start_time": "2021-05-24T10:35:19.378267",
     "status": "completed"
    },
    "tags": []
   },
   "source": [
    "<p style = \"font-size : 20px; color : #34656d ; font-family : 'Comic Sans MS'; text-align : center; background-color : orange; border-radius: 5px 5px;\"><strong>Categorical Feature</strong></p> "
   ]
  },
  {
   "cell_type": "code",
   "execution_count": 9,
   "id": "satisfied-subcommittee",
   "metadata": {
    "execution": {
     "iopub.execute_input": "2021-05-24T10:35:19.591647Z",
     "iopub.status.busy": "2021-05-24T10:35:19.591067Z",
     "iopub.status.idle": "2021-05-24T10:35:19.766665Z",
     "shell.execute_reply": "2021-05-24T10:35:19.766086Z"
    },
    "papermill": {
     "duration": 0.266245,
     "end_time": "2021-05-24T10:35:19.766790",
     "exception": false,
     "start_time": "2021-05-24T10:35:19.500545",
     "status": "completed"
    },
    "tags": []
   },
   "outputs": [
    {
     "data": {
      "text/plain": [
       "<AxesSubplot:>"
      ]
     },
     "execution_count": 9,
     "metadata": {},
     "output_type": "execute_result"
    },
    {
     "data": {
      "image/png": "[encoded data removed]",
      "text/plain": [
       "<Figure size 720x720 with 2 Axes>"
      ]
     },
     "metadata": {
      "needs_background": "light"
     },
     "output_type": "display_data"
    }
   ],
   "source": [
    "plt.figure(1)\n",
    "plt.subplot(221)\n",
    "train['Sex'].value_counts(normalize=True).plot.bar(figsize=(10,10),color=['b','r'])\n",
    "plt.subplot(223)\n",
    "train['Embarked'].value_counts(normalize=True).plot.bar(figsize=(10,10),color=['y','g','r'])"
   ]
  },
  {
   "cell_type": "markdown",
   "id": "sustained-monday",
   "metadata": {
    "papermill": {
     "duration": 0.061892,
     "end_time": "2021-05-24T10:35:19.891494",
     "exception": false,
     "start_time": "2021-05-24T10:35:19.829602",
     "status": "completed"
    },
    "tags": []
   },
   "source": [
    "* > Around 80% of the passangers are male\n",
    "* > Around 75% of passangers have embarked as S"
   ]
  },
  {
   "cell_type": "markdown",
   "id": "funky-bahamas",
   "metadata": {
    "papermill": {
     "duration": 0.063238,
     "end_time": "2021-05-24T10:35:20.017247",
     "exception": false,
     "start_time": "2021-05-24T10:35:19.954009",
     "status": "completed"
    },
    "tags": []
   },
   "source": [
    "<p style = \"font-size : 20px; color : #34656d ; font-family : 'Comic Sans MS'; text-align : center; background-color : orange; border-radius: 5px 5px;\"><strong>Numerical Feature</strong></p> "
   ]
  },
  {
   "cell_type": "code",
   "execution_count": 10,
   "id": "christian-station",
   "metadata": {
    "execution": {
     "iopub.execute_input": "2021-05-24T10:35:20.151062Z",
     "iopub.status.busy": "2021-05-24T10:35:20.150410Z",
     "iopub.status.idle": "2021-05-24T10:35:20.358565Z",
     "shell.execute_reply": "2021-05-24T10:35:20.358097Z"
    },
    "papermill": {
     "duration": 0.278328,
     "end_time": "2021-05-24T10:35:20.358697",
     "exception": false,
     "start_time": "2021-05-24T10:35:20.080369",
     "status": "completed"
    },
    "tags": []
   },
   "outputs": [
    {
     "data": {
      "text/plain": [
       "<AxesSubplot:>"
      ]
     },
     "execution_count": 10,
     "metadata": {},
     "output_type": "execute_result"
    },
    {
     "data": {
      "image/png": "[encoded data removed]",
      "text/plain": [
       "<Figure size 720x720 with 2 Axes>"
      ]
     },
     "metadata": {
      "needs_background": "light"
     },
     "output_type": "display_data"
    }
   ],
   "source": [
    "plt.figure(1)\n",
    "plt.subplot(221)\n",
    "train['Pclass'].value_counts(normalize=True).plot.bar(figsize=(10,10),title=\"Pclass\")\n",
    "plt.subplot(223)\n",
    "train['Pclass'].plot.box(figsize=(10,10))"
   ]
  },
  {
   "cell_type": "code",
   "execution_count": 11,
   "id": "initial-insulin",
   "metadata": {
    "execution": {
     "iopub.execute_input": "2021-05-24T10:35:20.500224Z",
     "iopub.status.busy": "2021-05-24T10:35:20.499546Z",
     "iopub.status.idle": "2021-05-24T10:35:20.719454Z",
     "shell.execute_reply": "2021-05-24T10:35:20.719843Z"
    },
    "papermill": {
     "duration": 0.297021,
     "end_time": "2021-05-24T10:35:20.720138",
     "exception": false,
     "start_time": "2021-05-24T10:35:20.423117",
     "status": "completed"
    },
    "tags": []
   },
   "outputs": [
    {
     "data": {
      "text/plain": [
       "<AxesSubplot:>"
      ]
     },
     "execution_count": 11,
     "metadata": {},
     "output_type": "execute_result"
    },
    {
     "data": {
      "image/png": "[encoded data removed]",
      "text/plain": [
       "<Figure size 720x720 with 2 Axes>"
      ]
     },
     "metadata": {
      "needs_background": "light"
     },
     "output_type": "display_data"
    }
   ],
   "source": [
    "plt.figure(1)\n",
    "plt.subplot(221)\n",
    "train['SibSp'].value_counts(normalize=True).plot.bar(figsize=(10,10),title=\"SibSp\")\n",
    "plt.subplot(223)\n",
    "train['SibSp'].plot.box(figsize=(10,10))"
   ]
  },
  {
   "cell_type": "code",
   "execution_count": 12,
   "id": "aquatic-press",
   "metadata": {
    "execution": {
     "iopub.execute_input": "2021-05-24T10:35:20.884646Z",
     "iopub.status.busy": "2021-05-24T10:35:20.872171Z",
     "iopub.status.idle": "2021-05-24T10:35:21.083780Z",
     "shell.execute_reply": "2021-05-24T10:35:21.084278Z"
    },
    "papermill": {
     "duration": 0.299606,
     "end_time": "2021-05-24T10:35:21.084477",
     "exception": false,
     "start_time": "2021-05-24T10:35:20.784871",
     "status": "completed"
    },
    "tags": []
   },
   "outputs": [
    {
     "data": {
      "text/plain": [
       "<AxesSubplot:>"
      ]
     },
     "execution_count": 12,
     "metadata": {},
     "output_type": "execute_result"
    },
    {
     "data": {
      "image/png": "[encoded data removed]",
      "text/plain": [
       "<Figure size 720x720 with 2 Axes>"
      ]
     },
     "metadata": {
      "needs_background": "light"
     },
     "output_type": "display_data"
    }
   ],
   "source": [
    "plt.figure(1)\n",
    "plt.subplot(221)\n",
    "train['Parch'].value_counts(normalize=True).plot.bar(figsize=(10,10),title=\"Parch\")\n",
    "plt.subplot(223)\n",
    "train['Parch'].plot.box(figsize=(10,10))"
   ]
  },
  {
   "cell_type": "markdown",
   "id": "voluntary-ready",
   "metadata": {
    "papermill": {
     "duration": 0.066426,
     "end_time": "2021-05-24T10:35:21.218099",
     "exception": false,
     "start_time": "2021-05-24T10:35:21.151673",
     "status": "completed"
    },
    "tags": []
   },
   "source": [
    "<p style = \"font-size : 35px; color : #34656d ; font-family : 'Comic Sans MS'; text-align : center; background-color : lightblue; border-radius: 5px 5px;\"><strong>Bivariate Analysis</strong></p> "
   ]
  },
  {
   "cell_type": "markdown",
   "id": "coupled-parker",
   "metadata": {
    "papermill": {
     "duration": 0.065469,
     "end_time": "2021-05-24T10:35:21.349068",
     "exception": false,
     "start_time": "2021-05-24T10:35:21.283599",
     "status": "completed"
    },
    "tags": []
   },
   "source": [
    "<p style = \"font-size : 20px; color : #34656d ; font-family : 'Comic Sans MS'; text-align : center; background-color : orange; border-radius: 5px 5px;\"><strong>Categorical vs Target Feature</strong></p> "
   ]
  },
  {
   "cell_type": "code",
   "execution_count": 13,
   "id": "consistent-printer",
   "metadata": {
    "execution": {
     "iopub.execute_input": "2021-05-24T10:35:21.484233Z",
     "iopub.status.busy": "2021-05-24T10:35:21.483479Z",
     "iopub.status.idle": "2021-05-24T10:35:21.486766Z",
     "shell.execute_reply": "2021-05-24T10:35:21.487169Z"
    },
    "papermill": {
     "duration": 0.073382,
     "end_time": "2021-05-24T10:35:21.487330",
     "exception": false,
     "start_time": "2021-05-24T10:35:21.413948",
     "status": "completed"
    },
    "tags": []
   },
   "outputs": [
    {
     "data": {
      "text/plain": [
       "['Name', 'Sex', 'Ticket', 'Cabin', 'Embarked']"
      ]
     },
     "execution_count": 13,
     "metadata": {},
     "output_type": "execute_result"
    }
   ],
   "source": [
    "train_cat"
   ]
  },
  {
   "cell_type": "code",
   "execution_count": 14,
   "id": "hybrid-lincoln",
   "metadata": {
    "execution": {
     "iopub.execute_input": "2021-05-24T10:35:21.629998Z",
     "iopub.status.busy": "2021-05-24T10:35:21.629338Z",
     "iopub.status.idle": "2021-05-24T10:35:21.764811Z",
     "shell.execute_reply": "2021-05-24T10:35:21.765288Z"
    },
    "papermill": {
     "duration": 0.212419,
     "end_time": "2021-05-24T10:35:21.765461",
     "exception": false,
     "start_time": "2021-05-24T10:35:21.553042",
     "status": "completed"
    },
    "tags": []
   },
   "outputs": [
    {
     "data": {
      "text/plain": [
       "<AxesSubplot:xlabel='Sex'>"
      ]
     },
     "execution_count": 14,
     "metadata": {},
     "output_type": "execute_result"
    },
    {
     "data": {
      "image/png": "[encoded data removed]",
      "text/plain": [
       "<Figure size 288x288 with 1 Axes>"
      ]
     },
     "metadata": {
      "needs_background": "light"
     },
     "output_type": "display_data"
    }
   ],
   "source": [
    "sex=pd.crosstab(train['Sex'],train['Survived'])\n",
    "sex.div(sex.sum(1).astype(float),axis=0).plot(kind='bar',stacked=True,figsize=(4,4))"
   ]
  },
  {
   "cell_type": "markdown",
   "id": "rough-priest",
   "metadata": {
    "papermill": {
     "duration": 0.067166,
     "end_time": "2021-05-24T10:35:21.899377",
     "exception": false,
     "start_time": "2021-05-24T10:35:21.832211",
     "status": "completed"
    },
    "tags": []
   },
   "source": [
    "> More males have dead comapre to females\n",
    "as if 1 shows alive and 0 shows death"
   ]
  },
  {
   "cell_type": "code",
   "execution_count": 15,
   "id": "chubby-ultimate",
   "metadata": {
    "execution": {
     "iopub.execute_input": "2021-05-24T10:35:22.038425Z",
     "iopub.status.busy": "2021-05-24T10:35:22.037535Z",
     "iopub.status.idle": "2021-05-24T10:35:22.179428Z",
     "shell.execute_reply": "2021-05-24T10:35:22.178969Z"
    },
    "papermill": {
     "duration": 0.212437,
     "end_time": "2021-05-24T10:35:22.179560",
     "exception": false,
     "start_time": "2021-05-24T10:35:21.967123",
     "status": "completed"
    },
    "tags": []
   },
   "outputs": [
    {
     "data": {
      "text/plain": [
       "<AxesSubplot:xlabel='Embarked'>"
      ]
     },
     "execution_count": 15,
     "metadata": {},
     "output_type": "execute_result"
    },
    {
     "data": {
      "image/png": "[encoded data removed]",
      "text/plain": [
       "<Figure size 288x288 with 1 Axes>"
      ]
     },
     "metadata": {
      "needs_background": "light"
     },
     "output_type": "display_data"
    }
   ],
   "source": [
    "embarked=pd.crosstab(train['Embarked'],train['Survived'])\n",
    "embarked.div(embarked.sum(1).astype(float),axis=0).plot(kind='bar',stacked=True,figsize=(4,4))"
   ]
  },
  {
   "cell_type": "markdown",
   "id": "czech-montreal",
   "metadata": {
    "papermill": {
     "duration": 0.066051,
     "end_time": "2021-05-24T10:35:22.312465",
     "exception": false,
     "start_time": "2021-05-24T10:35:22.246414",
     "status": "completed"
    },
    "tags": []
   },
   "source": [
    "> The survival rate of embarked 'C' is greater than the rest two and the lowest survival rate is associated with embarked 'S'"
   ]
  },
  {
   "cell_type": "markdown",
   "id": "suited-baltimore",
   "metadata": {
    "papermill": {
     "duration": 0.066187,
     "end_time": "2021-05-24T10:35:22.445801",
     "exception": false,
     "start_time": "2021-05-24T10:35:22.379614",
     "status": "completed"
    },
    "tags": []
   },
   "source": [
    "<p style = \"font-size : 20px; color : #34656d ; font-family : 'Comic Sans MS'; text-align : center; background-color : orange; border-radius: 5px 5px;\"><strong>Numerical vs Target Feature</strong></p> "
   ]
  },
  {
   "cell_type": "code",
   "execution_count": 16,
   "id": "superior-asbestos",
   "metadata": {
    "execution": {
     "iopub.execute_input": "2021-05-24T10:35:22.632170Z",
     "iopub.status.busy": "2021-05-24T10:35:22.631376Z",
     "iopub.status.idle": "2021-05-24T10:35:22.634466Z",
     "shell.execute_reply": "2021-05-24T10:35:22.634975Z"
    },
    "papermill": {
     "duration": 0.075509,
     "end_time": "2021-05-24T10:35:22.635140",
     "exception": false,
     "start_time": "2021-05-24T10:35:22.559631",
     "status": "completed"
    },
    "tags": []
   },
   "outputs": [
    {
     "data": {
      "text/plain": [
       "['PassengerId', 'Survived', 'Pclass', 'Age', 'SibSp', 'Parch', 'Fare']"
      ]
     },
     "execution_count": 16,
     "metadata": {},
     "output_type": "execute_result"
    }
   ],
   "source": [
    "train_num"
   ]
  },
  {
   "cell_type": "code",
   "execution_count": 17,
   "id": "decreased-argentina",
   "metadata": {
    "execution": {
     "iopub.execute_input": "2021-05-24T10:35:22.773002Z",
     "iopub.status.busy": "2021-05-24T10:35:22.772137Z",
     "iopub.status.idle": "2021-05-24T10:35:22.916438Z",
     "shell.execute_reply": "2021-05-24T10:35:22.916868Z"
    },
    "papermill": {
     "duration": 0.214871,
     "end_time": "2021-05-24T10:35:22.917045",
     "exception": false,
     "start_time": "2021-05-24T10:35:22.702174",
     "status": "completed"
    },
    "tags": []
   },
   "outputs": [
    {
     "data": {
      "text/plain": [
       "<AxesSubplot:xlabel='Pclass'>"
      ]
     },
     "execution_count": 17,
     "metadata": {},
     "output_type": "execute_result"
    },
    {
     "data": {
      "image/png": "[encoded data removed]",
      "text/plain": [
       "<Figure size 288x288 with 1 Axes>"
      ]
     },
     "metadata": {
      "needs_background": "light"
     },
     "output_type": "display_data"
    }
   ],
   "source": [
    "pclass=pd.crosstab(train['Pclass'],train['Survived'])\n",
    "pclass.div(pclass.sum(1).astype(float),axis=0).plot(kind='bar',stacked=True,figsize=(4,4))"
   ]
  },
  {
   "cell_type": "markdown",
   "id": "outstanding-tooth",
   "metadata": {
    "papermill": {
     "duration": 0.069646,
     "end_time": "2021-05-24T10:35:23.055281",
     "exception": false,
     "start_time": "2021-05-24T10:35:22.985635",
     "status": "completed"
    },
    "tags": []
   },
   "source": [
    "> class 1 has most survival rate and class 3 has least survival rate"
   ]
  },
  {
   "cell_type": "code",
   "execution_count": 18,
   "id": "durable-personality",
   "metadata": {
    "execution": {
     "iopub.execute_input": "2021-05-24T10:35:23.201742Z",
     "iopub.status.busy": "2021-05-24T10:35:23.201156Z",
     "iopub.status.idle": "2021-05-24T10:35:23.372692Z",
     "shell.execute_reply": "2021-05-24T10:35:23.372247Z"
    },
    "papermill": {
     "duration": 0.248644,
     "end_time": "2021-05-24T10:35:23.372825",
     "exception": false,
     "start_time": "2021-05-24T10:35:23.124181",
     "status": "completed"
    },
    "tags": []
   },
   "outputs": [
    {
     "data": {
      "text/plain": [
       "<AxesSubplot:xlabel='SibSp'>"
      ]
     },
     "execution_count": 18,
     "metadata": {},
     "output_type": "execute_result"
    },
    {
     "data": {
      "image/png": "[encoded data removed]",
      "text/plain": [
       "<Figure size 288x288 with 1 Axes>"
      ]
     },
     "metadata": {
      "needs_background": "light"
     },
     "output_type": "display_data"
    }
   ],
   "source": [
    "sibsp=pd.crosstab(train['SibSp'],train['Survived'])\n",
    "sibsp.div(sibsp.sum(1).astype(float),axis=0).plot(kind='bar',stacked=True,figsize=(4,4))"
   ]
  },
  {
   "cell_type": "code",
   "execution_count": 19,
   "id": "chief-sport",
   "metadata": {
    "execution": {
     "iopub.execute_input": "2021-05-24T10:35:23.515223Z",
     "iopub.status.busy": "2021-05-24T10:35:23.514322Z",
     "iopub.status.idle": "2021-05-24T10:35:23.671489Z",
     "shell.execute_reply": "2021-05-24T10:35:23.671983Z"
    },
    "papermill": {
     "duration": 0.231207,
     "end_time": "2021-05-24T10:35:23.672140",
     "exception": false,
     "start_time": "2021-05-24T10:35:23.440933",
     "status": "completed"
    },
    "tags": []
   },
   "outputs": [
    {
     "data": {
      "text/plain": [
       "<AxesSubplot:xlabel='Parch'>"
      ]
     },
     "execution_count": 19,
     "metadata": {},
     "output_type": "execute_result"
    },
    {
     "data": {
      "image/png": "[encoded data removed]",
      "text/plain": [
       "<Figure size 288x288 with 1 Axes>"
      ]
     },
     "metadata": {
      "needs_background": "light"
     },
     "output_type": "display_data"
    }
   ],
   "source": [
    "parch=pd.crosstab(train['Parch'],train['Survived'])\n",
    "parch.div(parch.sum(1).astype(float),axis=0).plot(kind='bar',stacked=True,figsize=(4,4))"
   ]
  },
  {
   "cell_type": "code",
   "execution_count": 20,
   "id": "attempted-bradford",
   "metadata": {
    "execution": {
     "iopub.execute_input": "2021-05-24T10:35:23.811565Z",
     "iopub.status.busy": "2021-05-24T10:35:23.810699Z",
     "iopub.status.idle": "2021-05-24T10:35:23.818741Z",
     "shell.execute_reply": "2021-05-24T10:35:23.819168Z"
    },
    "papermill": {
     "duration": 0.079327,
     "end_time": "2021-05-24T10:35:23.819324",
     "exception": false,
     "start_time": "2021-05-24T10:35:23.739997",
     "status": "completed"
    },
    "tags": []
   },
   "outputs": [
    {
     "data": {
      "text/plain": [
       "PassengerId    False\n",
       "Survived       False\n",
       "Pclass         False\n",
       "Name           False\n",
       "Sex            False\n",
       "Age             True\n",
       "SibSp          False\n",
       "Parch          False\n",
       "Ticket         False\n",
       "Fare           False\n",
       "Cabin           True\n",
       "Embarked        True\n",
       "dtype: bool"
      ]
     },
     "execution_count": 20,
     "metadata": {},
     "output_type": "execute_result"
    }
   ],
   "source": [
    "train.isnull().any()"
   ]
  },
  {
   "cell_type": "code",
   "execution_count": 21,
   "id": "logical-stadium",
   "metadata": {
    "execution": {
     "iopub.execute_input": "2021-05-24T10:35:23.963368Z",
     "iopub.status.busy": "2021-05-24T10:35:23.962652Z",
     "iopub.status.idle": "2021-05-24T10:35:23.966662Z",
     "shell.execute_reply": "2021-05-24T10:35:23.966113Z"
    },
    "papermill": {
     "duration": 0.079286,
     "end_time": "2021-05-24T10:35:23.966789",
     "exception": false,
     "start_time": "2021-05-24T10:35:23.887503",
     "status": "completed"
    },
    "tags": []
   },
   "outputs": [
    {
     "data": {
      "text/plain": [
       "['Cabin', 'Embarked']"
      ]
     },
     "execution_count": 21,
     "metadata": {},
     "output_type": "execute_result"
    }
   ],
   "source": [
    "train_missing_obj_col=[]\n",
    "for col in train_cat:\n",
    "    if train[col].isnull().any():\n",
    "        train_missing_obj_col.append(col)\n",
    "train_missing_obj_col        "
   ]
  },
  {
   "cell_type": "markdown",
   "id": "muslim-baptist",
   "metadata": {
    "papermill": {
     "duration": 0.068904,
     "end_time": "2021-05-24T10:35:24.106052",
     "exception": false,
     "start_time": "2021-05-24T10:35:24.037148",
     "status": "completed"
    },
    "tags": []
   },
   "source": [
    "<p style = \"font-size : 35px; color : #34656d ; font-family : 'Comic Sans MS'; text-align : center; background-color : lightblue; border-radius: 5px 5px;\"><strong>Missing Values Imputation In Train Dataset</strong></p>"
   ]
  },
  {
   "cell_type": "markdown",
   "id": "printable-wages",
   "metadata": {
    "papermill": {
     "duration": 0.069533,
     "end_time": "2021-05-24T10:35:24.244187",
     "exception": false,
     "start_time": "2021-05-24T10:35:24.174654",
     "status": "completed"
    },
    "tags": []
   },
   "source": [
    "<p style = \"font-size : 20px; color : #34656d ; font-family : 'Comic Sans MS'; text-align : center; background-color : orange; border-radius: 5px 5px;\"><strong>Imputation In Numerical Col</strong></p> "
   ]
  },
  {
   "cell_type": "code",
   "execution_count": 22,
   "id": "surface-strap",
   "metadata": {
    "execution": {
     "iopub.execute_input": "2021-05-24T10:35:24.388080Z",
     "iopub.status.busy": "2021-05-24T10:35:24.387460Z",
     "iopub.status.idle": "2021-05-24T10:35:24.390742Z",
     "shell.execute_reply": "2021-05-24T10:35:24.390219Z"
    },
    "papermill": {
     "duration": 0.078189,
     "end_time": "2021-05-24T10:35:24.390880",
     "exception": false,
     "start_time": "2021-05-24T10:35:24.312691",
     "status": "completed"
    },
    "tags": []
   },
   "outputs": [
    {
     "data": {
      "text/plain": [
       "['Age']"
      ]
     },
     "execution_count": 22,
     "metadata": {},
     "output_type": "execute_result"
    }
   ],
   "source": [
    "train_missing_num_col=[]\n",
    "for col in train_num:\n",
    "    if train[col].isnull().any():\n",
    "        train_missing_num_col.append(col)\n",
    "train_missing_num_col     "
   ]
  },
  {
   "cell_type": "code",
   "execution_count": 23,
   "id": "confidential-presentation",
   "metadata": {
    "execution": {
     "iopub.execute_input": "2021-05-24T10:35:24.539185Z",
     "iopub.status.busy": "2021-05-24T10:35:24.538517Z",
     "iopub.status.idle": "2021-05-24T10:35:24.542454Z",
     "shell.execute_reply": "2021-05-24T10:35:24.542025Z"
    },
    "papermill": {
     "duration": 0.083172,
     "end_time": "2021-05-24T10:35:24.542581",
     "exception": false,
     "start_time": "2021-05-24T10:35:24.459409",
     "status": "completed"
    },
    "tags": []
   },
   "outputs": [
    {
     "data": {
      "text/html": [
       "<div>\n",
       "<style scoped>\n",
       "    .dataframe tbody tr th:only-of-type {\n",
       "        vertical-align: middle;\n",
       "    }\n",
       "\n",
       "    .dataframe tbody tr th {\n",
       "        vertical-align: top;\n",
       "    }\n",
       "\n",
       "    .dataframe thead th {\n",
       "        text-align: right;\n",
       "    }\n",
       "</style>\n",
       "<table border=\"1\" class=\"dataframe\">\n",
       "  <thead>\n",
       "    <tr style=\"text-align: right;\">\n",
       "      <th></th>\n",
       "      <th>Age</th>\n",
       "    </tr>\n",
       "  </thead>\n",
       "  <tbody>\n",
       "    <tr>\n",
       "      <th>0</th>\n",
       "      <td>22.0</td>\n",
       "    </tr>\n",
       "    <tr>\n",
       "      <th>1</th>\n",
       "      <td>38.0</td>\n",
       "    </tr>\n",
       "    <tr>\n",
       "      <th>2</th>\n",
       "      <td>26.0</td>\n",
       "    </tr>\n",
       "    <tr>\n",
       "      <th>3</th>\n",
       "      <td>35.0</td>\n",
       "    </tr>\n",
       "    <tr>\n",
       "      <th>4</th>\n",
       "      <td>35.0</td>\n",
       "    </tr>\n",
       "    <tr>\n",
       "      <th>...</th>\n",
       "      <td>...</td>\n",
       "    </tr>\n",
       "    <tr>\n",
       "      <th>886</th>\n",
       "      <td>27.0</td>\n",
       "    </tr>\n",
       "    <tr>\n",
       "      <th>887</th>\n",
       "      <td>19.0</td>\n",
       "    </tr>\n",
       "    <tr>\n",
       "      <th>888</th>\n",
       "      <td>NaN</td>\n",
       "    </tr>\n",
       "    <tr>\n",
       "      <th>889</th>\n",
       "      <td>26.0</td>\n",
       "    </tr>\n",
       "    <tr>\n",
       "      <th>890</th>\n",
       "      <td>32.0</td>\n",
       "    </tr>\n",
       "  </tbody>\n",
       "</table>\n",
       "<p>891 rows × 1 columns</p>\n",
       "</div>"
      ],
      "text/plain": [
       "      Age\n",
       "0    22.0\n",
       "1    38.0\n",
       "2    26.0\n",
       "3    35.0\n",
       "4    35.0\n",
       "..    ...\n",
       "886  27.0\n",
       "887  19.0\n",
       "888   NaN\n",
       "889  26.0\n",
       "890  32.0\n",
       "\n",
       "[891 rows x 1 columns]"
      ]
     },
     "execution_count": 23,
     "metadata": {},
     "output_type": "execute_result"
    }
   ],
   "source": [
    "temp=train[['Age']]\n",
    "temp"
   ]
  },
  {
   "cell_type": "code",
   "execution_count": 24,
   "id": "frozen-colleague",
   "metadata": {
    "execution": {
     "iopub.execute_input": "2021-05-24T10:35:24.688005Z",
     "iopub.status.busy": "2021-05-24T10:35:24.687426Z",
     "iopub.status.idle": "2021-05-24T10:35:24.690354Z",
     "shell.execute_reply": "2021-05-24T10:35:24.689907Z"
    },
    "papermill": {
     "duration": 0.078377,
     "end_time": "2021-05-24T10:35:24.690488",
     "exception": false,
     "start_time": "2021-05-24T10:35:24.612111",
     "status": "completed"
    },
    "tags": []
   },
   "outputs": [],
   "source": [
    "train.drop(['Age'],inplace=True,axis=1)"
   ]
  },
  {
   "cell_type": "code",
   "execution_count": 25,
   "id": "productive-crime",
   "metadata": {
    "execution": {
     "iopub.execute_input": "2021-05-24T10:35:24.837274Z",
     "iopub.status.busy": "2021-05-24T10:35:24.836667Z",
     "iopub.status.idle": "2021-05-24T10:35:24.975837Z",
     "shell.execute_reply": "2021-05-24T10:35:24.975314Z"
    },
    "papermill": {
     "duration": 0.214614,
     "end_time": "2021-05-24T10:35:24.975996",
     "exception": false,
     "start_time": "2021-05-24T10:35:24.761382",
     "status": "completed"
    },
    "tags": []
   },
   "outputs": [],
   "source": [
    "from sklearn.impute import SimpleImputer\n",
    "my_imputer=SimpleImputer()\n",
    "imputed_temp = pd.DataFrame(my_imputer.fit_transform(temp))\n",
    "imputed_temp.columns = temp.columns"
   ]
  },
  {
   "cell_type": "code",
   "execution_count": 26,
   "id": "robust-rouge",
   "metadata": {
    "execution": {
     "iopub.execute_input": "2021-05-24T10:35:25.124121Z",
     "iopub.status.busy": "2021-05-24T10:35:25.123295Z",
     "iopub.status.idle": "2021-05-24T10:35:25.126399Z",
     "shell.execute_reply": "2021-05-24T10:35:25.125799Z"
    },
    "papermill": {
     "duration": 0.079622,
     "end_time": "2021-05-24T10:35:25.126537",
     "exception": false,
     "start_time": "2021-05-24T10:35:25.046915",
     "status": "completed"
    },
    "tags": []
   },
   "outputs": [],
   "source": [
    "train=pd.concat([train,imputed_temp],axis=1)"
   ]
  },
  {
   "cell_type": "code",
   "execution_count": 27,
   "id": "received-welsh",
   "metadata": {
    "execution": {
     "iopub.execute_input": "2021-05-24T10:35:25.293255Z",
     "iopub.status.busy": "2021-05-24T10:35:25.284770Z",
     "iopub.status.idle": "2021-05-24T10:35:25.297372Z",
     "shell.execute_reply": "2021-05-24T10:35:25.296818Z"
    },
    "papermill": {
     "duration": 0.100213,
     "end_time": "2021-05-24T10:35:25.297504",
     "exception": false,
     "start_time": "2021-05-24T10:35:25.197291",
     "status": "completed"
    },
    "tags": []
   },
   "outputs": [
    {
     "data": {
      "text/html": [
       "<div>\n",
       "<style scoped>\n",
       "    .dataframe tbody tr th:only-of-type {\n",
       "        vertical-align: middle;\n",
       "    }\n",
       "\n",
       "    .dataframe tbody tr th {\n",
       "        vertical-align: top;\n",
       "    }\n",
       "\n",
       "    .dataframe thead th {\n",
       "        text-align: right;\n",
       "    }\n",
       "</style>\n",
       "<table border=\"1\" class=\"dataframe\">\n",
       "  <thead>\n",
       "    <tr style=\"text-align: right;\">\n",
       "      <th></th>\n",
       "      <th>PassengerId</th>\n",
       "      <th>Survived</th>\n",
       "      <th>Pclass</th>\n",
       "      <th>Name</th>\n",
       "      <th>Sex</th>\n",
       "      <th>SibSp</th>\n",
       "      <th>Parch</th>\n",
       "      <th>Ticket</th>\n",
       "      <th>Fare</th>\n",
       "      <th>Cabin</th>\n",
       "      <th>Embarked</th>\n",
       "      <th>Age</th>\n",
       "    </tr>\n",
       "  </thead>\n",
       "  <tbody>\n",
       "    <tr>\n",
       "      <th>0</th>\n",
       "      <td>1</td>\n",
       "      <td>0</td>\n",
       "      <td>3</td>\n",
       "      <td>Braund, Mr. Owen Harris</td>\n",
       "      <td>male</td>\n",
       "      <td>1</td>\n",
       "      <td>0</td>\n",
       "      <td>A/5 21171</td>\n",
       "      <td>7.2500</td>\n",
       "      <td>NaN</td>\n",
       "      <td>S</td>\n",
       "      <td>22.000000</td>\n",
       "    </tr>\n",
       "    <tr>\n",
       "      <th>1</th>\n",
       "      <td>2</td>\n",
       "      <td>1</td>\n",
       "      <td>1</td>\n",
       "      <td>Cumings, Mrs. John Bradley (Florence Briggs Th...</td>\n",
       "      <td>female</td>\n",
       "      <td>1</td>\n",
       "      <td>0</td>\n",
       "      <td>PC 17599</td>\n",
       "      <td>71.2833</td>\n",
       "      <td>C85</td>\n",
       "      <td>C</td>\n",
       "      <td>38.000000</td>\n",
       "    </tr>\n",
       "    <tr>\n",
       "      <th>2</th>\n",
       "      <td>3</td>\n",
       "      <td>1</td>\n",
       "      <td>3</td>\n",
       "      <td>Heikkinen, Miss. Laina</td>\n",
       "      <td>female</td>\n",
       "      <td>0</td>\n",
       "      <td>0</td>\n",
       "      <td>STON/O2. 3101282</td>\n",
       "      <td>7.9250</td>\n",
       "      <td>NaN</td>\n",
       "      <td>S</td>\n",
       "      <td>26.000000</td>\n",
       "    </tr>\n",
       "    <tr>\n",
       "      <th>3</th>\n",
       "      <td>4</td>\n",
       "      <td>1</td>\n",
       "      <td>1</td>\n",
       "      <td>Futrelle, Mrs. Jacques Heath (Lily May Peel)</td>\n",
       "      <td>female</td>\n",
       "      <td>1</td>\n",
       "      <td>0</td>\n",
       "      <td>113803</td>\n",
       "      <td>53.1000</td>\n",
       "      <td>C123</td>\n",
       "      <td>S</td>\n",
       "      <td>35.000000</td>\n",
       "    </tr>\n",
       "    <tr>\n",
       "      <th>4</th>\n",
       "      <td>5</td>\n",
       "      <td>0</td>\n",
       "      <td>3</td>\n",
       "      <td>Allen, Mr. William Henry</td>\n",
       "      <td>male</td>\n",
       "      <td>0</td>\n",
       "      <td>0</td>\n",
       "      <td>373450</td>\n",
       "      <td>8.0500</td>\n",
       "      <td>NaN</td>\n",
       "      <td>S</td>\n",
       "      <td>35.000000</td>\n",
       "    </tr>\n",
       "    <tr>\n",
       "      <th>...</th>\n",
       "      <td>...</td>\n",
       "      <td>...</td>\n",
       "      <td>...</td>\n",
       "      <td>...</td>\n",
       "      <td>...</td>\n",
       "      <td>...</td>\n",
       "      <td>...</td>\n",
       "      <td>...</td>\n",
       "      <td>...</td>\n",
       "      <td>...</td>\n",
       "      <td>...</td>\n",
       "      <td>...</td>\n",
       "    </tr>\n",
       "    <tr>\n",
       "      <th>886</th>\n",
       "      <td>887</td>\n",
       "      <td>0</td>\n",
       "      <td>2</td>\n",
       "      <td>Montvila, Rev. Juozas</td>\n",
       "      <td>male</td>\n",
       "      <td>0</td>\n",
       "      <td>0</td>\n",
       "      <td>211536</td>\n",
       "      <td>13.0000</td>\n",
       "      <td>NaN</td>\n",
       "      <td>S</td>\n",
       "      <td>27.000000</td>\n",
       "    </tr>\n",
       "    <tr>\n",
       "      <th>887</th>\n",
       "      <td>888</td>\n",
       "      <td>1</td>\n",
       "      <td>1</td>\n",
       "      <td>Graham, Miss. Margaret Edith</td>\n",
       "      <td>female</td>\n",
       "      <td>0</td>\n",
       "      <td>0</td>\n",
       "      <td>112053</td>\n",
       "      <td>30.0000</td>\n",
       "      <td>B42</td>\n",
       "      <td>S</td>\n",
       "      <td>19.000000</td>\n",
       "    </tr>\n",
       "    <tr>\n",
       "      <th>888</th>\n",
       "      <td>889</td>\n",
       "      <td>0</td>\n",
       "      <td>3</td>\n",
       "      <td>Johnston, Miss. Catherine Helen \"Carrie\"</td>\n",
       "      <td>female</td>\n",
       "      <td>1</td>\n",
       "      <td>2</td>\n",
       "      <td>W./C. 6607</td>\n",
       "      <td>23.4500</td>\n",
       "      <td>NaN</td>\n",
       "      <td>S</td>\n",
       "      <td>29.699118</td>\n",
       "    </tr>\n",
       "    <tr>\n",
       "      <th>889</th>\n",
       "      <td>890</td>\n",
       "      <td>1</td>\n",
       "      <td>1</td>\n",
       "      <td>Behr, Mr. Karl Howell</td>\n",
       "      <td>male</td>\n",
       "      <td>0</td>\n",
       "      <td>0</td>\n",
       "      <td>111369</td>\n",
       "      <td>30.0000</td>\n",
       "      <td>C148</td>\n",
       "      <td>C</td>\n",
       "      <td>26.000000</td>\n",
       "    </tr>\n",
       "    <tr>\n",
       "      <th>890</th>\n",
       "      <td>891</td>\n",
       "      <td>0</td>\n",
       "      <td>3</td>\n",
       "      <td>Dooley, Mr. Patrick</td>\n",
       "      <td>male</td>\n",
       "      <td>0</td>\n",
       "      <td>0</td>\n",
       "      <td>370376</td>\n",
       "      <td>7.7500</td>\n",
       "      <td>NaN</td>\n",
       "      <td>Q</td>\n",
       "      <td>32.000000</td>\n",
       "    </tr>\n",
       "  </tbody>\n",
       "</table>\n",
       "<p>891 rows × 12 columns</p>\n",
       "</div>"
      ],
      "text/plain": [
       "     PassengerId  Survived  Pclass  \\\n",
       "0              1         0       3   \n",
       "1              2         1       1   \n",
       "2              3         1       3   \n",
       "3              4         1       1   \n",
       "4              5         0       3   \n",
       "..           ...       ...     ...   \n",
       "886          887         0       2   \n",
       "887          888         1       1   \n",
       "888          889         0       3   \n",
       "889          890         1       1   \n",
       "890          891         0       3   \n",
       "\n",
       "                                                  Name     Sex  SibSp  Parch  \\\n",
       "0                              Braund, Mr. Owen Harris    male      1      0   \n",
       "1    Cumings, Mrs. John Bradley (Florence Briggs Th...  female      1      0   \n",
       "2                               Heikkinen, Miss. Laina  female      0      0   \n",
       "3         Futrelle, Mrs. Jacques Heath (Lily May Peel)  female      1      0   \n",
       "4                             Allen, Mr. William Henry    male      0      0   \n",
       "..                                                 ...     ...    ...    ...   \n",
       "886                              Montvila, Rev. Juozas    male      0      0   \n",
       "887                       Graham, Miss. Margaret Edith  female      0      0   \n",
       "888           Johnston, Miss. Catherine Helen \"Carrie\"  female      1      2   \n",
       "889                              Behr, Mr. Karl Howell    male      0      0   \n",
       "890                                Dooley, Mr. Patrick    male      0      0   \n",
       "\n",
       "               Ticket     Fare Cabin Embarked        Age  \n",
       "0           A/5 21171   7.2500   NaN        S  22.000000  \n",
       "1            PC 17599  71.2833   C85        C  38.000000  \n",
       "2    STON/O2. 3101282   7.9250   NaN        S  26.000000  \n",
       "3              113803  53.1000  C123        S  35.000000  \n",
       "4              373450   8.0500   NaN        S  35.000000  \n",
       "..                ...      ...   ...      ...        ...  \n",
       "886            211536  13.0000   NaN        S  27.000000  \n",
       "887            112053  30.0000   B42        S  19.000000  \n",
       "888        W./C. 6607  23.4500   NaN        S  29.699118  \n",
       "889            111369  30.0000  C148        C  26.000000  \n",
       "890            370376   7.7500   NaN        Q  32.000000  \n",
       "\n",
       "[891 rows x 12 columns]"
      ]
     },
     "execution_count": 27,
     "metadata": {},
     "output_type": "execute_result"
    }
   ],
   "source": [
    "train"
   ]
  },
  {
   "cell_type": "markdown",
   "id": "conventional-globe",
   "metadata": {
    "papermill": {
     "duration": 0.071144,
     "end_time": "2021-05-24T10:35:25.439318",
     "exception": false,
     "start_time": "2021-05-24T10:35:25.368174",
     "status": "completed"
    },
    "tags": []
   },
   "source": [
    "<p style = \"font-size : 20px; color : #34656d ; font-family : 'Comic Sans MS'; text-align : center; background-color : orange; border-radius: 5px 5px;\"><strong>Imputation In Categorical Col</strong></p>"
   ]
  },
  {
   "cell_type": "code",
   "execution_count": 28,
   "id": "understanding-accounting",
   "metadata": {
    "execution": {
     "iopub.execute_input": "2021-05-24T10:35:25.587225Z",
     "iopub.status.busy": "2021-05-24T10:35:25.586461Z",
     "iopub.status.idle": "2021-05-24T10:35:25.589954Z",
     "shell.execute_reply": "2021-05-24T10:35:25.590382Z"
    },
    "papermill": {
     "duration": 0.078608,
     "end_time": "2021-05-24T10:35:25.590537",
     "exception": false,
     "start_time": "2021-05-24T10:35:25.511929",
     "status": "completed"
    },
    "tags": []
   },
   "outputs": [],
   "source": [
    "train['Embarked'].fillna(train['Embarked'].mode(),inplace=True)"
   ]
  },
  {
   "cell_type": "code",
   "execution_count": 29,
   "id": "italian-grammar",
   "metadata": {
    "execution": {
     "iopub.execute_input": "2021-05-24T10:35:25.737976Z",
     "iopub.status.busy": "2021-05-24T10:35:25.737358Z",
     "iopub.status.idle": "2021-05-24T10:35:25.752937Z",
     "shell.execute_reply": "2021-05-24T10:35:25.752465Z"
    },
    "papermill": {
     "duration": 0.091329,
     "end_time": "2021-05-24T10:35:25.753073",
     "exception": false,
     "start_time": "2021-05-24T10:35:25.661744",
     "status": "completed"
    },
    "tags": []
   },
   "outputs": [
    {
     "data": {
      "text/html": [
       "<div>\n",
       "<style scoped>\n",
       "    .dataframe tbody tr th:only-of-type {\n",
       "        vertical-align: middle;\n",
       "    }\n",
       "\n",
       "    .dataframe tbody tr th {\n",
       "        vertical-align: top;\n",
       "    }\n",
       "\n",
       "    .dataframe thead th {\n",
       "        text-align: right;\n",
       "    }\n",
       "</style>\n",
       "<table border=\"1\" class=\"dataframe\">\n",
       "  <thead>\n",
       "    <tr style=\"text-align: right;\">\n",
       "      <th></th>\n",
       "      <th>Sex_female</th>\n",
       "      <th>Sex_male</th>\n",
       "      <th>Embarked_C</th>\n",
       "      <th>Embarked_Q</th>\n",
       "      <th>Embarked_S</th>\n",
       "    </tr>\n",
       "  </thead>\n",
       "  <tbody>\n",
       "    <tr>\n",
       "      <th>0</th>\n",
       "      <td>0</td>\n",
       "      <td>1</td>\n",
       "      <td>0</td>\n",
       "      <td>0</td>\n",
       "      <td>1</td>\n",
       "    </tr>\n",
       "    <tr>\n",
       "      <th>1</th>\n",
       "      <td>1</td>\n",
       "      <td>0</td>\n",
       "      <td>1</td>\n",
       "      <td>0</td>\n",
       "      <td>0</td>\n",
       "    </tr>\n",
       "    <tr>\n",
       "      <th>2</th>\n",
       "      <td>1</td>\n",
       "      <td>0</td>\n",
       "      <td>0</td>\n",
       "      <td>0</td>\n",
       "      <td>1</td>\n",
       "    </tr>\n",
       "    <tr>\n",
       "      <th>3</th>\n",
       "      <td>1</td>\n",
       "      <td>0</td>\n",
       "      <td>0</td>\n",
       "      <td>0</td>\n",
       "      <td>1</td>\n",
       "    </tr>\n",
       "    <tr>\n",
       "      <th>4</th>\n",
       "      <td>0</td>\n",
       "      <td>1</td>\n",
       "      <td>0</td>\n",
       "      <td>0</td>\n",
       "      <td>1</td>\n",
       "    </tr>\n",
       "    <tr>\n",
       "      <th>...</th>\n",
       "      <td>...</td>\n",
       "      <td>...</td>\n",
       "      <td>...</td>\n",
       "      <td>...</td>\n",
       "      <td>...</td>\n",
       "    </tr>\n",
       "    <tr>\n",
       "      <th>886</th>\n",
       "      <td>0</td>\n",
       "      <td>1</td>\n",
       "      <td>0</td>\n",
       "      <td>0</td>\n",
       "      <td>1</td>\n",
       "    </tr>\n",
       "    <tr>\n",
       "      <th>887</th>\n",
       "      <td>1</td>\n",
       "      <td>0</td>\n",
       "      <td>0</td>\n",
       "      <td>0</td>\n",
       "      <td>1</td>\n",
       "    </tr>\n",
       "    <tr>\n",
       "      <th>888</th>\n",
       "      <td>1</td>\n",
       "      <td>0</td>\n",
       "      <td>0</td>\n",
       "      <td>0</td>\n",
       "      <td>1</td>\n",
       "    </tr>\n",
       "    <tr>\n",
       "      <th>889</th>\n",
       "      <td>0</td>\n",
       "      <td>1</td>\n",
       "      <td>1</td>\n",
       "      <td>0</td>\n",
       "      <td>0</td>\n",
       "    </tr>\n",
       "    <tr>\n",
       "      <th>890</th>\n",
       "      <td>0</td>\n",
       "      <td>1</td>\n",
       "      <td>0</td>\n",
       "      <td>1</td>\n",
       "      <td>0</td>\n",
       "    </tr>\n",
       "  </tbody>\n",
       "</table>\n",
       "<p>891 rows × 5 columns</p>\n",
       "</div>"
      ],
      "text/plain": [
       "     Sex_female  Sex_male  Embarked_C  Embarked_Q  Embarked_S\n",
       "0             0         1           0           0           1\n",
       "1             1         0           1           0           0\n",
       "2             1         0           0           0           1\n",
       "3             1         0           0           0           1\n",
       "4             0         1           0           0           1\n",
       "..          ...       ...         ...         ...         ...\n",
       "886           0         1           0           0           1\n",
       "887           1         0           0           0           1\n",
       "888           1         0           0           0           1\n",
       "889           0         1           1           0           0\n",
       "890           0         1           0           1           0\n",
       "\n",
       "[891 rows x 5 columns]"
      ]
     },
     "execution_count": 29,
     "metadata": {},
     "output_type": "execute_result"
    }
   ],
   "source": [
    "dummy1=pd.get_dummies(train[['Sex','Embarked']])\n",
    "dummy1"
   ]
  },
  {
   "cell_type": "code",
   "execution_count": 30,
   "id": "cathedral-coaching",
   "metadata": {
    "execution": {
     "iopub.execute_input": "2021-05-24T10:35:25.902571Z",
     "iopub.status.busy": "2021-05-24T10:35:25.901998Z",
     "iopub.status.idle": "2021-05-24T10:35:25.905092Z",
     "shell.execute_reply": "2021-05-24T10:35:25.904527Z"
    },
    "papermill": {
     "duration": 0.080221,
     "end_time": "2021-05-24T10:35:25.905224",
     "exception": false,
     "start_time": "2021-05-24T10:35:25.825003",
     "status": "completed"
    },
    "tags": []
   },
   "outputs": [],
   "source": [
    "train.drop(train_missing_obj_col ,axis=1,inplace=True)"
   ]
  },
  {
   "cell_type": "code",
   "execution_count": 31,
   "id": "unavailable-rapid",
   "metadata": {
    "execution": {
     "iopub.execute_input": "2021-05-24T10:35:26.056881Z",
     "iopub.status.busy": "2021-05-24T10:35:26.056264Z",
     "iopub.status.idle": "2021-05-24T10:35:26.059228Z",
     "shell.execute_reply": "2021-05-24T10:35:26.058669Z"
    },
    "papermill": {
     "duration": 0.082361,
     "end_time": "2021-05-24T10:35:26.059366",
     "exception": false,
     "start_time": "2021-05-24T10:35:25.977005",
     "status": "completed"
    },
    "tags": []
   },
   "outputs": [],
   "source": [
    "train=pd.concat([train,dummy1],axis=1)"
   ]
  },
  {
   "cell_type": "code",
   "execution_count": 32,
   "id": "informative-wiring",
   "metadata": {
    "execution": {
     "iopub.execute_input": "2021-05-24T10:35:26.209683Z",
     "iopub.status.busy": "2021-05-24T10:35:26.209103Z",
     "iopub.status.idle": "2021-05-24T10:35:26.211786Z",
     "shell.execute_reply": "2021-05-24T10:35:26.211368Z"
    },
    "papermill": {
     "duration": 0.080571,
     "end_time": "2021-05-24T10:35:26.211936",
     "exception": false,
     "start_time": "2021-05-24T10:35:26.131365",
     "status": "completed"
    },
    "tags": []
   },
   "outputs": [],
   "source": [
    "train.drop(['Name','PassengerId','Sex','Ticket'],axis=1,inplace=True)"
   ]
  },
  {
   "cell_type": "code",
   "execution_count": 33,
   "id": "nasty-humanitarian",
   "metadata": {
    "execution": {
     "iopub.execute_input": "2021-05-24T10:35:26.368681Z",
     "iopub.status.busy": "2021-05-24T10:35:26.358608Z",
     "iopub.status.idle": "2021-05-24T10:35:26.373015Z",
     "shell.execute_reply": "2021-05-24T10:35:26.372467Z"
    },
    "papermill": {
     "duration": 0.090014,
     "end_time": "2021-05-24T10:35:26.373149",
     "exception": false,
     "start_time": "2021-05-24T10:35:26.283135",
     "status": "completed"
    },
    "tags": []
   },
   "outputs": [
    {
     "data": {
      "text/html": [
       "<div>\n",
       "<style scoped>\n",
       "    .dataframe tbody tr th:only-of-type {\n",
       "        vertical-align: middle;\n",
       "    }\n",
       "\n",
       "    .dataframe tbody tr th {\n",
       "        vertical-align: top;\n",
       "    }\n",
       "\n",
       "    .dataframe thead th {\n",
       "        text-align: right;\n",
       "    }\n",
       "</style>\n",
       "<table border=\"1\" class=\"dataframe\">\n",
       "  <thead>\n",
       "    <tr style=\"text-align: right;\">\n",
       "      <th></th>\n",
       "      <th>Survived</th>\n",
       "      <th>Pclass</th>\n",
       "      <th>SibSp</th>\n",
       "      <th>Parch</th>\n",
       "      <th>Fare</th>\n",
       "      <th>Age</th>\n",
       "      <th>Sex_female</th>\n",
       "      <th>Sex_male</th>\n",
       "      <th>Embarked_C</th>\n",
       "      <th>Embarked_Q</th>\n",
       "      <th>Embarked_S</th>\n",
       "    </tr>\n",
       "  </thead>\n",
       "  <tbody>\n",
       "    <tr>\n",
       "      <th>0</th>\n",
       "      <td>0</td>\n",
       "      <td>3</td>\n",
       "      <td>1</td>\n",
       "      <td>0</td>\n",
       "      <td>7.2500</td>\n",
       "      <td>22.000000</td>\n",
       "      <td>0</td>\n",
       "      <td>1</td>\n",
       "      <td>0</td>\n",
       "      <td>0</td>\n",
       "      <td>1</td>\n",
       "    </tr>\n",
       "    <tr>\n",
       "      <th>1</th>\n",
       "      <td>1</td>\n",
       "      <td>1</td>\n",
       "      <td>1</td>\n",
       "      <td>0</td>\n",
       "      <td>71.2833</td>\n",
       "      <td>38.000000</td>\n",
       "      <td>1</td>\n",
       "      <td>0</td>\n",
       "      <td>1</td>\n",
       "      <td>0</td>\n",
       "      <td>0</td>\n",
       "    </tr>\n",
       "    <tr>\n",
       "      <th>2</th>\n",
       "      <td>1</td>\n",
       "      <td>3</td>\n",
       "      <td>0</td>\n",
       "      <td>0</td>\n",
       "      <td>7.9250</td>\n",
       "      <td>26.000000</td>\n",
       "      <td>1</td>\n",
       "      <td>0</td>\n",
       "      <td>0</td>\n",
       "      <td>0</td>\n",
       "      <td>1</td>\n",
       "    </tr>\n",
       "    <tr>\n",
       "      <th>3</th>\n",
       "      <td>1</td>\n",
       "      <td>1</td>\n",
       "      <td>1</td>\n",
       "      <td>0</td>\n",
       "      <td>53.1000</td>\n",
       "      <td>35.000000</td>\n",
       "      <td>1</td>\n",
       "      <td>0</td>\n",
       "      <td>0</td>\n",
       "      <td>0</td>\n",
       "      <td>1</td>\n",
       "    </tr>\n",
       "    <tr>\n",
       "      <th>4</th>\n",
       "      <td>0</td>\n",
       "      <td>3</td>\n",
       "      <td>0</td>\n",
       "      <td>0</td>\n",
       "      <td>8.0500</td>\n",
       "      <td>35.000000</td>\n",
       "      <td>0</td>\n",
       "      <td>1</td>\n",
       "      <td>0</td>\n",
       "      <td>0</td>\n",
       "      <td>1</td>\n",
       "    </tr>\n",
       "    <tr>\n",
       "      <th>...</th>\n",
       "      <td>...</td>\n",
       "      <td>...</td>\n",
       "      <td>...</td>\n",
       "      <td>...</td>\n",
       "      <td>...</td>\n",
       "      <td>...</td>\n",
       "      <td>...</td>\n",
       "      <td>...</td>\n",
       "      <td>...</td>\n",
       "      <td>...</td>\n",
       "      <td>...</td>\n",
       "    </tr>\n",
       "    <tr>\n",
       "      <th>886</th>\n",
       "      <td>0</td>\n",
       "      <td>2</td>\n",
       "      <td>0</td>\n",
       "      <td>0</td>\n",
       "      <td>13.0000</td>\n",
       "      <td>27.000000</td>\n",
       "      <td>0</td>\n",
       "      <td>1</td>\n",
       "      <td>0</td>\n",
       "      <td>0</td>\n",
       "      <td>1</td>\n",
       "    </tr>\n",
       "    <tr>\n",
       "      <th>887</th>\n",
       "      <td>1</td>\n",
       "      <td>1</td>\n",
       "      <td>0</td>\n",
       "      <td>0</td>\n",
       "      <td>30.0000</td>\n",
       "      <td>19.000000</td>\n",
       "      <td>1</td>\n",
       "      <td>0</td>\n",
       "      <td>0</td>\n",
       "      <td>0</td>\n",
       "      <td>1</td>\n",
       "    </tr>\n",
       "    <tr>\n",
       "      <th>888</th>\n",
       "      <td>0</td>\n",
       "      <td>3</td>\n",
       "      <td>1</td>\n",
       "      <td>2</td>\n",
       "      <td>23.4500</td>\n",
       "      <td>29.699118</td>\n",
       "      <td>1</td>\n",
       "      <td>0</td>\n",
       "      <td>0</td>\n",
       "      <td>0</td>\n",
       "      <td>1</td>\n",
       "    </tr>\n",
       "    <tr>\n",
       "      <th>889</th>\n",
       "      <td>1</td>\n",
       "      <td>1</td>\n",
       "      <td>0</td>\n",
       "      <td>0</td>\n",
       "      <td>30.0000</td>\n",
       "      <td>26.000000</td>\n",
       "      <td>0</td>\n",
       "      <td>1</td>\n",
       "      <td>1</td>\n",
       "      <td>0</td>\n",
       "      <td>0</td>\n",
       "    </tr>\n",
       "    <tr>\n",
       "      <th>890</th>\n",
       "      <td>0</td>\n",
       "      <td>3</td>\n",
       "      <td>0</td>\n",
       "      <td>0</td>\n",
       "      <td>7.7500</td>\n",
       "      <td>32.000000</td>\n",
       "      <td>0</td>\n",
       "      <td>1</td>\n",
       "      <td>0</td>\n",
       "      <td>1</td>\n",
       "      <td>0</td>\n",
       "    </tr>\n",
       "  </tbody>\n",
       "</table>\n",
       "<p>891 rows × 11 columns</p>\n",
       "</div>"
      ],
      "text/plain": [
       "     Survived  Pclass  SibSp  Parch     Fare        Age  Sex_female  Sex_male  \\\n",
       "0           0       3      1      0   7.2500  22.000000           0         1   \n",
       "1           1       1      1      0  71.2833  38.000000           1         0   \n",
       "2           1       3      0      0   7.9250  26.000000           1         0   \n",
       "3           1       1      1      0  53.1000  35.000000           1         0   \n",
       "4           0       3      0      0   8.0500  35.000000           0         1   \n",
       "..        ...     ...    ...    ...      ...        ...         ...       ...   \n",
       "886         0       2      0      0  13.0000  27.000000           0         1   \n",
       "887         1       1      0      0  30.0000  19.000000           1         0   \n",
       "888         0       3      1      2  23.4500  29.699118           1         0   \n",
       "889         1       1      0      0  30.0000  26.000000           0         1   \n",
       "890         0       3      0      0   7.7500  32.000000           0         1   \n",
       "\n",
       "     Embarked_C  Embarked_Q  Embarked_S  \n",
       "0             0           0           1  \n",
       "1             1           0           0  \n",
       "2             0           0           1  \n",
       "3             0           0           1  \n",
       "4             0           0           1  \n",
       "..          ...         ...         ...  \n",
       "886           0           0           1  \n",
       "887           0           0           1  \n",
       "888           0           0           1  \n",
       "889           1           0           0  \n",
       "890           0           1           0  \n",
       "\n",
       "[891 rows x 11 columns]"
      ]
     },
     "execution_count": 33,
     "metadata": {},
     "output_type": "execute_result"
    }
   ],
   "source": [
    "train"
   ]
  },
  {
   "cell_type": "code",
   "execution_count": 34,
   "id": "english-wholesale",
   "metadata": {
    "execution": {
     "iopub.execute_input": "2021-05-24T10:35:26.521689Z",
     "iopub.status.busy": "2021-05-24T10:35:26.521136Z",
     "iopub.status.idle": "2021-05-24T10:35:26.523977Z",
     "shell.execute_reply": "2021-05-24T10:35:26.523454Z"
    },
    "papermill": {
     "duration": 0.078836,
     "end_time": "2021-05-24T10:35:26.524108",
     "exception": false,
     "start_time": "2021-05-24T10:35:26.445272",
     "status": "completed"
    },
    "tags": []
   },
   "outputs": [
    {
     "data": {
      "text/plain": [
       "(891, 11)"
      ]
     },
     "execution_count": 34,
     "metadata": {},
     "output_type": "execute_result"
    }
   ],
   "source": [
    "train.shape"
   ]
  },
  {
   "cell_type": "markdown",
   "id": "restricted-health",
   "metadata": {
    "papermill": {
     "duration": 0.071886,
     "end_time": "2021-05-24T10:35:26.668117",
     "exception": false,
     "start_time": "2021-05-24T10:35:26.596231",
     "status": "completed"
    },
    "tags": []
   },
   "source": [
    "<p style = \"font-size : 35px; color : #34656d ; font-family : 'Comic Sans MS'; text-align : center; background-color : lightblue; border-radius: 5px 5px;\"><strong>Removing the Skewness In the Train Data Col</strong></p>"
   ]
  },
  {
   "cell_type": "code",
   "execution_count": 35,
   "id": "current-british",
   "metadata": {
    "execution": {
     "iopub.execute_input": "2021-05-24T10:35:26.821238Z",
     "iopub.status.busy": "2021-05-24T10:35:26.820499Z",
     "iopub.status.idle": "2021-05-24T10:35:26.823148Z",
     "shell.execute_reply": "2021-05-24T10:35:26.822682Z"
    },
    "papermill": {
     "duration": 0.082697,
     "end_time": "2021-05-24T10:35:26.823282",
     "exception": false,
     "start_time": "2021-05-24T10:35:26.740585",
     "status": "completed"
    },
    "tags": []
   },
   "outputs": [],
   "source": [
    "train['Age']=np.log(train['Age']+1)"
   ]
  },
  {
   "cell_type": "code",
   "execution_count": 36,
   "id": "inclusive-culture",
   "metadata": {
    "execution": {
     "iopub.execute_input": "2021-05-24T10:35:26.974813Z",
     "iopub.status.busy": "2021-05-24T10:35:26.974276Z",
     "iopub.status.idle": "2021-05-24T10:35:26.976761Z",
     "shell.execute_reply": "2021-05-24T10:35:26.976246Z"
    },
    "papermill": {
     "duration": 0.081118,
     "end_time": "2021-05-24T10:35:26.976899",
     "exception": false,
     "start_time": "2021-05-24T10:35:26.895781",
     "status": "completed"
    },
    "tags": []
   },
   "outputs": [],
   "source": [
    "train['Fare']=np.log(train['Fare']+1)"
   ]
  },
  {
   "cell_type": "code",
   "execution_count": 37,
   "id": "charitable-denver",
   "metadata": {
    "execution": {
     "iopub.execute_input": "2021-05-24T10:35:27.144626Z",
     "iopub.status.busy": "2021-05-24T10:35:27.143275Z",
     "iopub.status.idle": "2021-05-24T10:35:27.304520Z",
     "shell.execute_reply": "2021-05-24T10:35:27.304928Z"
    },
    "papermill": {
     "duration": 0.255134,
     "end_time": "2021-05-24T10:35:27.305093",
     "exception": false,
     "start_time": "2021-05-24T10:35:27.049959",
     "status": "completed"
    },
    "tags": []
   },
   "outputs": [
    {
     "data": {
      "text/plain": [
       "<AxesSubplot:title={'center':'Log Age distribution'}, ylabel='Density'>"
      ]
     },
     "execution_count": 37,
     "metadata": {},
     "output_type": "execute_result"
    },
    {
     "data": {
      "image/png": "[encoded data removed]",
      "text/plain": [
       "<Figure size 720x432 with 1 Axes>"
      ]
     },
     "metadata": {
      "needs_background": "light"
     },
     "output_type": "display_data"
    }
   ],
   "source": [
    " (train['Age']).plot(kind = 'density', title = 'Log Age distribution', fontsize=14, figsize=(10, 6))"
   ]
  },
  {
   "cell_type": "code",
   "execution_count": 38,
   "id": "inside-laugh",
   "metadata": {
    "execution": {
     "iopub.execute_input": "2021-05-24T10:35:27.476908Z",
     "iopub.status.busy": "2021-05-24T10:35:27.473836Z",
     "iopub.status.idle": "2021-05-24T10:35:27.629528Z",
     "shell.execute_reply": "2021-05-24T10:35:27.629040Z"
    },
    "papermill": {
     "duration": 0.25197,
     "end_time": "2021-05-24T10:35:27.629655",
     "exception": false,
     "start_time": "2021-05-24T10:35:27.377685",
     "status": "completed"
    },
    "tags": []
   },
   "outputs": [
    {
     "data": {
      "text/plain": [
       "<AxesSubplot:title={'center':'Survived'}, ylabel='Density'>"
      ]
     },
     "execution_count": 38,
     "metadata": {},
     "output_type": "execute_result"
    },
    {
     "data": {
      "image/png": "[encoded data removed]",
      "text/plain": [
       "<Figure size 720x432 with 1 Axes>"
      ]
     },
     "metadata": {
      "needs_background": "light"
     },
     "output_type": "display_data"
    }
   ],
   "source": [
    " (train['Survived']).plot(kind = 'density', title = 'Survived', fontsize=14, figsize=(10, 6))"
   ]
  },
  {
   "cell_type": "markdown",
   "id": "caring-maria",
   "metadata": {
    "papermill": {
     "duration": 0.074858,
     "end_time": "2021-05-24T10:35:27.779496",
     "exception": false,
     "start_time": "2021-05-24T10:35:27.704638",
     "status": "completed"
    },
    "tags": []
   },
   "source": [
    "<p style = \"font-size : 35px; color : #34656d ; font-family : 'Comic Sans MS'; text-align : center; background-color : lightblue; border-radius: 5px 5px;\"><strong>Feature Engineering on Test Dataset</strong></p>"
   ]
  },
  {
   "cell_type": "code",
   "execution_count": 39,
   "id": "distinct-identifier",
   "metadata": {
    "execution": {
     "iopub.execute_input": "2021-05-24T10:35:27.943766Z",
     "iopub.status.busy": "2021-05-24T10:35:27.943179Z",
     "iopub.status.idle": "2021-05-24T10:35:27.947038Z",
     "shell.execute_reply": "2021-05-24T10:35:27.946482Z"
    },
    "papermill": {
     "duration": 0.092616,
     "end_time": "2021-05-24T10:35:27.947165",
     "exception": false,
     "start_time": "2021-05-24T10:35:27.854549",
     "status": "completed"
    },
    "tags": []
   },
   "outputs": [
    {
     "data": {
      "text/html": [
       "<div>\n",
       "<style scoped>\n",
       "    .dataframe tbody tr th:only-of-type {\n",
       "        vertical-align: middle;\n",
       "    }\n",
       "\n",
       "    .dataframe tbody tr th {\n",
       "        vertical-align: top;\n",
       "    }\n",
       "\n",
       "    .dataframe thead th {\n",
       "        text-align: right;\n",
       "    }\n",
       "</style>\n",
       "<table border=\"1\" class=\"dataframe\">\n",
       "  <thead>\n",
       "    <tr style=\"text-align: right;\">\n",
       "      <th></th>\n",
       "      <th>PassengerId</th>\n",
       "      <th>Pclass</th>\n",
       "      <th>Name</th>\n",
       "      <th>Sex</th>\n",
       "      <th>Age</th>\n",
       "      <th>SibSp</th>\n",
       "      <th>Parch</th>\n",
       "      <th>Ticket</th>\n",
       "      <th>Fare</th>\n",
       "      <th>Cabin</th>\n",
       "      <th>Embarked</th>\n",
       "    </tr>\n",
       "  </thead>\n",
       "  <tbody>\n",
       "    <tr>\n",
       "      <th>0</th>\n",
       "      <td>892</td>\n",
       "      <td>3</td>\n",
       "      <td>Kelly, Mr. James</td>\n",
       "      <td>male</td>\n",
       "      <td>34.5</td>\n",
       "      <td>0</td>\n",
       "      <td>0</td>\n",
       "      <td>330911</td>\n",
       "      <td>7.8292</td>\n",
       "      <td>NaN</td>\n",
       "      <td>Q</td>\n",
       "    </tr>\n",
       "    <tr>\n",
       "      <th>1</th>\n",
       "      <td>893</td>\n",
       "      <td>3</td>\n",
       "      <td>Wilkes, Mrs. James (Ellen Needs)</td>\n",
       "      <td>female</td>\n",
       "      <td>47.0</td>\n",
       "      <td>1</td>\n",
       "      <td>0</td>\n",
       "      <td>363272</td>\n",
       "      <td>7.0000</td>\n",
       "      <td>NaN</td>\n",
       "      <td>S</td>\n",
       "    </tr>\n",
       "    <tr>\n",
       "      <th>2</th>\n",
       "      <td>894</td>\n",
       "      <td>2</td>\n",
       "      <td>Myles, Mr. Thomas Francis</td>\n",
       "      <td>male</td>\n",
       "      <td>62.0</td>\n",
       "      <td>0</td>\n",
       "      <td>0</td>\n",
       "      <td>240276</td>\n",
       "      <td>9.6875</td>\n",
       "      <td>NaN</td>\n",
       "      <td>Q</td>\n",
       "    </tr>\n",
       "    <tr>\n",
       "      <th>3</th>\n",
       "      <td>895</td>\n",
       "      <td>3</td>\n",
       "      <td>Wirz, Mr. Albert</td>\n",
       "      <td>male</td>\n",
       "      <td>27.0</td>\n",
       "      <td>0</td>\n",
       "      <td>0</td>\n",
       "      <td>315154</td>\n",
       "      <td>8.6625</td>\n",
       "      <td>NaN</td>\n",
       "      <td>S</td>\n",
       "    </tr>\n",
       "    <tr>\n",
       "      <th>4</th>\n",
       "      <td>896</td>\n",
       "      <td>3</td>\n",
       "      <td>Hirvonen, Mrs. Alexander (Helga E Lindqvist)</td>\n",
       "      <td>female</td>\n",
       "      <td>22.0</td>\n",
       "      <td>1</td>\n",
       "      <td>1</td>\n",
       "      <td>3101298</td>\n",
       "      <td>12.2875</td>\n",
       "      <td>NaN</td>\n",
       "      <td>S</td>\n",
       "    </tr>\n",
       "  </tbody>\n",
       "</table>\n",
       "</div>"
      ],
      "text/plain": [
       "   PassengerId  Pclass                                          Name     Sex  \\\n",
       "0          892       3                              Kelly, Mr. James    male   \n",
       "1          893       3              Wilkes, Mrs. James (Ellen Needs)  female   \n",
       "2          894       2                     Myles, Mr. Thomas Francis    male   \n",
       "3          895       3                              Wirz, Mr. Albert    male   \n",
       "4          896       3  Hirvonen, Mrs. Alexander (Helga E Lindqvist)  female   \n",
       "\n",
       "    Age  SibSp  Parch   Ticket     Fare Cabin Embarked  \n",
       "0  34.5      0      0   330911   7.8292   NaN        Q  \n",
       "1  47.0      1      0   363272   7.0000   NaN        S  \n",
       "2  62.0      0      0   240276   9.6875   NaN        Q  \n",
       "3  27.0      0      0   315154   8.6625   NaN        S  \n",
       "4  22.0      1      1  3101298  12.2875   NaN        S  "
      ]
     },
     "execution_count": 39,
     "metadata": {},
     "output_type": "execute_result"
    }
   ],
   "source": [
    "test.head()"
   ]
  },
  {
   "cell_type": "code",
   "execution_count": 40,
   "id": "central-thunder",
   "metadata": {
    "execution": {
     "iopub.execute_input": "2021-05-24T10:35:28.107345Z",
     "iopub.status.busy": "2021-05-24T10:35:28.106542Z",
     "iopub.status.idle": "2021-05-24T10:35:28.110601Z",
     "shell.execute_reply": "2021-05-24T10:35:28.110040Z"
    },
    "papermill": {
     "duration": 0.086944,
     "end_time": "2021-05-24T10:35:28.110730",
     "exception": false,
     "start_time": "2021-05-24T10:35:28.023786",
     "status": "completed"
    },
    "tags": []
   },
   "outputs": [
    {
     "data": {
      "text/plain": [
       "['Name', 'Sex', 'Ticket', 'Cabin', 'Embarked']"
      ]
     },
     "execution_count": 40,
     "metadata": {},
     "output_type": "execute_result"
    }
   ],
   "source": [
    "test_cat_col=list(test.select_dtypes(include='object'))\n",
    "test_cat_col"
   ]
  },
  {
   "cell_type": "code",
   "execution_count": 41,
   "id": "cooked-stupid",
   "metadata": {
    "execution": {
     "iopub.execute_input": "2021-05-24T10:35:28.291791Z",
     "iopub.status.busy": "2021-05-24T10:35:28.290938Z",
     "iopub.status.idle": "2021-05-24T10:35:28.295134Z",
     "shell.execute_reply": "2021-05-24T10:35:28.294411Z"
    },
    "papermill": {
     "duration": 0.109404,
     "end_time": "2021-05-24T10:35:28.295304",
     "exception": false,
     "start_time": "2021-05-24T10:35:28.185900",
     "status": "completed"
    },
    "tags": []
   },
   "outputs": [
    {
     "data": {
      "text/plain": [
       "['PassengerId', 'Pclass', 'Age', 'SibSp', 'Parch', 'Fare']"
      ]
     },
     "execution_count": 41,
     "metadata": {},
     "output_type": "execute_result"
    }
   ],
   "source": [
    "test_num_col=list(test.select_dtypes(exclude='object'))\n",
    "test_num_col"
   ]
  },
  {
   "cell_type": "code",
   "execution_count": 42,
   "id": "freelance-slovakia",
   "metadata": {
    "execution": {
     "iopub.execute_input": "2021-05-24T10:35:28.461668Z",
     "iopub.status.busy": "2021-05-24T10:35:28.460787Z",
     "iopub.status.idle": "2021-05-24T10:35:28.464186Z",
     "shell.execute_reply": "2021-05-24T10:35:28.464751Z"
    },
    "papermill": {
     "duration": 0.086288,
     "end_time": "2021-05-24T10:35:28.464930",
     "exception": false,
     "start_time": "2021-05-24T10:35:28.378642",
     "status": "completed"
    },
    "tags": []
   },
   "outputs": [
    {
     "data": {
      "text/plain": [
       "['Cabin']"
      ]
     },
     "execution_count": 42,
     "metadata": {},
     "output_type": "execute_result"
    }
   ],
   "source": [
    "test_missing_cat_col=[col for col in test_cat_col if test[col].isnull().any()]\n",
    "test_missing_cat_col"
   ]
  },
  {
   "cell_type": "code",
   "execution_count": 43,
   "id": "potential-parent",
   "metadata": {
    "execution": {
     "iopub.execute_input": "2021-05-24T10:35:28.621308Z",
     "iopub.status.busy": "2021-05-24T10:35:28.620375Z",
     "iopub.status.idle": "2021-05-24T10:35:28.627003Z",
     "shell.execute_reply": "2021-05-24T10:35:28.627376Z"
    },
    "papermill": {
     "duration": 0.086513,
     "end_time": "2021-05-24T10:35:28.627548",
     "exception": false,
     "start_time": "2021-05-24T10:35:28.541035",
     "status": "completed"
    },
    "tags": []
   },
   "outputs": [
    {
     "data": {
      "text/plain": [
       "['Age', 'Fare']"
      ]
     },
     "execution_count": 43,
     "metadata": {},
     "output_type": "execute_result"
    }
   ],
   "source": [
    "test_missing_num_col=[col for col in test_num_col if test[col].isnull().any()]\n",
    "test_missing_num_col"
   ]
  },
  {
   "cell_type": "markdown",
   "id": "compound-junior",
   "metadata": {
    "papermill": {
     "duration": 0.076041,
     "end_time": "2021-05-24T10:35:28.780048",
     "exception": false,
     "start_time": "2021-05-24T10:35:28.704007",
     "status": "completed"
    },
    "tags": []
   },
   "source": [
    "<p style = \"font-size : 35px; color : #34656d ; font-family : 'Comic Sans MS'; text-align : center; background-color : lightblue; border-radius: 5px 5px;\"><strong>Missing Values Imputation In Test Dataset</strong></p>"
   ]
  },
  {
   "cell_type": "markdown",
   "id": "geographic-photography",
   "metadata": {
    "papermill": {
     "duration": 0.076393,
     "end_time": "2021-05-24T10:35:28.933041",
     "exception": false,
     "start_time": "2021-05-24T10:35:28.856648",
     "status": "completed"
    },
    "tags": []
   },
   "source": [
    "<p style = \"font-size : 20px; color : #34656d ; font-family : 'Comic Sans MS'; text-align : center; background-color : orange; border-radius: 5px 5px;\"><strong>Imputation In Numerical Col</strong></p>"
   ]
  },
  {
   "cell_type": "code",
   "execution_count": 44,
   "id": "reverse-bowling",
   "metadata": {
    "execution": {
     "iopub.execute_input": "2021-05-24T10:35:29.089622Z",
     "iopub.status.busy": "2021-05-24T10:35:29.088787Z",
     "iopub.status.idle": "2021-05-24T10:35:29.094397Z",
     "shell.execute_reply": "2021-05-24T10:35:29.093886Z"
    },
    "papermill": {
     "duration": 0.08478,
     "end_time": "2021-05-24T10:35:29.094531",
     "exception": false,
     "start_time": "2021-05-24T10:35:29.009751",
     "status": "completed"
    },
    "tags": []
   },
   "outputs": [],
   "source": [
    "temp1=test[['Age','Fare']]"
   ]
  },
  {
   "cell_type": "code",
   "execution_count": 45,
   "id": "nuclear-repository",
   "metadata": {
    "execution": {
     "iopub.execute_input": "2021-05-24T10:35:29.259332Z",
     "iopub.status.busy": "2021-05-24T10:35:29.258499Z",
     "iopub.status.idle": "2021-05-24T10:35:29.261935Z",
     "shell.execute_reply": "2021-05-24T10:35:29.261420Z"
    },
    "papermill": {
     "duration": 0.090073,
     "end_time": "2021-05-24T10:35:29.262073",
     "exception": false,
     "start_time": "2021-05-24T10:35:29.172000",
     "status": "completed"
    },
    "tags": []
   },
   "outputs": [],
   "source": [
    "imputer=SimpleImputer()\n",
    "imputed_temp1=pd.DataFrame(imputer.fit_transform(temp1))\n",
    "imputed_temp1.columns=temp1.columns"
   ]
  },
  {
   "cell_type": "code",
   "execution_count": 46,
   "id": "particular-government",
   "metadata": {
    "execution": {
     "iopub.execute_input": "2021-05-24T10:35:29.421609Z",
     "iopub.status.busy": "2021-05-24T10:35:29.421051Z",
     "iopub.status.idle": "2021-05-24T10:35:29.423470Z",
     "shell.execute_reply": "2021-05-24T10:35:29.422948Z"
    },
    "papermill": {
     "duration": 0.084111,
     "end_time": "2021-05-24T10:35:29.423593",
     "exception": false,
     "start_time": "2021-05-24T10:35:29.339482",
     "status": "completed"
    },
    "tags": []
   },
   "outputs": [],
   "source": [
    "test.drop(['Age','Cabin','Name','Fare'],axis=1,inplace=True)"
   ]
  },
  {
   "cell_type": "code",
   "execution_count": 47,
   "id": "bridal-picnic",
   "metadata": {
    "execution": {
     "iopub.execute_input": "2021-05-24T10:35:29.582976Z",
     "iopub.status.busy": "2021-05-24T10:35:29.582329Z",
     "iopub.status.idle": "2021-05-24T10:35:29.597289Z",
     "shell.execute_reply": "2021-05-24T10:35:29.597711Z"
    },
    "papermill": {
     "duration": 0.097836,
     "end_time": "2021-05-24T10:35:29.597894",
     "exception": false,
     "start_time": "2021-05-24T10:35:29.500058",
     "status": "completed"
    },
    "tags": []
   },
   "outputs": [
    {
     "data": {
      "text/html": [
       "<div>\n",
       "<style scoped>\n",
       "    .dataframe tbody tr th:only-of-type {\n",
       "        vertical-align: middle;\n",
       "    }\n",
       "\n",
       "    .dataframe tbody tr th {\n",
       "        vertical-align: top;\n",
       "    }\n",
       "\n",
       "    .dataframe thead th {\n",
       "        text-align: right;\n",
       "    }\n",
       "</style>\n",
       "<table border=\"1\" class=\"dataframe\">\n",
       "  <thead>\n",
       "    <tr style=\"text-align: right;\">\n",
       "      <th></th>\n",
       "      <th>PassengerId</th>\n",
       "      <th>Pclass</th>\n",
       "      <th>Sex</th>\n",
       "      <th>SibSp</th>\n",
       "      <th>Parch</th>\n",
       "      <th>Ticket</th>\n",
       "      <th>Embarked</th>\n",
       "      <th>Age</th>\n",
       "      <th>Fare</th>\n",
       "    </tr>\n",
       "  </thead>\n",
       "  <tbody>\n",
       "    <tr>\n",
       "      <th>0</th>\n",
       "      <td>892</td>\n",
       "      <td>3</td>\n",
       "      <td>male</td>\n",
       "      <td>0</td>\n",
       "      <td>0</td>\n",
       "      <td>330911</td>\n",
       "      <td>Q</td>\n",
       "      <td>34.50000</td>\n",
       "      <td>7.8292</td>\n",
       "    </tr>\n",
       "    <tr>\n",
       "      <th>1</th>\n",
       "      <td>893</td>\n",
       "      <td>3</td>\n",
       "      <td>female</td>\n",
       "      <td>1</td>\n",
       "      <td>0</td>\n",
       "      <td>363272</td>\n",
       "      <td>S</td>\n",
       "      <td>47.00000</td>\n",
       "      <td>7.0000</td>\n",
       "    </tr>\n",
       "    <tr>\n",
       "      <th>2</th>\n",
       "      <td>894</td>\n",
       "      <td>2</td>\n",
       "      <td>male</td>\n",
       "      <td>0</td>\n",
       "      <td>0</td>\n",
       "      <td>240276</td>\n",
       "      <td>Q</td>\n",
       "      <td>62.00000</td>\n",
       "      <td>9.6875</td>\n",
       "    </tr>\n",
       "    <tr>\n",
       "      <th>3</th>\n",
       "      <td>895</td>\n",
       "      <td>3</td>\n",
       "      <td>male</td>\n",
       "      <td>0</td>\n",
       "      <td>0</td>\n",
       "      <td>315154</td>\n",
       "      <td>S</td>\n",
       "      <td>27.00000</td>\n",
       "      <td>8.6625</td>\n",
       "    </tr>\n",
       "    <tr>\n",
       "      <th>4</th>\n",
       "      <td>896</td>\n",
       "      <td>3</td>\n",
       "      <td>female</td>\n",
       "      <td>1</td>\n",
       "      <td>1</td>\n",
       "      <td>3101298</td>\n",
       "      <td>S</td>\n",
       "      <td>22.00000</td>\n",
       "      <td>12.2875</td>\n",
       "    </tr>\n",
       "    <tr>\n",
       "      <th>...</th>\n",
       "      <td>...</td>\n",
       "      <td>...</td>\n",
       "      <td>...</td>\n",
       "      <td>...</td>\n",
       "      <td>...</td>\n",
       "      <td>...</td>\n",
       "      <td>...</td>\n",
       "      <td>...</td>\n",
       "      <td>...</td>\n",
       "    </tr>\n",
       "    <tr>\n",
       "      <th>413</th>\n",
       "      <td>1305</td>\n",
       "      <td>3</td>\n",
       "      <td>male</td>\n",
       "      <td>0</td>\n",
       "      <td>0</td>\n",
       "      <td>A.5. 3236</td>\n",
       "      <td>S</td>\n",
       "      <td>30.27259</td>\n",
       "      <td>8.0500</td>\n",
       "    </tr>\n",
       "    <tr>\n",
       "      <th>414</th>\n",
       "      <td>1306</td>\n",
       "      <td>1</td>\n",
       "      <td>female</td>\n",
       "      <td>0</td>\n",
       "      <td>0</td>\n",
       "      <td>PC 17758</td>\n",
       "      <td>C</td>\n",
       "      <td>39.00000</td>\n",
       "      <td>108.9000</td>\n",
       "    </tr>\n",
       "    <tr>\n",
       "      <th>415</th>\n",
       "      <td>1307</td>\n",
       "      <td>3</td>\n",
       "      <td>male</td>\n",
       "      <td>0</td>\n",
       "      <td>0</td>\n",
       "      <td>SOTON/O.Q. 3101262</td>\n",
       "      <td>S</td>\n",
       "      <td>38.50000</td>\n",
       "      <td>7.2500</td>\n",
       "    </tr>\n",
       "    <tr>\n",
       "      <th>416</th>\n",
       "      <td>1308</td>\n",
       "      <td>3</td>\n",
       "      <td>male</td>\n",
       "      <td>0</td>\n",
       "      <td>0</td>\n",
       "      <td>359309</td>\n",
       "      <td>S</td>\n",
       "      <td>30.27259</td>\n",
       "      <td>8.0500</td>\n",
       "    </tr>\n",
       "    <tr>\n",
       "      <th>417</th>\n",
       "      <td>1309</td>\n",
       "      <td>3</td>\n",
       "      <td>male</td>\n",
       "      <td>1</td>\n",
       "      <td>1</td>\n",
       "      <td>2668</td>\n",
       "      <td>C</td>\n",
       "      <td>30.27259</td>\n",
       "      <td>22.3583</td>\n",
       "    </tr>\n",
       "  </tbody>\n",
       "</table>\n",
       "<p>418 rows × 9 columns</p>\n",
       "</div>"
      ],
      "text/plain": [
       "     PassengerId  Pclass     Sex  SibSp  Parch              Ticket Embarked  \\\n",
       "0            892       3    male      0      0              330911        Q   \n",
       "1            893       3  female      1      0              363272        S   \n",
       "2            894       2    male      0      0              240276        Q   \n",
       "3            895       3    male      0      0              315154        S   \n",
       "4            896       3  female      1      1             3101298        S   \n",
       "..           ...     ...     ...    ...    ...                 ...      ...   \n",
       "413         1305       3    male      0      0           A.5. 3236        S   \n",
       "414         1306       1  female      0      0            PC 17758        C   \n",
       "415         1307       3    male      0      0  SOTON/O.Q. 3101262        S   \n",
       "416         1308       3    male      0      0              359309        S   \n",
       "417         1309       3    male      1      1                2668        C   \n",
       "\n",
       "          Age      Fare  \n",
       "0    34.50000    7.8292  \n",
       "1    47.00000    7.0000  \n",
       "2    62.00000    9.6875  \n",
       "3    27.00000    8.6625  \n",
       "4    22.00000   12.2875  \n",
       "..        ...       ...  \n",
       "413  30.27259    8.0500  \n",
       "414  39.00000  108.9000  \n",
       "415  38.50000    7.2500  \n",
       "416  30.27259    8.0500  \n",
       "417  30.27259   22.3583  \n",
       "\n",
       "[418 rows x 9 columns]"
      ]
     },
     "execution_count": 47,
     "metadata": {},
     "output_type": "execute_result"
    }
   ],
   "source": [
    "test=pd.concat([test,imputed_temp1],axis=1)\n",
    "test"
   ]
  },
  {
   "cell_type": "markdown",
   "id": "protected-rapid",
   "metadata": {
    "papermill": {
     "duration": 0.077337,
     "end_time": "2021-05-24T10:35:29.753243",
     "exception": false,
     "start_time": "2021-05-24T10:35:29.675906",
     "status": "completed"
    },
    "tags": []
   },
   "source": [
    "<p style = \"font-size : 20px; color : #34656d ; font-family : 'Comic Sans MS'; text-align : center; background-color : orange; border-radius: 5px 5px;\"><strong>Imputation In Categorical Col</strong></p>"
   ]
  },
  {
   "cell_type": "code",
   "execution_count": 48,
   "id": "instructional-smart",
   "metadata": {
    "execution": {
     "iopub.execute_input": "2021-05-24T10:35:29.911966Z",
     "iopub.status.busy": "2021-05-24T10:35:29.911421Z",
     "iopub.status.idle": "2021-05-24T10:35:29.926362Z",
     "shell.execute_reply": "2021-05-24T10:35:29.925843Z"
    },
    "papermill": {
     "duration": 0.095492,
     "end_time": "2021-05-24T10:35:29.926490",
     "exception": false,
     "start_time": "2021-05-24T10:35:29.830998",
     "status": "completed"
    },
    "tags": []
   },
   "outputs": [
    {
     "data": {
      "text/html": [
       "<div>\n",
       "<style scoped>\n",
       "    .dataframe tbody tr th:only-of-type {\n",
       "        vertical-align: middle;\n",
       "    }\n",
       "\n",
       "    .dataframe tbody tr th {\n",
       "        vertical-align: top;\n",
       "    }\n",
       "\n",
       "    .dataframe thead th {\n",
       "        text-align: right;\n",
       "    }\n",
       "</style>\n",
       "<table border=\"1\" class=\"dataframe\">\n",
       "  <thead>\n",
       "    <tr style=\"text-align: right;\">\n",
       "      <th></th>\n",
       "      <th>Sex_female</th>\n",
       "      <th>Sex_male</th>\n",
       "      <th>Embarked_C</th>\n",
       "      <th>Embarked_Q</th>\n",
       "      <th>Embarked_S</th>\n",
       "    </tr>\n",
       "  </thead>\n",
       "  <tbody>\n",
       "    <tr>\n",
       "      <th>0</th>\n",
       "      <td>0</td>\n",
       "      <td>1</td>\n",
       "      <td>0</td>\n",
       "      <td>1</td>\n",
       "      <td>0</td>\n",
       "    </tr>\n",
       "    <tr>\n",
       "      <th>1</th>\n",
       "      <td>1</td>\n",
       "      <td>0</td>\n",
       "      <td>0</td>\n",
       "      <td>0</td>\n",
       "      <td>1</td>\n",
       "    </tr>\n",
       "    <tr>\n",
       "      <th>2</th>\n",
       "      <td>0</td>\n",
       "      <td>1</td>\n",
       "      <td>0</td>\n",
       "      <td>1</td>\n",
       "      <td>0</td>\n",
       "    </tr>\n",
       "    <tr>\n",
       "      <th>3</th>\n",
       "      <td>0</td>\n",
       "      <td>1</td>\n",
       "      <td>0</td>\n",
       "      <td>0</td>\n",
       "      <td>1</td>\n",
       "    </tr>\n",
       "    <tr>\n",
       "      <th>4</th>\n",
       "      <td>1</td>\n",
       "      <td>0</td>\n",
       "      <td>0</td>\n",
       "      <td>0</td>\n",
       "      <td>1</td>\n",
       "    </tr>\n",
       "    <tr>\n",
       "      <th>...</th>\n",
       "      <td>...</td>\n",
       "      <td>...</td>\n",
       "      <td>...</td>\n",
       "      <td>...</td>\n",
       "      <td>...</td>\n",
       "    </tr>\n",
       "    <tr>\n",
       "      <th>413</th>\n",
       "      <td>0</td>\n",
       "      <td>1</td>\n",
       "      <td>0</td>\n",
       "      <td>0</td>\n",
       "      <td>1</td>\n",
       "    </tr>\n",
       "    <tr>\n",
       "      <th>414</th>\n",
       "      <td>1</td>\n",
       "      <td>0</td>\n",
       "      <td>1</td>\n",
       "      <td>0</td>\n",
       "      <td>0</td>\n",
       "    </tr>\n",
       "    <tr>\n",
       "      <th>415</th>\n",
       "      <td>0</td>\n",
       "      <td>1</td>\n",
       "      <td>0</td>\n",
       "      <td>0</td>\n",
       "      <td>1</td>\n",
       "    </tr>\n",
       "    <tr>\n",
       "      <th>416</th>\n",
       "      <td>0</td>\n",
       "      <td>1</td>\n",
       "      <td>0</td>\n",
       "      <td>0</td>\n",
       "      <td>1</td>\n",
       "    </tr>\n",
       "    <tr>\n",
       "      <th>417</th>\n",
       "      <td>0</td>\n",
       "      <td>1</td>\n",
       "      <td>1</td>\n",
       "      <td>0</td>\n",
       "      <td>0</td>\n",
       "    </tr>\n",
       "  </tbody>\n",
       "</table>\n",
       "<p>418 rows × 5 columns</p>\n",
       "</div>"
      ],
      "text/plain": [
       "     Sex_female  Sex_male  Embarked_C  Embarked_Q  Embarked_S\n",
       "0             0         1           0           1           0\n",
       "1             1         0           0           0           1\n",
       "2             0         1           0           1           0\n",
       "3             0         1           0           0           1\n",
       "4             1         0           0           0           1\n",
       "..          ...       ...         ...         ...         ...\n",
       "413           0         1           0           0           1\n",
       "414           1         0           1           0           0\n",
       "415           0         1           0           0           1\n",
       "416           0         1           0           0           1\n",
       "417           0         1           1           0           0\n",
       "\n",
       "[418 rows x 5 columns]"
      ]
     },
     "execution_count": 48,
     "metadata": {},
     "output_type": "execute_result"
    }
   ],
   "source": [
    "dummy2=pd.get_dummies(test[['Sex','Embarked']])\n",
    "dummy2"
   ]
  },
  {
   "cell_type": "code",
   "execution_count": 49,
   "id": "modern-restriction",
   "metadata": {
    "execution": {
     "iopub.execute_input": "2021-05-24T10:35:30.088794Z",
     "iopub.status.busy": "2021-05-24T10:35:30.088282Z",
     "iopub.status.idle": "2021-05-24T10:35:30.092420Z",
     "shell.execute_reply": "2021-05-24T10:35:30.092794Z"
    },
    "papermill": {
     "duration": 0.086322,
     "end_time": "2021-05-24T10:35:30.093071",
     "exception": false,
     "start_time": "2021-05-24T10:35:30.006749",
     "status": "completed"
    },
    "tags": []
   },
   "outputs": [],
   "source": [
    "test.drop(['PassengerId','Sex','Embarked','Ticket'],axis=1,inplace=True)"
   ]
  },
  {
   "cell_type": "code",
   "execution_count": 50,
   "id": "abroad-climate",
   "metadata": {
    "execution": {
     "iopub.execute_input": "2021-05-24T10:35:30.253617Z",
     "iopub.status.busy": "2021-05-24T10:35:30.253096Z",
     "iopub.status.idle": "2021-05-24T10:35:30.268566Z",
     "shell.execute_reply": "2021-05-24T10:35:30.268031Z"
    },
    "papermill": {
     "duration": 0.097192,
     "end_time": "2021-05-24T10:35:30.268689",
     "exception": false,
     "start_time": "2021-05-24T10:35:30.171497",
     "status": "completed"
    },
    "tags": []
   },
   "outputs": [
    {
     "data": {
      "text/html": [
       "<div>\n",
       "<style scoped>\n",
       "    .dataframe tbody tr th:only-of-type {\n",
       "        vertical-align: middle;\n",
       "    }\n",
       "\n",
       "    .dataframe tbody tr th {\n",
       "        vertical-align: top;\n",
       "    }\n",
       "\n",
       "    .dataframe thead th {\n",
       "        text-align: right;\n",
       "    }\n",
       "</style>\n",
       "<table border=\"1\" class=\"dataframe\">\n",
       "  <thead>\n",
       "    <tr style=\"text-align: right;\">\n",
       "      <th></th>\n",
       "      <th>Pclass</th>\n",
       "      <th>SibSp</th>\n",
       "      <th>Parch</th>\n",
       "      <th>Age</th>\n",
       "      <th>Fare</th>\n",
       "      <th>Sex_female</th>\n",
       "      <th>Sex_male</th>\n",
       "      <th>Embarked_C</th>\n",
       "      <th>Embarked_Q</th>\n",
       "      <th>Embarked_S</th>\n",
       "    </tr>\n",
       "  </thead>\n",
       "  <tbody>\n",
       "    <tr>\n",
       "      <th>0</th>\n",
       "      <td>3</td>\n",
       "      <td>0</td>\n",
       "      <td>0</td>\n",
       "      <td>34.50000</td>\n",
       "      <td>7.8292</td>\n",
       "      <td>0</td>\n",
       "      <td>1</td>\n",
       "      <td>0</td>\n",
       "      <td>1</td>\n",
       "      <td>0</td>\n",
       "    </tr>\n",
       "    <tr>\n",
       "      <th>1</th>\n",
       "      <td>3</td>\n",
       "      <td>1</td>\n",
       "      <td>0</td>\n",
       "      <td>47.00000</td>\n",
       "      <td>7.0000</td>\n",
       "      <td>1</td>\n",
       "      <td>0</td>\n",
       "      <td>0</td>\n",
       "      <td>0</td>\n",
       "      <td>1</td>\n",
       "    </tr>\n",
       "    <tr>\n",
       "      <th>2</th>\n",
       "      <td>2</td>\n",
       "      <td>0</td>\n",
       "      <td>0</td>\n",
       "      <td>62.00000</td>\n",
       "      <td>9.6875</td>\n",
       "      <td>0</td>\n",
       "      <td>1</td>\n",
       "      <td>0</td>\n",
       "      <td>1</td>\n",
       "      <td>0</td>\n",
       "    </tr>\n",
       "    <tr>\n",
       "      <th>3</th>\n",
       "      <td>3</td>\n",
       "      <td>0</td>\n",
       "      <td>0</td>\n",
       "      <td>27.00000</td>\n",
       "      <td>8.6625</td>\n",
       "      <td>0</td>\n",
       "      <td>1</td>\n",
       "      <td>0</td>\n",
       "      <td>0</td>\n",
       "      <td>1</td>\n",
       "    </tr>\n",
       "    <tr>\n",
       "      <th>4</th>\n",
       "      <td>3</td>\n",
       "      <td>1</td>\n",
       "      <td>1</td>\n",
       "      <td>22.00000</td>\n",
       "      <td>12.2875</td>\n",
       "      <td>1</td>\n",
       "      <td>0</td>\n",
       "      <td>0</td>\n",
       "      <td>0</td>\n",
       "      <td>1</td>\n",
       "    </tr>\n",
       "    <tr>\n",
       "      <th>...</th>\n",
       "      <td>...</td>\n",
       "      <td>...</td>\n",
       "      <td>...</td>\n",
       "      <td>...</td>\n",
       "      <td>...</td>\n",
       "      <td>...</td>\n",
       "      <td>...</td>\n",
       "      <td>...</td>\n",
       "      <td>...</td>\n",
       "      <td>...</td>\n",
       "    </tr>\n",
       "    <tr>\n",
       "      <th>413</th>\n",
       "      <td>3</td>\n",
       "      <td>0</td>\n",
       "      <td>0</td>\n",
       "      <td>30.27259</td>\n",
       "      <td>8.0500</td>\n",
       "      <td>0</td>\n",
       "      <td>1</td>\n",
       "      <td>0</td>\n",
       "      <td>0</td>\n",
       "      <td>1</td>\n",
       "    </tr>\n",
       "    <tr>\n",
       "      <th>414</th>\n",
       "      <td>1</td>\n",
       "      <td>0</td>\n",
       "      <td>0</td>\n",
       "      <td>39.00000</td>\n",
       "      <td>108.9000</td>\n",
       "      <td>1</td>\n",
       "      <td>0</td>\n",
       "      <td>1</td>\n",
       "      <td>0</td>\n",
       "      <td>0</td>\n",
       "    </tr>\n",
       "    <tr>\n",
       "      <th>415</th>\n",
       "      <td>3</td>\n",
       "      <td>0</td>\n",
       "      <td>0</td>\n",
       "      <td>38.50000</td>\n",
       "      <td>7.2500</td>\n",
       "      <td>0</td>\n",
       "      <td>1</td>\n",
       "      <td>0</td>\n",
       "      <td>0</td>\n",
       "      <td>1</td>\n",
       "    </tr>\n",
       "    <tr>\n",
       "      <th>416</th>\n",
       "      <td>3</td>\n",
       "      <td>0</td>\n",
       "      <td>0</td>\n",
       "      <td>30.27259</td>\n",
       "      <td>8.0500</td>\n",
       "      <td>0</td>\n",
       "      <td>1</td>\n",
       "      <td>0</td>\n",
       "      <td>0</td>\n",
       "      <td>1</td>\n",
       "    </tr>\n",
       "    <tr>\n",
       "      <th>417</th>\n",
       "      <td>3</td>\n",
       "      <td>1</td>\n",
       "      <td>1</td>\n",
       "      <td>30.27259</td>\n",
       "      <td>22.3583</td>\n",
       "      <td>0</td>\n",
       "      <td>1</td>\n",
       "      <td>1</td>\n",
       "      <td>0</td>\n",
       "      <td>0</td>\n",
       "    </tr>\n",
       "  </tbody>\n",
       "</table>\n",
       "<p>418 rows × 10 columns</p>\n",
       "</div>"
      ],
      "text/plain": [
       "     Pclass  SibSp  Parch       Age      Fare  Sex_female  Sex_male  \\\n",
       "0         3      0      0  34.50000    7.8292           0         1   \n",
       "1         3      1      0  47.00000    7.0000           1         0   \n",
       "2         2      0      0  62.00000    9.6875           0         1   \n",
       "3         3      0      0  27.00000    8.6625           0         1   \n",
       "4         3      1      1  22.00000   12.2875           1         0   \n",
       "..      ...    ...    ...       ...       ...         ...       ...   \n",
       "413       3      0      0  30.27259    8.0500           0         1   \n",
       "414       1      0      0  39.00000  108.9000           1         0   \n",
       "415       3      0      0  38.50000    7.2500           0         1   \n",
       "416       3      0      0  30.27259    8.0500           0         1   \n",
       "417       3      1      1  30.27259   22.3583           0         1   \n",
       "\n",
       "     Embarked_C  Embarked_Q  Embarked_S  \n",
       "0             0           1           0  \n",
       "1             0           0           1  \n",
       "2             0           1           0  \n",
       "3             0           0           1  \n",
       "4             0           0           1  \n",
       "..          ...         ...         ...  \n",
       "413           0           0           1  \n",
       "414           1           0           0  \n",
       "415           0           0           1  \n",
       "416           0           0           1  \n",
       "417           1           0           0  \n",
       "\n",
       "[418 rows x 10 columns]"
      ]
     },
     "execution_count": 50,
     "metadata": {},
     "output_type": "execute_result"
    }
   ],
   "source": [
    "test=pd.concat([test,dummy2],axis=1)\n",
    "test"
   ]
  },
  {
   "cell_type": "code",
   "execution_count": 51,
   "id": "crucial-sessions",
   "metadata": {
    "execution": {
     "iopub.execute_input": "2021-05-24T10:35:30.431976Z",
     "iopub.status.busy": "2021-05-24T10:35:30.431213Z",
     "iopub.status.idle": "2021-05-24T10:35:30.435441Z",
     "shell.execute_reply": "2021-05-24T10:35:30.434433Z"
    },
    "papermill": {
     "duration": 0.087737,
     "end_time": "2021-05-24T10:35:30.435576",
     "exception": false,
     "start_time": "2021-05-24T10:35:30.347839",
     "status": "completed"
    },
    "tags": []
   },
   "outputs": [
    {
     "data": {
      "text/plain": [
       "(418, 10)"
      ]
     },
     "execution_count": 51,
     "metadata": {},
     "output_type": "execute_result"
    }
   ],
   "source": [
    "test.shape"
   ]
  },
  {
   "cell_type": "markdown",
   "id": "mighty-african",
   "metadata": {
    "papermill": {
     "duration": 0.087177,
     "end_time": "2021-05-24T10:35:30.616128",
     "exception": false,
     "start_time": "2021-05-24T10:35:30.528951",
     "status": "completed"
    },
    "tags": []
   },
   "source": [
    "<p style = \"font-size : 35px; color : #34656d ; font-family : 'Comic Sans MS'; text-align : center; background-color : lightblue; border-radius: 5px 5px;\"><strong>Removing the Skewness In the Test Data Col</strong></p>"
   ]
  },
  {
   "cell_type": "code",
   "execution_count": 52,
   "id": "signal-national",
   "metadata": {
    "execution": {
     "iopub.execute_input": "2021-05-24T10:35:30.793380Z",
     "iopub.status.busy": "2021-05-24T10:35:30.792773Z",
     "iopub.status.idle": "2021-05-24T10:35:30.795417Z",
     "shell.execute_reply": "2021-05-24T10:35:30.795794Z"
    },
    "papermill": {
     "duration": 0.093389,
     "end_time": "2021-05-24T10:35:30.796026",
     "exception": false,
     "start_time": "2021-05-24T10:35:30.702637",
     "status": "completed"
    },
    "tags": []
   },
   "outputs": [],
   "source": [
    "test['Age']=np.log(test['Age'])"
   ]
  },
  {
   "cell_type": "code",
   "execution_count": 53,
   "id": "angry-spare",
   "metadata": {
    "execution": {
     "iopub.execute_input": "2021-05-24T10:35:30.964744Z",
     "iopub.status.busy": "2021-05-24T10:35:30.964200Z",
     "iopub.status.idle": "2021-05-24T10:35:30.966340Z",
     "shell.execute_reply": "2021-05-24T10:35:30.966762Z"
    },
    "papermill": {
     "duration": 0.089695,
     "end_time": "2021-05-24T10:35:30.966974",
     "exception": false,
     "start_time": "2021-05-24T10:35:30.877279",
     "status": "completed"
    },
    "tags": []
   },
   "outputs": [],
   "source": [
    "test['Fare']=np.log(test['Fare']+1)"
   ]
  },
  {
   "cell_type": "code",
   "execution_count": 54,
   "id": "fluid-coordinate",
   "metadata": {
    "execution": {
     "iopub.execute_input": "2021-05-24T10:35:31.129938Z",
     "iopub.status.busy": "2021-05-24T10:35:31.129316Z",
     "iopub.status.idle": "2021-05-24T10:35:31.277566Z",
     "shell.execute_reply": "2021-05-24T10:35:31.276391Z"
    },
    "papermill": {
     "duration": 0.231322,
     "end_time": "2021-05-24T10:35:31.277703",
     "exception": false,
     "start_time": "2021-05-24T10:35:31.046381",
     "status": "completed"
    },
    "tags": []
   },
   "outputs": [
    {
     "data": {
      "text/plain": [
       "<AxesSubplot:title={'center':'Log Age distribution'}, ylabel='Density'>"
      ]
     },
     "execution_count": 54,
     "metadata": {},
     "output_type": "execute_result"
    },
    {
     "data": {
      "image/png": "[encoded data removed]",
      "text/plain": [
       "<Figure size 720x432 with 1 Axes>"
      ]
     },
     "metadata": {
      "needs_background": "light"
     },
     "output_type": "display_data"
    }
   ],
   "source": [
    " (test['Age']).plot(kind = 'density', title = 'Log Age distribution', fontsize=14, figsize=(10, 6))"
   ]
  },
  {
   "cell_type": "markdown",
   "id": "treated-retreat",
   "metadata": {
    "papermill": {
     "duration": 0.080178,
     "end_time": "2021-05-24T10:35:31.438869",
     "exception": false,
     "start_time": "2021-05-24T10:35:31.358691",
     "status": "completed"
    },
    "tags": []
   },
   "source": [
    "<p style = \"font-size : 20px; color : #34656d ; font-family : 'Comic Sans MS'; text-align : center; background-color : orange; border-radius: 5px 5px;\"><strong>Removing Target Variable from the Train Dataset</strong></p>"
   ]
  },
  {
   "cell_type": "code",
   "execution_count": 55,
   "id": "efficient-officer",
   "metadata": {
    "execution": {
     "iopub.execute_input": "2021-05-24T10:35:31.604934Z",
     "iopub.status.busy": "2021-05-24T10:35:31.604355Z",
     "iopub.status.idle": "2021-05-24T10:35:31.606872Z",
     "shell.execute_reply": "2021-05-24T10:35:31.606449Z"
    },
    "papermill": {
     "duration": 0.086932,
     "end_time": "2021-05-24T10:35:31.607015",
     "exception": false,
     "start_time": "2021-05-24T10:35:31.520083",
     "status": "completed"
    },
    "tags": []
   },
   "outputs": [],
   "source": [
    "y=train['Survived']"
   ]
  },
  {
   "cell_type": "code",
   "execution_count": 56,
   "id": "balanced-panic",
   "metadata": {
    "execution": {
     "iopub.execute_input": "2021-05-24T10:35:31.774976Z",
     "iopub.status.busy": "2021-05-24T10:35:31.774355Z",
     "iopub.status.idle": "2021-05-24T10:35:31.777362Z",
     "shell.execute_reply": "2021-05-24T10:35:31.776921Z"
    },
    "papermill": {
     "duration": 0.089654,
     "end_time": "2021-05-24T10:35:31.777491",
     "exception": false,
     "start_time": "2021-05-24T10:35:31.687837",
     "status": "completed"
    },
    "tags": []
   },
   "outputs": [],
   "source": [
    "train.drop(['Survived'],axis=1,inplace=True)"
   ]
  },
  {
   "cell_type": "code",
   "execution_count": 57,
   "id": "ignored-window",
   "metadata": {
    "execution": {
     "iopub.execute_input": "2021-05-24T10:35:31.950058Z",
     "iopub.status.busy": "2021-05-24T10:35:31.949442Z",
     "iopub.status.idle": "2021-05-24T10:35:31.952201Z",
     "shell.execute_reply": "2021-05-24T10:35:31.952604Z"
    },
    "papermill": {
     "duration": 0.094574,
     "end_time": "2021-05-24T10:35:31.952758",
     "exception": false,
     "start_time": "2021-05-24T10:35:31.858184",
     "status": "completed"
    },
    "tags": []
   },
   "outputs": [
    {
     "data": {
      "text/html": [
       "<div>\n",
       "<style scoped>\n",
       "    .dataframe tbody tr th:only-of-type {\n",
       "        vertical-align: middle;\n",
       "    }\n",
       "\n",
       "    .dataframe tbody tr th {\n",
       "        vertical-align: top;\n",
       "    }\n",
       "\n",
       "    .dataframe thead th {\n",
       "        text-align: right;\n",
       "    }\n",
       "</style>\n",
       "<table border=\"1\" class=\"dataframe\">\n",
       "  <thead>\n",
       "    <tr style=\"text-align: right;\">\n",
       "      <th></th>\n",
       "      <th>Pclass</th>\n",
       "      <th>SibSp</th>\n",
       "      <th>Parch</th>\n",
       "      <th>Fare</th>\n",
       "      <th>Age</th>\n",
       "      <th>Sex_female</th>\n",
       "      <th>Sex_male</th>\n",
       "      <th>Embarked_C</th>\n",
       "      <th>Embarked_Q</th>\n",
       "      <th>Embarked_S</th>\n",
       "    </tr>\n",
       "  </thead>\n",
       "  <tbody>\n",
       "    <tr>\n",
       "      <th>0</th>\n",
       "      <td>3</td>\n",
       "      <td>1</td>\n",
       "      <td>0</td>\n",
       "      <td>2.110213</td>\n",
       "      <td>3.135494</td>\n",
       "      <td>0</td>\n",
       "      <td>1</td>\n",
       "      <td>0</td>\n",
       "      <td>0</td>\n",
       "      <td>1</td>\n",
       "    </tr>\n",
       "    <tr>\n",
       "      <th>1</th>\n",
       "      <td>1</td>\n",
       "      <td>1</td>\n",
       "      <td>0</td>\n",
       "      <td>4.280593</td>\n",
       "      <td>3.663562</td>\n",
       "      <td>1</td>\n",
       "      <td>0</td>\n",
       "      <td>1</td>\n",
       "      <td>0</td>\n",
       "      <td>0</td>\n",
       "    </tr>\n",
       "    <tr>\n",
       "      <th>2</th>\n",
       "      <td>3</td>\n",
       "      <td>0</td>\n",
       "      <td>0</td>\n",
       "      <td>2.188856</td>\n",
       "      <td>3.295837</td>\n",
       "      <td>1</td>\n",
       "      <td>0</td>\n",
       "      <td>0</td>\n",
       "      <td>0</td>\n",
       "      <td>1</td>\n",
       "    </tr>\n",
       "    <tr>\n",
       "      <th>3</th>\n",
       "      <td>1</td>\n",
       "      <td>1</td>\n",
       "      <td>0</td>\n",
       "      <td>3.990834</td>\n",
       "      <td>3.583519</td>\n",
       "      <td>1</td>\n",
       "      <td>0</td>\n",
       "      <td>0</td>\n",
       "      <td>0</td>\n",
       "      <td>1</td>\n",
       "    </tr>\n",
       "    <tr>\n",
       "      <th>4</th>\n",
       "      <td>3</td>\n",
       "      <td>0</td>\n",
       "      <td>0</td>\n",
       "      <td>2.202765</td>\n",
       "      <td>3.583519</td>\n",
       "      <td>0</td>\n",
       "      <td>1</td>\n",
       "      <td>0</td>\n",
       "      <td>0</td>\n",
       "      <td>1</td>\n",
       "    </tr>\n",
       "  </tbody>\n",
       "</table>\n",
       "</div>"
      ],
      "text/plain": [
       "   Pclass  SibSp  Parch      Fare       Age  Sex_female  Sex_male  Embarked_C  \\\n",
       "0       3      1      0  2.110213  3.135494           0         1           0   \n",
       "1       1      1      0  4.280593  3.663562           1         0           1   \n",
       "2       3      0      0  2.188856  3.295837           1         0           0   \n",
       "3       1      1      0  3.990834  3.583519           1         0           0   \n",
       "4       3      0      0  2.202765  3.583519           0         1           0   \n",
       "\n",
       "   Embarked_Q  Embarked_S  \n",
       "0           0           1  \n",
       "1           0           0  \n",
       "2           0           1  \n",
       "3           0           1  \n",
       "4           0           1  "
      ]
     },
     "execution_count": 57,
     "metadata": {},
     "output_type": "execute_result"
    }
   ],
   "source": [
    "train.head()"
   ]
  },
  {
   "cell_type": "code",
   "execution_count": 58,
   "id": "velvet-xerox",
   "metadata": {
    "execution": {
     "iopub.execute_input": "2021-05-24T10:35:32.117826Z",
     "iopub.status.busy": "2021-05-24T10:35:32.117268Z",
     "iopub.status.idle": "2021-05-24T10:35:32.128827Z",
     "shell.execute_reply": "2021-05-24T10:35:32.128241Z"
    },
    "papermill": {
     "duration": 0.09488,
     "end_time": "2021-05-24T10:35:32.128982",
     "exception": false,
     "start_time": "2021-05-24T10:35:32.034102",
     "status": "completed"
    },
    "tags": []
   },
   "outputs": [
    {
     "data": {
      "text/html": [
       "<div>\n",
       "<style scoped>\n",
       "    .dataframe tbody tr th:only-of-type {\n",
       "        vertical-align: middle;\n",
       "    }\n",
       "\n",
       "    .dataframe tbody tr th {\n",
       "        vertical-align: top;\n",
       "    }\n",
       "\n",
       "    .dataframe thead th {\n",
       "        text-align: right;\n",
       "    }\n",
       "</style>\n",
       "<table border=\"1\" class=\"dataframe\">\n",
       "  <thead>\n",
       "    <tr style=\"text-align: right;\">\n",
       "      <th></th>\n",
       "      <th>Pclass</th>\n",
       "      <th>SibSp</th>\n",
       "      <th>Parch</th>\n",
       "      <th>Age</th>\n",
       "      <th>Fare</th>\n",
       "      <th>Sex_female</th>\n",
       "      <th>Sex_male</th>\n",
       "      <th>Embarked_C</th>\n",
       "      <th>Embarked_Q</th>\n",
       "      <th>Embarked_S</th>\n",
       "    </tr>\n",
       "  </thead>\n",
       "  <tbody>\n",
       "    <tr>\n",
       "      <th>0</th>\n",
       "      <td>3</td>\n",
       "      <td>0</td>\n",
       "      <td>0</td>\n",
       "      <td>3.540959</td>\n",
       "      <td>2.178064</td>\n",
       "      <td>0</td>\n",
       "      <td>1</td>\n",
       "      <td>0</td>\n",
       "      <td>1</td>\n",
       "      <td>0</td>\n",
       "    </tr>\n",
       "    <tr>\n",
       "      <th>1</th>\n",
       "      <td>3</td>\n",
       "      <td>1</td>\n",
       "      <td>0</td>\n",
       "      <td>3.850148</td>\n",
       "      <td>2.079442</td>\n",
       "      <td>1</td>\n",
       "      <td>0</td>\n",
       "      <td>0</td>\n",
       "      <td>0</td>\n",
       "      <td>1</td>\n",
       "    </tr>\n",
       "    <tr>\n",
       "      <th>2</th>\n",
       "      <td>2</td>\n",
       "      <td>0</td>\n",
       "      <td>0</td>\n",
       "      <td>4.127134</td>\n",
       "      <td>2.369075</td>\n",
       "      <td>0</td>\n",
       "      <td>1</td>\n",
       "      <td>0</td>\n",
       "      <td>1</td>\n",
       "      <td>0</td>\n",
       "    </tr>\n",
       "    <tr>\n",
       "      <th>3</th>\n",
       "      <td>3</td>\n",
       "      <td>0</td>\n",
       "      <td>0</td>\n",
       "      <td>3.295837</td>\n",
       "      <td>2.268252</td>\n",
       "      <td>0</td>\n",
       "      <td>1</td>\n",
       "      <td>0</td>\n",
       "      <td>0</td>\n",
       "      <td>1</td>\n",
       "    </tr>\n",
       "    <tr>\n",
       "      <th>4</th>\n",
       "      <td>3</td>\n",
       "      <td>1</td>\n",
       "      <td>1</td>\n",
       "      <td>3.091042</td>\n",
       "      <td>2.586824</td>\n",
       "      <td>1</td>\n",
       "      <td>0</td>\n",
       "      <td>0</td>\n",
       "      <td>0</td>\n",
       "      <td>1</td>\n",
       "    </tr>\n",
       "  </tbody>\n",
       "</table>\n",
       "</div>"
      ],
      "text/plain": [
       "   Pclass  SibSp  Parch       Age      Fare  Sex_female  Sex_male  Embarked_C  \\\n",
       "0       3      0      0  3.540959  2.178064           0         1           0   \n",
       "1       3      1      0  3.850148  2.079442           1         0           0   \n",
       "2       2      0      0  4.127134  2.369075           0         1           0   \n",
       "3       3      0      0  3.295837  2.268252           0         1           0   \n",
       "4       3      1      1  3.091042  2.586824           1         0           0   \n",
       "\n",
       "   Embarked_Q  Embarked_S  \n",
       "0           1           0  \n",
       "1           0           1  \n",
       "2           1           0  \n",
       "3           0           1  \n",
       "4           0           1  "
      ]
     },
     "execution_count": 58,
     "metadata": {},
     "output_type": "execute_result"
    }
   ],
   "source": [
    "test.head()"
   ]
  },
  {
   "cell_type": "code",
   "execution_count": 59,
   "id": "technical-wednesday",
   "metadata": {
    "execution": {
     "iopub.execute_input": "2021-05-24T10:35:32.299516Z",
     "iopub.status.busy": "2021-05-24T10:35:32.298881Z",
     "iopub.status.idle": "2021-05-24T10:35:32.304063Z",
     "shell.execute_reply": "2021-05-24T10:35:32.304487Z"
    },
    "papermill": {
     "duration": 0.092208,
     "end_time": "2021-05-24T10:35:32.304651",
     "exception": false,
     "start_time": "2021-05-24T10:35:32.212443",
     "status": "completed"
    },
    "tags": []
   },
   "outputs": [
    {
     "data": {
      "text/plain": [
       "((891, 10), (418, 10))"
      ]
     },
     "execution_count": 59,
     "metadata": {},
     "output_type": "execute_result"
    }
   ],
   "source": [
    "train.shape,test.shape"
   ]
  },
  {
   "cell_type": "markdown",
   "id": "answering-inspection",
   "metadata": {
    "papermill": {
     "duration": 0.081563,
     "end_time": "2021-05-24T10:35:32.467606",
     "exception": false,
     "start_time": "2021-05-24T10:35:32.386043",
     "status": "completed"
    },
    "tags": []
   },
   "source": [
    "<p style = \"font-size : 35px; color : #34656d ; font-family : 'Comic Sans MS'; text-align : center; background-color : lightblue; border-radius: 5px 5px;\"><strong>Model Building</strong></p>"
   ]
  },
  {
   "cell_type": "markdown",
   "id": "checked-python",
   "metadata": {
    "papermill": {
     "duration": 0.081144,
     "end_time": "2021-05-24T10:35:32.630159",
     "exception": false,
     "start_time": "2021-05-24T10:35:32.549015",
     "status": "completed"
    },
    "tags": []
   },
   "source": [
    "<p style = \"font-size : 25px; color : #34656d ; font-family : 'Comic Sans MS'; text-align : center; background-color : lightgreen; border-radius: 5px 5px;\"><strong>Logistic Regression</strong></p>"
   ]
  },
  {
   "cell_type": "code",
   "execution_count": 60,
   "id": "optical-steps",
   "metadata": {
    "execution": {
     "iopub.execute_input": "2021-05-24T10:35:32.798279Z",
     "iopub.status.busy": "2021-05-24T10:35:32.797651Z",
     "iopub.status.idle": "2021-05-24T10:35:32.801902Z",
     "shell.execute_reply": "2021-05-24T10:35:32.801432Z"
    },
    "papermill": {
     "duration": 0.090409,
     "end_time": "2021-05-24T10:35:32.802038",
     "exception": false,
     "start_time": "2021-05-24T10:35:32.711629",
     "status": "completed"
    },
    "tags": []
   },
   "outputs": [],
   "source": [
    "x_train,x_test,y_train,y_test=train_test_split(train,y,random_state=42)"
   ]
  },
  {
   "cell_type": "markdown",
   "id": "boring-associate",
   "metadata": {
    "papermill": {
     "duration": 0.081439,
     "end_time": "2021-05-24T10:35:32.965350",
     "exception": false,
     "start_time": "2021-05-24T10:35:32.883911",
     "status": "completed"
    },
    "tags": []
   },
   "source": []
  },
  {
   "cell_type": "code",
   "execution_count": 61,
   "id": "accompanied-serbia",
   "metadata": {
    "execution": {
     "iopub.execute_input": "2021-05-24T10:35:33.138673Z",
     "iopub.status.busy": "2021-05-24T10:35:33.138081Z",
     "iopub.status.idle": "2021-05-24T10:35:34.199825Z",
     "shell.execute_reply": "2021-05-24T10:35:34.200657Z"
    },
    "papermill": {
     "duration": 1.152653,
     "end_time": "2021-05-24T10:35:34.200834",
     "exception": false,
     "start_time": "2021-05-24T10:35:33.048181",
     "status": "completed"
    },
    "tags": []
   },
   "outputs": [
    {
     "data": {
      "text/plain": [
       "array([0, 0, 0, 1, 1, 1, 1, 0, 1, 1, 0, 0, 0, 0, 0, 1, 0, 1, 0, 0, 0, 0,\n",
       "       1, 0, 0, 0, 0, 0, 0, 1, 0, 1, 1, 1, 0, 0, 0, 1, 1, 0, 0, 0, 0, 0,\n",
       "       1, 0, 0, 0, 0, 0, 1, 1, 0, 1, 0, 1, 0, 1, 1, 1, 0, 1, 1, 0, 0, 1,\n",
       "       0, 0, 0, 1, 1, 1, 1, 1, 0, 0, 1, 1, 1, 0, 0, 1, 1, 0, 0, 0, 1, 1,\n",
       "       0, 0, 0, 0, 0, 0, 0, 0, 0, 0, 1, 0, 0, 0, 1, 0, 0, 0, 1, 0, 0, 0,\n",
       "       1, 0, 1, 0, 1, 0, 0, 0, 1, 0, 0, 1, 1, 1, 0, 0, 1, 1, 1, 0, 1, 0,\n",
       "       0, 1, 0, 1, 1, 0, 0, 1, 0, 1, 0, 0, 0, 1, 0, 0, 1, 0, 0, 0, 0, 1,\n",
       "       0, 0, 0, 1, 1, 1, 0, 0, 0, 1, 0, 0, 0, 1, 0, 0, 1, 1, 0, 1, 0, 0,\n",
       "       0, 1, 1, 0, 0, 0, 0, 0, 1, 0, 0, 0, 0, 1, 0, 0, 0, 0, 1, 1, 1, 0,\n",
       "       1, 0, 0, 1, 1, 0, 0, 1, 0, 0, 0, 0, 1, 0, 1, 0, 0, 0, 1, 0, 1, 0,\n",
       "       0, 1, 0])"
      ]
     },
     "execution_count": 61,
     "metadata": {},
     "output_type": "execute_result"
    }
   ],
   "source": [
    "logistic=LogisticRegression(max_iter=100,random_state=1,n_jobs=-1)\n",
    "logistic.fit(x_train,y_train)\n",
    "pred1=logistic.predict(x_test)\n",
    "pred1"
   ]
  },
  {
   "cell_type": "code",
   "execution_count": 62,
   "id": "intense-sally",
   "metadata": {
    "execution": {
     "iopub.execute_input": "2021-05-24T10:35:34.377070Z",
     "iopub.status.busy": "2021-05-24T10:35:34.376183Z",
     "iopub.status.idle": "2021-05-24T10:35:34.381440Z",
     "shell.execute_reply": "2021-05-24T10:35:34.380825Z"
    },
    "papermill": {
     "duration": 0.096126,
     "end_time": "2021-05-24T10:35:34.381567",
     "exception": false,
     "start_time": "2021-05-24T10:35:34.285441",
     "status": "completed"
    },
    "tags": []
   },
   "outputs": [
    {
     "data": {
      "text/plain": [
       "0.812874251497006"
      ]
     },
     "execution_count": 62,
     "metadata": {},
     "output_type": "execute_result"
    }
   ],
   "source": [
    "logistic.score(x_train,y_train)"
   ]
  },
  {
   "cell_type": "markdown",
   "id": "invisible-oxide",
   "metadata": {
    "papermill": {
     "duration": 0.082574,
     "end_time": "2021-05-24T10:35:34.546689",
     "exception": false,
     "start_time": "2021-05-24T10:35:34.464115",
     "status": "completed"
    },
    "tags": []
   },
   "source": [
    "<p style = \"font-size : 25px; color : #34656d ; font-family : 'Comic Sans MS'; text-align : center; background-color : lightgreen; border-radius: 5px 5px;\"><strong>Random Forest Classifier</strong></p>"
   ]
  },
  {
   "cell_type": "markdown",
   "id": "welsh-oasis",
   "metadata": {
    "papermill": {
     "duration": 0.082748,
     "end_time": "2021-05-24T10:35:34.712090",
     "exception": false,
     "start_time": "2021-05-24T10:35:34.629342",
     "status": "completed"
    },
    "tags": []
   },
   "source": [
    "# Hyperparameter tuning"
   ]
  },
  {
   "cell_type": "code",
   "execution_count": 63,
   "id": "coupled-netscape",
   "metadata": {
    "execution": {
     "iopub.execute_input": "2021-05-24T10:35:34.882120Z",
     "iopub.status.busy": "2021-05-24T10:35:34.881469Z",
     "iopub.status.idle": "2021-05-24T10:35:34.884675Z",
     "shell.execute_reply": "2021-05-24T10:35:34.884090Z"
    },
    "papermill": {
     "duration": 0.09011,
     "end_time": "2021-05-24T10:35:34.884814",
     "exception": false,
     "start_time": "2021-05-24T10:35:34.794704",
     "status": "completed"
    },
    "tags": []
   },
   "outputs": [],
   "source": [
    "# param_grid = { \"criterion\" : [\"gini\",\"entropy\"], \"min_samples_leaf\" : [1, 5, 10, 25, 50, 70], \n",
    "#               \"min_samples_split\" : [2, 4, 10, 12, 16, 18, 25, 35], \"n_estimators\": [100, 400, 700, 1000, 1500]}\n",
    "# rf = RandomForestClassifier(n_estimators=100, max_features='auto', oob_score=True, random_state=1, n_jobs=-1)\n",
    "# clf = GridSearchCV(estimator=rf, param_grid=param_grid, n_jobs=-1)\n",
    "# clf.fit(x_train, y_train)\n",
    "# clf.best_params_"
   ]
  },
  {
   "cell_type": "markdown",
   "id": "taken-migration",
   "metadata": {
    "papermill": {
     "duration": 0.083948,
     "end_time": "2021-05-24T10:35:35.052509",
     "exception": false,
     "start_time": "2021-05-24T10:35:34.968561",
     "status": "completed"
    },
    "tags": []
   },
   "source": [
    "# Now buliding the model with best parameters"
   ]
  },
  {
   "cell_type": "code",
   "execution_count": 64,
   "id": "dutch-pulse",
   "metadata": {
    "execution": {
     "iopub.execute_input": "2021-05-24T10:35:35.232057Z",
     "iopub.status.busy": "2021-05-24T10:35:35.231406Z",
     "iopub.status.idle": "2021-05-24T10:35:35.721613Z",
     "shell.execute_reply": "2021-05-24T10:35:35.722103Z"
    },
    "papermill": {
     "duration": 0.586627,
     "end_time": "2021-05-24T10:35:35.722271",
     "exception": false,
     "start_time": "2021-05-24T10:35:35.135644",
     "status": "completed"
    },
    "tags": []
   },
   "outputs": [
    {
     "name": "stdout",
     "output_type": "stream",
     "text": [
      "oob score: 82.34 %\n"
     ]
    }
   ],
   "source": [
    "random_forest = RandomForestClassifier(criterion = \"entropy\", \n",
    "                                       min_samples_leaf = 1, \n",
    "                                       min_samples_split = 12,\n",
    "                                       n_estimators=100, \n",
    "                                       max_features='auto', \n",
    "                                       oob_score=True, \n",
    "                                       random_state=42, \n",
    "                                       n_jobs=-1)\n",
    "\n",
    "random_forest.fit(x_train, y_train)\n",
    "pred2 = random_forest.predict(x_test)\n",
    "\n",
    "random_forest.score(x_train, y_train)\n",
    "\n",
    "print(\"oob score:\", round(random_forest.oob_score_, 4)*100, \"%\")"
   ]
  },
  {
   "cell_type": "markdown",
   "id": "intimate-advice",
   "metadata": {
    "papermill": {
     "duration": 0.08323,
     "end_time": "2021-05-24T10:35:35.889645",
     "exception": false,
     "start_time": "2021-05-24T10:35:35.806415",
     "status": "completed"
    },
    "tags": []
   },
   "source": [
    "<p style = \"font-size : 25px; color : #34656d ; font-family : 'Comic Sans MS'; text-align : center; background-color : lightgreen; border-radius: 5px 5px;\"><strong> Stochastic Gradient Descent (SGD)</strong></p>"
   ]
  },
  {
   "cell_type": "code",
   "execution_count": 65,
   "id": "statutory-professor",
   "metadata": {
    "execution": {
     "iopub.execute_input": "2021-05-24T10:35:36.064695Z",
     "iopub.status.busy": "2021-05-24T10:35:36.062841Z",
     "iopub.status.idle": "2021-05-24T10:35:36.077164Z",
     "shell.execute_reply": "2021-05-24T10:35:36.077619Z"
    },
    "papermill": {
     "duration": 0.104708,
     "end_time": "2021-05-24T10:35:36.077781",
     "exception": false,
     "start_time": "2021-05-24T10:35:35.973073",
     "status": "completed"
    },
    "tags": []
   },
   "outputs": [
    {
     "data": {
      "text/plain": [
       "72.6"
      ]
     },
     "execution_count": 65,
     "metadata": {},
     "output_type": "execute_result"
    }
   ],
   "source": [
    "sgd = SGDClassifier(random_state=42)\n",
    "sgd.fit(x_train, y_train)\n",
    "sgd_pred = sgd.predict(x_test)\n",
    "\n",
    "sgd.score(x_train, y_train)\n",
    "\n",
    "acc_sgd = round(sgd.score(x_train, y_train) * 100, 2)\n",
    "acc_sgd"
   ]
  },
  {
   "cell_type": "markdown",
   "id": "miniature-triumph",
   "metadata": {
    "papermill": {
     "duration": 0.082298,
     "end_time": "2021-05-24T10:35:36.244230",
     "exception": false,
     "start_time": "2021-05-24T10:35:36.161932",
     "status": "completed"
    },
    "tags": []
   },
   "source": [
    "# Hyperparameter tuning"
   ]
  },
  {
   "cell_type": "code",
   "execution_count": 66,
   "id": "heavy-boating",
   "metadata": {
    "execution": {
     "iopub.execute_input": "2021-05-24T10:35:36.413009Z",
     "iopub.status.busy": "2021-05-24T10:35:36.412432Z",
     "iopub.status.idle": "2021-05-24T10:35:38.349688Z",
     "shell.execute_reply": "2021-05-24T10:35:38.349088Z"
    },
    "papermill": {
     "duration": 2.022101,
     "end_time": "2021-05-24T10:35:38.349821",
     "exception": false,
     "start_time": "2021-05-24T10:35:36.327720",
     "status": "completed"
    },
    "tags": []
   },
   "outputs": [
    {
     "name": "stdout",
     "output_type": "stream",
     "text": [
      "{'alpha': 0.001, 'loss': 'hinge', 'penalty': 'l1'}\n",
      "0.8040479421076437\n"
     ]
    }
   ],
   "source": [
    "\n",
    "sgdc=SGDClassifier(random_state=0)\n",
    "\n",
    "parameters = {\n",
    "            'alpha':[0.00001, 0.0001, 0.001, 0.01, 0.1, 1], \n",
    "             'loss':['hinge','log'], 'penalty':['l1','l2']}\n",
    "searcher = GridSearchCV(sgdc, parameters, cv=10)\n",
    "searcher.fit(x_train, y_train)\n",
    "print(searcher.best_params_)\n",
    "print(searcher.best_score_)"
   ]
  },
  {
   "cell_type": "markdown",
   "id": "athletic-magnitude",
   "metadata": {
    "papermill": {
     "duration": 0.083451,
     "end_time": "2021-05-24T10:35:38.516716",
     "exception": false,
     "start_time": "2021-05-24T10:35:38.433265",
     "status": "completed"
    },
    "tags": []
   },
   "source": [
    "# Now buliding the model with best parameters"
   ]
  },
  {
   "cell_type": "code",
   "execution_count": 67,
   "id": "virtual-slovakia",
   "metadata": {
    "execution": {
     "iopub.execute_input": "2021-05-24T10:35:38.690646Z",
     "iopub.status.busy": "2021-05-24T10:35:38.690050Z",
     "iopub.status.idle": "2021-05-24T10:35:38.699928Z",
     "shell.execute_reply": "2021-05-24T10:35:38.700398Z"
    },
    "papermill": {
     "duration": 0.099995,
     "end_time": "2021-05-24T10:35:38.700561",
     "exception": false,
     "start_time": "2021-05-24T10:35:38.600566",
     "status": "completed"
    },
    "tags": []
   },
   "outputs": [],
   "source": [
    "sgd = SGDClassifier(random_state=0,alpha=0.001,loss='log',penalty='l1')\n",
    "sgd.fit(x_train, y_train)\n",
    "pred3 = sgd.predict(x_test)\n"
   ]
  },
  {
   "cell_type": "markdown",
   "id": "modular-contemporary",
   "metadata": {
    "papermill": {
     "duration": 0.083348,
     "end_time": "2021-05-24T10:35:38.867028",
     "exception": false,
     "start_time": "2021-05-24T10:35:38.783680",
     "status": "completed"
    },
    "tags": []
   },
   "source": []
  },
  {
   "cell_type": "markdown",
   "id": "grateful-lighting",
   "metadata": {
    "papermill": {
     "duration": 0.083517,
     "end_time": "2021-05-24T10:35:39.033656",
     "exception": false,
     "start_time": "2021-05-24T10:35:38.950139",
     "status": "completed"
    },
    "tags": []
   },
   "source": [
    "<p style = \"font-size : 25px; color : #34656d ; font-family : 'Comic Sans MS'; text-align : center; background-color : lightgreen; border-radius: 5px 5px;\"><strong> K Nearest Neighbor (KNN)</strong></p>"
   ]
  },
  {
   "cell_type": "code",
   "execution_count": 68,
   "id": "sublime-vulnerability",
   "metadata": {
    "execution": {
     "iopub.execute_input": "2021-05-24T10:35:39.202451Z",
     "iopub.status.busy": "2021-05-24T10:35:39.201904Z",
     "iopub.status.idle": "2021-05-24T10:35:39.279467Z",
     "shell.execute_reply": "2021-05-24T10:35:39.278782Z"
    },
    "papermill": {
     "duration": 0.162919,
     "end_time": "2021-05-24T10:35:39.279606",
     "exception": false,
     "start_time": "2021-05-24T10:35:39.116687",
     "status": "completed"
    },
    "tags": []
   },
   "outputs": [],
   "source": [
    "knn = KNeighborsClassifier(n_neighbors = 3)\n",
    "knn.fit(train, y) \n",
    "pred4 = knn.predict(test)  \n",
    "acc_knn = round(knn.score(train, y) * 100, 2)"
   ]
  },
  {
   "cell_type": "markdown",
   "id": "governmental-secretary",
   "metadata": {
    "papermill": {
     "duration": 0.08311,
     "end_time": "2021-05-24T10:35:39.458631",
     "exception": false,
     "start_time": "2021-05-24T10:35:39.375521",
     "status": "completed"
    },
    "tags": []
   },
   "source": [
    "<p style = \"font-size : 25px; color : #34656d ; font-family : 'Comic Sans MS'; text-align : center; background-color : lightgreen; border-radius: 5px 5px;\"><strong>Linear Support Vector Machine</strong></p># Linear Support Vector Machine"
   ]
  },
  {
   "cell_type": "code",
   "execution_count": 69,
   "id": "stunning-membership",
   "metadata": {
    "execution": {
     "iopub.execute_input": "2021-05-24T10:35:39.628389Z",
     "iopub.status.busy": "2021-05-24T10:35:39.627800Z",
     "iopub.status.idle": "2021-05-24T10:35:39.680479Z",
     "shell.execute_reply": "2021-05-24T10:35:39.680935Z"
    },
    "papermill": {
     "duration": 0.139058,
     "end_time": "2021-05-24T10:35:39.681102",
     "exception": false,
     "start_time": "2021-05-24T10:35:39.542044",
     "status": "completed"
    },
    "tags": []
   },
   "outputs": [
    {
     "data": {
      "text/plain": [
       "81.44"
      ]
     },
     "execution_count": 69,
     "metadata": {},
     "output_type": "execute_result"
    }
   ],
   "source": [
    "linear_svc = LinearSVC(max_iter=100000,dual=True)\n",
    "linear_svc.fit(x_train, y_train)\n",
    "\n",
    "pred5 = linear_svc.predict(x_test)\n",
    "\n",
    "acc_linear_svc = round(linear_svc.score(x_train, y_train) * 100, 2)\n",
    "acc_linear_svc "
   ]
  },
  {
   "cell_type": "markdown",
   "id": "marked-finder",
   "metadata": {
    "papermill": {
     "duration": 0.083896,
     "end_time": "2021-05-24T10:35:39.848648",
     "exception": false,
     "start_time": "2021-05-24T10:35:39.764752",
     "status": "completed"
    },
    "tags": []
   },
   "source": [
    "<p style = \"font-size : 25px; color : #34656d ; font-family : 'Comic Sans MS'; text-align : center; background-color : lightgreen; border-radius: 5px 5px;\"><strong>Decision Tree</strong></p>"
   ]
  },
  {
   "cell_type": "code",
   "execution_count": 70,
   "id": "armed-export",
   "metadata": {
    "execution": {
     "iopub.execute_input": "2021-05-24T10:35:40.019218Z",
     "iopub.status.busy": "2021-05-24T10:35:40.018653Z",
     "iopub.status.idle": "2021-05-24T10:35:40.031379Z",
     "shell.execute_reply": "2021-05-24T10:35:40.031877Z"
    },
    "papermill": {
     "duration": 0.099825,
     "end_time": "2021-05-24T10:35:40.032033",
     "exception": false,
     "start_time": "2021-05-24T10:35:39.932208",
     "status": "completed"
    },
    "tags": []
   },
   "outputs": [
    {
     "data": {
      "text/plain": [
       "98.2"
      ]
     },
     "execution_count": 70,
     "metadata": {},
     "output_type": "execute_result"
    }
   ],
   "source": [
    "decision_tree = DecisionTreeClassifier()\n",
    "decision_tree.fit(train, y)\n",
    "d_pred = decision_tree.predict(test)\n",
    "acc_decision_tree = round(decision_tree.score(train,y) * 100, 2)\n",
    "acc_decision_tree"
   ]
  },
  {
   "cell_type": "markdown",
   "id": "endless-corps",
   "metadata": {
    "papermill": {
     "duration": 0.084805,
     "end_time": "2021-05-24T10:35:40.200475",
     "exception": false,
     "start_time": "2021-05-24T10:35:40.115670",
     "status": "completed"
    },
    "tags": []
   },
   "source": [
    "# **Hyperparameter tuning**"
   ]
  },
  {
   "cell_type": "code",
   "execution_count": 71,
   "id": "appropriate-wrong",
   "metadata": {
    "execution": {
     "iopub.execute_input": "2021-05-24T10:35:40.372910Z",
     "iopub.status.busy": "2021-05-24T10:35:40.372341Z",
     "iopub.status.idle": "2021-05-24T10:35:56.157706Z",
     "shell.execute_reply": "2021-05-24T10:35:56.158210Z"
    },
    "papermill": {
     "duration": 15.872336,
     "end_time": "2021-05-24T10:35:56.158399",
     "exception": false,
     "start_time": "2021-05-24T10:35:40.286063",
     "status": "completed"
    },
    "tags": []
   },
   "outputs": [
    {
     "name": "stdout",
     "output_type": "stream",
     "text": [
      "Fitting 5 folds for each of 1200 candidates, totalling 6000 fits\n",
      "{'criterion': 'gini', 'max_depth': 10, 'max_features': 'log2', 'min_samples_leaf': 2, 'min_samples_split': 2, 'splitter': 'random'}\n",
      "0.826282123218494\n"
     ]
    },
    {
     "name": "stderr",
     "output_type": "stream",
     "text": [
      "/opt/conda/lib/python3.7/site-packages/sklearn/model_selection/_search.py:921: UserWarning: One or more of the test scores are non-finite: [       nan        nan 0.75010661 ... 0.79190888 0.77546852 0.78296487]\n",
      "  category=UserWarning\n"
     ]
    }
   ],
   "source": [
    "grid_param = {\n",
    "    'criterion' : ['gini', 'entropy'],\n",
    "    'max_depth' : [3, 5, 7, 10],\n",
    "    'splitter' : ['best', 'random'],\n",
    "    'min_samples_leaf' : [1, 2, 3, 5, 7],\n",
    "    'min_samples_split' : [1, 2, 3, 5, 7],\n",
    "    'max_features' : ['auto', 'sqrt', 'log2']\n",
    "}\n",
    "\n",
    "decision = GridSearchCV(decision_tree, grid_param, cv = 5, n_jobs = -1, verbose = 1)\n",
    "decision.fit(x_train, y_train)\n",
    "print(decision.best_params_)\n",
    "print(decision.best_score_)"
   ]
  },
  {
   "cell_type": "markdown",
   "id": "minimal-rouge",
   "metadata": {
    "papermill": {
     "duration": 0.084882,
     "end_time": "2021-05-24T10:35:56.330288",
     "exception": false,
     "start_time": "2021-05-24T10:35:56.245406",
     "status": "completed"
    },
    "tags": []
   },
   "source": [
    "# Now buliding the model with best parameters"
   ]
  },
  {
   "cell_type": "code",
   "execution_count": 72,
   "id": "viral-palestine",
   "metadata": {
    "execution": {
     "iopub.execute_input": "2021-05-24T10:35:56.507000Z",
     "iopub.status.busy": "2021-05-24T10:35:56.506093Z",
     "iopub.status.idle": "2021-05-24T10:35:56.510924Z",
     "shell.execute_reply": "2021-05-24T10:35:56.511344Z"
    },
    "papermill": {
     "duration": 0.096497,
     "end_time": "2021-05-24T10:35:56.511507",
     "exception": false,
     "start_time": "2021-05-24T10:35:56.415010",
     "status": "completed"
    },
    "tags": []
   },
   "outputs": [],
   "source": [
    "decision_tree = DecisionTreeClassifier(criterion='gini',\n",
    "                                      max_depth=3,\n",
    "                                      splitter='best',\n",
    "                                      min_samples_leaf=3,\n",
    "                                      min_samples_split=3,\n",
    "                                      max_features='auto')\n",
    "decision_tree.fit(x_train, y_train)\n",
    "pred6 = decision_tree.predict(x_test)"
   ]
  },
  {
   "cell_type": "markdown",
   "id": "developed-builder",
   "metadata": {
    "papermill": {
     "duration": 0.085061,
     "end_time": "2021-05-24T10:35:56.683573",
     "exception": false,
     "start_time": "2021-05-24T10:35:56.598512",
     "status": "completed"
    },
    "tags": []
   },
   "source": [
    "<p style = \"font-size : 25px; color : #34656d ; font-family : 'Comic Sans MS'; text-align : center; background-color : lightgreen; border-radius: 5px 5px;\"><strong>Adaboost Classifier</strong></p># AdaboostClassifier"
   ]
  },
  {
   "cell_type": "code",
   "execution_count": 73,
   "id": "judicial-scientist",
   "metadata": {
    "execution": {
     "iopub.execute_input": "2021-05-24T10:35:56.856242Z",
     "iopub.status.busy": "2021-05-24T10:35:56.855611Z",
     "iopub.status.idle": "2021-05-24T10:35:56.961587Z",
     "shell.execute_reply": "2021-05-24T10:35:56.961143Z"
    },
    "papermill": {
     "duration": 0.193488,
     "end_time": "2021-05-24T10:35:56.961723",
     "exception": false,
     "start_time": "2021-05-24T10:35:56.768235",
     "status": "completed"
    },
    "tags": []
   },
   "outputs": [
    {
     "data": {
      "text/plain": [
       "0.9550898203592815"
      ]
     },
     "execution_count": 73,
     "metadata": {},
     "output_type": "execute_result"
    }
   ],
   "source": [
    "from sklearn.ensemble import AdaBoostClassifier\n",
    "adb = AdaBoostClassifier(base_estimator = decision_tree)\n",
    "adb.fit(x_train,y_train)\n",
    "adb_pred=adb.predict(x_test)\n",
    "adb.score(x_train,y_train)"
   ]
  },
  {
   "cell_type": "markdown",
   "id": "filled-semester",
   "metadata": {
    "papermill": {
     "duration": 0.085356,
     "end_time": "2021-05-24T10:35:57.133324",
     "exception": false,
     "start_time": "2021-05-24T10:35:57.047968",
     "status": "completed"
    },
    "tags": []
   },
   "source": [
    "# Hyperparameter Tuning"
   ]
  },
  {
   "cell_type": "code",
   "execution_count": 74,
   "id": "criminal-jaguar",
   "metadata": {
    "execution": {
     "iopub.execute_input": "2021-05-24T10:35:57.312621Z",
     "iopub.status.busy": "2021-05-24T10:35:57.311835Z",
     "iopub.status.idle": "2021-05-24T10:36:15.141385Z",
     "shell.execute_reply": "2021-05-24T10:36:15.140873Z"
    },
    "papermill": {
     "duration": 17.921999,
     "end_time": "2021-05-24T10:36:15.141522",
     "exception": false,
     "start_time": "2021-05-24T10:35:57.219523",
     "status": "completed"
    },
    "tags": []
   },
   "outputs": [
    {
     "name": "stdout",
     "output_type": "stream",
     "text": [
      "Fitting 5 folds for each of 40 candidates, totalling 200 fits\n"
     ]
    },
    {
     "name": "stderr",
     "output_type": "stream",
     "text": [
      "/opt/conda/lib/python3.7/site-packages/sklearn/model_selection/_search.py:921: UserWarning: One or more of the test scores are non-finite: [0.8053866  0.80391651 0.81289418 0.81438671 0.81436427 0.81135675\n",
      " 0.8203232  0.82633823 0.81587925 0.81284929 0.81136797 0.81884188\n",
      " 0.80989788 0.82186062 0.81142408        nan        nan        nan\n",
      "        nan        nan 0.82037931 0.81289418 0.81439794 0.81738301\n",
      " 0.8143306  0.8129054  0.79937156 0.8083829  0.79643138 0.80994277\n",
      " 0.77250589 0.76503198 0.75898328 0.78149478 0.78148356 0.55221636\n",
      " 0.43655033 0.38812703 0.53998429 0.29502862]\n",
      "  category=UserWarning\n"
     ]
    },
    {
     "name": "stdout",
     "output_type": "stream",
     "text": [
      "{'algorithm': 'SAMME', 'learning_rate': 0.1, 'n_estimators': 150}\n",
      "0.826338233643811\n"
     ]
    }
   ],
   "source": [
    "grid_param = {\n",
    "    'n_estimators' : [100, 120, 150, 180, 200],\n",
    "    'learning_rate' : [0.01, 0.1, 1, 10],\n",
    "    'algorithm' : ['SAMME', 'SAMME.R']\n",
    "}\n",
    "\n",
    "ada = GridSearchCV(adb, grid_param, cv = 5, n_jobs = -1, verbose = True)\n",
    "ada.fit(x_train, y_train)\n",
    "print(ada.best_params_)\n",
    "print(ada.best_score_)"
   ]
  },
  {
   "cell_type": "code",
   "execution_count": 75,
   "id": "statistical-rebecca",
   "metadata": {
    "execution": {
     "iopub.execute_input": "2021-05-24T10:36:15.331107Z",
     "iopub.status.busy": "2021-05-24T10:36:15.330514Z",
     "iopub.status.idle": "2021-05-24T10:36:15.477141Z",
     "shell.execute_reply": "2021-05-24T10:36:15.476644Z"
    },
    "papermill": {
     "duration": 0.242094,
     "end_time": "2021-05-24T10:36:15.477283",
     "exception": false,
     "start_time": "2021-05-24T10:36:15.235189",
     "status": "completed"
    },
    "tags": []
   },
   "outputs": [],
   "source": [
    "adb = AdaBoostClassifier(n_estimators=100,\n",
    "                        learning_rate=0.01,\n",
    "                        algorithm='SAMME')\n",
    "adb.fit(x_train,y_train)\n",
    "pred7=adb.predict(x_test)"
   ]
  },
  {
   "cell_type": "markdown",
   "id": "optional-moldova",
   "metadata": {
    "papermill": {
     "duration": 0.086452,
     "end_time": "2021-05-24T10:36:15.650840",
     "exception": false,
     "start_time": "2021-05-24T10:36:15.564388",
     "status": "completed"
    },
    "tags": []
   },
   "source": [
    "<p style = \"font-size : 25px; color : #34656d ; font-family : 'Comic Sans MS'; text-align : center; background-color : lightgreen; border-radius: 5px 5px;\"><strong>Gradient Boosting</strong></p># GradientBoosting"
   ]
  },
  {
   "cell_type": "code",
   "execution_count": 76,
   "id": "pressed-championship",
   "metadata": {
    "execution": {
     "iopub.execute_input": "2021-05-24T10:36:15.831839Z",
     "iopub.status.busy": "2021-05-24T10:36:15.831252Z",
     "iopub.status.idle": "2021-05-24T10:36:15.933165Z",
     "shell.execute_reply": "2021-05-24T10:36:15.933602Z"
    },
    "papermill": {
     "duration": 0.196169,
     "end_time": "2021-05-24T10:36:15.933753",
     "exception": false,
     "start_time": "2021-05-24T10:36:15.737584",
     "status": "completed"
    },
    "tags": []
   },
   "outputs": [
    {
     "data": {
      "text/plain": [
       "0.905688622754491"
      ]
     },
     "execution_count": 76,
     "metadata": {},
     "output_type": "execute_result"
    }
   ],
   "source": [
    "from sklearn.ensemble import GradientBoostingClassifier\n",
    "\n",
    "gb = GradientBoostingClassifier()\n",
    "gb.fit(x_train, y_train)\n",
    "pred8=gb.predict(x_test)\n",
    "gb.score(x_train,y_train)"
   ]
  },
  {
   "cell_type": "markdown",
   "id": "accurate-championship",
   "metadata": {
    "papermill": {
     "duration": 0.131255,
     "end_time": "2021-05-24T10:36:16.152640",
     "exception": false,
     "start_time": "2021-05-24T10:36:16.021385",
     "status": "completed"
    },
    "tags": []
   },
   "source": [
    "<p style = \"font-size : 25px; color : #34656d ; font-family : 'Comic Sans MS'; text-align : center; background-color : lightgreen; border-radius: 5px 5px;\"><strong>LightGBM</strong></p>"
   ]
  },
  {
   "cell_type": "code",
   "execution_count": 77,
   "id": "included-semiconductor",
   "metadata": {
    "execution": {
     "iopub.execute_input": "2021-05-24T10:36:16.335252Z",
     "iopub.status.busy": "2021-05-24T10:36:16.334651Z",
     "iopub.status.idle": "2021-05-24T10:36:16.508230Z",
     "shell.execute_reply": "2021-05-24T10:36:16.508679Z"
    },
    "papermill": {
     "duration": 0.269737,
     "end_time": "2021-05-24T10:36:16.508868",
     "exception": false,
     "start_time": "2021-05-24T10:36:16.239131",
     "status": "completed"
    },
    "tags": []
   },
   "outputs": [
    {
     "data": {
      "text/plain": [
       "0.9535928143712575"
      ]
     },
     "execution_count": 77,
     "metadata": {},
     "output_type": "execute_result"
    }
   ],
   "source": [
    "import lightgbm as lgb\n",
    "lgbm= lgb.LGBMClassifier()\n",
    "lgbm.fit(x_train,y_train)\n",
    "lgbm.predict(x_test)\n",
    "lgbm.score(x_train,y_train)"
   ]
  },
  {
   "cell_type": "markdown",
   "id": "dangerous-avenue",
   "metadata": {
    "papermill": {
     "duration": 0.087428,
     "end_time": "2021-05-24T10:36:16.683514",
     "exception": false,
     "start_time": "2021-05-24T10:36:16.596086",
     "status": "completed"
    },
    "tags": []
   },
   "source": [
    "# Hyperparameter Tuning"
   ]
  },
  {
   "cell_type": "code",
   "execution_count": 78,
   "id": "internal-suicide",
   "metadata": {
    "execution": {
     "iopub.execute_input": "2021-05-24T10:36:16.863278Z",
     "iopub.status.busy": "2021-05-24T10:36:16.862440Z",
     "iopub.status.idle": "2021-05-24T10:36:16.865886Z",
     "shell.execute_reply": "2021-05-24T10:36:16.866319Z"
    },
    "papermill": {
     "duration": 0.095584,
     "end_time": "2021-05-24T10:36:16.866483",
     "exception": false,
     "start_time": "2021-05-24T10:36:16.770899",
     "status": "completed"
    },
    "tags": []
   },
   "outputs": [],
   "source": [
    "fit_params={\"early_stopping_rounds\":30, \n",
    "            \"eval_metric\" : 'auc', \n",
    "            \"eval_set\" : [(x_test,y_test)],\n",
    "            'eval_names': ['valid'],\n",
    "            'verbose': 100,\n",
    "            'categorical_feature': 'auto'}"
   ]
  },
  {
   "cell_type": "code",
   "execution_count": 79,
   "id": "published-invitation",
   "metadata": {
    "execution": {
     "iopub.execute_input": "2021-05-24T10:36:17.047066Z",
     "iopub.status.busy": "2021-05-24T10:36:17.046186Z",
     "iopub.status.idle": "2021-05-24T10:36:17.055065Z",
     "shell.execute_reply": "2021-05-24T10:36:17.055495Z"
    },
    "papermill": {
     "duration": 0.100058,
     "end_time": "2021-05-24T10:36:17.055663",
     "exception": false,
     "start_time": "2021-05-24T10:36:16.955605",
     "status": "completed"
    },
    "tags": []
   },
   "outputs": [],
   "source": [
    "from scipy.stats import randint as sp_randint\n",
    "from scipy.stats import uniform as sp_uniform\n",
    "param_test ={'num_leaves': sp_randint(6, 50), \n",
    "             'min_child_samples': sp_randint(50, 100), \n",
    "             'min_child_weight': [1e-5, 1e-3, 1e-2, 1e-1, 1, 1e1, 1e2, 1e3, 1e4],\n",
    "             'subsample': sp_uniform(loc=0.2, scale=0.8), \n",
    "             'colsample_bytree': sp_uniform(loc=0.4, scale=0.6),\n",
    "             'reg_alpha': [0, 1e-1, 1, 2, 5, 7, 10, 50, 100],\n",
    "             'reg_lambda': [0, 1e-1, 1, 5, 10, 20, 50, 100]}"
   ]
  },
  {
   "cell_type": "code",
   "execution_count": 80,
   "id": "apparent-possibility",
   "metadata": {
    "execution": {
     "iopub.execute_input": "2021-05-24T10:36:17.240509Z",
     "iopub.status.busy": "2021-05-24T10:36:17.239575Z",
     "iopub.status.idle": "2021-05-24T10:36:17.244635Z",
     "shell.execute_reply": "2021-05-24T10:36:17.245116Z"
    },
    "papermill": {
     "duration": 0.098053,
     "end_time": "2021-05-24T10:36:17.245285",
     "exception": false,
     "start_time": "2021-05-24T10:36:17.147232",
     "status": "completed"
    },
    "tags": []
   },
   "outputs": [],
   "source": [
    "from sklearn.model_selection import RandomizedSearchCV\n",
    "clf = lgb.LGBMClassifier(max_depth=-1, random_state=42, silent=True, metric='None', n_jobs=4, n_estimators=100)\n",
    "gs = RandomizedSearchCV(\n",
    "    estimator=clf, param_distributions=param_test, \n",
    "    n_iter=100,\n",
    "    scoring='roc_auc',\n",
    "    cv=3,\n",
    "    refit=True,\n",
    "    random_state=314,\n",
    "    verbose=True)"
   ]
  },
  {
   "cell_type": "code",
   "execution_count": 81,
   "id": "renewable-bishop",
   "metadata": {
    "execution": {
     "iopub.execute_input": "2021-05-24T10:36:17.426761Z",
     "iopub.status.busy": "2021-05-24T10:36:17.425910Z",
     "iopub.status.idle": "2021-05-24T10:36:24.153915Z",
     "shell.execute_reply": "2021-05-24T10:36:24.154707Z"
    },
    "papermill": {
     "duration": 6.819753,
     "end_time": "2021-05-24T10:36:24.154993",
     "exception": false,
     "start_time": "2021-05-24T10:36:17.335240",
     "status": "completed"
    },
    "tags": []
   },
   "outputs": [
    {
     "name": "stdout",
     "output_type": "stream",
     "text": [
      "Fitting 3 folds for each of 100 candidates, totalling 300 fits\n",
      "Training until validation scores don't improve for 30 rounds\n",
      "Early stopping, best iteration is:\n",
      "[17]\tvalid's auc: 0.857748\n",
      "Training until validation scores don't improve for 30 rounds\n",
      "Early stopping, best iteration is:\n",
      "[47]\tvalid's auc: 0.856364\n",
      "Training until validation scores don't improve for 30 rounds\n",
      "[100]\tvalid's auc: 0.854687\n",
      "Did not meet early stopping. Best iteration is:\n",
      "[92]\tvalid's auc: 0.862485\n",
      "Training until validation scores don't improve for 30 rounds\n",
      "Early stopping, best iteration is:\n",
      "[53]\tvalid's auc: 0.850914\n",
      "Training until validation scores don't improve for 30 rounds\n",
      "Early stopping, best iteration is:\n",
      "[19]\tvalid's auc: 0.846638\n",
      "Training until validation scores don't improve for 30 rounds\n",
      "Early stopping, best iteration is:\n",
      "[19]\tvalid's auc: 0.834312\n",
      "Training until validation scores don't improve for 30 rounds\n",
      "Early stopping, best iteration is:\n",
      "[1]\tvalid's auc: 0.5\n",
      "Training until validation scores don't improve for 30 rounds\n",
      "Early stopping, best iteration is:\n",
      "[1]\tvalid's auc: 0.5\n",
      "Training until validation scores don't improve for 30 rounds\n",
      "Early stopping, best iteration is:\n",
      "[1]\tvalid's auc: 0.5\n",
      "Training until validation scores don't improve for 30 rounds\n",
      "Early stopping, best iteration is:\n",
      "[1]\tvalid's auc: 0.5\n",
      "Training until validation scores don't improve for 30 rounds\n",
      "Early stopping, best iteration is:\n",
      "[1]\tvalid's auc: 0.5\n",
      "Training until validation scores don't improve for 30 rounds\n",
      "Early stopping, best iteration is:\n",
      "[1]\tvalid's auc: 0.5\n",
      "Training until validation scores don't improve for 30 rounds\n",
      "Early stopping, best iteration is:\n",
      "[1]\tvalid's auc: 0.5\n",
      "Training until validation scores don't improve for 30 rounds\n",
      "Early stopping, best iteration is:\n",
      "[1]\tvalid's auc: 0.5\n",
      "Training until validation scores don't improve for 30 rounds\n",
      "Early stopping, best iteration is:\n",
      "[1]\tvalid's auc: 0.5\n",
      "Training until validation scores don't improve for 30 rounds\n",
      "Early stopping, best iteration is:\n",
      "[18]\tvalid's auc: 0.859551\n",
      "Training until validation scores don't improve for 30 rounds\n",
      "Early stopping, best iteration is:\n",
      "[12]\tvalid's auc: 0.857706\n",
      "Training until validation scores don't improve for 30 rounds\n",
      "Early stopping, best iteration is:\n",
      "[50]\tvalid's auc: 0.86781\n",
      "Training until validation scores don't improve for 30 rounds\n",
      "Early stopping, best iteration is:\n",
      "[35]\tvalid's auc: 0.85649\n",
      "Training until validation scores don't improve for 30 rounds\n",
      "Early stopping, best iteration is:\n",
      "[59]\tvalid's auc: 0.869026\n",
      "Training until validation scores don't improve for 30 rounds\n",
      "[100]\tvalid's auc: 0.882819\n",
      "Did not meet early stopping. Best iteration is:\n",
      "[86]\tvalid's auc: 0.88437\n",
      "Training until validation scores don't improve for 30 rounds\n",
      "Early stopping, best iteration is:\n",
      "[7]\tvalid's auc: 0.854771\n",
      "Training until validation scores don't improve for 30 rounds\n",
      "Early stopping, best iteration is:\n",
      "[35]\tvalid's auc: 0.86324\n",
      "Training until validation scores don't improve for 30 rounds\n",
      "[100]\tvalid's auc: 0.866804\n",
      "Did not meet early stopping. Best iteration is:\n",
      "[98]\tvalid's auc: 0.866846\n",
      "Training until validation scores don't improve for 30 rounds\n",
      "Early stopping, best iteration is:\n",
      "[15]\tvalid's auc: 0.852256\n",
      "Training until validation scores don't improve for 30 rounds\n",
      "Early stopping, best iteration is:\n",
      "[13]\tvalid's auc: 0.855777\n",
      "Training until validation scores don't improve for 30 rounds\n",
      "Early stopping, best iteration is:\n",
      "[29]\tvalid's auc: 0.856029\n",
      "Training until validation scores don't improve for 30 rounds\n",
      "Early stopping, best iteration is:\n",
      "[65]\tvalid's auc: 0.851962\n",
      "Training until validation scores don't improve for 30 rounds\n",
      "Early stopping, best iteration is:\n",
      "[37]\tvalid's auc: 0.856406\n",
      "Training until validation scores don't improve for 30 rounds\n",
      "Early stopping, best iteration is:\n",
      "[30]\tvalid's auc: 0.85452\n",
      "Training until validation scores don't improve for 30 rounds\n",
      "Early stopping, best iteration is:\n",
      "[23]\tvalid's auc: 0.848566\n",
      "Training until validation scores don't improve for 30 rounds\n",
      "Early stopping, best iteration is:\n",
      "[30]\tvalid's auc: 0.853765\n",
      "Training until validation scores don't improve for 30 rounds\n",
      "Early stopping, best iteration is:\n",
      "[52]\tvalid's auc: 0.85192\n",
      "Training until validation scores don't improve for 30 rounds\n",
      "Early stopping, best iteration is:\n",
      "[36]\tvalid's auc: 0.856364\n",
      "Training until validation scores don't improve for 30 rounds\n",
      "Early stopping, best iteration is:\n",
      "[20]\tvalid's auc: 0.866217\n",
      "Training until validation scores don't improve for 30 rounds\n",
      "[100]\tvalid's auc: 0.866636\n",
      "Did not meet early stopping. Best iteration is:\n",
      "[100]\tvalid's auc: 0.866636\n",
      "Training until validation scores don't improve for 30 rounds\n",
      "[100]\tvalid's auc: 0.85301\n",
      "Did not meet early stopping. Best iteration is:\n",
      "[73]\tvalid's auc: 0.854268\n",
      "Training until validation scores don't improve for 30 rounds\n",
      "Early stopping, best iteration is:\n",
      "[61]\tvalid's auc: 0.866762\n",
      "Training until validation scores don't improve for 30 rounds\n",
      "[100]\tvalid's auc: 0.872547\n",
      "Did not meet early stopping. Best iteration is:\n",
      "[93]\tvalid's auc: 0.873218\n",
      "Training until validation scores don't improve for 30 rounds\n",
      "Early stopping, best iteration is:\n",
      "[1]\tvalid's auc: 0.5\n",
      "Training until validation scores don't improve for 30 rounds\n",
      "Early stopping, best iteration is:\n",
      "[1]\tvalid's auc: 0.5\n",
      "Training until validation scores don't improve for 30 rounds\n",
      "Early stopping, best iteration is:\n",
      "[1]\tvalid's auc: 0.5\n",
      "Training until validation scores don't improve for 30 rounds\n",
      "Early stopping, best iteration is:\n",
      "[1]\tvalid's auc: 0.5\n",
      "Training until validation scores don't improve for 30 rounds\n",
      "Early stopping, best iteration is:\n",
      "[1]\tvalid's auc: 0.5\n",
      "Training until validation scores don't improve for 30 rounds\n",
      "Early stopping, best iteration is:\n",
      "[1]\tvalid's auc: 0.5\n",
      "Training until validation scores don't improve for 30 rounds\n",
      "Early stopping, best iteration is:\n",
      "[30]\tvalid's auc: 0.850537\n",
      "Training until validation scores don't improve for 30 rounds\n",
      "Early stopping, best iteration is:\n",
      "[13]\tvalid's auc: 0.85628\n",
      "Training until validation scores don't improve for 30 rounds\n",
      "Early stopping, best iteration is:\n",
      "[12]\tvalid's auc: 0.850034\n",
      "Training until validation scores don't improve for 30 rounds\n",
      "Early stopping, best iteration is:\n",
      "[1]\tvalid's auc: 0.5\n",
      "Training until validation scores don't improve for 30 rounds\n",
      "Early stopping, best iteration is:\n",
      "[1]\tvalid's auc: 0.5\n",
      "Training until validation scores don't improve for 30 rounds\n",
      "Early stopping, best iteration is:\n",
      "[1]\tvalid's auc: 0.5\n",
      "Training until validation scores don't improve for 30 rounds\n",
      "Early stopping, best iteration is:\n",
      "[20]\tvalid's auc: 0.848566\n",
      "Training until validation scores don't improve for 30 rounds\n",
      "[100]\tvalid's auc: 0.849698\n",
      "Did not meet early stopping. Best iteration is:\n",
      "[75]\tvalid's auc: 0.854645\n",
      "Training until validation scores don't improve for 30 rounds\n",
      "Early stopping, best iteration is:\n",
      "[54]\tvalid's auc: 0.853262\n",
      "Training until validation scores don't improve for 30 rounds\n",
      "Early stopping, best iteration is:\n",
      "[1]\tvalid's auc: 0.5\n",
      "Training until validation scores don't improve for 30 rounds\n",
      "Early stopping, best iteration is:\n",
      "[1]\tvalid's auc: 0.5\n",
      "Training until validation scores don't improve for 30 rounds\n",
      "Early stopping, best iteration is:\n",
      "[1]\tvalid's auc: 0.5\n",
      "Training until validation scores don't improve for 30 rounds\n",
      "Early stopping, best iteration is:\n",
      "[28]\tvalid's auc: 0.856197\n",
      "Training until validation scores don't improve for 30 rounds\n",
      "[100]\tvalid's auc: 0.860724\n",
      "Did not meet early stopping. Best iteration is:\n",
      "[82]\tvalid's auc: 0.864246\n",
      "Training until validation scores don't improve for 30 rounds\n",
      "[100]\tvalid's auc: 0.875273\n",
      "Did not meet early stopping. Best iteration is:\n",
      "[81]\tvalid's auc: 0.880262\n",
      "Training until validation scores don't improve for 30 rounds\n",
      "Early stopping, best iteration is:\n",
      "[1]\tvalid's auc: 0.5\n",
      "Training until validation scores don't improve for 30 rounds\n",
      "Early stopping, best iteration is:\n",
      "[1]\tvalid's auc: 0.5\n",
      "Training until validation scores don't improve for 30 rounds\n",
      "Early stopping, best iteration is:\n",
      "[1]\tvalid's auc: 0.5\n",
      "Training until validation scores don't improve for 30 rounds\n",
      "Early stopping, best iteration is:\n",
      "[29]\tvalid's auc: 0.852591\n",
      "Training until validation scores don't improve for 30 rounds\n",
      "Early stopping, best iteration is:\n",
      "[14]\tvalid's auc: 0.854981\n",
      "Training until validation scores don't improve for 30 rounds\n",
      "Early stopping, best iteration is:\n",
      "[22]\tvalid's auc: 0.857832\n",
      "Training until validation scores don't improve for 30 rounds\n",
      "Early stopping, best iteration is:\n",
      "[1]\tvalid's auc: 0.5\n",
      "Training until validation scores don't improve for 30 rounds\n",
      "Early stopping, best iteration is:\n",
      "[1]\tvalid's auc: 0.5\n",
      "Training until validation scores don't improve for 30 rounds\n",
      "Early stopping, best iteration is:\n",
      "[1]\tvalid's auc: 0.5\n",
      "Training until validation scores don't improve for 30 rounds\n",
      "Early stopping, best iteration is:\n",
      "[11]\tvalid's auc: 0.850285\n",
      "Training until validation scores don't improve for 30 rounds\n",
      "Early stopping, best iteration is:\n",
      "[63]\tvalid's auc: 0.863072\n",
      "Training until validation scores don't improve for 30 rounds\n",
      "Early stopping, best iteration is:\n",
      "[34]\tvalid's auc: 0.858796\n",
      "Training until validation scores don't improve for 30 rounds\n",
      "Early stopping, best iteration is:\n",
      "[7]\tvalid's auc: 0.851543\n",
      "Training until validation scores don't improve for 30 rounds\n",
      "Early stopping, best iteration is:\n",
      "[18]\tvalid's auc: 0.853849\n",
      "Training until validation scores don't improve for 30 rounds\n",
      "Early stopping, best iteration is:\n",
      "[5]\tvalid's auc: 0.850662\n",
      "Training until validation scores don't improve for 30 rounds\n",
      "Early stopping, best iteration is:\n",
      "[1]\tvalid's auc: 0.5\n",
      "Training until validation scores don't improve for 30 rounds\n",
      "Early stopping, best iteration is:\n",
      "[1]\tvalid's auc: 0.5\n",
      "Training until validation scores don't improve for 30 rounds\n",
      "Early stopping, best iteration is:\n",
      "[1]\tvalid's auc: 0.5\n",
      "Training until validation scores don't improve for 30 rounds\n",
      "Early stopping, best iteration is:\n",
      "[5]\tvalid's auc: 0.85104\n",
      "Training until validation scores don't improve for 30 rounds\n",
      "Early stopping, best iteration is:\n",
      "[12]\tvalid's auc: 0.8541\n",
      "Training until validation scores don't improve for 30 rounds\n",
      "Early stopping, best iteration is:\n",
      "[41]\tvalid's auc: 0.856155\n",
      "Training until validation scores don't improve for 30 rounds\n",
      "Early stopping, best iteration is:\n",
      "[11]\tvalid's auc: 0.846302\n",
      "Training until validation scores don't improve for 30 rounds\n",
      "Early stopping, best iteration is:\n",
      "[26]\tvalid's auc: 0.854981\n",
      "Training until validation scores don't improve for 30 rounds\n",
      "Early stopping, best iteration is:\n",
      "[11]\tvalid's auc: 0.852633\n",
      "Training until validation scores don't improve for 30 rounds\n",
      "Early stopping, best iteration is:\n",
      "[15]\tvalid's auc: 0.851082\n",
      "Training until validation scores don't improve for 30 rounds\n",
      "Early stopping, best iteration is:\n",
      "[59]\tvalid's auc: 0.855484\n",
      "Training until validation scores don't improve for 30 rounds\n",
      "Early stopping, best iteration is:\n",
      "[46]\tvalid's auc: 0.853933\n",
      "Training until validation scores don't improve for 30 rounds\n",
      "Early stopping, best iteration is:\n",
      "[1]\tvalid's auc: 0.771843\n",
      "Training until validation scores don't improve for 30 rounds\n",
      "Early stopping, best iteration is:\n",
      "[1]\tvalid's auc: 0.771843\n",
      "Training until validation scores don't improve for 30 rounds\n",
      "Early stopping, best iteration is:\n",
      "[1]\tvalid's auc: 0.771843\n",
      "Training until validation scores don't improve for 30 rounds\n",
      "Early stopping, best iteration is:\n",
      "[1]\tvalid's auc: 0.5\n",
      "Training until validation scores don't improve for 30 rounds\n",
      "Early stopping, best iteration is:\n",
      "[1]\tvalid's auc: 0.5\n",
      "Training until validation scores don't improve for 30 rounds\n",
      "Early stopping, best iteration is:\n",
      "[1]\tvalid's auc: 0.5\n",
      "Training until validation scores don't improve for 30 rounds\n",
      "Early stopping, best iteration is:\n",
      "[30]\tvalid's auc: 0.853136\n",
      "Training until validation scores don't improve for 30 rounds\n",
      "Early stopping, best iteration is:\n",
      "[18]\tvalid's auc: 0.85997\n",
      "Training until validation scores don't improve for 30 rounds\n",
      "Early stopping, best iteration is:\n",
      "[39]\tvalid's auc: 0.866049\n",
      "Training until validation scores don't improve for 30 rounds\n",
      "Early stopping, best iteration is:\n",
      "[29]\tvalid's auc: 0.854268\n",
      "Training until validation scores don't improve for 30 rounds\n",
      "Early stopping, best iteration is:\n",
      "[49]\tvalid's auc: 0.853052\n",
      "Training until validation scores don't improve for 30 rounds\n",
      "Early stopping, best iteration is:\n",
      "[9]\tvalid's auc: 0.851627\n",
      "Training until validation scores don't improve for 30 rounds\n",
      "Early stopping, best iteration is:\n",
      "[1]\tvalid's auc: 0.5\n",
      "Training until validation scores don't improve for 30 rounds\n",
      "Early stopping, best iteration is:\n",
      "[1]\tvalid's auc: 0.5\n",
      "Training until validation scores don't improve for 30 rounds\n",
      "Early stopping, best iteration is:\n",
      "[1]\tvalid's auc: 0.5\n",
      "Training until validation scores don't improve for 30 rounds\n",
      "Early stopping, best iteration is:\n",
      "[1]\tvalid's auc: 0.5\n",
      "Training until validation scores don't improve for 30 rounds\n",
      "Early stopping, best iteration is:\n",
      "[1]\tvalid's auc: 0.5\n",
      "Training until validation scores don't improve for 30 rounds\n",
      "Early stopping, best iteration is:\n",
      "[1]\tvalid's auc: 0.5\n",
      "Training until validation scores don't improve for 30 rounds\n",
      "Early stopping, best iteration is:\n",
      "[15]\tvalid's auc: 0.856783\n",
      "Training until validation scores don't improve for 30 rounds\n",
      "Early stopping, best iteration is:\n",
      "[31]\tvalid's auc: 0.853346\n",
      "Training until validation scores don't improve for 30 rounds\n",
      "Early stopping, best iteration is:\n",
      "[24]\tvalid's auc: 0.850788\n",
      "Training until validation scores don't improve for 30 rounds\n",
      "Early stopping, best iteration is:\n",
      "[3]\tvalid's auc: 0.850662\n",
      "Training until validation scores don't improve for 30 rounds\n",
      "Early stopping, best iteration is:\n",
      "[36]\tvalid's auc: 0.862276\n",
      "Training until validation scores don't improve for 30 rounds\n",
      "Early stopping, best iteration is:\n",
      "[38]\tvalid's auc: 0.867768\n",
      "Training until validation scores don't improve for 30 rounds\n",
      "Early stopping, best iteration is:\n",
      "[1]\tvalid's auc: 0.5\n",
      "Training until validation scores don't improve for 30 rounds\n",
      "Early stopping, best iteration is:\n",
      "[1]\tvalid's auc: 0.5\n",
      "Training until validation scores don't improve for 30 rounds\n",
      "Early stopping, best iteration is:\n",
      "[1]\tvalid's auc: 0.5\n",
      "Training until validation scores don't improve for 30 rounds\n",
      "Early stopping, best iteration is:\n",
      "[1]\tvalid's auc: 0.5\n",
      "Training until validation scores don't improve for 30 rounds\n",
      "Early stopping, best iteration is:\n",
      "[1]\tvalid's auc: 0.5\n",
      "Training until validation scores don't improve for 30 rounds\n",
      "Early stopping, best iteration is:\n",
      "[1]\tvalid's auc: 0.5\n",
      "Training until validation scores don't improve for 30 rounds\n",
      "Early stopping, best iteration is:\n",
      "[22]\tvalid's auc: 0.854603\n",
      "Training until validation scores don't improve for 30 rounds\n",
      "Early stopping, best iteration is:\n",
      "[48]\tvalid's auc: 0.866007\n",
      "Training until validation scores don't improve for 30 rounds\n",
      "[100]\tvalid's auc: 0.865714\n",
      "Did not meet early stopping. Best iteration is:\n",
      "[96]\tvalid's auc: 0.866175\n",
      "Training until validation scores don't improve for 30 rounds\n",
      "Early stopping, best iteration is:\n",
      "[13]\tvalid's auc: 0.848902\n",
      "Training until validation scores don't improve for 30 rounds\n",
      "Early stopping, best iteration is:\n",
      "[45]\tvalid's auc: 0.852884\n",
      "Training until validation scores don't improve for 30 rounds\n",
      "Early stopping, best iteration is:\n",
      "[27]\tvalid's auc: 0.851585\n",
      "Training until validation scores don't improve for 30 rounds\n",
      "Early stopping, best iteration is:\n",
      "[6]\tvalid's auc: 0.855484\n",
      "Training until validation scores don't improve for 30 rounds\n",
      "Early stopping, best iteration is:\n",
      "[18]\tvalid's auc: 0.862821\n",
      "Training until validation scores don't improve for 30 rounds\n",
      "Early stopping, best iteration is:\n",
      "[33]\tvalid's auc: 0.857915\n",
      "Training until validation scores don't improve for 30 rounds\n",
      "Early stopping, best iteration is:\n",
      "[1]\tvalid's auc: 0.5\n",
      "Training until validation scores don't improve for 30 rounds\n",
      "Early stopping, best iteration is:\n",
      "[1]\tvalid's auc: 0.5\n",
      "Training until validation scores don't improve for 30 rounds\n",
      "Early stopping, best iteration is:\n",
      "[1]\tvalid's auc: 0.5\n",
      "Training until validation scores don't improve for 30 rounds\n",
      "Early stopping, best iteration is:\n",
      "[9]\tvalid's auc: 0.861521\n",
      "Training until validation scores don't improve for 30 rounds\n",
      "Early stopping, best iteration is:\n",
      "[15]\tvalid's auc: 0.854687\n",
      "Training until validation scores don't improve for 30 rounds\n",
      "Early stopping, best iteration is:\n",
      "[13]\tvalid's auc: 0.868103\n",
      "Training until validation scores don't improve for 30 rounds\n",
      "Early stopping, best iteration is:\n",
      "[3]\tvalid's auc: 0.85104\n",
      "Training until validation scores don't improve for 30 rounds\n",
      "Early stopping, best iteration is:\n",
      "[22]\tvalid's auc: 0.85431\n",
      "Training until validation scores don't improve for 30 rounds\n",
      "Early stopping, best iteration is:\n",
      "[41]\tvalid's auc: 0.855065\n",
      "Training until validation scores don't improve for 30 rounds\n",
      "Early stopping, best iteration is:\n",
      "[1]\tvalid's auc: 0.5\n",
      "Training until validation scores don't improve for 30 rounds\n",
      "Early stopping, best iteration is:\n",
      "[1]\tvalid's auc: 0.5\n",
      "Training until validation scores don't improve for 30 rounds\n",
      "Early stopping, best iteration is:\n",
      "[1]\tvalid's auc: 0.5\n",
      "Training until validation scores don't improve for 30 rounds\n",
      "Early stopping, best iteration is:\n",
      "[1]\tvalid's auc: 0.5\n",
      "Training until validation scores don't improve for 30 rounds\n",
      "Early stopping, best iteration is:\n",
      "[1]\tvalid's auc: 0.5\n",
      "Training until validation scores don't improve for 30 rounds\n",
      "Early stopping, best iteration is:\n",
      "[1]\tvalid's auc: 0.5\n",
      "Training until validation scores don't improve for 30 rounds\n",
      "Early stopping, best iteration is:\n",
      "[1]\tvalid's auc: 0.771843\n",
      "Training until validation scores don't improve for 30 rounds\n",
      "Early stopping, best iteration is:\n",
      "[1]\tvalid's auc: 0.771843\n",
      "Training until validation scores don't improve for 30 rounds\n",
      "Early stopping, best iteration is:\n",
      "[1]\tvalid's auc: 0.771843\n",
      "Training until validation scores don't improve for 30 rounds\n",
      "Early stopping, best iteration is:\n",
      "[40]\tvalid's auc: 0.856616\n",
      "Training until validation scores don't improve for 30 rounds\n",
      "Early stopping, best iteration is:\n",
      "[18]\tvalid's auc: 0.864204\n",
      "Training until validation scores don't improve for 30 rounds\n",
      "Early stopping, best iteration is:\n",
      "[13]\tvalid's auc: 0.867768\n",
      "Training until validation scores don't improve for 30 rounds\n",
      "Early stopping, best iteration is:\n",
      "[1]\tvalid's auc: 0.5\n",
      "Training until validation scores don't improve for 30 rounds\n",
      "Early stopping, best iteration is:\n",
      "[1]\tvalid's auc: 0.5\n",
      "Training until validation scores don't improve for 30 rounds\n",
      "Early stopping, best iteration is:\n",
      "[1]\tvalid's auc: 0.5\n",
      "Training until validation scores don't improve for 30 rounds\n",
      "Early stopping, best iteration is:\n",
      "[1]\tvalid's auc: 0.5\n",
      "Training until validation scores don't improve for 30 rounds\n",
      "Early stopping, best iteration is:\n",
      "[1]\tvalid's auc: 0.5\n",
      "Training until validation scores don't improve for 30 rounds\n",
      "Early stopping, best iteration is:\n",
      "[1]\tvalid's auc: 0.5\n",
      "Training until validation scores don't improve for 30 rounds\n",
      "Early stopping, best iteration is:\n",
      "[19]\tvalid's auc: 0.855442\n",
      "Training until validation scores don't improve for 30 rounds\n",
      "Early stopping, best iteration is:\n",
      "[46]\tvalid's auc: 0.866133\n",
      "Training until validation scores don't improve for 30 rounds\n",
      "Early stopping, best iteration is:\n",
      "[59]\tvalid's auc: 0.873763\n",
      "Training until validation scores don't improve for 30 rounds\n",
      "Early stopping, best iteration is:\n",
      "[1]\tvalid's auc: 0.771843\n",
      "Training until validation scores don't improve for 30 rounds\n",
      "Early stopping, best iteration is:\n",
      "[1]\tvalid's auc: 0.771843\n",
      "Training until validation scores don't improve for 30 rounds\n",
      "Early stopping, best iteration is:\n",
      "[1]\tvalid's auc: 0.771843\n",
      "Training until validation scores don't improve for 30 rounds\n",
      "Early stopping, best iteration is:\n",
      "[26]\tvalid's auc: 0.848902\n",
      "Training until validation scores don't improve for 30 rounds\n",
      "Early stopping, best iteration is:\n",
      "[57]\tvalid's auc: 0.853765\n",
      "Training until validation scores don't improve for 30 rounds\n",
      "Early stopping, best iteration is:\n",
      "[21]\tvalid's auc: 0.850453\n",
      "Training until validation scores don't improve for 30 rounds\n",
      "Early stopping, best iteration is:\n",
      "[1]\tvalid's auc: 0.5\n",
      "Training until validation scores don't improve for 30 rounds\n",
      "Early stopping, best iteration is:\n",
      "[1]\tvalid's auc: 0.5\n",
      "Training until validation scores don't improve for 30 rounds\n",
      "Early stopping, best iteration is:\n",
      "[1]\tvalid's auc: 0.5\n",
      "Training until validation scores don't improve for 30 rounds\n",
      "Early stopping, best iteration is:\n",
      "[1]\tvalid's auc: 0.5\n",
      "Training until validation scores don't improve for 30 rounds\n",
      "Early stopping, best iteration is:\n",
      "[1]\tvalid's auc: 0.5\n",
      "Training until validation scores don't improve for 30 rounds\n",
      "Early stopping, best iteration is:\n",
      "[1]\tvalid's auc: 0.5\n",
      "Training until validation scores don't improve for 30 rounds\n",
      "Early stopping, best iteration is:\n",
      "[1]\tvalid's auc: 0.771843\n",
      "Training until validation scores don't improve for 30 rounds\n",
      "Early stopping, best iteration is:\n",
      "[1]\tvalid's auc: 0.771843\n",
      "Training until validation scores don't improve for 30 rounds\n",
      "Early stopping, best iteration is:\n",
      "[1]\tvalid's auc: 0.771843\n",
      "Training until validation scores don't improve for 30 rounds\n",
      "Early stopping, best iteration is:\n",
      "[17]\tvalid's auc: 0.869613\n",
      "Training until validation scores don't improve for 30 rounds\n",
      "Early stopping, best iteration is:\n",
      "[41]\tvalid's auc: 0.866384\n",
      "Training until validation scores don't improve for 30 rounds\n",
      "[100]\tvalid's auc: 0.877788\n",
      "Did not meet early stopping. Best iteration is:\n",
      "[98]\tvalid's auc: 0.878207\n",
      "Training until validation scores don't improve for 30 rounds\n",
      "Early stopping, best iteration is:\n",
      "[28]\tvalid's auc: 0.856322\n",
      "Training until validation scores don't improve for 30 rounds\n",
      "[100]\tvalid's auc: 0.859592\n",
      "Did not meet early stopping. Best iteration is:\n",
      "[91]\tvalid's auc: 0.860347\n",
      "Training until validation scores don't improve for 30 rounds\n",
      "Early stopping, best iteration is:\n",
      "[26]\tvalid's auc: 0.874476\n",
      "Training until validation scores don't improve for 30 rounds\n",
      "Early stopping, best iteration is:\n",
      "[1]\tvalid's auc: 0.5\n",
      "Training until validation scores don't improve for 30 rounds\n",
      "Early stopping, best iteration is:\n",
      "[1]\tvalid's auc: 0.5\n",
      "Training until validation scores don't improve for 30 rounds\n",
      "Early stopping, best iteration is:\n",
      "[1]\tvalid's auc: 0.5\n",
      "Training until validation scores don't improve for 30 rounds\n",
      "Early stopping, best iteration is:\n",
      "[5]\tvalid's auc: 0.850662\n",
      "Training until validation scores don't improve for 30 rounds\n",
      "Early stopping, best iteration is:\n",
      "[18]\tvalid's auc: 0.853849\n",
      "Training until validation scores don't improve for 30 rounds\n",
      "Early stopping, best iteration is:\n",
      "[27]\tvalid's auc: 0.853597\n",
      "Training until validation scores don't improve for 30 rounds\n",
      "Early stopping, best iteration is:\n",
      "[27]\tvalid's auc: 0.854729\n",
      "Training until validation scores don't improve for 30 rounds\n",
      "Early stopping, best iteration is:\n",
      "[34]\tvalid's auc: 0.865797\n",
      "Training until validation scores don't improve for 30 rounds\n",
      "[100]\tvalid's auc: 0.860892\n",
      "Did not meet early stopping. Best iteration is:\n",
      "[98]\tvalid's auc: 0.861731\n",
      "Training until validation scores don't improve for 30 rounds\n",
      "Early stopping, best iteration is:\n",
      "[43]\tvalid's auc: 0.857874\n",
      "Training until validation scores don't improve for 30 rounds\n",
      "[100]\tvalid's auc: 0.859341\n",
      "Did not meet early stopping. Best iteration is:\n",
      "[100]\tvalid's auc: 0.859341\n",
      "Training until validation scores don't improve for 30 rounds\n",
      "[100]\tvalid's auc: 0.874769\n",
      "Did not meet early stopping. Best iteration is:\n",
      "[96]\tvalid's auc: 0.875566\n",
      "Training until validation scores don't improve for 30 rounds\n",
      "Early stopping, best iteration is:\n",
      "[13]\tvalid's auc: 0.866678\n",
      "Training until validation scores don't improve for 30 rounds\n",
      "Early stopping, best iteration is:\n",
      "[49]\tvalid's auc: 0.869068\n",
      "Training until validation scores don't improve for 30 rounds\n",
      "[100]\tvalid's auc: 0.886718\n",
      "Did not meet early stopping. Best iteration is:\n",
      "[98]\tvalid's auc: 0.887934\n",
      "Training until validation scores don't improve for 30 rounds\n",
      "Early stopping, best iteration is:\n",
      "[8]\tvalid's auc: 0.85649\n",
      "Training until validation scores don't improve for 30 rounds\n",
      "Early stopping, best iteration is:\n",
      "[25]\tvalid's auc: 0.86454\n",
      "Training until validation scores don't improve for 30 rounds\n",
      "[100]\tvalid's auc: 0.873554\n",
      "Did not meet early stopping. Best iteration is:\n",
      "[97]\tvalid's auc: 0.873889\n",
      "Training until validation scores don't improve for 30 rounds\n",
      "Early stopping, best iteration is:\n",
      "[30]\tvalid's auc: 0.851124\n",
      "Training until validation scores don't improve for 30 rounds\n",
      "Early stopping, best iteration is:\n",
      "[38]\tvalid's auc: 0.856322\n",
      "Training until validation scores don't improve for 30 rounds\n",
      "Early stopping, best iteration is:\n",
      "[35]\tvalid's auc: 0.857287\n",
      "Training until validation scores don't improve for 30 rounds\n",
      "Early stopping, best iteration is:\n",
      "[1]\tvalid's auc: 0.5\n",
      "Training until validation scores don't improve for 30 rounds\n",
      "Early stopping, best iteration is:\n",
      "[1]\tvalid's auc: 0.5\n",
      "Training until validation scores don't improve for 30 rounds\n",
      "Early stopping, best iteration is:\n",
      "[1]\tvalid's auc: 0.5\n",
      "Training until validation scores don't improve for 30 rounds\n",
      "Early stopping, best iteration is:\n",
      "[8]\tvalid's auc: 0.857622\n",
      "Training until validation scores don't improve for 30 rounds\n",
      "Early stopping, best iteration is:\n",
      "[13]\tvalid's auc: 0.861731\n",
      "Training until validation scores don't improve for 30 rounds\n",
      "Early stopping, best iteration is:\n",
      "[13]\tvalid's auc: 0.86672\n",
      "Training until validation scores don't improve for 30 rounds\n",
      "Early stopping, best iteration is:\n",
      "[21]\tvalid's auc: 0.851207\n",
      "Training until validation scores don't improve for 30 rounds\n",
      "Early stopping, best iteration is:\n",
      "[65]\tvalid's auc: 0.859718\n",
      "Training until validation scores don't improve for 30 rounds\n",
      "Early stopping, best iteration is:\n",
      "[14]\tvalid's auc: 0.849279\n",
      "Training until validation scores don't improve for 30 rounds\n",
      "Early stopping, best iteration is:\n",
      "[18]\tvalid's auc: 0.858209\n",
      "Training until validation scores don't improve for 30 rounds\n",
      "Early stopping, best iteration is:\n",
      "[22]\tvalid's auc: 0.86781\n",
      "Training until validation scores don't improve for 30 rounds\n",
      "[100]\tvalid's auc: 0.869361\n",
      "Did not meet early stopping. Best iteration is:\n",
      "[96]\tvalid's auc: 0.86978\n",
      "Training until validation scores don't improve for 30 rounds\n",
      "Early stopping, best iteration is:\n",
      "[22]\tvalid's auc: 0.853262\n",
      "Training until validation scores don't improve for 30 rounds\n",
      "Early stopping, best iteration is:\n",
      "[9]\tvalid's auc: 0.859257\n",
      "Training until validation scores don't improve for 30 rounds\n",
      "Early stopping, best iteration is:\n",
      "[57]\tvalid's auc: 0.862234\n",
      "Training until validation scores don't improve for 30 rounds\n",
      "Early stopping, best iteration is:\n",
      "[1]\tvalid's auc: 0.771843\n",
      "Training until validation scores don't improve for 30 rounds\n",
      "Early stopping, best iteration is:\n",
      "[1]\tvalid's auc: 0.771843\n",
      "Training until validation scores don't improve for 30 rounds\n",
      "Early stopping, best iteration is:\n",
      "[1]\tvalid's auc: 0.771843\n",
      "Training until validation scores don't improve for 30 rounds\n",
      "Early stopping, best iteration is:\n",
      "[1]\tvalid's auc: 0.5\n",
      "Training until validation scores don't improve for 30 rounds\n",
      "Early stopping, best iteration is:\n",
      "[1]\tvalid's auc: 0.5\n",
      "Training until validation scores don't improve for 30 rounds\n",
      "Early stopping, best iteration is:\n",
      "[1]\tvalid's auc: 0.5\n",
      "Training until validation scores don't improve for 30 rounds\n",
      "Early stopping, best iteration is:\n",
      "[1]\tvalid's auc: 0.5\n",
      "Training until validation scores don't improve for 30 rounds\n",
      "Early stopping, best iteration is:\n",
      "[1]\tvalid's auc: 0.5\n",
      "Training until validation scores don't improve for 30 rounds\n",
      "Early stopping, best iteration is:\n",
      "[1]\tvalid's auc: 0.5\n",
      "Training until validation scores don't improve for 30 rounds\n",
      "Early stopping, best iteration is:\n",
      "[1]\tvalid's auc: 0.5\n",
      "Training until validation scores don't improve for 30 rounds\n",
      "Early stopping, best iteration is:\n",
      "[1]\tvalid's auc: 0.5\n",
      "Training until validation scores don't improve for 30 rounds\n",
      "Early stopping, best iteration is:\n",
      "[1]\tvalid's auc: 0.5\n",
      "Training until validation scores don't improve for 30 rounds\n",
      "Early stopping, best iteration is:\n",
      "[3]\tvalid's auc: 0.850662\n",
      "Training until validation scores don't improve for 30 rounds\n",
      "Early stopping, best iteration is:\n",
      "[45]\tvalid's auc: 0.857287\n",
      "Training until validation scores don't improve for 30 rounds\n",
      "[100]\tvalid's auc: 0.867139\n",
      "Did not meet early stopping. Best iteration is:\n",
      "[98]\tvalid's auc: 0.867433\n",
      "Training until validation scores don't improve for 30 rounds\n",
      "Early stopping, best iteration is:\n",
      "[23]\tvalid's auc: 0.852759\n",
      "Training until validation scores don't improve for 30 rounds\n",
      "Early stopping, best iteration is:\n",
      "[9]\tvalid's auc: 0.85628\n",
      "Training until validation scores don't improve for 30 rounds\n",
      "Early stopping, best iteration is:\n",
      "[12]\tvalid's auc: 0.84953\n",
      "Training until validation scores don't improve for 30 rounds\n",
      "Early stopping, best iteration is:\n",
      "[1]\tvalid's auc: 0.5\n",
      "Training until validation scores don't improve for 30 rounds\n",
      "Early stopping, best iteration is:\n",
      "[1]\tvalid's auc: 0.5\n",
      "Training until validation scores don't improve for 30 rounds\n",
      "Early stopping, best iteration is:\n",
      "[1]\tvalid's auc: 0.5\n",
      "Training until validation scores don't improve for 30 rounds\n",
      "Early stopping, best iteration is:\n",
      "[30]\tvalid's auc: 0.850662\n",
      "Training until validation scores don't improve for 30 rounds\n",
      "Early stopping, best iteration is:\n",
      "[46]\tvalid's auc: 0.850159\n",
      "Training until validation scores don't improve for 30 rounds\n",
      "Early stopping, best iteration is:\n",
      "[55]\tvalid's auc: 0.849572\n",
      "Training until validation scores don't improve for 30 rounds\n",
      "Early stopping, best iteration is:\n",
      "[31]\tvalid's auc: 0.856783\n",
      "Training until validation scores don't improve for 30 rounds\n",
      "Early stopping, best iteration is:\n",
      "[44]\tvalid's auc: 0.846721\n",
      "Training until validation scores don't improve for 30 rounds\n",
      "[100]\tvalid's auc: 0.863575\n",
      "Did not meet early stopping. Best iteration is:\n",
      "[98]\tvalid's auc: 0.863575\n",
      "Training until validation scores don't improve for 30 rounds\n",
      "Early stopping, best iteration is:\n",
      "[1]\tvalid's auc: 0.771843\n",
      "Training until validation scores don't improve for 30 rounds\n",
      "Early stopping, best iteration is:\n",
      "[1]\tvalid's auc: 0.771843\n",
      "Training until validation scores don't improve for 30 rounds\n",
      "Early stopping, best iteration is:\n",
      "[1]\tvalid's auc: 0.771843\n",
      "Training until validation scores don't improve for 30 rounds\n",
      "Early stopping, best iteration is:\n",
      "[23]\tvalid's auc: 0.859215\n",
      "Training until validation scores don't improve for 30 rounds\n",
      "[100]\tvalid's auc: 0.860766\n",
      "Did not meet early stopping. Best iteration is:\n",
      "[97]\tvalid's auc: 0.861353\n",
      "Training until validation scores don't improve for 30 rounds\n",
      "[100]\tvalid's auc: 0.878333\n",
      "Did not meet early stopping. Best iteration is:\n",
      "[100]\tvalid's auc: 0.878333\n",
      "Training until validation scores don't improve for 30 rounds\n",
      "Early stopping, best iteration is:\n",
      "[60]\tvalid's auc: 0.855442\n",
      "Training until validation scores don't improve for 30 rounds\n",
      "Early stopping, best iteration is:\n",
      "[39]\tvalid's auc: 0.855819\n",
      "Training until validation scores don't improve for 30 rounds\n",
      "Early stopping, best iteration is:\n",
      "[8]\tvalid's auc: 0.853471\n",
      "Training until validation scores don't improve for 30 rounds\n",
      "Early stopping, best iteration is:\n",
      "[1]\tvalid's auc: 0.5\n",
      "Training until validation scores don't improve for 30 rounds\n",
      "Early stopping, best iteration is:\n",
      "[1]\tvalid's auc: 0.5\n",
      "Training until validation scores don't improve for 30 rounds\n",
      "Early stopping, best iteration is:\n",
      "[1]\tvalid's auc: 0.5\n",
      "Training until validation scores don't improve for 30 rounds\n",
      "Early stopping, best iteration is:\n",
      "[11]\tvalid's auc: 0.850285\n",
      "Training until validation scores don't improve for 30 rounds\n",
      "Early stopping, best iteration is:\n",
      "[27]\tvalid's auc: 0.851794\n",
      "Training until validation scores don't improve for 30 rounds\n",
      "Early stopping, best iteration is:\n",
      "[13]\tvalid's auc: 0.849614\n",
      "Training until validation scores don't improve for 30 rounds\n",
      "Early stopping, best iteration is:\n",
      "[2]\tvalid's auc: 0.850662\n",
      "Training until validation scores don't improve for 30 rounds\n",
      "Early stopping, best iteration is:\n",
      "[8]\tvalid's auc: 0.8541\n",
      "Training until validation scores don't improve for 30 rounds\n",
      "Early stopping, best iteration is:\n",
      "[41]\tvalid's auc: 0.856155\n",
      "Training until validation scores don't improve for 30 rounds\n",
      "Early stopping, best iteration is:\n",
      "[1]\tvalid's auc: 0.5\n",
      "Training until validation scores don't improve for 30 rounds\n",
      "Early stopping, best iteration is:\n",
      "[1]\tvalid's auc: 0.5\n",
      "Training until validation scores don't improve for 30 rounds\n",
      "Early stopping, best iteration is:\n",
      "[1]\tvalid's auc: 0.5\n",
      "Training until validation scores don't improve for 30 rounds\n",
      "Early stopping, best iteration is:\n",
      "[32]\tvalid's auc: 0.858964\n",
      "Training until validation scores don't improve for 30 rounds\n",
      "Early stopping, best iteration is:\n",
      "[14]\tvalid's auc: 0.865252\n",
      "Training until validation scores don't improve for 30 rounds\n",
      "[100]\tvalid's auc: 0.869906\n",
      "Did not meet early stopping. Best iteration is:\n",
      "[99]\tvalid's auc: 0.870577\n",
      "Training until validation scores don't improve for 30 rounds\n",
      "Early stopping, best iteration is:\n",
      "[1]\tvalid's auc: 0.5\n",
      "Training until validation scores don't improve for 30 rounds\n",
      "Early stopping, best iteration is:\n",
      "[1]\tvalid's auc: 0.5\n",
      "Training until validation scores don't improve for 30 rounds\n",
      "Early stopping, best iteration is:\n",
      "[1]\tvalid's auc: 0.5\n",
      "Training until validation scores don't improve for 30 rounds\n",
      "Early stopping, best iteration is:\n",
      "[1]\tvalid's auc: 0.5\n",
      "Training until validation scores don't improve for 30 rounds\n",
      "Early stopping, best iteration is:\n",
      "[1]\tvalid's auc: 0.5\n",
      "Training until validation scores don't improve for 30 rounds\n",
      "Early stopping, best iteration is:\n",
      "[1]\tvalid's auc: 0.5\n",
      "Training until validation scores don't improve for 30 rounds\n",
      "Early stopping, best iteration is:\n",
      "[1]\tvalid's auc: 0.5\n",
      "Training until validation scores don't improve for 30 rounds\n",
      "Early stopping, best iteration is:\n",
      "[1]\tvalid's auc: 0.5\n",
      "Training until validation scores don't improve for 30 rounds\n",
      "Early stopping, best iteration is:\n",
      "[1]\tvalid's auc: 0.5\n",
      "Training until validation scores don't improve for 30 rounds\n",
      "Early stopping, best iteration is:\n",
      "[1]\tvalid's auc: 0.5\n",
      "Training until validation scores don't improve for 30 rounds\n",
      "Early stopping, best iteration is:\n",
      "[1]\tvalid's auc: 0.5\n",
      "Training until validation scores don't improve for 30 rounds\n",
      "Early stopping, best iteration is:\n",
      "[1]\tvalid's auc: 0.5\n",
      "Training until validation scores don't improve for 30 rounds\n",
      "Early stopping, best iteration is:\n",
      "[13]\tvalid's auc: 0.86345\n",
      "Training until validation scores don't improve for 30 rounds\n",
      "Early stopping, best iteration is:\n",
      "[39]\tvalid's auc: 0.863533\n",
      "Training until validation scores don't improve for 30 rounds\n",
      "[100]\tvalid's auc: 0.881058\n",
      "Did not meet early stopping. Best iteration is:\n",
      "[95]\tvalid's auc: 0.882064\n",
      "Training until validation scores don't improve for 30 rounds\n",
      "Early stopping, best iteration is:\n",
      "[12]\tvalid's auc: 0.856029\n",
      "Training until validation scores don't improve for 30 rounds\n",
      "Early stopping, best iteration is:\n",
      "[53]\tvalid's auc: 0.868145\n",
      "Training until validation scores don't improve for 30 rounds\n",
      "[100]\tvalid's auc: 0.876866\n",
      "Did not meet early stopping. Best iteration is:\n",
      "[88]\tvalid's auc: 0.8798\n",
      "Training until validation scores don't improve for 30 rounds\n",
      "Early stopping, best iteration is:\n",
      "[1]\tvalid's auc: 0.5\n",
      "Training until validation scores don't improve for 30 rounds\n",
      "Early stopping, best iteration is:\n",
      "[1]\tvalid's auc: 0.5\n",
      "Training until validation scores don't improve for 30 rounds\n",
      "Early stopping, best iteration is:\n",
      "[1]\tvalid's auc: 0.5\n",
      "Training until validation scores don't improve for 30 rounds\n",
      "Early stopping, best iteration is:\n",
      "[1]\tvalid's auc: 0.5\n",
      "Training until validation scores don't improve for 30 rounds\n",
      "Early stopping, best iteration is:\n",
      "[1]\tvalid's auc: 0.5\n",
      "Training until validation scores don't improve for 30 rounds\n",
      "Early stopping, best iteration is:\n",
      "[1]\tvalid's auc: 0.5\n",
      "Training until validation scores don't improve for 30 rounds\n",
      "Early stopping, best iteration is:\n",
      "[25]\tvalid's auc: 0.852381\n",
      "Training until validation scores don't improve for 30 rounds\n",
      "Early stopping, best iteration is:\n",
      "[16]\tvalid's auc: 0.859215\n",
      "Training until validation scores don't improve for 30 rounds\n",
      "Early stopping, best iteration is:\n",
      "[30]\tvalid's auc: 0.864372\n",
      "Training until validation scores don't improve for 30 rounds\n",
      "Early stopping, best iteration is:\n",
      "[47]\tvalid's auc: 0.852256\n",
      "Training until validation scores don't improve for 30 rounds\n",
      "Early stopping, best iteration is:\n",
      "[13]\tvalid's auc: 0.854981\n",
      "Training until validation scores don't improve for 30 rounds\n",
      "Early stopping, best iteration is:\n",
      "[22]\tvalid's auc: 0.856742\n",
      "Training until validation scores don't improve for 30 rounds\n",
      "[100]\tvalid's auc: 0.854939\n",
      "Did not meet early stopping. Best iteration is:\n",
      "[91]\tvalid's auc: 0.855526\n",
      "Training until validation scores don't improve for 30 rounds\n",
      "Early stopping, best iteration is:\n",
      "[14]\tvalid's auc: 0.860054\n",
      "Training until validation scores don't improve for 30 rounds\n",
      "[100]\tvalid's auc: 0.861353\n",
      "Did not meet early stopping. Best iteration is:\n",
      "[87]\tvalid's auc: 0.86412\n",
      "Training until validation scores don't improve for 30 rounds\n",
      "Early stopping, best iteration is:\n",
      "[36]\tvalid's auc: 0.855568\n",
      "Training until validation scores don't improve for 30 rounds\n",
      "Early stopping, best iteration is:\n",
      "[13]\tvalid's auc: 0.860347\n",
      "Training until validation scores don't improve for 30 rounds\n",
      "Early stopping, best iteration is:\n",
      "[35]\tvalid's auc: 0.863785\n",
      "Training until validation scores don't improve for 30 rounds\n",
      "[100]\tvalid's auc: 0.881268\n",
      "Did not meet early stopping. Best iteration is:\n",
      "[83]\tvalid's auc: 0.883532\n",
      "Best score reached: 0.8412231048190312 with params: {'colsample_bytree': 0.6427690433739622, 'min_child_samples': 51, 'min_child_weight': 10.0, 'num_leaves': 14, 'reg_alpha': 0, 'reg_lambda': 5, 'subsample': 0.3489139928277285} \n"
     ]
    }
   ],
   "source": [
    "gs.fit(x_train, y_train, **fit_params)\n",
    "print('Best score reached: {} with params: {} '.format(gs.best_score_, gs.best_params_))"
   ]
  },
  {
   "cell_type": "code",
   "execution_count": 82,
   "id": "hourly-penetration",
   "metadata": {
    "execution": {
     "iopub.execute_input": "2021-05-24T10:36:24.353591Z",
     "iopub.status.busy": "2021-05-24T10:36:24.352670Z",
     "iopub.status.idle": "2021-05-24T10:36:24.355554Z",
     "shell.execute_reply": "2021-05-24T10:36:24.355107Z"
    },
    "papermill": {
     "duration": 0.104509,
     "end_time": "2021-05-24T10:36:24.355685",
     "exception": false,
     "start_time": "2021-05-24T10:36:24.251176",
     "status": "completed"
    },
    "tags": []
   },
   "outputs": [],
   "source": [
    "opt_params={'colsample_bytree': 0.6427690433739622, 'min_child_samples': 51, \n",
    "            'min_child_weight': 10.0, 'num_leaves': 14, 'reg_alpha': 0, \n",
    "            'reg_lambda': 5, 'subsample': 0.3489139928277285} "
   ]
  },
  {
   "cell_type": "code",
   "execution_count": 83,
   "id": "whole-hammer",
   "metadata": {
    "execution": {
     "iopub.execute_input": "2021-05-24T10:36:24.553110Z",
     "iopub.status.busy": "2021-05-24T10:36:24.552210Z",
     "iopub.status.idle": "2021-05-24T10:36:24.561551Z",
     "shell.execute_reply": "2021-05-24T10:36:24.560996Z"
    },
    "papermill": {
     "duration": 0.108709,
     "end_time": "2021-05-24T10:36:24.561693",
     "exception": false,
     "start_time": "2021-05-24T10:36:24.452984",
     "status": "completed"
    },
    "tags": []
   },
   "outputs": [
    {
     "data": {
      "text/plain": [
       "LGBMClassifier(colsample_bytree=0.6427690433739622, metric='None',\n",
       "               min_child_samples=51, min_child_weight=10.0, n_jobs=4,\n",
       "               num_leaves=14, random_state=42, reg_alpha=0, reg_lambda=5,\n",
       "               subsample=0.3489139928277285)"
      ]
     },
     "execution_count": 83,
     "metadata": {},
     "output_type": "execute_result"
    }
   ],
   "source": [
    "clf_sw = lgb.LGBMClassifier(**clf.get_params())\n",
    "#set optimal parameters\n",
    "clf_sw.set_params(**opt_params)"
   ]
  },
  {
   "cell_type": "code",
   "execution_count": 84,
   "id": "narrative-ghost",
   "metadata": {
    "execution": {
     "iopub.execute_input": "2021-05-24T10:36:24.760361Z",
     "iopub.status.busy": "2021-05-24T10:36:24.758175Z",
     "iopub.status.idle": "2021-05-24T10:36:24.794912Z",
     "shell.execute_reply": "2021-05-24T10:36:24.795465Z"
    },
    "papermill": {
     "duration": 0.13775,
     "end_time": "2021-05-24T10:36:24.795647",
     "exception": false,
     "start_time": "2021-05-24T10:36:24.657897",
     "status": "completed"
    },
    "tags": []
   },
   "outputs": [
    {
     "data": {
      "text/plain": [
       "array([0, 0, 0, 1, 1, 1, 1, 0, 1, 1, 0, 0, 0, 0, 0, 1, 0, 1, 0, 0, 0, 0,\n",
       "       0, 0, 0, 0, 0, 0, 0, 1, 0, 1, 0, 1, 0, 0, 0, 1, 1, 0, 0, 0, 0, 0,\n",
       "       1, 0, 0, 0, 0, 0, 1, 1, 0, 0, 0, 1, 0, 1, 1, 1, 0, 1, 1, 0, 0, 1,\n",
       "       0, 0, 0, 1, 1, 1, 0, 1, 0, 0, 1, 1, 1, 1, 0, 1, 1, 0, 0, 0, 1, 1,\n",
       "       0, 0, 1, 0, 0, 0, 0, 0, 0, 0, 1, 0, 0, 0, 1, 0, 0, 0, 1, 0, 0, 0,\n",
       "       1, 0, 1, 0, 0, 0, 0, 0, 1, 0, 0, 1, 1, 1, 0, 0, 1, 1, 1, 0, 1, 0,\n",
       "       0, 1, 0, 1, 1, 0, 0, 1, 0, 1, 0, 0, 0, 1, 0, 0, 1, 0, 0, 0, 0, 1,\n",
       "       0, 0, 0, 1, 1, 1, 0, 0, 0, 1, 0, 0, 0, 1, 0, 0, 1, 1, 0, 1, 0, 0,\n",
       "       0, 1, 1, 0, 0, 0, 0, 0, 1, 0, 0, 0, 0, 1, 0, 0, 0, 0, 1, 1, 1, 0,\n",
       "       1, 0, 0, 0, 1, 0, 0, 1, 0, 0, 0, 0, 1, 0, 1, 0, 0, 0, 1, 0, 1, 0,\n",
       "       0, 1, 0])"
      ]
     },
     "execution_count": 84,
     "metadata": {},
     "output_type": "execute_result"
    }
   ],
   "source": [
    "clf_sw.fit(x_train,y_train)\n",
    "clf_sw.predict(x_test)"
   ]
  },
  {
   "cell_type": "markdown",
   "id": "going-positive",
   "metadata": {
    "papermill": {
     "duration": 0.095964,
     "end_time": "2021-05-24T10:36:24.988072",
     "exception": false,
     "start_time": "2021-05-24T10:36:24.892108",
     "status": "completed"
    },
    "tags": []
   },
   "source": [
    "<p style = \"font-size : 25px; color : #34656d ; font-family : 'Comic Sans MS'; text-align : center; background-color : lightgreen; border-radius: 5px 5px;\"><strong>Voting Classifier</strong></p>"
   ]
  },
  {
   "cell_type": "code",
   "execution_count": 85,
   "id": "verbal-republican",
   "metadata": {
    "execution": {
     "iopub.execute_input": "2021-05-24T10:36:25.190146Z",
     "iopub.status.busy": "2021-05-24T10:36:25.189449Z",
     "iopub.status.idle": "2021-05-24T10:36:25.501015Z",
     "shell.execute_reply": "2021-05-24T10:36:25.501484Z"
    },
    "papermill": {
     "duration": 0.417994,
     "end_time": "2021-05-24T10:36:25.501662",
     "exception": false,
     "start_time": "2021-05-24T10:36:25.083668",
     "status": "completed"
    },
    "tags": []
   },
   "outputs": [
    {
     "name": "stdout",
     "output_type": "stream",
     "text": [
      "Voting Classifier: 0.812\n"
     ]
    }
   ],
   "source": [
    "from sklearn.ensemble import VotingClassifier \n",
    "classifiers = [('LGB', clf_sw),('Logistic Regression', logistic),('Gradient Boosting', gb),\n",
    "               ('Adaboost', adb)]\n",
    "vc = VotingClassifier(estimators=classifiers )     \n",
    "vc.fit(x_train,y_train)   \n",
    "voting_pred = vc.predict(x_test)\n",
    "accuracy = accuracy_score(y_test,voting_pred)\n",
    "print('Voting Classifier: {:.3f}'.format(accuracy))"
   ]
  },
  {
   "cell_type": "markdown",
   "id": "antique-alert",
   "metadata": {
    "papermill": {
     "duration": 0.09554,
     "end_time": "2021-05-24T10:36:25.693217",
     "exception": false,
     "start_time": "2021-05-24T10:36:25.597677",
     "status": "completed"
    },
    "tags": []
   },
   "source": []
  },
  {
   "cell_type": "markdown",
   "id": "present-april",
   "metadata": {
    "papermill": {
     "duration": 0.097162,
     "end_time": "2021-05-24T10:36:25.885933",
     "exception": false,
     "start_time": "2021-05-24T10:36:25.788771",
     "status": "completed"
    },
    "tags": []
   },
   "source": [
    "<p style = \"font-size : 35px; color : #34656d ; font-family : 'Comic Sans MS'; text-align : center; background-color : lightblue; border-radius: 5px 5px;\"><strong>Important Features</strong></p># Looking for the feature importance"
   ]
  },
  {
   "cell_type": "code",
   "execution_count": 86,
   "id": "offshore-invite",
   "metadata": {
    "execution": {
     "iopub.execute_input": "2021-05-24T10:36:26.082884Z",
     "iopub.status.busy": "2021-05-24T10:36:26.082310Z",
     "iopub.status.idle": "2021-05-24T10:36:26.195231Z",
     "shell.execute_reply": "2021-05-24T10:36:26.195685Z"
    },
    "papermill": {
     "duration": 0.21417,
     "end_time": "2021-05-24T10:36:26.195844",
     "exception": false,
     "start_time": "2021-05-24T10:36:25.981674",
     "status": "completed"
    },
    "tags": []
   },
   "outputs": [
    {
     "data": {
      "text/html": [
       "<div>\n",
       "<style scoped>\n",
       "    .dataframe tbody tr th:only-of-type {\n",
       "        vertical-align: middle;\n",
       "    }\n",
       "\n",
       "    .dataframe tbody tr th {\n",
       "        vertical-align: top;\n",
       "    }\n",
       "\n",
       "    .dataframe thead th {\n",
       "        text-align: right;\n",
       "    }\n",
       "</style>\n",
       "<table border=\"1\" class=\"dataframe\">\n",
       "  <thead>\n",
       "    <tr style=\"text-align: right;\">\n",
       "      <th></th>\n",
       "      <th>importance</th>\n",
       "    </tr>\n",
       "    <tr>\n",
       "      <th>feature</th>\n",
       "      <th></th>\n",
       "    </tr>\n",
       "  </thead>\n",
       "  <tbody>\n",
       "    <tr>\n",
       "      <th>Fare</th>\n",
       "      <td>0.220</td>\n",
       "    </tr>\n",
       "    <tr>\n",
       "      <th>Age</th>\n",
       "      <td>0.206</td>\n",
       "    </tr>\n",
       "    <tr>\n",
       "      <th>Sex_male</th>\n",
       "      <td>0.183</td>\n",
       "    </tr>\n",
       "    <tr>\n",
       "      <th>Sex_female</th>\n",
       "      <td>0.148</td>\n",
       "    </tr>\n",
       "    <tr>\n",
       "      <th>Pclass</th>\n",
       "      <td>0.113</td>\n",
       "    </tr>\n",
       "    <tr>\n",
       "      <th>SibSp</th>\n",
       "      <td>0.050</td>\n",
       "    </tr>\n",
       "    <tr>\n",
       "      <th>Parch</th>\n",
       "      <td>0.036</td>\n",
       "    </tr>\n",
       "    <tr>\n",
       "      <th>Embarked_C</th>\n",
       "      <td>0.019</td>\n",
       "    </tr>\n",
       "    <tr>\n",
       "      <th>Embarked_S</th>\n",
       "      <td>0.015</td>\n",
       "    </tr>\n",
       "    <tr>\n",
       "      <th>Embarked_Q</th>\n",
       "      <td>0.010</td>\n",
       "    </tr>\n",
       "  </tbody>\n",
       "</table>\n",
       "</div>"
      ],
      "text/plain": [
       "            importance\n",
       "feature               \n",
       "Fare             0.220\n",
       "Age              0.206\n",
       "Sex_male         0.183\n",
       "Sex_female       0.148\n",
       "Pclass           0.113\n",
       "SibSp            0.050\n",
       "Parch            0.036\n",
       "Embarked_C       0.019\n",
       "Embarked_S       0.015\n",
       "Embarked_Q       0.010"
      ]
     },
     "execution_count": 86,
     "metadata": {},
     "output_type": "execute_result"
    }
   ],
   "source": [
    "importances = pd.DataFrame({'feature':train.columns,'importance':np.round(random_forest.feature_importances_,3)})\n",
    "importances = importances.sort_values('importance',ascending=False).set_index('feature')\n",
    "importances.head(15)"
   ]
  },
  {
   "cell_type": "code",
   "execution_count": 87,
   "id": "impressed-silly",
   "metadata": {
    "execution": {
     "iopub.execute_input": "2021-05-24T10:36:26.423467Z",
     "iopub.status.busy": "2021-05-24T10:36:26.420593Z",
     "iopub.status.idle": "2021-05-24T10:36:26.555660Z",
     "shell.execute_reply": "2021-05-24T10:36:26.555220Z"
    },
    "papermill": {
     "duration": 0.26373,
     "end_time": "2021-05-24T10:36:26.555793",
     "exception": false,
     "start_time": "2021-05-24T10:36:26.292063",
     "status": "completed"
    },
    "tags": []
   },
   "outputs": [
    {
     "data": {
      "text/plain": [
       "<AxesSubplot:xlabel='feature'>"
      ]
     },
     "execution_count": 87,
     "metadata": {},
     "output_type": "execute_result"
    },
    {
     "data": {
      "image/png": "[encoded data removed]",
      "text/plain": [
       "<Figure size 432x288 with 1 Axes>"
      ]
     },
     "metadata": {
      "needs_background": "light"
     },
     "output_type": "display_data"
    }
   ],
   "source": [
    "importances.plot.bar()"
   ]
  },
  {
   "cell_type": "code",
   "execution_count": 88,
   "id": "swedish-german",
   "metadata": {
    "execution": {
     "iopub.execute_input": "2021-05-24T10:36:26.761410Z",
     "iopub.status.busy": "2021-05-24T10:36:26.760426Z",
     "iopub.status.idle": "2021-05-24T10:36:26.764189Z",
     "shell.execute_reply": "2021-05-24T10:36:26.764595Z"
    },
    "papermill": {
     "duration": 0.111794,
     "end_time": "2021-05-24T10:36:26.764748",
     "exception": false,
     "start_time": "2021-05-24T10:36:26.652954",
     "status": "completed"
    },
    "tags": []
   },
   "outputs": [
    {
     "data": {
      "text/html": [
       "<div>\n",
       "<style scoped>\n",
       "    .dataframe tbody tr th:only-of-type {\n",
       "        vertical-align: middle;\n",
       "    }\n",
       "\n",
       "    .dataframe tbody tr th {\n",
       "        vertical-align: top;\n",
       "    }\n",
       "\n",
       "    .dataframe thead th {\n",
       "        text-align: right;\n",
       "    }\n",
       "</style>\n",
       "<table border=\"1\" class=\"dataframe\">\n",
       "  <thead>\n",
       "    <tr style=\"text-align: right;\">\n",
       "      <th></th>\n",
       "      <th>Pclass</th>\n",
       "      <th>SibSp</th>\n",
       "      <th>Parch</th>\n",
       "      <th>Fare</th>\n",
       "      <th>Age</th>\n",
       "      <th>Sex_female</th>\n",
       "      <th>Sex_male</th>\n",
       "      <th>Embarked_C</th>\n",
       "      <th>Embarked_Q</th>\n",
       "      <th>Embarked_S</th>\n",
       "    </tr>\n",
       "  </thead>\n",
       "  <tbody>\n",
       "    <tr>\n",
       "      <th>298</th>\n",
       "      <td>1</td>\n",
       "      <td>0</td>\n",
       "      <td>0</td>\n",
       "      <td>3.449988</td>\n",
       "      <td>3.424234</td>\n",
       "      <td>0</td>\n",
       "      <td>1</td>\n",
       "      <td>0</td>\n",
       "      <td>0</td>\n",
       "      <td>1</td>\n",
       "    </tr>\n",
       "    <tr>\n",
       "      <th>884</th>\n",
       "      <td>3</td>\n",
       "      <td>0</td>\n",
       "      <td>0</td>\n",
       "      <td>2.085672</td>\n",
       "      <td>3.258097</td>\n",
       "      <td>0</td>\n",
       "      <td>1</td>\n",
       "      <td>0</td>\n",
       "      <td>0</td>\n",
       "      <td>1</td>\n",
       "    </tr>\n",
       "    <tr>\n",
       "      <th>247</th>\n",
       "      <td>2</td>\n",
       "      <td>0</td>\n",
       "      <td>2</td>\n",
       "      <td>2.740840</td>\n",
       "      <td>3.218876</td>\n",
       "      <td>1</td>\n",
       "      <td>0</td>\n",
       "      <td>0</td>\n",
       "      <td>0</td>\n",
       "      <td>1</td>\n",
       "    </tr>\n",
       "    <tr>\n",
       "      <th>478</th>\n",
       "      <td>3</td>\n",
       "      <td>0</td>\n",
       "      <td>0</td>\n",
       "      <td>2.142510</td>\n",
       "      <td>3.135494</td>\n",
       "      <td>0</td>\n",
       "      <td>1</td>\n",
       "      <td>0</td>\n",
       "      <td>0</td>\n",
       "      <td>1</td>\n",
       "    </tr>\n",
       "    <tr>\n",
       "      <th>305</th>\n",
       "      <td>1</td>\n",
       "      <td>1</td>\n",
       "      <td>2</td>\n",
       "      <td>5.027492</td>\n",
       "      <td>0.652325</td>\n",
       "      <td>0</td>\n",
       "      <td>1</td>\n",
       "      <td>0</td>\n",
       "      <td>0</td>\n",
       "      <td>1</td>\n",
       "    </tr>\n",
       "  </tbody>\n",
       "</table>\n",
       "</div>"
      ],
      "text/plain": [
       "     Pclass  SibSp  Parch      Fare       Age  Sex_female  Sex_male  \\\n",
       "298       1      0      0  3.449988  3.424234           0         1   \n",
       "884       3      0      0  2.085672  3.258097           0         1   \n",
       "247       2      0      2  2.740840  3.218876           1         0   \n",
       "478       3      0      0  2.142510  3.135494           0         1   \n",
       "305       1      1      2  5.027492  0.652325           0         1   \n",
       "\n",
       "     Embarked_C  Embarked_Q  Embarked_S  \n",
       "298           0           0           1  \n",
       "884           0           0           1  \n",
       "247           0           0           1  \n",
       "478           0           0           1  \n",
       "305           0           0           1  "
      ]
     },
     "execution_count": 88,
     "metadata": {},
     "output_type": "execute_result"
    }
   ],
   "source": [
    "x_train.head()"
   ]
  },
  {
   "cell_type": "markdown",
   "id": "patient-reference",
   "metadata": {
    "papermill": {
     "duration": 0.099055,
     "end_time": "2021-05-24T10:36:26.962958",
     "exception": false,
     "start_time": "2021-05-24T10:36:26.863903",
     "status": "completed"
    },
    "tags": []
   },
   "source": [
    "<p style = \"font-size : 25px; color : #34656d ; font-family : 'Comic Sans MS'; text-align : center; background-color : lightgreen; border-radius: 5px 5px;\"><strong>Final Prediction</strong></p>"
   ]
  },
  {
   "cell_type": "code",
   "execution_count": 89,
   "id": "heated-scottish",
   "metadata": {
    "execution": {
     "iopub.execute_input": "2021-05-24T10:36:27.173953Z",
     "iopub.status.busy": "2021-05-24T10:36:27.173283Z",
     "iopub.status.idle": "2021-05-24T10:36:27.197919Z",
     "shell.execute_reply": "2021-05-24T10:36:27.197352Z"
    },
    "papermill": {
     "duration": 0.136108,
     "end_time": "2021-05-24T10:36:27.198060",
     "exception": false,
     "start_time": "2021-05-24T10:36:27.061952",
     "status": "completed"
    },
    "tags": []
   },
   "outputs": [],
   "source": [
    "final_pred=vc.predict(test)"
   ]
  },
  {
   "cell_type": "code",
   "execution_count": 90,
   "id": "appropriate-patch",
   "metadata": {
    "execution": {
     "iopub.execute_input": "2021-05-24T10:36:27.399067Z",
     "iopub.status.busy": "2021-05-24T10:36:27.398496Z",
     "iopub.status.idle": "2021-05-24T10:36:27.408410Z",
     "shell.execute_reply": "2021-05-24T10:36:27.407918Z"
    },
    "papermill": {
     "duration": 0.112726,
     "end_time": "2021-05-24T10:36:27.408535",
     "exception": false,
     "start_time": "2021-05-24T10:36:27.295809",
     "status": "completed"
    },
    "tags": []
   },
   "outputs": [],
   "source": [
    "submission=pd.read_csv('../input/titanic/gender_submission.csv')"
   ]
  },
  {
   "cell_type": "code",
   "execution_count": 91,
   "id": "formal-decision",
   "metadata": {
    "execution": {
     "iopub.execute_input": "2021-05-24T10:36:27.615993Z",
     "iopub.status.busy": "2021-05-24T10:36:27.615208Z",
     "iopub.status.idle": "2021-05-24T10:36:27.618934Z",
     "shell.execute_reply": "2021-05-24T10:36:27.618469Z"
    },
    "papermill": {
     "duration": 0.111282,
     "end_time": "2021-05-24T10:36:27.619066",
     "exception": false,
     "start_time": "2021-05-24T10:36:27.507784",
     "status": "completed"
    },
    "tags": []
   },
   "outputs": [
    {
     "data": {
      "text/html": [
       "<div>\n",
       "<style scoped>\n",
       "    .dataframe tbody tr th:only-of-type {\n",
       "        vertical-align: middle;\n",
       "    }\n",
       "\n",
       "    .dataframe tbody tr th {\n",
       "        vertical-align: top;\n",
       "    }\n",
       "\n",
       "    .dataframe thead th {\n",
       "        text-align: right;\n",
       "    }\n",
       "</style>\n",
       "<table border=\"1\" class=\"dataframe\">\n",
       "  <thead>\n",
       "    <tr style=\"text-align: right;\">\n",
       "      <th></th>\n",
       "      <th>PassengerId</th>\n",
       "      <th>Survived</th>\n",
       "    </tr>\n",
       "  </thead>\n",
       "  <tbody>\n",
       "    <tr>\n",
       "      <th>0</th>\n",
       "      <td>892</td>\n",
       "      <td>0</td>\n",
       "    </tr>\n",
       "    <tr>\n",
       "      <th>1</th>\n",
       "      <td>893</td>\n",
       "      <td>1</td>\n",
       "    </tr>\n",
       "    <tr>\n",
       "      <th>2</th>\n",
       "      <td>894</td>\n",
       "      <td>0</td>\n",
       "    </tr>\n",
       "    <tr>\n",
       "      <th>3</th>\n",
       "      <td>895</td>\n",
       "      <td>0</td>\n",
       "    </tr>\n",
       "    <tr>\n",
       "      <th>4</th>\n",
       "      <td>896</td>\n",
       "      <td>1</td>\n",
       "    </tr>\n",
       "    <tr>\n",
       "      <th>...</th>\n",
       "      <td>...</td>\n",
       "      <td>...</td>\n",
       "    </tr>\n",
       "    <tr>\n",
       "      <th>413</th>\n",
       "      <td>1305</td>\n",
       "      <td>0</td>\n",
       "    </tr>\n",
       "    <tr>\n",
       "      <th>414</th>\n",
       "      <td>1306</td>\n",
       "      <td>1</td>\n",
       "    </tr>\n",
       "    <tr>\n",
       "      <th>415</th>\n",
       "      <td>1307</td>\n",
       "      <td>0</td>\n",
       "    </tr>\n",
       "    <tr>\n",
       "      <th>416</th>\n",
       "      <td>1308</td>\n",
       "      <td>0</td>\n",
       "    </tr>\n",
       "    <tr>\n",
       "      <th>417</th>\n",
       "      <td>1309</td>\n",
       "      <td>0</td>\n",
       "    </tr>\n",
       "  </tbody>\n",
       "</table>\n",
       "<p>418 rows × 2 columns</p>\n",
       "</div>"
      ],
      "text/plain": [
       "     PassengerId  Survived\n",
       "0            892         0\n",
       "1            893         1\n",
       "2            894         0\n",
       "3            895         0\n",
       "4            896         1\n",
       "..           ...       ...\n",
       "413         1305         0\n",
       "414         1306         1\n",
       "415         1307         0\n",
       "416         1308         0\n",
       "417         1309         0\n",
       "\n",
       "[418 rows x 2 columns]"
      ]
     },
     "execution_count": 91,
     "metadata": {},
     "output_type": "execute_result"
    }
   ],
   "source": [
    "submission"
   ]
  },
  {
   "cell_type": "code",
   "execution_count": 92,
   "id": "precise-commander",
   "metadata": {
    "execution": {
     "iopub.execute_input": "2021-05-24T10:36:27.821285Z",
     "iopub.status.busy": "2021-05-24T10:36:27.820223Z",
     "iopub.status.idle": "2021-05-24T10:36:27.823684Z",
     "shell.execute_reply": "2021-05-24T10:36:27.823106Z"
    },
    "papermill": {
     "duration": 0.10625,
     "end_time": "2021-05-24T10:36:27.823816",
     "exception": false,
     "start_time": "2021-05-24T10:36:27.717566",
     "status": "completed"
    },
    "tags": []
   },
   "outputs": [],
   "source": [
    "submission['Survived']=final_pred"
   ]
  },
  {
   "cell_type": "code",
   "execution_count": 93,
   "id": "practical-thermal",
   "metadata": {
    "execution": {
     "iopub.execute_input": "2021-05-24T10:36:28.031207Z",
     "iopub.status.busy": "2021-05-24T10:36:28.030406Z",
     "iopub.status.idle": "2021-05-24T10:36:28.034421Z",
     "shell.execute_reply": "2021-05-24T10:36:28.033961Z"
    },
    "papermill": {
     "duration": 0.111642,
     "end_time": "2021-05-24T10:36:28.034547",
     "exception": false,
     "start_time": "2021-05-24T10:36:27.922905",
     "status": "completed"
    },
    "tags": []
   },
   "outputs": [
    {
     "data": {
      "text/html": [
       "<div>\n",
       "<style scoped>\n",
       "    .dataframe tbody tr th:only-of-type {\n",
       "        vertical-align: middle;\n",
       "    }\n",
       "\n",
       "    .dataframe tbody tr th {\n",
       "        vertical-align: top;\n",
       "    }\n",
       "\n",
       "    .dataframe thead th {\n",
       "        text-align: right;\n",
       "    }\n",
       "</style>\n",
       "<table border=\"1\" class=\"dataframe\">\n",
       "  <thead>\n",
       "    <tr style=\"text-align: right;\">\n",
       "      <th></th>\n",
       "      <th>PassengerId</th>\n",
       "      <th>Survived</th>\n",
       "    </tr>\n",
       "  </thead>\n",
       "  <tbody>\n",
       "    <tr>\n",
       "      <th>0</th>\n",
       "      <td>892</td>\n",
       "      <td>0</td>\n",
       "    </tr>\n",
       "    <tr>\n",
       "      <th>1</th>\n",
       "      <td>893</td>\n",
       "      <td>1</td>\n",
       "    </tr>\n",
       "    <tr>\n",
       "      <th>2</th>\n",
       "      <td>894</td>\n",
       "      <td>0</td>\n",
       "    </tr>\n",
       "    <tr>\n",
       "      <th>3</th>\n",
       "      <td>895</td>\n",
       "      <td>0</td>\n",
       "    </tr>\n",
       "    <tr>\n",
       "      <th>4</th>\n",
       "      <td>896</td>\n",
       "      <td>1</td>\n",
       "    </tr>\n",
       "    <tr>\n",
       "      <th>...</th>\n",
       "      <td>...</td>\n",
       "      <td>...</td>\n",
       "    </tr>\n",
       "    <tr>\n",
       "      <th>413</th>\n",
       "      <td>1305</td>\n",
       "      <td>0</td>\n",
       "    </tr>\n",
       "    <tr>\n",
       "      <th>414</th>\n",
       "      <td>1306</td>\n",
       "      <td>1</td>\n",
       "    </tr>\n",
       "    <tr>\n",
       "      <th>415</th>\n",
       "      <td>1307</td>\n",
       "      <td>0</td>\n",
       "    </tr>\n",
       "    <tr>\n",
       "      <th>416</th>\n",
       "      <td>1308</td>\n",
       "      <td>0</td>\n",
       "    </tr>\n",
       "    <tr>\n",
       "      <th>417</th>\n",
       "      <td>1309</td>\n",
       "      <td>0</td>\n",
       "    </tr>\n",
       "  </tbody>\n",
       "</table>\n",
       "<p>418 rows × 2 columns</p>\n",
       "</div>"
      ],
      "text/plain": [
       "     PassengerId  Survived\n",
       "0            892         0\n",
       "1            893         1\n",
       "2            894         0\n",
       "3            895         0\n",
       "4            896         1\n",
       "..           ...       ...\n",
       "413         1305         0\n",
       "414         1306         1\n",
       "415         1307         0\n",
       "416         1308         0\n",
       "417         1309         0\n",
       "\n",
       "[418 rows x 2 columns]"
      ]
     },
     "execution_count": 93,
     "metadata": {},
     "output_type": "execute_result"
    }
   ],
   "source": [
    "submission"
   ]
  },
  {
   "cell_type": "code",
   "execution_count": 94,
   "id": "alive-transformation",
   "metadata": {
    "execution": {
     "iopub.execute_input": "2021-05-24T10:36:28.239453Z",
     "iopub.status.busy": "2021-05-24T10:36:28.238723Z",
     "iopub.status.idle": "2021-05-24T10:36:28.245279Z",
     "shell.execute_reply": "2021-05-24T10:36:28.244681Z"
    },
    "papermill": {
     "duration": 0.111043,
     "end_time": "2021-05-24T10:36:28.245408",
     "exception": false,
     "start_time": "2021-05-24T10:36:28.134365",
     "status": "completed"
    },
    "tags": []
   },
   "outputs": [],
   "source": [
    "pd.DataFrame(submission,columns=['PassengerId','Survived']).to_csv('titanic_new.csv',index=False)"
   ]
  },
  {
   "cell_type": "code",
   "execution_count": 95,
   "id": "certain-tolerance",
   "metadata": {
    "execution": {
     "iopub.execute_input": "2021-05-24T10:36:28.456540Z",
     "iopub.status.busy": "2021-05-24T10:36:28.449464Z",
     "iopub.status.idle": "2021-05-24T10:36:28.461747Z",
     "shell.execute_reply": "2021-05-24T10:36:28.461295Z"
    },
    "papermill": {
     "duration": 0.116946,
     "end_time": "2021-05-24T10:36:28.461897",
     "exception": false,
     "start_time": "2021-05-24T10:36:28.344951",
     "status": "completed"
    },
    "tags": []
   },
   "outputs": [
    {
     "data": {
      "text/html": [
       "<div>\n",
       "<style scoped>\n",
       "    .dataframe tbody tr th:only-of-type {\n",
       "        vertical-align: middle;\n",
       "    }\n",
       "\n",
       "    .dataframe tbody tr th {\n",
       "        vertical-align: top;\n",
       "    }\n",
       "\n",
       "    .dataframe thead th {\n",
       "        text-align: right;\n",
       "    }\n",
       "</style>\n",
       "<table border=\"1\" class=\"dataframe\">\n",
       "  <thead>\n",
       "    <tr style=\"text-align: right;\">\n",
       "      <th></th>\n",
       "      <th>PassengerId</th>\n",
       "      <th>Survived</th>\n",
       "    </tr>\n",
       "  </thead>\n",
       "  <tbody>\n",
       "    <tr>\n",
       "      <th>0</th>\n",
       "      <td>892</td>\n",
       "      <td>0</td>\n",
       "    </tr>\n",
       "    <tr>\n",
       "      <th>1</th>\n",
       "      <td>893</td>\n",
       "      <td>1</td>\n",
       "    </tr>\n",
       "    <tr>\n",
       "      <th>2</th>\n",
       "      <td>894</td>\n",
       "      <td>0</td>\n",
       "    </tr>\n",
       "    <tr>\n",
       "      <th>3</th>\n",
       "      <td>895</td>\n",
       "      <td>0</td>\n",
       "    </tr>\n",
       "    <tr>\n",
       "      <th>4</th>\n",
       "      <td>896</td>\n",
       "      <td>1</td>\n",
       "    </tr>\n",
       "    <tr>\n",
       "      <th>...</th>\n",
       "      <td>...</td>\n",
       "      <td>...</td>\n",
       "    </tr>\n",
       "    <tr>\n",
       "      <th>413</th>\n",
       "      <td>1305</td>\n",
       "      <td>0</td>\n",
       "    </tr>\n",
       "    <tr>\n",
       "      <th>414</th>\n",
       "      <td>1306</td>\n",
       "      <td>1</td>\n",
       "    </tr>\n",
       "    <tr>\n",
       "      <th>415</th>\n",
       "      <td>1307</td>\n",
       "      <td>0</td>\n",
       "    </tr>\n",
       "    <tr>\n",
       "      <th>416</th>\n",
       "      <td>1308</td>\n",
       "      <td>0</td>\n",
       "    </tr>\n",
       "    <tr>\n",
       "      <th>417</th>\n",
       "      <td>1309</td>\n",
       "      <td>0</td>\n",
       "    </tr>\n",
       "  </tbody>\n",
       "</table>\n",
       "<p>418 rows × 2 columns</p>\n",
       "</div>"
      ],
      "text/plain": [
       "     PassengerId  Survived\n",
       "0            892         0\n",
       "1            893         1\n",
       "2            894         0\n",
       "3            895         0\n",
       "4            896         1\n",
       "..           ...       ...\n",
       "413         1305         0\n",
       "414         1306         1\n",
       "415         1307         0\n",
       "416         1308         0\n",
       "417         1309         0\n",
       "\n",
       "[418 rows x 2 columns]"
      ]
     },
     "execution_count": 95,
     "metadata": {},
     "output_type": "execute_result"
    }
   ],
   "source": [
    "pd.read_csv('titanic_new.csv')"
   ]
  },
  {
   "cell_type": "code",
   "execution_count": null,
   "id": "confident-retention",
   "metadata": {
    "papermill": {
     "duration": 0.099708,
     "end_time": "2021-05-24T10:36:28.661680",
     "exception": false,
     "start_time": "2021-05-24T10:36:28.561972",
     "status": "completed"
    },
    "tags": []
   },
   "outputs": [],
   "source": []
  },
  {
   "cell_type": "code",
   "execution_count": null,
   "id": "sustained-springer",
   "metadata": {
    "papermill": {
     "duration": 0.099462,
     "end_time": "2021-05-24T10:36:28.861195",
     "exception": false,
     "start_time": "2021-05-24T10:36:28.761733",
     "status": "completed"
    },
    "tags": []
   },
   "outputs": [],
   "source": []
  }
 ],
 "metadata": {
  "kernelspec": {
   "display_name": "Python 3",
   "language": "python",
   "name": "python3"
  },
  "language_info": {
   "codemirror_mode": {
    "name": "ipython",
    "version": 3
   },
   "file_extension": ".py",
   "mimetype": "text/x-python",
   "name": "python",
   "nbconvert_exporter": "python",
   "pygments_lexer": "ipython3",
   "version": "3.7.10"
  },
  "papermill": {
   "default_parameters": {},
   "duration": 82.050828,
   "end_time": "2021-05-24T10:36:30.356374",
   "environment_variables": {},
   "exception": null,
   "input_path": "__notebook__.ipynb",
   "output_path": "__notebook__.ipynb",
   "parameters": {},
   "start_time": "2021-05-24T10:35:08.305546",
   "version": "2.3.3"
  }
 },
 "nbformat": 4,
 "nbformat_minor": 5
}
